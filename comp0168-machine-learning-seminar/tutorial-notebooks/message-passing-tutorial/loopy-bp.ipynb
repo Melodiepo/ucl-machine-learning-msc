





<!DOCTYPE html>
<html
  lang="en"
  
  data-color-mode="auto" data-light-theme="light" data-dark-theme="dark"
  data-a11y-animated-images="system" data-a11y-link-underlines="true"
  
  >



  <head>
    <meta charset="utf-8">
  <link rel="dns-prefetch" href="https://github.githubassets.com">
  <link rel="dns-prefetch" href="https://avatars.githubusercontent.com">
  <link rel="dns-prefetch" href="https://github-cloud.s3.amazonaws.com">
  <link rel="dns-prefetch" href="https://user-images.githubusercontent.com/">
  <link rel="preconnect" href="https://github.githubassets.com" crossorigin>
  <link rel="preconnect" href="https://avatars.githubusercontent.com">

  


  <link crossorigin="anonymous" media="all" rel="stylesheet" href="https://github.githubassets.com/assets/light-7aa84bb7e11e.css" /><link crossorigin="anonymous" media="all" rel="stylesheet" href="https://github.githubassets.com/assets/dark-f65db3e8d171.css" /><link data-color-theme="dark_dimmed" crossorigin="anonymous" media="all" rel="stylesheet" data-href="https://github.githubassets.com/assets/dark_dimmed-a8258e3c6dda.css" /><link data-color-theme="dark_high_contrast" crossorigin="anonymous" media="all" rel="stylesheet" data-href="https://github.githubassets.com/assets/dark_high_contrast-7e97d834719c.css" /><link data-color-theme="dark_colorblind" crossorigin="anonymous" media="all" rel="stylesheet" data-href="https://github.githubassets.com/assets/dark_colorblind-01d869f460be.css" /><link data-color-theme="light_colorblind" crossorigin="anonymous" media="all" rel="stylesheet" data-href="https://github.githubassets.com/assets/light_colorblind-534f3e971240.css" /><link data-color-theme="light_high_contrast" crossorigin="anonymous" media="all" rel="stylesheet" data-href="https://github.githubassets.com/assets/light_high_contrast-a8cc7d138001.css" /><link data-color-theme="light_tritanopia" crossorigin="anonymous" media="all" rel="stylesheet" data-href="https://github.githubassets.com/assets/light_tritanopia-35e9dfdc4f9f.css" /><link data-color-theme="dark_tritanopia" crossorigin="anonymous" media="all" rel="stylesheet" data-href="https://github.githubassets.com/assets/dark_tritanopia-cf4cc5f62dfe.css" />

    <link crossorigin="anonymous" media="all" rel="stylesheet" href="https://github.githubassets.com/assets/primer-primitives-d9abecd14f1e.css" />
    <link crossorigin="anonymous" media="all" rel="stylesheet" href="https://github.githubassets.com/assets/primer-93aded0ee8a1.css" />
    <link crossorigin="anonymous" media="all" rel="stylesheet" href="https://github.githubassets.com/assets/global-8bed0685a4b5.css" />
    <link crossorigin="anonymous" media="all" rel="stylesheet" href="https://github.githubassets.com/assets/github-a954a02d9269.css" />
  <link crossorigin="anonymous" media="all" rel="stylesheet" href="https://github.githubassets.com/assets/repository-4fce88777fa8.css" />
<link crossorigin="anonymous" media="all" rel="stylesheet" href="https://github.githubassets.com/assets/code-0210be90f4d3.css" />

  


  <script type="application/json" id="client-env">{"locale":"en","featureFlags":["allow_subscription_halted_error","bypass_copilot_indexing_quota","copilot_immersive_file_preview","copilot_new_references_ui","copilot_bing_skill_ga","copilot_attach_folder_reference","copilot_personal_instructions","copilot_personal_instructions_templates","copilot_chat_repo_custom_instructions_preview","copilot_chat_retry_on_error","copilot_chat_persist_submitted_input","copilot_conversational_ux_history_refs","copilot_chat_shared_chat_input","copilot_chat_shared_topic_indicator","copilot_chat_shared_repo_sso_banner","copilot_editor_upsells","copilot_dotcom_chat_reduce_telemetry","copilot_implicit_context","copilot_no_floating_button","copilot_smell_icebreaker_ux","copilot_read_shared_conversation","dotcom_chat_client_side_skills","copilot_new_markdown_renderer","experimentation_azure_variant_endpoint","failbot_handle_non_errors","geojson_azure_maps","ghost_pilot_confidence_truncation_25","ghost_pilot_confidence_truncation_40","github_models_gateway","github_models_o3_mini_streaming","hovercard_accessibility","hovercard_close_on_escape","issues_advanced_search","issues_react_remove_placeholders","issues_react_blur_item_picker_on_close","issues_react_include_bots_in_pickers","issues_react_use_new_create_issue","marketing_pages_search_explore_provider","remove_child_patch","repository_suggester_elastic_search","sample_network_conn_type","swp_enterprise_contact_form","site_copilot_vscode_link_update","site_proxima_australia_update","issues_react_create_milestone","issues_react_cache_fix_workaround","lifecycle_label_name_updates","item_picker_new_select_panel"],"login":"Melodiepo"}</script>
<script crossorigin="anonymous" defer="defer" type="application/javascript" src="https://github.githubassets.com/assets/wp-runtime-890f3c3d3caa.js"></script>
<script crossorigin="anonymous" defer="defer" type="application/javascript" src="https://github.githubassets.com/assets/vendors-node_modules_oddbird_popover-polyfill_dist_popover_js-9da652f58479.js"></script>
<script crossorigin="anonymous" defer="defer" type="application/javascript" src="https://github.githubassets.com/assets/vendors-node_modules_github_arianotify-polyfill_ariaNotify-polyfill_js-node_modules_github_mi-3abb8f-d7e6bc799724.js"></script>
<script crossorigin="anonymous" defer="defer" type="application/javascript" src="https://github.githubassets.com/assets/ui_packages_failbot_failbot_ts-4600dbf2d60a.js"></script>
<script crossorigin="anonymous" defer="defer" type="application/javascript" src="https://github.githubassets.com/assets/environment-f04cb2a9fc8c.js"></script>
<script crossorigin="anonymous" defer="defer" type="application/javascript" src="https://github.githubassets.com/assets/vendors-node_modules_primer_behaviors_dist_esm_index_mjs-0dbb79f97f8f.js"></script>
<script crossorigin="anonymous" defer="defer" type="application/javascript" src="https://github.githubassets.com/assets/vendors-node_modules_github_selector-observer_dist_index_esm_js-f690fd9ae3d5.js"></script>
<script crossorigin="anonymous" defer="defer" type="application/javascript" src="https://github.githubassets.com/assets/vendors-node_modules_github_relative-time-element_dist_index_js-f6da4b3fa34c.js"></script>
<script crossorigin="anonymous" defer="defer" type="application/javascript" src="https://github.githubassets.com/assets/vendors-node_modules_github_auto-complete-element_dist_index_js-node_modules_github_catalyst_-8e9f78-a74b4e0a8a6b.js"></script>
<script crossorigin="anonymous" defer="defer" type="application/javascript" src="https://github.githubassets.com/assets/vendors-node_modules_github_text-expander-element_dist_index_js-78748950cb0c.js"></script>
<script crossorigin="anonymous" defer="defer" type="application/javascript" src="https://github.githubassets.com/assets/vendors-node_modules_github_filter-input-element_dist_index_js-node_modules_github_remote-inp-b5f1d7-a1760ffda83d.js"></script>
<script crossorigin="anonymous" defer="defer" type="application/javascript" src="https://github.githubassets.com/assets/vendors-node_modules_github_markdown-toolbar-element_dist_index_js-ceef33f593fa.js"></script>
<script crossorigin="anonymous" defer="defer" type="application/javascript" src="https://github.githubassets.com/assets/vendors-node_modules_github_file-attachment-element_dist_index_js-node_modules_primer_view-co-c44a69-f0c8a795d1fd.js"></script>
<script crossorigin="anonymous" defer="defer" type="application/javascript" src="https://github.githubassets.com/assets/github-elements-44d18ad044b3.js"></script>
<script crossorigin="anonymous" defer="defer" type="application/javascript" src="https://github.githubassets.com/assets/element-registry-b7096f9a808d.js"></script>
<script crossorigin="anonymous" defer="defer" type="application/javascript" src="https://github.githubassets.com/assets/vendors-node_modules_braintree_browser-detection_dist_browser-detection_js-node_modules_githu-2906d7-2a07a295af40.js"></script>
<script crossorigin="anonymous" defer="defer" type="application/javascript" src="https://github.githubassets.com/assets/vendors-node_modules_lit-html_lit-html_js-be8cb88f481b.js"></script>
<script crossorigin="anonymous" defer="defer" type="application/javascript" src="https://github.githubassets.com/assets/vendors-node_modules_github_mini-throttle_dist_index_js-node_modules_morphdom_dist_morphdom-e-7c534c-a4a1922eb55f.js"></script>
<script crossorigin="anonymous" defer="defer" type="application/javascript" src="https://github.githubassets.com/assets/vendors-node_modules_github_turbo_dist_turbo_es2017-esm_js-e3cbe28f1638.js"></script>
<script crossorigin="anonymous" defer="defer" type="application/javascript" src="https://github.githubassets.com/assets/vendors-node_modules_github_remote-form_dist_index_js-node_modules_delegated-events_dist_inde-893f9f-6cf3320416b8.js"></script>
<script crossorigin="anonymous" defer="defer" type="application/javascript" src="https://github.githubassets.com/assets/vendors-node_modules_color-convert_index_js-e3180fe3bcb3.js"></script>
<script crossorigin="anonymous" defer="defer" type="application/javascript" src="https://github.githubassets.com/assets/vendors-node_modules_github_quote-selection_dist_index_js-node_modules_github_session-resume_-947061-205cd97df772.js"></script>
<script crossorigin="anonymous" defer="defer" type="application/javascript" src="https://github.githubassets.com/assets/ui_packages_updatable-content_updatable-content_ts-a1563f62660e.js"></script>
<script crossorigin="anonymous" defer="defer" type="application/javascript" src="https://github.githubassets.com/assets/app_assets_modules_github_behaviors_task-list_ts-app_assets_modules_github_sso_ts-ui_packages-900dde-f48a418a99d4.js"></script>
<script crossorigin="anonymous" defer="defer" type="application/javascript" src="https://github.githubassets.com/assets/app_assets_modules_github_sticky-scroll-into-view_ts-8fa27fd7fbb6.js"></script>
<script crossorigin="anonymous" defer="defer" type="application/javascript" src="https://github.githubassets.com/assets/app_assets_modules_github_behaviors_ajax-error_ts-app_assets_modules_github_behaviors_include-87a4ae-e2caa5390f5a.js"></script>
<script crossorigin="anonymous" defer="defer" type="application/javascript" src="https://github.githubassets.com/assets/app_assets_modules_github_behaviors_commenting_edit_ts-app_assets_modules_github_behaviors_ht-83c235-783fc7e142e5.js"></script>
<script crossorigin="anonymous" defer="defer" type="application/javascript" src="https://github.githubassets.com/assets/behaviors-854fa1987fb5.js"></script>
<script crossorigin="anonymous" defer="defer" type="application/javascript" src="https://github.githubassets.com/assets/vendors-node_modules_delegated-events_dist_index_js-node_modules_github_catalyst_lib_index_js-f6223d90c7ba.js"></script>
<script crossorigin="anonymous" defer="defer" type="application/javascript" src="https://github.githubassets.com/assets/notifications-global-e12489347ccf.js"></script>
<script crossorigin="anonymous" defer="defer" type="application/javascript" src="https://github.githubassets.com/assets/vendors-node_modules_github_mini-throttle_dist_index_js-node_modules_github_catalyst_lib_inde-dbbea9-26cce2010167.js"></script>
<script crossorigin="anonymous" defer="defer" type="application/javascript" src="https://github.githubassets.com/assets/code-menu-6a5f60eab447.js"></script>
  
  <script crossorigin="anonymous" defer="defer" type="application/javascript" src="https://github.githubassets.com/assets/primer-react-8e38c0ecf8b7.js"></script>
<script crossorigin="anonymous" defer="defer" type="application/javascript" src="https://github.githubassets.com/assets/react-core-218ef2d63cca.js"></script>
<script crossorigin="anonymous" defer="defer" type="application/javascript" src="https://github.githubassets.com/assets/react-lib-f1bca44e0926.js"></script>
<script crossorigin="anonymous" defer="defer" type="application/javascript" src="https://github.githubassets.com/assets/octicons-react-611691cca2f6.js"></script>
<script crossorigin="anonymous" defer="defer" type="application/javascript" src="https://github.githubassets.com/assets/vendors-node_modules_emotion_is-prop-valid_dist_emotion-is-prop-valid_esm_js-node_modules_emo-62da9f-2df2f32ec596.js"></script>
<script crossorigin="anonymous" defer="defer" type="application/javascript" src="https://github.githubassets.com/assets/vendors-node_modules_github_mini-throttle_dist_index_js-node_modules_stacktrace-parser_dist_s-e7dcdd-f7cc96ebae76.js"></script>
<script crossorigin="anonymous" defer="defer" type="application/javascript" src="https://github.githubassets.com/assets/vendors-node_modules_oddbird_popover-polyfill_dist_popover-fn_js-55fea94174bf.js"></script>
<script crossorigin="anonymous" defer="defer" type="application/javascript" src="https://github.githubassets.com/assets/vendors-node_modules_dompurify_dist_purify_js-b89b98661809.js"></script>
<script crossorigin="anonymous" defer="defer" type="application/javascript" src="https://github.githubassets.com/assets/vendors-node_modules_lodash-es__Stack_js-node_modules_lodash-es__Uint8Array_js-node_modules_l-4faaa6-4a736fde5c2f.js"></script>
<script crossorigin="anonymous" defer="defer" type="application/javascript" src="https://github.githubassets.com/assets/vendors-node_modules_lodash-es__baseIsEqual_js-8929eb9718d5.js"></script>
<script crossorigin="anonymous" defer="defer" type="application/javascript" src="https://github.githubassets.com/assets/vendors-node_modules_github_hydro-analytics-client_dist_analytics-client_js-node_modules_gith-853b24-f2006d2a5b98.js"></script>
<script crossorigin="anonymous" defer="defer" type="application/javascript" src="https://github.githubassets.com/assets/vendors-node_modules_focus-visible_dist_focus-visible_js-node_modules_fzy_js_index_js-node_mo-35e85b-b2842e98946f.js"></script>
<script crossorigin="anonymous" defer="defer" type="application/javascript" src="https://github.githubassets.com/assets/ui_packages_aria-live_aria-live_ts-ui_packages_promise-with-resolvers-polyfill_promise-with-r-17c672-d6b5ea82572a.js"></script>
<script crossorigin="anonymous" defer="defer" type="application/javascript" src="https://github.githubassets.com/assets/ui_packages_paths_index_ts-9c4436ef49de.js"></script>
<script crossorigin="anonymous" defer="defer" type="application/javascript" src="https://github.githubassets.com/assets/ui_packages_ref-selector_RefSelector_tsx-2cce17df147b.js"></script>
<script crossorigin="anonymous" defer="defer" type="application/javascript" src="https://github.githubassets.com/assets/ui_packages_code-view-shared_utilities_web-worker_ts-ui_packages_code-view-shared_worker-jobs-a69584-34e5b559ff45.js"></script>
<script crossorigin="anonymous" defer="defer" type="application/javascript" src="https://github.githubassets.com/assets/ui_packages_code-view-shared_hooks_use-canonical-object_ts-ui_packages_code-view-shared_hooks-a6859a-09c7f754ea79.js"></script>
<script crossorigin="anonymous" defer="defer" type="application/javascript" src="https://github.githubassets.com/assets/ui_packages_repos-file-tree-view_repos-file-tree-view_ts-ui_packages_feature-request_FeatureR-648c3b-e2701dc83e0b.js"></script>
<script crossorigin="anonymous" defer="defer" type="application/javascript" src="https://github.githubassets.com/assets/app_assets_modules_github_blob-anchor_ts-ui_packages_code-nav_code-nav_ts-ui_packages_filter--8253c1-91468a3354f9.js"></script>
<script crossorigin="anonymous" defer="defer" type="application/javascript" src="https://github.githubassets.com/assets/react-code-view-684bc66bc078.js"></script>
<link crossorigin="anonymous" media="all" rel="stylesheet" href="https://github.githubassets.com/assets/primer-react.5a0ffaf77c0db0d0dac2.module.css" />
<link crossorigin="anonymous" media="all" rel="stylesheet" href="https://github.githubassets.com/assets/react-code-view.ab7d8fac328c00e5e0cc.module.css" />


  <title>ml-seminar-ucl/Notebooks/loopy_example.ipynb at main · sotakao/ml-seminar-ucl</title>



  <meta name="route-pattern" content="/:user_id/:repository/blob/*name(/*path)" data-turbo-transient>
  <meta name="route-controller" content="blob" data-turbo-transient>
  <meta name="route-action" content="show" data-turbo-transient>

    
  <meta name="current-catalog-service-hash" content="f3abb0cc802f3d7b95fc8762b94bdcb13bf39634c40c357301c4aa1d67a256fb">


  <meta name="request-id" content="D4B4:1B749C:1A7EB31:2261C7B:67B359B0" data-turbo-transient="true" /><meta name="html-safe-nonce" content="93cfded2875bdb137e44cd770b09bdb095624fe4bd0e809c3b89f939d222233e" data-turbo-transient="true" /><meta name="visitor-payload" content="eyJyZWZlcnJlciI6Imh0dHBzOi8vZ2l0aHViLmNvbS9zb3Rha2FvL21sLXNlbWluYXItdWNsL3RyZWUvbWFpbi9Ob3RlYm9va3MiLCJyZXF1ZXN0X2lkIjoiRDRCNDoxQjc0OUM6MUE3RUIzMToyMjYxQzdCOjY3QjM1OUIwIiwidmlzaXRvcl9pZCI6IjEzNjY3Njk2NTAyNzY2MDgxNTYiLCJyZWdpb25fZWRnZSI6InVrc291dGgiLCJyZWdpb25fcmVuZGVyIjoiaWFkIn0=" data-turbo-transient="true" /><meta name="visitor-hmac" content="80e2372d4602cc1e8011e0264114bce2049b8ae88ad23ce19e831c838612d6fa" data-turbo-transient="true" />


    <meta name="hovercard-subject-tag" content="repository:575043919" data-turbo-transient>


  <meta name="github-keyboard-shortcuts" content="repository,source-code,file-tree,copilot" data-turbo-transient="true" />
  

  <meta name="selected-link" value="repo_source" data-turbo-transient>
  <link rel="assets" href="https://github.githubassets.com/">

    <meta name="google-site-verification" content="Apib7-x98H0j5cPqHWwSMm6dNU4GmODRoqxLiDzdx9I">

<meta name="octolytics-url" content="https://collector.github.com/github/collect" /><meta name="octolytics-actor-id" content="107926404" /><meta name="octolytics-actor-login" content="Melodiepo" /><meta name="octolytics-actor-hash" content="312c7d6b52154d64889818d7998e351432d64ed0d669e06b8b0ebcf990116b5e" />

  <meta name="analytics-location" content="/&lt;user-name&gt;/&lt;repo-name&gt;/blob/show" data-turbo-transient="true" />

  




    <meta name="user-login" content="Melodiepo">

  <link rel="sudo-modal" href="/sessions/sudo_modal">

    <meta name="viewport" content="width=device-width">

    

      <meta name="description" content="Supplementary codes for the message passing chapter in the UCL CS MSc course &quot;Machine Learning Seminar&quot; - ml-seminar-ucl/Notebooks/loopy_example.ipynb at main · sotakao/ml-seminar-ucl">

      <link rel="search" type="application/opensearchdescription+xml" href="/opensearch.xml" title="GitHub">

    <link rel="fluid-icon" href="https://github.com/fluidicon.png" title="GitHub">
    <meta property="fb:app_id" content="1401488693436528">
    <meta name="apple-itunes-app" content="app-id=1477376905, app-argument=https://github.com/sotakao/ml-seminar-ucl/blob/main/Notebooks/loopy_example.ipynb" />

      <meta name="twitter:image" content="https://opengraph.githubassets.com/a4f6962665f5d25ef0a59d772d7a4c93e09262aeb5b8648f02fbc7d6306eaeba/sotakao/ml-seminar-ucl" /><meta name="twitter:site" content="@github" /><meta name="twitter:card" content="summary_large_image" /><meta name="twitter:title" content="ml-seminar-ucl/Notebooks/loopy_example.ipynb at main · sotakao/ml-seminar-ucl" /><meta name="twitter:description" content="Supplementary codes for the message passing chapter in the UCL CS MSc course &quot;Machine Learning Seminar&quot; - sotakao/ml-seminar-ucl" />
  <meta property="og:image" content="https://opengraph.githubassets.com/a4f6962665f5d25ef0a59d772d7a4c93e09262aeb5b8648f02fbc7d6306eaeba/sotakao/ml-seminar-ucl" /><meta property="og:image:alt" content="Supplementary codes for the message passing chapter in the UCL CS MSc course &quot;Machine Learning Seminar&quot; - sotakao/ml-seminar-ucl" /><meta property="og:image:width" content="1200" /><meta property="og:image:height" content="600" /><meta property="og:site_name" content="GitHub" /><meta property="og:type" content="object" /><meta property="og:title" content="ml-seminar-ucl/Notebooks/loopy_example.ipynb at main · sotakao/ml-seminar-ucl" /><meta property="og:url" content="https://github.com/sotakao/ml-seminar-ucl/blob/main/Notebooks/loopy_example.ipynb" /><meta property="og:description" content="Supplementary codes for the message passing chapter in the UCL CS MSc course &quot;Machine Learning Seminar&quot; - sotakao/ml-seminar-ucl" />
  


      <link rel="shared-web-socket" href="wss://alive.github.com/_sockets/u/107926404/ws?session=eyJ2IjoiVjMiLCJ1IjoxMDc5MjY0MDQsInMiOjE1NDYyMTc0MTksImMiOjMzMTQzMDg5MjAsInQiOjE3Mzk4MDcxNjF9--90e4746fcf001bed1f3248c0b9f705b79da7ba583e38d73dc7df4008eaaed0c6" data-refresh-url="/_alive" data-session-id="738bda5be5f0a87ffdefd9d931fa3afcf767c19c630b673ec578b08f5991dd04">
      <link rel="shared-web-socket-src" href="/assets-cdn/worker/socket-worker-eff89a71ae86.js">


      <meta name="hostname" content="github.com">


      <meta name="keyboard-shortcuts-preference" content="all">
      <meta name="hovercards-preference" content="true">
      <meta name="announcement-preference-hovercard" content="true">

        <meta name="expected-hostname" content="github.com">


  <meta http-equiv="x-pjax-version" content="0f265ef8396cd1962dba2eda868f105296f51594cc2ff5b653c6553989093b61" data-turbo-track="reload">
  <meta http-equiv="x-pjax-csp-version" content="ace39c3b6632770952207593607e6e0be0db363435a8b877b1f96abe6430f345" data-turbo-track="reload">
  <meta http-equiv="x-pjax-css-version" content="1c71206221e00a0a8e77d94d48d954f34ddbd711c4a0ced954fd49cd786cfa61" data-turbo-track="reload">
  <meta http-equiv="x-pjax-js-version" content="12a8aded86f558a96e1c8427138fa449b829e611fbd8701cad0d49ba051978b0" data-turbo-track="reload">

  <meta name="turbo-cache-control" content="no-preview" data-turbo-transient="">

      <meta name="turbo-cache-control" content="no-cache" data-turbo-transient>

    <meta data-hydrostats="publish">
  <meta name="go-import" content="github.com/sotakao/ml-seminar-ucl git https://github.com/sotakao/ml-seminar-ucl.git">

  <meta name="octolytics-dimension-user_id" content="44118658" /><meta name="octolytics-dimension-user_login" content="sotakao" /><meta name="octolytics-dimension-repository_id" content="575043919" /><meta name="octolytics-dimension-repository_nwo" content="sotakao/ml-seminar-ucl" /><meta name="octolytics-dimension-repository_public" content="true" /><meta name="octolytics-dimension-repository_is_fork" content="false" /><meta name="octolytics-dimension-repository_network_root_id" content="575043919" /><meta name="octolytics-dimension-repository_network_root_nwo" content="sotakao/ml-seminar-ucl" />



    

    <meta name="turbo-body-classes" content="logged-in env-production page-responsive">


  <meta name="browser-stats-url" content="https://api.github.com/_private/browser/stats">

  <meta name="browser-errors-url" content="https://api.github.com/_private/browser/errors">

  <link rel="mask-icon" href="https://github.githubassets.com/assets/pinned-octocat-093da3e6fa40.svg" color="#000000">
  <link rel="alternate icon" class="js-site-favicon" type="image/png" href="https://github.githubassets.com/favicons/favicon.png">
  <link rel="icon" class="js-site-favicon" type="image/svg+xml" href="https://github.githubassets.com/favicons/favicon.svg" data-base-href="https://github.githubassets.com/favicons/favicon">

<meta name="theme-color" content="#1e2327">
<meta name="color-scheme" content="light dark" />


  <link rel="manifest" href="/manifest.json" crossOrigin="use-credentials">

  </head>

  <body class="logged-in env-production page-responsive" style="word-wrap: break-word;">
    <div data-turbo-body class="logged-in env-production page-responsive" style="word-wrap: break-word;">
      


    <div class="position-relative header-wrapper js-header-wrapper ">
      <a href="#start-of-content" data-skip-target-assigned="false" class="p-3 color-bg-accent-emphasis color-fg-on-emphasis show-on-focus js-skip-to-content">Skip to content</a>

      <span data-view-component="true" class="progress-pjax-loader Progress position-fixed width-full">
    <span style="width: 0%;" data-view-component="true" class="Progress-item progress-pjax-loader-bar left-0 top-0 color-bg-accent-emphasis"></span>
</span>      
      
      <script crossorigin="anonymous" defer="defer" type="application/javascript" src="https://github.githubassets.com/assets/ui_packages_ui-commands_ui-commands_ts-e571874765ef.js"></script>
<script crossorigin="anonymous" defer="defer" type="application/javascript" src="https://github.githubassets.com/assets/keyboard-shortcuts-dialog-765cf28766da.js"></script>
<link crossorigin="anonymous" media="all" rel="stylesheet" href="https://github.githubassets.com/assets/primer-react.5a0ffaf77c0db0d0dac2.module.css" />

<react-partial
  partial-name="keyboard-shortcuts-dialog"
  data-ssr="false"
  data-attempted-ssr="false"
>
  
  <script type="application/json" data-target="react-partial.embeddedData">{"props":{"docsUrl":"https://docs.github.com/get-started/accessibility/keyboard-shortcuts"}}</script>
  <div data-target="react-partial.reactRoot"></div>
</react-partial>




      

          

              <header class="AppHeader" role="banner">
  <h2 class="sr-only">Navigation Menu</h2>

    

    <div class="AppHeader-globalBar pb-2 js-global-bar">
      <div class="AppHeader-globalBar-start">
          <deferred-side-panel data-url="/_side-panels/global">
  <include-fragment data-target="deferred-side-panel.fragment">
      <button aria-label="Open global navigation menu" data-action="click:deferred-side-panel#loadPanel click:deferred-side-panel#panelOpened" data-show-dialog-id="dialog-5555d364-c3e4-41c9-b2ad-5dafcf057410" id="dialog-show-dialog-5555d364-c3e4-41c9-b2ad-5dafcf057410" type="button" data-view-component="true" class="Button Button--iconOnly Button--secondary Button--medium AppHeader-button p-0 color-fg-muted">  <svg aria-hidden="true" height="16" viewBox="0 0 16 16" version="1.1" width="16" data-view-component="true" class="octicon octicon-three-bars Button-visual">
    <path d="M1 2.75A.75.75 0 0 1 1.75 2h12.5a.75.75 0 0 1 0 1.5H1.75A.75.75 0 0 1 1 2.75Zm0 5A.75.75 0 0 1 1.75 7h12.5a.75.75 0 0 1 0 1.5H1.75A.75.75 0 0 1 1 7.75ZM1.75 12h12.5a.75.75 0 0 1 0 1.5H1.75a.75.75 0 0 1 0-1.5Z"></path>
</svg>
</button>

<dialog-helper>
  <dialog data-target="deferred-side-panel.panel" id="dialog-5555d364-c3e4-41c9-b2ad-5dafcf057410" aria-modal="true" aria-labelledby="dialog-5555d364-c3e4-41c9-b2ad-5dafcf057410-title" aria-describedby="dialog-5555d364-c3e4-41c9-b2ad-5dafcf057410-description" data-view-component="true" class="Overlay Overlay-whenNarrow Overlay--size-small-portrait Overlay--motion-scaleFade Overlay--placement-left SidePanel Overlay--disableScroll">
    <div styles="flex-direction: row;" data-view-component="true" class="Overlay-header">
  <div class="Overlay-headerContentWrap">
    <div class="Overlay-titleWrap">
      <h1 class="Overlay-title sr-only" id="dialog-5555d364-c3e4-41c9-b2ad-5dafcf057410-title">
        Global navigation
      </h1>
            <div data-view-component="true" class="d-flex">
      <div data-view-component="true" class="AppHeader-logo position-relative">
        <svg aria-hidden="true" height="24" viewBox="0 0 24 24" version="1.1" width="24" data-view-component="true" class="octicon octicon-mark-github">
    <path d="M12.5.75C6.146.75 1 5.896 1 12.25c0 5.089 3.292 9.387 7.863 10.91.575.101.79-.244.79-.546 0-.273-.014-1.178-.014-2.142-2.889.532-3.636-.704-3.866-1.35-.13-.331-.69-1.352-1.18-1.625-.402-.216-.977-.748-.014-.762.906-.014 1.553.834 1.769 1.179 1.035 1.74 2.688 1.25 3.349.948.1-.747.402-1.25.733-1.538-2.559-.287-5.232-1.279-5.232-5.678 0-1.25.445-2.285 1.178-3.09-.115-.288-.517-1.467.115-3.048 0 0 .963-.302 3.163 1.179.92-.259 1.897-.388 2.875-.388.977 0 1.955.13 2.875.388 2.2-1.495 3.162-1.179 3.162-1.179.633 1.581.23 2.76.115 3.048.733.805 1.179 1.825 1.179 3.09 0 4.413-2.688 5.39-5.247 5.678.417.36.776 1.05.776 2.128 0 1.538-.014 2.774-.014 3.162 0 .302.216.662.79.547C20.709 21.637 24 17.324 24 12.25 24 5.896 18.854.75 12.5.75Z"></path>
</svg>
</div></div>
    </div>
    <div class="Overlay-actionWrap">
      <button data-close-dialog-id="dialog-5555d364-c3e4-41c9-b2ad-5dafcf057410" aria-label="Close" type="button" data-view-component="true" class="close-button Overlay-closeButton"><svg aria-hidden="true" height="16" viewBox="0 0 16 16" version="1.1" width="16" data-view-component="true" class="octicon octicon-x">
    <path d="M3.72 3.72a.75.75 0 0 1 1.06 0L8 6.94l3.22-3.22a.749.749 0 0 1 1.275.326.749.749 0 0 1-.215.734L9.06 8l3.22 3.22a.749.749 0 0 1-.326 1.275.749.749 0 0 1-.734-.215L8 9.06l-3.22 3.22a.751.751 0 0 1-1.042-.018.751.751 0 0 1-.018-1.042L6.94 8 3.72 4.78a.75.75 0 0 1 0-1.06Z"></path>
</svg></button>
    </div>
  </div>
  
</div>
      <scrollable-region data-labelled-by="dialog-5555d364-c3e4-41c9-b2ad-5dafcf057410-title">
        <div data-view-component="true" class="Overlay-body d-flex flex-column px-2">    <div data-view-component="true" class="d-flex flex-column mb-3">
        <nav aria-label="Site navigation" data-view-component="true" class="ActionList">
  
  <nav-list>
    <ul data-target="nav-list.topLevelList" data-view-component="true" class="ActionListWrap">
        
          
<li data-item-id="" data-targets="nav-list.items" data-view-component="true" class="ActionListItem">
    
    
    <a data-hotkey="g d" data-analytics-event="{&quot;category&quot;:&quot;Global navigation&quot;,&quot;action&quot;:&quot;HOME&quot;,&quot;label&quot;:null}" id="item-d81a497a-14c0-4788-ba11-ab0c1abd025c" href="/dashboard" data-view-component="true" class="ActionListContent ActionListContent--visual16">
        <span class="ActionListItem-visual ActionListItem-visual--leading">
          <svg aria-hidden="true" height="16" viewBox="0 0 16 16" version="1.1" width="16" data-view-component="true" class="octicon octicon-home">
    <path d="M6.906.664a1.749 1.749 0 0 1 2.187 0l5.25 4.2c.415.332.657.835.657 1.367v7.019A1.75 1.75 0 0 1 13.25 15h-3.5a.75.75 0 0 1-.75-.75V9H7v5.25a.75.75 0 0 1-.75.75h-3.5A1.75 1.75 0 0 1 1 13.25V6.23c0-.531.242-1.034.657-1.366l5.25-4.2Zm1.25 1.171a.25.25 0 0 0-.312 0l-5.25 4.2a.25.25 0 0 0-.094.196v7.019c0 .138.112.25.25.25H5.5V8.25a.75.75 0 0 1 .75-.75h3.5a.75.75 0 0 1 .75.75v5.25h2.75a.25.25 0 0 0 .25-.25V6.23a.25.25 0 0 0-.094-.195Z"></path>
</svg>
        </span>
      
        <span data-view-component="true" class="ActionListItem-label">
          Home
</span>      
</a>
  
</li>

        
          
<li data-item-id="" data-targets="nav-list.items" data-view-component="true" class="ActionListItem">
    
    
    <a data-hotkey="g i" data-analytics-event="{&quot;category&quot;:&quot;Global navigation&quot;,&quot;action&quot;:&quot;ISSUES&quot;,&quot;label&quot;:null}" id="item-368f66be-9380-440e-9015-32b0084ba81a" href="/issues" data-view-component="true" class="ActionListContent ActionListContent--visual16">
        <span class="ActionListItem-visual ActionListItem-visual--leading">
          <svg aria-hidden="true" height="16" viewBox="0 0 16 16" version="1.1" width="16" data-view-component="true" class="octicon octicon-issue-opened">
    <path d="M8 9.5a1.5 1.5 0 1 0 0-3 1.5 1.5 0 0 0 0 3Z"></path><path d="M8 0a8 8 0 1 1 0 16A8 8 0 0 1 8 0ZM1.5 8a6.5 6.5 0 1 0 13 0 6.5 6.5 0 0 0-13 0Z"></path>
</svg>
        </span>
      
        <span data-view-component="true" class="ActionListItem-label">
          Issues
</span>      
</a>
  
</li>

        
          
<li data-item-id="" data-targets="nav-list.items" data-view-component="true" class="ActionListItem">
    
    
    <a data-hotkey="g p" data-analytics-event="{&quot;category&quot;:&quot;Global navigation&quot;,&quot;action&quot;:&quot;PULL_REQUESTS&quot;,&quot;label&quot;:null}" id="item-e4b2e7f6-4a0e-4734-b301-89c402ae76ea" href="/pulls" data-view-component="true" class="ActionListContent ActionListContent--visual16">
        <span class="ActionListItem-visual ActionListItem-visual--leading">
          <svg aria-hidden="true" height="16" viewBox="0 0 16 16" version="1.1" width="16" data-view-component="true" class="octicon octicon-git-pull-request">
    <path d="M1.5 3.25a2.25 2.25 0 1 1 3 2.122v5.256a2.251 2.251 0 1 1-1.5 0V5.372A2.25 2.25 0 0 1 1.5 3.25Zm5.677-.177L9.573.677A.25.25 0 0 1 10 .854V2.5h1A2.5 2.5 0 0 1 13.5 5v5.628a2.251 2.251 0 1 1-1.5 0V5a1 1 0 0 0-1-1h-1v1.646a.25.25 0 0 1-.427.177L7.177 3.427a.25.25 0 0 1 0-.354ZM3.75 2.5a.75.75 0 1 0 0 1.5.75.75 0 0 0 0-1.5Zm0 9.5a.75.75 0 1 0 0 1.5.75.75 0 0 0 0-1.5Zm8.25.75a.75.75 0 1 0 1.5 0 .75.75 0 0 0-1.5 0Z"></path>
</svg>
        </span>
      
        <span data-view-component="true" class="ActionListItem-label">
          Pull requests
</span>      
</a>
  
</li>

        
          
<li data-item-id="" data-targets="nav-list.items" data-item-id="projects" data-view-component="true" class="ActionListItem">
    
    
    <a data-analytics-event="{&quot;category&quot;:&quot;Global navigation&quot;,&quot;action&quot;:&quot;PROJECTS&quot;,&quot;label&quot;:null}" id="item-d758e2db-ef12-4b59-835d-e619ff391520" href="/projects" data-view-component="true" class="ActionListContent ActionListContent--visual16">
        <span class="ActionListItem-visual ActionListItem-visual--leading">
          <svg aria-hidden="true" height="16" viewBox="0 0 16 16" version="1.1" width="16" data-view-component="true" class="octicon octicon-table">
    <path d="M0 1.75C0 .784.784 0 1.75 0h12.5C15.216 0 16 .784 16 1.75v12.5A1.75 1.75 0 0 1 14.25 16H1.75A1.75 1.75 0 0 1 0 14.25ZM6.5 6.5v8h7.75a.25.25 0 0 0 .25-.25V6.5Zm8-1.5V1.75a.25.25 0 0 0-.25-.25H6.5V5Zm-13 1.5v7.75c0 .138.112.25.25.25H5v-8ZM5 5V1.5H1.75a.25.25 0 0 0-.25.25V5Z"></path>
</svg>
        </span>
      
        <span data-view-component="true" class="ActionListItem-label">
          Projects
</span>      
</a>
  
</li>

        
          
<li data-item-id="" data-targets="nav-list.items" data-view-component="true" class="ActionListItem">
    
    
    <a data-analytics-event="{&quot;category&quot;:&quot;Global navigation&quot;,&quot;action&quot;:&quot;DISCUSSIONS&quot;,&quot;label&quot;:null}" id="item-0709a9e2-2e61-4e85-8169-68014c225323" href="/discussions" data-view-component="true" class="ActionListContent ActionListContent--visual16">
        <span class="ActionListItem-visual ActionListItem-visual--leading">
          <svg aria-hidden="true" height="16" viewBox="0 0 16 16" version="1.1" width="16" data-view-component="true" class="octicon octicon-comment-discussion">
    <path d="M1.75 1h8.5c.966 0 1.75.784 1.75 1.75v5.5A1.75 1.75 0 0 1 10.25 10H7.061l-2.574 2.573A1.458 1.458 0 0 1 2 11.543V10h-.25A1.75 1.75 0 0 1 0 8.25v-5.5C0 1.784.784 1 1.75 1ZM1.5 2.75v5.5c0 .138.112.25.25.25h1a.75.75 0 0 1 .75.75v2.19l2.72-2.72a.749.749 0 0 1 .53-.22h3.5a.25.25 0 0 0 .25-.25v-5.5a.25.25 0 0 0-.25-.25h-8.5a.25.25 0 0 0-.25.25Zm13 2a.25.25 0 0 0-.25-.25h-.5a.75.75 0 0 1 0-1.5h.5c.966 0 1.75.784 1.75 1.75v5.5A1.75 1.75 0 0 1 14.25 12H14v1.543a1.458 1.458 0 0 1-2.487 1.03L9.22 12.28a.749.749 0 0 1 .326-1.275.749.749 0 0 1 .734.215l2.22 2.22v-2.19a.75.75 0 0 1 .75-.75h1a.25.25 0 0 0 .25-.25Z"></path>
</svg>
        </span>
      
        <span data-view-component="true" class="ActionListItem-label">
          Discussions
</span>      
</a>
  
</li>

        
          
<li data-item-id="" data-targets="nav-list.items" data-view-component="true" class="ActionListItem">
    
    
    <a data-analytics-event="{&quot;category&quot;:&quot;Global navigation&quot;,&quot;action&quot;:&quot;CODESPACES&quot;,&quot;label&quot;:null}" id="item-2e4a91bf-e39b-48e3-88d0-4964a5ab79cb" href="https://github.com/codespaces" data-view-component="true" class="ActionListContent ActionListContent--visual16">
        <span class="ActionListItem-visual ActionListItem-visual--leading">
          <svg aria-hidden="true" height="16" viewBox="0 0 16 16" version="1.1" width="16" data-view-component="true" class="octicon octicon-codespaces">
    <path d="M0 11.25c0-.966.784-1.75 1.75-1.75h12.5c.966 0 1.75.784 1.75 1.75v3A1.75 1.75 0 0 1 14.25 16H1.75A1.75 1.75 0 0 1 0 14.25Zm2-9.5C2 .784 2.784 0 3.75 0h8.5C13.216 0 14 .784 14 1.75v5a1.75 1.75 0 0 1-1.75 1.75h-8.5A1.75 1.75 0 0 1 2 6.75Zm1.75-.25a.25.25 0 0 0-.25.25v5c0 .138.112.25.25.25h8.5a.25.25 0 0 0 .25-.25v-5a.25.25 0 0 0-.25-.25Zm-2 9.5a.25.25 0 0 0-.25.25v3c0 .138.112.25.25.25h12.5a.25.25 0 0 0 .25-.25v-3a.25.25 0 0 0-.25-.25Z"></path><path d="M7 12.75a.75.75 0 0 1 .75-.75h4.5a.75.75 0 0 1 0 1.5h-4.5a.75.75 0 0 1-.75-.75Zm-4 0a.75.75 0 0 1 .75-.75h.5a.75.75 0 0 1 0 1.5h-.5a.75.75 0 0 1-.75-.75Z"></path>
</svg>
        </span>
      
        <span data-view-component="true" class="ActionListItem-label">
          Codespaces
</span>      
</a>
  
</li>

        
          
<li data-item-id="" data-targets="nav-list.items" data-view-component="true" class="ActionListItem">
    
    
    <a data-analytics-event="{&quot;category&quot;:&quot;Global navigation&quot;,&quot;action&quot;:&quot;COPILOT&quot;,&quot;label&quot;:null}" id="item-14efaded-06fc-44ae-b3e9-26a7d3ac6177" href="/copilot" data-view-component="true" class="ActionListContent ActionListContent--visual16">
        <span class="ActionListItem-visual ActionListItem-visual--leading">
          <svg aria-hidden="true" height="16" viewBox="0 0 16 16" version="1.1" width="16" data-view-component="true" class="octicon octicon-copilot">
    <path d="M7.998 15.035c-4.562 0-7.873-2.914-7.998-3.749V9.338c.085-.628.677-1.686 1.588-2.065.013-.07.024-.143.036-.218.029-.183.06-.384.126-.612-.201-.508-.254-1.084-.254-1.656 0-.87.128-1.769.693-2.484.579-.733 1.494-1.124 2.724-1.261 1.206-.134 2.262.034 2.944.765.05.053.096.108.139.165.044-.057.094-.112.143-.165.682-.731 1.738-.899 2.944-.765 1.23.137 2.145.528 2.724 1.261.566.715.693 1.614.693 2.484 0 .572-.053 1.148-.254 1.656.066.228.098.429.126.612.012.076.024.148.037.218.924.385 1.522 1.471 1.591 2.095v1.872c0 .766-3.351 3.795-8.002 3.795Zm0-1.485c2.28 0 4.584-1.11 5.002-1.433V7.862l-.023-.116c-.49.21-1.075.291-1.727.291-1.146 0-2.059-.327-2.71-.991A3.222 3.222 0 0 1 8 6.303a3.24 3.24 0 0 1-.544.743c-.65.664-1.563.991-2.71.991-.652 0-1.236-.081-1.727-.291l-.023.116v4.255c.419.323 2.722 1.433 5.002 1.433ZM6.762 2.83c-.193-.206-.637-.413-1.682-.297-1.019.113-1.479.404-1.713.7-.247.312-.369.789-.369 1.554 0 .793.129 1.171.308 1.371.162.181.519.379 1.442.379.853 0 1.339-.235 1.638-.54.315-.322.527-.827.617-1.553.117-.935-.037-1.395-.241-1.614Zm4.155-.297c-1.044-.116-1.488.091-1.681.297-.204.219-.359.679-.242 1.614.091.726.303 1.231.618 1.553.299.305.784.54 1.638.54.922 0 1.28-.198 1.442-.379.179-.2.308-.578.308-1.371 0-.765-.123-1.242-.37-1.554-.233-.296-.693-.587-1.713-.7Z"></path><path d="M6.25 9.037a.75.75 0 0 1 .75.75v1.501a.75.75 0 0 1-1.5 0V9.787a.75.75 0 0 1 .75-.75Zm4.25.75v1.501a.75.75 0 0 1-1.5 0V9.787a.75.75 0 0 1 1.5 0Z"></path>
</svg>
        </span>
      
        <span data-view-component="true" class="ActionListItem-label">
          Copilot
</span>      
</a>
  
</li>

        
          <li role="presentation" aria-hidden="true" data-view-component="true" class="ActionList-sectionDivider"></li>
        
          
<li data-item-id="" data-targets="nav-list.items" data-view-component="true" class="ActionListItem">
    
    
    <a data-analytics-event="{&quot;category&quot;:&quot;Global navigation&quot;,&quot;action&quot;:&quot;EXPLORE&quot;,&quot;label&quot;:null}" id="item-1acc6dca-aa2f-4083-9090-38d88fd7b4ca" href="/explore" data-view-component="true" class="ActionListContent ActionListContent--visual16">
        <span class="ActionListItem-visual ActionListItem-visual--leading">
          <svg aria-hidden="true" height="16" viewBox="0 0 16 16" version="1.1" width="16" data-view-component="true" class="octicon octicon-telescope">
    <path d="M14.184 1.143v-.001l1.422 2.464a1.75 1.75 0 0 1-.757 2.451L3.104 11.713a1.75 1.75 0 0 1-2.275-.702l-.447-.775a1.75 1.75 0 0 1 .53-2.32L11.682.573a1.748 1.748 0 0 1 2.502.57Zm-4.709 9.32h-.001l2.644 3.863a.75.75 0 1 1-1.238.848l-1.881-2.75v2.826a.75.75 0 0 1-1.5 0v-2.826l-1.881 2.75a.75.75 0 1 1-1.238-.848l2.049-2.992a.746.746 0 0 1 .293-.253l1.809-.87a.749.749 0 0 1 .944.252ZM9.436 3.92h-.001l-4.97 3.39.942 1.63 5.42-2.61Zm3.091-2.108h.001l-1.85 1.26 1.505 2.605 2.016-.97a.247.247 0 0 0 .13-.151.247.247 0 0 0-.022-.199l-1.422-2.464a.253.253 0 0 0-.161-.119.254.254 0 0 0-.197.038ZM1.756 9.157a.25.25 0 0 0-.075.33l.447.775a.25.25 0 0 0 .325.1l1.598-.769-.83-1.436-1.465 1Z"></path>
</svg>
        </span>
      
        <span data-view-component="true" class="ActionListItem-label">
          Explore
</span>      
</a>
  
</li>

        
          
<li data-item-id="" data-targets="nav-list.items" data-view-component="true" class="ActionListItem">
    
    
    <a data-analytics-event="{&quot;category&quot;:&quot;Global navigation&quot;,&quot;action&quot;:&quot;MARKETPLACE&quot;,&quot;label&quot;:null}" id="item-a2840e81-d0a3-4502-9267-39c8ba3995fc" href="/marketplace" data-view-component="true" class="ActionListContent ActionListContent--visual16">
        <span class="ActionListItem-visual ActionListItem-visual--leading">
          <svg aria-hidden="true" height="16" viewBox="0 0 16 16" version="1.1" width="16" data-view-component="true" class="octicon octicon-gift">
    <path d="M2 2.75A2.75 2.75 0 0 1 4.75 0c.983 0 1.873.42 2.57 1.232.268.318.497.668.68 1.042.183-.375.411-.725.68-1.044C9.376.42 10.266 0 11.25 0a2.75 2.75 0 0 1 2.45 4h.55c.966 0 1.75.784 1.75 1.75v2c0 .698-.409 1.301-1 1.582v4.918A1.75 1.75 0 0 1 13.25 16H2.75A1.75 1.75 0 0 1 1 14.25V9.332C.409 9.05 0 8.448 0 7.75v-2C0 4.784.784 4 1.75 4h.55c-.192-.375-.3-.8-.3-1.25ZM7.25 9.5H2.5v4.75c0 .138.112.25.25.25h4.5Zm1.5 0v5h4.5a.25.25 0 0 0 .25-.25V9.5Zm0-4V8h5.5a.25.25 0 0 0 .25-.25v-2a.25.25 0 0 0-.25-.25Zm-7 0a.25.25 0 0 0-.25.25v2c0 .138.112.25.25.25h5.5V5.5h-5.5Zm3-4a1.25 1.25 0 0 0 0 2.5h2.309c-.233-.818-.542-1.401-.878-1.793-.43-.502-.915-.707-1.431-.707ZM8.941 4h2.309a1.25 1.25 0 0 0 0-2.5c-.516 0-1 .205-1.43.707-.337.392-.646.975-.879 1.793Z"></path>
</svg>
        </span>
      
        <span data-view-component="true" class="ActionListItem-label">
          Marketplace
</span>      
</a>
  
</li>

</ul>  </nav-list>
</nav>

        <div data-view-component="true" class="my-3 d-flex flex-justify-center height-full">
          <span data-view-component="true">
  <svg style="box-sizing: content-box; color: var(--color-icon-primary);" width="16" height="16" viewBox="0 0 16 16" fill="none" aria-hidden="true" data-view-component="true" class="anim-rotate">
    <circle cx="8" cy="8" r="7" stroke="currentColor" stroke-opacity="0.25" stroke-width="2" vector-effect="non-scaling-stroke" fill="none" />
    <path d="M15 8a7.002 7.002 0 00-7-7" stroke="currentColor" stroke-width="2" stroke-linecap="round" vector-effect="non-scaling-stroke" />
</svg>    <span class="sr-only">Loading</span>
</span>
</div>
</div>
      <div data-view-component="true" class="flex-1"></div>


      <div data-view-component="true" class="px-2">      <p class="color-fg-subtle text-small text-light">&copy; 2025 GitHub, Inc.</p>

      <div data-view-component="true" class="d-flex flex-wrap text-small text-light">
          <a target="_blank" href="https://github.com/about" data-view-component="true" class="Link mr-2">About</a>
          <a target="_blank" href="https://github.blog" data-view-component="true" class="Link mr-2">Blog</a>
          <a target="_blank" href="https://docs.github.com/site-policy/github-terms/github-terms-of-service" data-view-component="true" class="Link mr-2">Terms</a>
          <a target="_blank" href="https://docs.github.com/site-policy/privacy-policies/github-privacy-statement" data-view-component="true" class="Link mr-2">Privacy</a>
          <a target="_blank" href="https://github.com/security" data-view-component="true" class="Link mr-2">Security</a>
          <a target="_blank" href="https://www.githubstatus.com/" data-view-component="true" class="Link mr-3">Status</a>

</div></div>
</div>
      </scrollable-region>
      
</dialog></dialog-helper>

  </include-fragment>
</deferred-side-panel>

        <a
          class="AppHeader-logo ml-1"
          href="https://github.com/"
          data-hotkey="g d"
          aria-label="Homepage "
          data-turbo="false"
          data-analytics-event="{&quot;category&quot;:&quot;Header&quot;,&quot;action&quot;:&quot;go to dashboard&quot;,&quot;label&quot;:&quot;icon:logo&quot;}"
        >
          <svg height="32" aria-hidden="true" viewBox="0 0 24 24" version="1.1" width="32" data-view-component="true" class="octicon octicon-mark-github v-align-middle">
    <path d="M12.5.75C6.146.75 1 5.896 1 12.25c0 5.089 3.292 9.387 7.863 10.91.575.101.79-.244.79-.546 0-.273-.014-1.178-.014-2.142-2.889.532-3.636-.704-3.866-1.35-.13-.331-.69-1.352-1.18-1.625-.402-.216-.977-.748-.014-.762.906-.014 1.553.834 1.769 1.179 1.035 1.74 2.688 1.25 3.349.948.1-.747.402-1.25.733-1.538-2.559-.287-5.232-1.279-5.232-5.678 0-1.25.445-2.285 1.178-3.09-.115-.288-.517-1.467.115-3.048 0 0 .963-.302 3.163 1.179.92-.259 1.897-.388 2.875-.388.977 0 1.955.13 2.875.388 2.2-1.495 3.162-1.179 3.162-1.179.633 1.581.23 2.76.115 3.048.733.805 1.179 1.825 1.179 3.09 0 4.413-2.688 5.39-5.247 5.678.417.36.776 1.05.776 2.128 0 1.538-.014 2.774-.014 3.162 0 .302.216.662.79.547C20.709 21.637 24 17.324 24 12.25 24 5.896 18.854.75 12.5.75Z"></path>
</svg>
        </a>

          <div class="AppHeader-context" >
  <div class="AppHeader-context-compact">
      <button aria-expanded="false" aria-haspopup="dialog" aria-label="Page context: sotakao / ml-seminar-ucl" id="dialog-show-context-region-dialog" data-show-dialog-id="context-region-dialog" type="button" data-view-component="true" class="AppHeader-context-compact-trigger Truncate Button--secondary Button--medium Button box-shadow-none">  <span class="Button-content">
    <span class="Button-label"><span class="AppHeader-context-compact-lead">
                <span class="AppHeader-context-compact-parentItem">sotakao</span>
                <span class="no-wrap">&nbsp;/</span>

            </span>

            <strong class="AppHeader-context-compact-mainItem d-flex flex-items-center Truncate" >
  <span class="Truncate-text ">ml-seminar-ucl</span>

</strong></span>
  </span>
</button>

<dialog-helper>
  <dialog id="context-region-dialog" aria-modal="true" aria-labelledby="context-region-dialog-title" aria-describedby="context-region-dialog-description" data-view-component="true" class="Overlay Overlay-whenNarrow Overlay--size-medium Overlay--motion-scaleFade Overlay--disableScroll">
    <div data-view-component="true" class="Overlay-header">
  <div class="Overlay-headerContentWrap">
    <div class="Overlay-titleWrap">
      <h1 class="Overlay-title " id="context-region-dialog-title">
        Navigate back to
      </h1>
        
    </div>
    <div class="Overlay-actionWrap">
      <button data-close-dialog-id="context-region-dialog" aria-label="Close" type="button" data-view-component="true" class="close-button Overlay-closeButton"><svg aria-hidden="true" height="16" viewBox="0 0 16 16" version="1.1" width="16" data-view-component="true" class="octicon octicon-x">
    <path d="M3.72 3.72a.75.75 0 0 1 1.06 0L8 6.94l3.22-3.22a.749.749 0 0 1 1.275.326.749.749 0 0 1-.215.734L9.06 8l3.22 3.22a.749.749 0 0 1-.326 1.275.749.749 0 0 1-.734-.215L8 9.06l-3.22 3.22a.751.751 0 0 1-1.042-.018.751.751 0 0 1-.018-1.042L6.94 8 3.72 4.78a.75.75 0 0 1 0-1.06Z"></path>
</svg></button>
    </div>
  </div>
  
</div>
      <scrollable-region data-labelled-by="context-region-dialog-title">
        <div data-view-component="true" class="Overlay-body">          <ul role="list" class="list-style-none" >
    <li>
      <a data-analytics-event="{&quot;category&quot;:&quot;SiteHeaderComponent&quot;,&quot;action&quot;:&quot;context_region_crumb&quot;,&quot;label&quot;:&quot;sotakao&quot;,&quot;screen_size&quot;:&quot;compact&quot;}" href="/sotakao" data-view-component="true" class="Link--primary Truncate d-flex flex-items-center py-1">
        <span class="AppHeader-context-item-label Truncate-text ">
            <svg aria-hidden="true" height="12" viewBox="0 0 16 16" version="1.1" width="12" data-view-component="true" class="octicon octicon-person mr-1">
    <path d="M10.561 8.073a6.005 6.005 0 0 1 3.432 5.142.75.75 0 1 1-1.498.07 4.5 4.5 0 0 0-8.99 0 .75.75 0 0 1-1.498-.07 6.004 6.004 0 0 1 3.431-5.142 3.999 3.999 0 1 1 5.123 0ZM10.5 5a2.5 2.5 0 1 0-5 0 2.5 2.5 0 0 0 5 0Z"></path>
</svg>

          sotakao
        </span>

</a>
    </li>
    <li>
      <a data-analytics-event="{&quot;category&quot;:&quot;SiteHeaderComponent&quot;,&quot;action&quot;:&quot;context_region_crumb&quot;,&quot;label&quot;:&quot;ml-seminar-ucl&quot;,&quot;screen_size&quot;:&quot;compact&quot;}" href="/sotakao/ml-seminar-ucl" data-view-component="true" class="Link--primary Truncate d-flex flex-items-center py-1">
        <span class="AppHeader-context-item-label Truncate-text ">
            <svg aria-hidden="true" height="12" viewBox="0 0 16 16" version="1.1" width="12" data-view-component="true" class="octicon octicon-repo mr-1">
    <path d="M2 2.5A2.5 2.5 0 0 1 4.5 0h8.75a.75.75 0 0 1 .75.75v12.5a.75.75 0 0 1-.75.75h-2.5a.75.75 0 0 1 0-1.5h1.75v-2h-8a1 1 0 0 0-.714 1.7.75.75 0 1 1-1.072 1.05A2.495 2.495 0 0 1 2 11.5Zm10.5-1h-8a1 1 0 0 0-1 1v6.708A2.486 2.486 0 0 1 4.5 9h8ZM5 12.25a.25.25 0 0 1 .25-.25h3.5a.25.25 0 0 1 .25.25v3.25a.25.25 0 0 1-.4.2l-1.45-1.087a.249.249 0 0 0-.3 0L5.4 15.7a.25.25 0 0 1-.4-.2Z"></path>
</svg>

          ml-seminar-ucl
        </span>

</a>
    </li>
</ul>

</div>
      </scrollable-region>
      
</dialog></dialog-helper>
  </div>

  <div class="AppHeader-context-full">
    <nav role="navigation" aria-label="Page context">
      <ul role="list" class="list-style-none" >
    <li>
      <a data-analytics-event="{&quot;category&quot;:&quot;SiteHeaderComponent&quot;,&quot;action&quot;:&quot;context_region_crumb&quot;,&quot;label&quot;:&quot;sotakao&quot;,&quot;screen_size&quot;:&quot;full&quot;}" data-hovercard-type="user" data-hovercard-url="/users/sotakao/hovercard" data-octo-click="hovercard-link-click" data-octo-dimensions="link_type:self" href="/sotakao" data-view-component="true" class="AppHeader-context-item">
        <span class="AppHeader-context-item-label  ">

          sotakao
        </span>

</a>
        <span class="AppHeader-context-item-separator">
          <span class='sr-only'>/</span>
          <svg width="16" height="16" viewBox="0 0 16 16" xmlns="http://www.w3.org/2000/svg" aria-hidden="true">
            <path d="M10.956 1.27994L6.06418 14.7201L5 14.7201L9.89181 1.27994L10.956 1.27994Z" fill="currentcolor"/>
          </svg>
        </span>
    </li>
    <li>
      <a data-analytics-event="{&quot;category&quot;:&quot;SiteHeaderComponent&quot;,&quot;action&quot;:&quot;context_region_crumb&quot;,&quot;label&quot;:&quot;ml-seminar-ucl&quot;,&quot;screen_size&quot;:&quot;full&quot;}" href="/sotakao/ml-seminar-ucl" data-view-component="true" class="AppHeader-context-item">
        <span class="AppHeader-context-item-label  ">

          ml-seminar-ucl
        </span>

</a>
    </li>
</ul>

    </nav>
  </div>
</div>

      </div>
      <div class="AppHeader-globalBar-end">
          <div class="AppHeader-search" >
              


<qbsearch-input class="search-input" data-scope="repo:sotakao/ml-seminar-ucl" data-custom-scopes-path="/search/custom_scopes" data-delete-custom-scopes-csrf="JZ54gG12tIoRqCI__yuipRvMXc2N9vzFbhPsYpi1It6v6zAgohusJ31oD_11tbnrjLTqhhpotjVn1BibMtvb0A" data-max-custom-scopes="10" data-header-redesign-enabled="true" data-initial-value="" data-blackbird-suggestions-path="/search/suggestions" data-jump-to-suggestions-path="/_graphql/GetSuggestedNavigationDestinations" data-current-repository="sotakao/ml-seminar-ucl" data-current-org="" data-current-owner="sotakao" data-logged-in="true" data-copilot-chat-enabled="true" data-nl-search-enabled="false">
  <div
    class="search-input-container search-with-dialog position-relative d-flex flex-row flex-items-center height-auto color-bg-transparent border-0 color-fg-subtle mx-0"
    data-action="click:qbsearch-input#searchInputContainerClicked"
  >
      
            <button type="button" data-action="click:qbsearch-input#handleExpand" class="AppHeader-button AppHeader-search-whenNarrow" aria-label="Search or jump to…" aria-expanded="false" aria-haspopup="dialog">
            <svg aria-hidden="true" height="16" viewBox="0 0 16 16" version="1.1" width="16" data-view-component="true" class="octicon octicon-search">
    <path d="M10.68 11.74a6 6 0 0 1-7.922-8.982 6 6 0 0 1 8.982 7.922l3.04 3.04a.749.749 0 0 1-.326 1.275.749.749 0 0 1-.734-.215ZM11.5 7a4.499 4.499 0 1 0-8.997 0A4.499 4.499 0 0 0 11.5 7Z"></path>
</svg>
          </button>


<div class="AppHeader-search-whenRegular">
  <div class="AppHeader-search-wrap AppHeader-search-wrap--hasTrailing">
    <div class="AppHeader-search-control AppHeader-search-control-overflow">
      <label
        for="AppHeader-searchInput"
        aria-label="Search or jump to…"
        class="AppHeader-search-visual--leading"
      >
        <svg aria-hidden="true" height="16" viewBox="0 0 16 16" version="1.1" width="16" data-view-component="true" class="octicon octicon-search">
    <path d="M10.68 11.74a6 6 0 0 1-7.922-8.982 6 6 0 0 1 8.982 7.922l3.04 3.04a.749.749 0 0 1-.326 1.275.749.749 0 0 1-.734-.215ZM11.5 7a4.499 4.499 0 1 0-8.997 0A4.499 4.499 0 0 0 11.5 7Z"></path>
</svg>
      </label>

                <button
            type="button"
            data-target="qbsearch-input.inputButton"
            data-action="click:qbsearch-input#handleExpand"
            class="AppHeader-searchButton form-control input-contrast text-left color-fg-subtle no-wrap"
            data-hotkey="s,/"
            data-analytics-event="{&quot;location&quot;:&quot;navbar&quot;,&quot;action&quot;:&quot;searchbar&quot;,&quot;context&quot;:&quot;global&quot;,&quot;tag&quot;:&quot;input&quot;,&quot;label&quot;:&quot;searchbar_input_global_navbar&quot;}"
            aria-describedby="search-error-message-flash"
          >
            <div class="overflow-hidden">
              <span id="qb-input-query" data-target="qbsearch-input.inputButtonText">
                  Type <kbd class="AppHeader-search-kbd">/</kbd> to search
              </span>
            </div>
          </button>

    </div>


  </div>
</div>

    <input type="hidden" name="type" class="js-site-search-type-field">

    
<div class="Overlay--hidden " data-modal-dialog-overlay>
  <modal-dialog data-action="close:qbsearch-input#handleClose cancel:qbsearch-input#handleClose" data-target="qbsearch-input.searchSuggestionsDialog" role="dialog" id="search-suggestions-dialog" aria-modal="true" aria-labelledby="search-suggestions-dialog-header" data-view-component="true" class="Overlay Overlay--width-medium Overlay--height-auto">
      <h1 id="search-suggestions-dialog-header" class="sr-only">Search code, repositories, users, issues, pull requests...</h1>
    <div class="Overlay-body Overlay-body--paddingNone">
      
          <div data-view-component="true">        <div class="search-suggestions position-absolute width-full color-shadow-large border color-fg-default color-bg-default overflow-hidden d-flex flex-column query-builder-container"
          style="border-radius: 12px;"
          data-target="qbsearch-input.queryBuilderContainer"
          hidden
        >
          <!-- '"` --><!-- </textarea></xmp> --></option></form><form id="query-builder-test-form" action="" accept-charset="UTF-8" method="get">
  <query-builder data-target="qbsearch-input.queryBuilder" id="query-builder-query-builder-test" data-filter-key=":" data-view-component="true" class="QueryBuilder search-query-builder">
    <div class="FormControl FormControl--fullWidth">
      <label id="query-builder-test-label" for="query-builder-test" class="FormControl-label sr-only">
        Search
      </label>
      <div
        class="QueryBuilder-StyledInput width-fit "
        data-target="query-builder.styledInput"
      >
          <span id="query-builder-test-leadingvisual-wrap" class="FormControl-input-leadingVisualWrap QueryBuilder-leadingVisualWrap">
            <svg aria-hidden="true" height="16" viewBox="0 0 16 16" version="1.1" width="16" data-view-component="true" class="octicon octicon-search FormControl-input-leadingVisual">
    <path d="M10.68 11.74a6 6 0 0 1-7.922-8.982 6 6 0 0 1 8.982 7.922l3.04 3.04a.749.749 0 0 1-.326 1.275.749.749 0 0 1-.734-.215ZM11.5 7a4.499 4.499 0 1 0-8.997 0A4.499 4.499 0 0 0 11.5 7Z"></path>
</svg>
          </span>
        <div data-target="query-builder.styledInputContainer" class="QueryBuilder-StyledInputContainer">
          <div
            aria-hidden="true"
            class="QueryBuilder-StyledInputContent"
            data-target="query-builder.styledInputContent"
          ></div>
          <div class="QueryBuilder-InputWrapper">
            <div aria-hidden="true" class="QueryBuilder-Sizer" data-target="query-builder.sizer"></div>
            <input id="query-builder-test" name="query-builder-test" value="" autocomplete="off" type="text" role="combobox" spellcheck="false" aria-expanded="false" aria-describedby="validation-80ca6e07-65bb-4ac5-aac3-d8a07fbd6358" data-target="query-builder.input" data-action="
          input:query-builder#inputChange
          blur:query-builder#inputBlur
          keydown:query-builder#inputKeydown
          focus:query-builder#inputFocus
        " data-view-component="true" class="FormControl-input QueryBuilder-Input FormControl-medium" />
          </div>
        </div>
          <span class="sr-only" id="query-builder-test-clear">Clear</span>
          <button role="button" id="query-builder-test-clear-button" aria-labelledby="query-builder-test-clear query-builder-test-label" data-target="query-builder.clearButton" data-action="
                click:query-builder#clear
                focus:query-builder#clearButtonFocus
                blur:query-builder#clearButtonBlur
              " variant="small" hidden="hidden" type="button" data-view-component="true" class="Button Button--iconOnly Button--invisible Button--medium mr-1 px-2 py-0 d-flex flex-items-center rounded-1 color-fg-muted">  <svg aria-hidden="true" height="16" viewBox="0 0 16 16" version="1.1" width="16" data-view-component="true" class="octicon octicon-x-circle-fill Button-visual">
    <path d="M2.343 13.657A8 8 0 1 1 13.658 2.343 8 8 0 0 1 2.343 13.657ZM6.03 4.97a.751.751 0 0 0-1.042.018.751.751 0 0 0-.018 1.042L6.94 8 4.97 9.97a.749.749 0 0 0 .326 1.275.749.749 0 0 0 .734-.215L8 9.06l1.97 1.97a.749.749 0 0 0 1.275-.326.749.749 0 0 0-.215-.734L9.06 8l1.97-1.97a.749.749 0 0 0-.326-1.275.749.749 0 0 0-.734.215L8 6.94Z"></path>
</svg>
</button>

      </div>
      <template id="search-icon">
  <svg aria-hidden="true" height="16" viewBox="0 0 16 16" version="1.1" width="16" data-view-component="true" class="octicon octicon-search">
    <path d="M10.68 11.74a6 6 0 0 1-7.922-8.982 6 6 0 0 1 8.982 7.922l3.04 3.04a.749.749 0 0 1-.326 1.275.749.749 0 0 1-.734-.215ZM11.5 7a4.499 4.499 0 1 0-8.997 0A4.499 4.499 0 0 0 11.5 7Z"></path>
</svg>
</template>

<template id="code-icon">
  <svg aria-hidden="true" height="16" viewBox="0 0 16 16" version="1.1" width="16" data-view-component="true" class="octicon octicon-code">
    <path d="m11.28 3.22 4.25 4.25a.75.75 0 0 1 0 1.06l-4.25 4.25a.749.749 0 0 1-1.275-.326.749.749 0 0 1 .215-.734L13.94 8l-3.72-3.72a.749.749 0 0 1 .326-1.275.749.749 0 0 1 .734.215Zm-6.56 0a.751.751 0 0 1 1.042.018.751.751 0 0 1 .018 1.042L2.06 8l3.72 3.72a.749.749 0 0 1-.326 1.275.749.749 0 0 1-.734-.215L.47 8.53a.75.75 0 0 1 0-1.06Z"></path>
</svg>
</template>

<template id="file-code-icon">
  <svg aria-hidden="true" height="16" viewBox="0 0 16 16" version="1.1" width="16" data-view-component="true" class="octicon octicon-file-code">
    <path d="M4 1.75C4 .784 4.784 0 5.75 0h5.586c.464 0 .909.184 1.237.513l2.914 2.914c.329.328.513.773.513 1.237v8.586A1.75 1.75 0 0 1 14.25 15h-9a.75.75 0 0 1 0-1.5h9a.25.25 0 0 0 .25-.25V6h-2.75A1.75 1.75 0 0 1 10 4.25V1.5H5.75a.25.25 0 0 0-.25.25v2.5a.75.75 0 0 1-1.5 0Zm1.72 4.97a.75.75 0 0 1 1.06 0l2 2a.75.75 0 0 1 0 1.06l-2 2a.749.749 0 0 1-1.275-.326.749.749 0 0 1 .215-.734l1.47-1.47-1.47-1.47a.75.75 0 0 1 0-1.06ZM3.28 7.78 1.81 9.25l1.47 1.47a.751.751 0 0 1-.018 1.042.751.751 0 0 1-1.042.018l-2-2a.75.75 0 0 1 0-1.06l2-2a.751.751 0 0 1 1.042.018.751.751 0 0 1 .018 1.042Zm8.22-6.218V4.25c0 .138.112.25.25.25h2.688l-.011-.013-2.914-2.914-.013-.011Z"></path>
</svg>
</template>

<template id="history-icon">
  <svg aria-hidden="true" height="16" viewBox="0 0 16 16" version="1.1" width="16" data-view-component="true" class="octicon octicon-history">
    <path d="m.427 1.927 1.215 1.215a8.002 8.002 0 1 1-1.6 5.685.75.75 0 1 1 1.493-.154 6.5 6.5 0 1 0 1.18-4.458l1.358 1.358A.25.25 0 0 1 3.896 6H.25A.25.25 0 0 1 0 5.75V2.104a.25.25 0 0 1 .427-.177ZM7.75 4a.75.75 0 0 1 .75.75v2.992l2.028.812a.75.75 0 0 1-.557 1.392l-2.5-1A.751.751 0 0 1 7 8.25v-3.5A.75.75 0 0 1 7.75 4Z"></path>
</svg>
</template>

<template id="repo-icon">
  <svg aria-hidden="true" height="16" viewBox="0 0 16 16" version="1.1" width="16" data-view-component="true" class="octicon octicon-repo">
    <path d="M2 2.5A2.5 2.5 0 0 1 4.5 0h8.75a.75.75 0 0 1 .75.75v12.5a.75.75 0 0 1-.75.75h-2.5a.75.75 0 0 1 0-1.5h1.75v-2h-8a1 1 0 0 0-.714 1.7.75.75 0 1 1-1.072 1.05A2.495 2.495 0 0 1 2 11.5Zm10.5-1h-8a1 1 0 0 0-1 1v6.708A2.486 2.486 0 0 1 4.5 9h8ZM5 12.25a.25.25 0 0 1 .25-.25h3.5a.25.25 0 0 1 .25.25v3.25a.25.25 0 0 1-.4.2l-1.45-1.087a.249.249 0 0 0-.3 0L5.4 15.7a.25.25 0 0 1-.4-.2Z"></path>
</svg>
</template>

<template id="bookmark-icon">
  <svg aria-hidden="true" height="16" viewBox="0 0 16 16" version="1.1" width="16" data-view-component="true" class="octicon octicon-bookmark">
    <path d="M3 2.75C3 1.784 3.784 1 4.75 1h6.5c.966 0 1.75.784 1.75 1.75v11.5a.75.75 0 0 1-1.227.579L8 11.722l-3.773 3.107A.751.751 0 0 1 3 14.25Zm1.75-.25a.25.25 0 0 0-.25.25v9.91l3.023-2.489a.75.75 0 0 1 .954 0l3.023 2.49V2.75a.25.25 0 0 0-.25-.25Z"></path>
</svg>
</template>

<template id="plus-circle-icon">
  <svg aria-hidden="true" height="16" viewBox="0 0 16 16" version="1.1" width="16" data-view-component="true" class="octicon octicon-plus-circle">
    <path d="M8 0a8 8 0 1 1 0 16A8 8 0 0 1 8 0ZM1.5 8a6.5 6.5 0 1 0 13 0 6.5 6.5 0 0 0-13 0Zm7.25-3.25v2.5h2.5a.75.75 0 0 1 0 1.5h-2.5v2.5a.75.75 0 0 1-1.5 0v-2.5h-2.5a.75.75 0 0 1 0-1.5h2.5v-2.5a.75.75 0 0 1 1.5 0Z"></path>
</svg>
</template>

<template id="circle-icon">
  <svg aria-hidden="true" height="16" viewBox="0 0 16 16" version="1.1" width="16" data-view-component="true" class="octicon octicon-dot-fill">
    <path d="M8 4a4 4 0 1 1 0 8 4 4 0 0 1 0-8Z"></path>
</svg>
</template>

<template id="trash-icon">
  <svg aria-hidden="true" height="16" viewBox="0 0 16 16" version="1.1" width="16" data-view-component="true" class="octicon octicon-trash">
    <path d="M11 1.75V3h2.25a.75.75 0 0 1 0 1.5H2.75a.75.75 0 0 1 0-1.5H5V1.75C5 .784 5.784 0 6.75 0h2.5C10.216 0 11 .784 11 1.75ZM4.496 6.675l.66 6.6a.25.25 0 0 0 .249.225h5.19a.25.25 0 0 0 .249-.225l.66-6.6a.75.75 0 0 1 1.492.149l-.66 6.6A1.748 1.748 0 0 1 10.595 15h-5.19a1.75 1.75 0 0 1-1.741-1.575l-.66-6.6a.75.75 0 1 1 1.492-.15ZM6.5 1.75V3h3V1.75a.25.25 0 0 0-.25-.25h-2.5a.25.25 0 0 0-.25.25Z"></path>
</svg>
</template>

<template id="team-icon">
  <svg aria-hidden="true" height="16" viewBox="0 0 16 16" version="1.1" width="16" data-view-component="true" class="octicon octicon-people">
    <path d="M2 5.5a3.5 3.5 0 1 1 5.898 2.549 5.508 5.508 0 0 1 3.034 4.084.75.75 0 1 1-1.482.235 4 4 0 0 0-7.9 0 .75.75 0 0 1-1.482-.236A5.507 5.507 0 0 1 3.102 8.05 3.493 3.493 0 0 1 2 5.5ZM11 4a3.001 3.001 0 0 1 2.22 5.018 5.01 5.01 0 0 1 2.56 3.012.749.749 0 0 1-.885.954.752.752 0 0 1-.549-.514 3.507 3.507 0 0 0-2.522-2.372.75.75 0 0 1-.574-.73v-.352a.75.75 0 0 1 .416-.672A1.5 1.5 0 0 0 11 5.5.75.75 0 0 1 11 4Zm-5.5-.5a2 2 0 1 0-.001 3.999A2 2 0 0 0 5.5 3.5Z"></path>
</svg>
</template>

<template id="project-icon">
  <svg aria-hidden="true" height="16" viewBox="0 0 16 16" version="1.1" width="16" data-view-component="true" class="octicon octicon-project">
    <path d="M1.75 0h12.5C15.216 0 16 .784 16 1.75v12.5A1.75 1.75 0 0 1 14.25 16H1.75A1.75 1.75 0 0 1 0 14.25V1.75C0 .784.784 0 1.75 0ZM1.5 1.75v12.5c0 .138.112.25.25.25h12.5a.25.25 0 0 0 .25-.25V1.75a.25.25 0 0 0-.25-.25H1.75a.25.25 0 0 0-.25.25ZM11.75 3a.75.75 0 0 1 .75.75v7.5a.75.75 0 0 1-1.5 0v-7.5a.75.75 0 0 1 .75-.75Zm-8.25.75a.75.75 0 0 1 1.5 0v5.5a.75.75 0 0 1-1.5 0ZM8 3a.75.75 0 0 1 .75.75v3.5a.75.75 0 0 1-1.5 0v-3.5A.75.75 0 0 1 8 3Z"></path>
</svg>
</template>

<template id="pencil-icon">
  <svg aria-hidden="true" height="16" viewBox="0 0 16 16" version="1.1" width="16" data-view-component="true" class="octicon octicon-pencil">
    <path d="M11.013 1.427a1.75 1.75 0 0 1 2.474 0l1.086 1.086a1.75 1.75 0 0 1 0 2.474l-8.61 8.61c-.21.21-.47.364-.756.445l-3.251.93a.75.75 0 0 1-.927-.928l.929-3.25c.081-.286.235-.547.445-.758l8.61-8.61Zm.176 4.823L9.75 4.81l-6.286 6.287a.253.253 0 0 0-.064.108l-.558 1.953 1.953-.558a.253.253 0 0 0 .108-.064Zm1.238-3.763a.25.25 0 0 0-.354 0L10.811 3.75l1.439 1.44 1.263-1.263a.25.25 0 0 0 0-.354Z"></path>
</svg>
</template>

<template id="copilot-icon">
  <svg aria-hidden="true" height="16" viewBox="0 0 16 16" version="1.1" width="16" data-view-component="true" class="octicon octicon-copilot">
    <path d="M7.998 15.035c-4.562 0-7.873-2.914-7.998-3.749V9.338c.085-.628.677-1.686 1.588-2.065.013-.07.024-.143.036-.218.029-.183.06-.384.126-.612-.201-.508-.254-1.084-.254-1.656 0-.87.128-1.769.693-2.484.579-.733 1.494-1.124 2.724-1.261 1.206-.134 2.262.034 2.944.765.05.053.096.108.139.165.044-.057.094-.112.143-.165.682-.731 1.738-.899 2.944-.765 1.23.137 2.145.528 2.724 1.261.566.715.693 1.614.693 2.484 0 .572-.053 1.148-.254 1.656.066.228.098.429.126.612.012.076.024.148.037.218.924.385 1.522 1.471 1.591 2.095v1.872c0 .766-3.351 3.795-8.002 3.795Zm0-1.485c2.28 0 4.584-1.11 5.002-1.433V7.862l-.023-.116c-.49.21-1.075.291-1.727.291-1.146 0-2.059-.327-2.71-.991A3.222 3.222 0 0 1 8 6.303a3.24 3.24 0 0 1-.544.743c-.65.664-1.563.991-2.71.991-.652 0-1.236-.081-1.727-.291l-.023.116v4.255c.419.323 2.722 1.433 5.002 1.433ZM6.762 2.83c-.193-.206-.637-.413-1.682-.297-1.019.113-1.479.404-1.713.7-.247.312-.369.789-.369 1.554 0 .793.129 1.171.308 1.371.162.181.519.379 1.442.379.853 0 1.339-.235 1.638-.54.315-.322.527-.827.617-1.553.117-.935-.037-1.395-.241-1.614Zm4.155-.297c-1.044-.116-1.488.091-1.681.297-.204.219-.359.679-.242 1.614.091.726.303 1.231.618 1.553.299.305.784.54 1.638.54.922 0 1.28-.198 1.442-.379.179-.2.308-.578.308-1.371 0-.765-.123-1.242-.37-1.554-.233-.296-.693-.587-1.713-.7Z"></path><path d="M6.25 9.037a.75.75 0 0 1 .75.75v1.501a.75.75 0 0 1-1.5 0V9.787a.75.75 0 0 1 .75-.75Zm4.25.75v1.501a.75.75 0 0 1-1.5 0V9.787a.75.75 0 0 1 1.5 0Z"></path>
</svg>
</template>

<template id="copilot-error-icon">
  <svg aria-hidden="true" height="16" viewBox="0 0 16 16" version="1.1" width="16" data-view-component="true" class="octicon octicon-copilot-error">
    <path d="M16 11.24c0 .112-.072.274-.21.467L13 9.688V7.862l-.023-.116c-.49.21-1.075.291-1.727.291-.198 0-.388-.009-.571-.029L6.833 5.226a4.01 4.01 0 0 0 .17-.782c.117-.935-.037-1.395-.241-1.614-.193-.206-.637-.413-1.682-.297-.683.076-1.115.231-1.395.415l-1.257-.91c.579-.564 1.413-.877 2.485-.996 1.206-.134 2.262.034 2.944.765.05.053.096.108.139.165.044-.057.094-.112.143-.165.682-.731 1.738-.899 2.944-.765 1.23.137 2.145.528 2.724 1.261.566.715.693 1.614.693 2.484 0 .572-.053 1.148-.254 1.656.066.228.098.429.126.612.012.076.024.148.037.218.924.385 1.522 1.471 1.591 2.095Zm-5.083-8.707c-1.044-.116-1.488.091-1.681.297-.204.219-.359.679-.242 1.614.091.726.303 1.231.618 1.553.299.305.784.54 1.638.54.922 0 1.28-.198 1.442-.379.179-.2.308-.578.308-1.371 0-.765-.123-1.242-.37-1.554-.233-.296-.693-.587-1.713-.7Zm2.511 11.074c-1.393.776-3.272 1.428-5.43 1.428-4.562 0-7.873-2.914-7.998-3.749V9.338c.085-.628.677-1.686 1.588-2.065.013-.07.024-.143.036-.218.029-.183.06-.384.126-.612-.18-.455-.241-.963-.252-1.475L.31 4.107A.747.747 0 0 1 0 3.509V3.49a.748.748 0 0 1 .625-.73c.156-.026.306.047.435.139l14.667 10.578a.592.592 0 0 1 .227.264.752.752 0 0 1 .046.249v.022a.75.75 0 0 1-1.19.596Zm-1.367-.991L5.635 7.964a5.128 5.128 0 0 1-.889.073c-.652 0-1.236-.081-1.727-.291l-.023.116v4.255c.419.323 2.722 1.433 5.002 1.433 1.539 0 3.089-.505 4.063-.934Z"></path>
</svg>
</template>

<template id="workflow-icon">
  <svg aria-hidden="true" height="16" viewBox="0 0 16 16" version="1.1" width="16" data-view-component="true" class="octicon octicon-workflow">
    <path d="M0 1.75C0 .784.784 0 1.75 0h3.5C6.216 0 7 .784 7 1.75v3.5A1.75 1.75 0 0 1 5.25 7H4v4a1 1 0 0 0 1 1h4v-1.25C9 9.784 9.784 9 10.75 9h3.5c.966 0 1.75.784 1.75 1.75v3.5A1.75 1.75 0 0 1 14.25 16h-3.5A1.75 1.75 0 0 1 9 14.25v-.75H5A2.5 2.5 0 0 1 2.5 11V7h-.75A1.75 1.75 0 0 1 0 5.25Zm1.75-.25a.25.25 0 0 0-.25.25v3.5c0 .138.112.25.25.25h3.5a.25.25 0 0 0 .25-.25v-3.5a.25.25 0 0 0-.25-.25Zm9 9a.25.25 0 0 0-.25.25v3.5c0 .138.112.25.25.25h3.5a.25.25 0 0 0 .25-.25v-3.5a.25.25 0 0 0-.25-.25Z"></path>
</svg>
</template>

<template id="book-icon">
  <svg aria-hidden="true" height="16" viewBox="0 0 16 16" version="1.1" width="16" data-view-component="true" class="octicon octicon-book">
    <path d="M0 1.75A.75.75 0 0 1 .75 1h4.253c1.227 0 2.317.59 3 1.501A3.743 3.743 0 0 1 11.006 1h4.245a.75.75 0 0 1 .75.75v10.5a.75.75 0 0 1-.75.75h-4.507a2.25 2.25 0 0 0-1.591.659l-.622.621a.75.75 0 0 1-1.06 0l-.622-.621A2.25 2.25 0 0 0 5.258 13H.75a.75.75 0 0 1-.75-.75Zm7.251 10.324.004-5.073-.002-2.253A2.25 2.25 0 0 0 5.003 2.5H1.5v9h3.757a3.75 3.75 0 0 1 1.994.574ZM8.755 4.75l-.004 7.322a3.752 3.752 0 0 1 1.992-.572H14.5v-9h-3.495a2.25 2.25 0 0 0-2.25 2.25Z"></path>
</svg>
</template>

<template id="code-review-icon">
  <svg aria-hidden="true" height="16" viewBox="0 0 16 16" version="1.1" width="16" data-view-component="true" class="octicon octicon-code-review">
    <path d="M1.75 1h12.5c.966 0 1.75.784 1.75 1.75v8.5A1.75 1.75 0 0 1 14.25 13H8.061l-2.574 2.573A1.458 1.458 0 0 1 3 14.543V13H1.75A1.75 1.75 0 0 1 0 11.25v-8.5C0 1.784.784 1 1.75 1ZM1.5 2.75v8.5c0 .138.112.25.25.25h2a.75.75 0 0 1 .75.75v2.19l2.72-2.72a.749.749 0 0 1 .53-.22h6.5a.25.25 0 0 0 .25-.25v-8.5a.25.25 0 0 0-.25-.25H1.75a.25.25 0 0 0-.25.25Zm5.28 1.72a.75.75 0 0 1 0 1.06L5.31 7l1.47 1.47a.751.751 0 0 1-.018 1.042.751.751 0 0 1-1.042.018l-2-2a.75.75 0 0 1 0-1.06l2-2a.75.75 0 0 1 1.06 0Zm2.44 0a.75.75 0 0 1 1.06 0l2 2a.75.75 0 0 1 0 1.06l-2 2a.751.751 0 0 1-1.042-.018.751.751 0 0 1-.018-1.042L10.69 7 9.22 5.53a.75.75 0 0 1 0-1.06Z"></path>
</svg>
</template>

<template id="codespaces-icon">
  <svg aria-hidden="true" height="16" viewBox="0 0 16 16" version="1.1" width="16" data-view-component="true" class="octicon octicon-codespaces">
    <path d="M0 11.25c0-.966.784-1.75 1.75-1.75h12.5c.966 0 1.75.784 1.75 1.75v3A1.75 1.75 0 0 1 14.25 16H1.75A1.75 1.75 0 0 1 0 14.25Zm2-9.5C2 .784 2.784 0 3.75 0h8.5C13.216 0 14 .784 14 1.75v5a1.75 1.75 0 0 1-1.75 1.75h-8.5A1.75 1.75 0 0 1 2 6.75Zm1.75-.25a.25.25 0 0 0-.25.25v5c0 .138.112.25.25.25h8.5a.25.25 0 0 0 .25-.25v-5a.25.25 0 0 0-.25-.25Zm-2 9.5a.25.25 0 0 0-.25.25v3c0 .138.112.25.25.25h12.5a.25.25 0 0 0 .25-.25v-3a.25.25 0 0 0-.25-.25Z"></path><path d="M7 12.75a.75.75 0 0 1 .75-.75h4.5a.75.75 0 0 1 0 1.5h-4.5a.75.75 0 0 1-.75-.75Zm-4 0a.75.75 0 0 1 .75-.75h.5a.75.75 0 0 1 0 1.5h-.5a.75.75 0 0 1-.75-.75Z"></path>
</svg>
</template>

<template id="comment-icon">
  <svg aria-hidden="true" height="16" viewBox="0 0 16 16" version="1.1" width="16" data-view-component="true" class="octicon octicon-comment">
    <path d="M1 2.75C1 1.784 1.784 1 2.75 1h10.5c.966 0 1.75.784 1.75 1.75v7.5A1.75 1.75 0 0 1 13.25 12H9.06l-2.573 2.573A1.458 1.458 0 0 1 4 13.543V12H2.75A1.75 1.75 0 0 1 1 10.25Zm1.75-.25a.25.25 0 0 0-.25.25v7.5c0 .138.112.25.25.25h2a.75.75 0 0 1 .75.75v2.19l2.72-2.72a.749.749 0 0 1 .53-.22h4.5a.25.25 0 0 0 .25-.25v-7.5a.25.25 0 0 0-.25-.25Z"></path>
</svg>
</template>

<template id="comment-discussion-icon">
  <svg aria-hidden="true" height="16" viewBox="0 0 16 16" version="1.1" width="16" data-view-component="true" class="octicon octicon-comment-discussion">
    <path d="M1.75 1h8.5c.966 0 1.75.784 1.75 1.75v5.5A1.75 1.75 0 0 1 10.25 10H7.061l-2.574 2.573A1.458 1.458 0 0 1 2 11.543V10h-.25A1.75 1.75 0 0 1 0 8.25v-5.5C0 1.784.784 1 1.75 1ZM1.5 2.75v5.5c0 .138.112.25.25.25h1a.75.75 0 0 1 .75.75v2.19l2.72-2.72a.749.749 0 0 1 .53-.22h3.5a.25.25 0 0 0 .25-.25v-5.5a.25.25 0 0 0-.25-.25h-8.5a.25.25 0 0 0-.25.25Zm13 2a.25.25 0 0 0-.25-.25h-.5a.75.75 0 0 1 0-1.5h.5c.966 0 1.75.784 1.75 1.75v5.5A1.75 1.75 0 0 1 14.25 12H14v1.543a1.458 1.458 0 0 1-2.487 1.03L9.22 12.28a.749.749 0 0 1 .326-1.275.749.749 0 0 1 .734.215l2.22 2.22v-2.19a.75.75 0 0 1 .75-.75h1a.25.25 0 0 0 .25-.25Z"></path>
</svg>
</template>

<template id="organization-icon">
  <svg aria-hidden="true" height="16" viewBox="0 0 16 16" version="1.1" width="16" data-view-component="true" class="octicon octicon-organization">
    <path d="M1.75 16A1.75 1.75 0 0 1 0 14.25V1.75C0 .784.784 0 1.75 0h8.5C11.216 0 12 .784 12 1.75v12.5c0 .085-.006.168-.018.25h2.268a.25.25 0 0 0 .25-.25V8.285a.25.25 0 0 0-.111-.208l-1.055-.703a.749.749 0 1 1 .832-1.248l1.055.703c.487.325.779.871.779 1.456v5.965A1.75 1.75 0 0 1 14.25 16h-3.5a.766.766 0 0 1-.197-.026c-.099.017-.2.026-.303.026h-3a.75.75 0 0 1-.75-.75V14h-1v1.25a.75.75 0 0 1-.75.75Zm-.25-1.75c0 .138.112.25.25.25H4v-1.25a.75.75 0 0 1 .75-.75h2.5a.75.75 0 0 1 .75.75v1.25h2.25a.25.25 0 0 0 .25-.25V1.75a.25.25 0 0 0-.25-.25h-8.5a.25.25 0 0 0-.25.25ZM3.75 6h.5a.75.75 0 0 1 0 1.5h-.5a.75.75 0 0 1 0-1.5ZM3 3.75A.75.75 0 0 1 3.75 3h.5a.75.75 0 0 1 0 1.5h-.5A.75.75 0 0 1 3 3.75Zm4 3A.75.75 0 0 1 7.75 6h.5a.75.75 0 0 1 0 1.5h-.5A.75.75 0 0 1 7 6.75ZM7.75 3h.5a.75.75 0 0 1 0 1.5h-.5a.75.75 0 0 1 0-1.5ZM3 9.75A.75.75 0 0 1 3.75 9h.5a.75.75 0 0 1 0 1.5h-.5A.75.75 0 0 1 3 9.75ZM7.75 9h.5a.75.75 0 0 1 0 1.5h-.5a.75.75 0 0 1 0-1.5Z"></path>
</svg>
</template>

<template id="rocket-icon">
  <svg aria-hidden="true" height="16" viewBox="0 0 16 16" version="1.1" width="16" data-view-component="true" class="octicon octicon-rocket">
    <path d="M14.064 0h.186C15.216 0 16 .784 16 1.75v.186a8.752 8.752 0 0 1-2.564 6.186l-.458.459c-.314.314-.641.616-.979.904v3.207c0 .608-.315 1.172-.833 1.49l-2.774 1.707a.749.749 0 0 1-1.11-.418l-.954-3.102a1.214 1.214 0 0 1-.145-.125L3.754 9.816a1.218 1.218 0 0 1-.124-.145L.528 8.717a.749.749 0 0 1-.418-1.11l1.71-2.774A1.748 1.748 0 0 1 3.31 4h3.204c.288-.338.59-.665.904-.979l.459-.458A8.749 8.749 0 0 1 14.064 0ZM8.938 3.623h-.002l-.458.458c-.76.76-1.437 1.598-2.02 2.5l-1.5 2.317 2.143 2.143 2.317-1.5c.902-.583 1.74-1.26 2.499-2.02l.459-.458a7.25 7.25 0 0 0 2.123-5.127V1.75a.25.25 0 0 0-.25-.25h-.186a7.249 7.249 0 0 0-5.125 2.123ZM3.56 14.56c-.732.732-2.334 1.045-3.005 1.148a.234.234 0 0 1-.201-.064.234.234 0 0 1-.064-.201c.103-.671.416-2.273 1.15-3.003a1.502 1.502 0 1 1 2.12 2.12Zm6.94-3.935c-.088.06-.177.118-.266.175l-2.35 1.521.548 1.783 1.949-1.2a.25.25 0 0 0 .119-.213ZM3.678 8.116 5.2 5.766c.058-.09.117-.178.176-.266H3.309a.25.25 0 0 0-.213.119l-1.2 1.95ZM12 5a1 1 0 1 1-2 0 1 1 0 0 1 2 0Z"></path>
</svg>
</template>

<template id="shield-check-icon">
  <svg aria-hidden="true" height="16" viewBox="0 0 16 16" version="1.1" width="16" data-view-component="true" class="octicon octicon-shield-check">
    <path d="m8.533.133 5.25 1.68A1.75 1.75 0 0 1 15 3.48V7c0 1.566-.32 3.182-1.303 4.682-.983 1.498-2.585 2.813-5.032 3.855a1.697 1.697 0 0 1-1.33 0c-2.447-1.042-4.049-2.357-5.032-3.855C1.32 10.182 1 8.566 1 7V3.48a1.75 1.75 0 0 1 1.217-1.667l5.25-1.68a1.748 1.748 0 0 1 1.066 0Zm-.61 1.429.001.001-5.25 1.68a.251.251 0 0 0-.174.237V7c0 1.36.275 2.666 1.057 3.859.784 1.194 2.121 2.342 4.366 3.298a.196.196 0 0 0 .154 0c2.245-.957 3.582-2.103 4.366-3.297C13.225 9.666 13.5 8.358 13.5 7V3.48a.25.25 0 0 0-.174-.238l-5.25-1.68a.25.25 0 0 0-.153 0ZM11.28 6.28l-3.5 3.5a.75.75 0 0 1-1.06 0l-1.5-1.5a.749.749 0 0 1 .326-1.275.749.749 0 0 1 .734.215l.97.97 2.97-2.97a.751.751 0 0 1 1.042.018.751.751 0 0 1 .018 1.042Z"></path>
</svg>
</template>

<template id="heart-icon">
  <svg aria-hidden="true" height="16" viewBox="0 0 16 16" version="1.1" width="16" data-view-component="true" class="octicon octicon-heart">
    <path d="m8 14.25.345.666a.75.75 0 0 1-.69 0l-.008-.004-.018-.01a7.152 7.152 0 0 1-.31-.17 22.055 22.055 0 0 1-3.434-2.414C2.045 10.731 0 8.35 0 5.5 0 2.836 2.086 1 4.25 1 5.797 1 7.153 1.802 8 3.02 8.847 1.802 10.203 1 11.75 1 13.914 1 16 2.836 16 5.5c0 2.85-2.045 5.231-3.885 6.818a22.066 22.066 0 0 1-3.744 2.584l-.018.01-.006.003h-.002ZM4.25 2.5c-1.336 0-2.75 1.164-2.75 3 0 2.15 1.58 4.144 3.365 5.682A20.58 20.58 0 0 0 8 13.393a20.58 20.58 0 0 0 3.135-2.211C12.92 9.644 14.5 7.65 14.5 5.5c0-1.836-1.414-3-2.75-3-1.373 0-2.609.986-3.029 2.456a.749.749 0 0 1-1.442 0C6.859 3.486 5.623 2.5 4.25 2.5Z"></path>
</svg>
</template>

<template id="server-icon">
  <svg aria-hidden="true" height="16" viewBox="0 0 16 16" version="1.1" width="16" data-view-component="true" class="octicon octicon-server">
    <path d="M1.75 1h12.5c.966 0 1.75.784 1.75 1.75v4c0 .372-.116.717-.314 1 .198.283.314.628.314 1v4a1.75 1.75 0 0 1-1.75 1.75H1.75A1.75 1.75 0 0 1 0 12.75v-4c0-.358.109-.707.314-1a1.739 1.739 0 0 1-.314-1v-4C0 1.784.784 1 1.75 1ZM1.5 2.75v4c0 .138.112.25.25.25h12.5a.25.25 0 0 0 .25-.25v-4a.25.25 0 0 0-.25-.25H1.75a.25.25 0 0 0-.25.25Zm.25 5.75a.25.25 0 0 0-.25.25v4c0 .138.112.25.25.25h12.5a.25.25 0 0 0 .25-.25v-4a.25.25 0 0 0-.25-.25ZM7 4.75A.75.75 0 0 1 7.75 4h4.5a.75.75 0 0 1 0 1.5h-4.5A.75.75 0 0 1 7 4.75ZM7.75 10h4.5a.75.75 0 0 1 0 1.5h-4.5a.75.75 0 0 1 0-1.5ZM3 4.75A.75.75 0 0 1 3.75 4h.5a.75.75 0 0 1 0 1.5h-.5A.75.75 0 0 1 3 4.75ZM3.75 10h.5a.75.75 0 0 1 0 1.5h-.5a.75.75 0 0 1 0-1.5Z"></path>
</svg>
</template>

<template id="globe-icon">
  <svg aria-hidden="true" height="16" viewBox="0 0 16 16" version="1.1" width="16" data-view-component="true" class="octicon octicon-globe">
    <path d="M8 0a8 8 0 1 1 0 16A8 8 0 0 1 8 0ZM5.78 8.75a9.64 9.64 0 0 0 1.363 4.177c.255.426.542.832.857 1.215.245-.296.551-.705.857-1.215A9.64 9.64 0 0 0 10.22 8.75Zm4.44-1.5a9.64 9.64 0 0 0-1.363-4.177c-.307-.51-.612-.919-.857-1.215a9.927 9.927 0 0 0-.857 1.215A9.64 9.64 0 0 0 5.78 7.25Zm-5.944 1.5H1.543a6.507 6.507 0 0 0 4.666 5.5c-.123-.181-.24-.365-.352-.552-.715-1.192-1.437-2.874-1.581-4.948Zm-2.733-1.5h2.733c.144-2.074.866-3.756 1.58-4.948.12-.197.237-.381.353-.552a6.507 6.507 0 0 0-4.666 5.5Zm10.181 1.5c-.144 2.074-.866 3.756-1.58 4.948-.12.197-.237.381-.353.552a6.507 6.507 0 0 0 4.666-5.5Zm2.733-1.5a6.507 6.507 0 0 0-4.666-5.5c.123.181.24.365.353.552.714 1.192 1.436 2.874 1.58 4.948Z"></path>
</svg>
</template>

<template id="issue-opened-icon">
  <svg aria-hidden="true" height="16" viewBox="0 0 16 16" version="1.1" width="16" data-view-component="true" class="octicon octicon-issue-opened">
    <path d="M8 9.5a1.5 1.5 0 1 0 0-3 1.5 1.5 0 0 0 0 3Z"></path><path d="M8 0a8 8 0 1 1 0 16A8 8 0 0 1 8 0ZM1.5 8a6.5 6.5 0 1 0 13 0 6.5 6.5 0 0 0-13 0Z"></path>
</svg>
</template>

<template id="device-mobile-icon">
  <svg aria-hidden="true" height="16" viewBox="0 0 16 16" version="1.1" width="16" data-view-component="true" class="octicon octicon-device-mobile">
    <path d="M3.75 0h8.5C13.216 0 14 .784 14 1.75v12.5A1.75 1.75 0 0 1 12.25 16h-8.5A1.75 1.75 0 0 1 2 14.25V1.75C2 .784 2.784 0 3.75 0ZM3.5 1.75v12.5c0 .138.112.25.25.25h8.5a.25.25 0 0 0 .25-.25V1.75a.25.25 0 0 0-.25-.25h-8.5a.25.25 0 0 0-.25.25ZM8 13a1 1 0 1 1 0-2 1 1 0 0 1 0 2Z"></path>
</svg>
</template>

<template id="package-icon">
  <svg aria-hidden="true" height="16" viewBox="0 0 16 16" version="1.1" width="16" data-view-component="true" class="octicon octicon-package">
    <path d="m8.878.392 5.25 3.045c.54.314.872.89.872 1.514v6.098a1.75 1.75 0 0 1-.872 1.514l-5.25 3.045a1.75 1.75 0 0 1-1.756 0l-5.25-3.045A1.75 1.75 0 0 1 1 11.049V4.951c0-.624.332-1.201.872-1.514L7.122.392a1.75 1.75 0 0 1 1.756 0ZM7.875 1.69l-4.63 2.685L8 7.133l4.755-2.758-4.63-2.685a.248.248 0 0 0-.25 0ZM2.5 5.677v5.372c0 .09.047.171.125.216l4.625 2.683V8.432Zm6.25 8.271 4.625-2.683a.25.25 0 0 0 .125-.216V5.677L8.75 8.432Z"></path>
</svg>
</template>

<template id="credit-card-icon">
  <svg aria-hidden="true" height="16" viewBox="0 0 16 16" version="1.1" width="16" data-view-component="true" class="octicon octicon-credit-card">
    <path d="M10.75 9a.75.75 0 0 0 0 1.5h1.5a.75.75 0 0 0 0-1.5h-1.5Z"></path><path d="M0 3.75C0 2.784.784 2 1.75 2h12.5c.966 0 1.75.784 1.75 1.75v8.5A1.75 1.75 0 0 1 14.25 14H1.75A1.75 1.75 0 0 1 0 12.25ZM14.5 6.5h-13v5.75c0 .138.112.25.25.25h12.5a.25.25 0 0 0 .25-.25Zm0-2.75a.25.25 0 0 0-.25-.25H1.75a.25.25 0 0 0-.25.25V5h13Z"></path>
</svg>
</template>

<template id="play-icon">
  <svg aria-hidden="true" height="16" viewBox="0 0 16 16" version="1.1" width="16" data-view-component="true" class="octicon octicon-play">
    <path d="M8 0a8 8 0 1 1 0 16A8 8 0 0 1 8 0ZM1.5 8a6.5 6.5 0 1 0 13 0 6.5 6.5 0 0 0-13 0Zm4.879-2.773 4.264 2.559a.25.25 0 0 1 0 .428l-4.264 2.559A.25.25 0 0 1 6 10.559V5.442a.25.25 0 0 1 .379-.215Z"></path>
</svg>
</template>

<template id="gift-icon">
  <svg aria-hidden="true" height="16" viewBox="0 0 16 16" version="1.1" width="16" data-view-component="true" class="octicon octicon-gift">
    <path d="M2 2.75A2.75 2.75 0 0 1 4.75 0c.983 0 1.873.42 2.57 1.232.268.318.497.668.68 1.042.183-.375.411-.725.68-1.044C9.376.42 10.266 0 11.25 0a2.75 2.75 0 0 1 2.45 4h.55c.966 0 1.75.784 1.75 1.75v2c0 .698-.409 1.301-1 1.582v4.918A1.75 1.75 0 0 1 13.25 16H2.75A1.75 1.75 0 0 1 1 14.25V9.332C.409 9.05 0 8.448 0 7.75v-2C0 4.784.784 4 1.75 4h.55c-.192-.375-.3-.8-.3-1.25ZM7.25 9.5H2.5v4.75c0 .138.112.25.25.25h4.5Zm1.5 0v5h4.5a.25.25 0 0 0 .25-.25V9.5Zm0-4V8h5.5a.25.25 0 0 0 .25-.25v-2a.25.25 0 0 0-.25-.25Zm-7 0a.25.25 0 0 0-.25.25v2c0 .138.112.25.25.25h5.5V5.5h-5.5Zm3-4a1.25 1.25 0 0 0 0 2.5h2.309c-.233-.818-.542-1.401-.878-1.793-.43-.502-.915-.707-1.431-.707ZM8.941 4h2.309a1.25 1.25 0 0 0 0-2.5c-.516 0-1 .205-1.43.707-.337.392-.646.975-.879 1.793Z"></path>
</svg>
</template>

<template id="code-square-icon">
  <svg aria-hidden="true" height="16" viewBox="0 0 16 16" version="1.1" width="16" data-view-component="true" class="octicon octicon-code-square">
    <path d="M0 1.75C0 .784.784 0 1.75 0h12.5C15.216 0 16 .784 16 1.75v12.5A1.75 1.75 0 0 1 14.25 16H1.75A1.75 1.75 0 0 1 0 14.25Zm1.75-.25a.25.25 0 0 0-.25.25v12.5c0 .138.112.25.25.25h12.5a.25.25 0 0 0 .25-.25V1.75a.25.25 0 0 0-.25-.25Zm7.47 3.97a.75.75 0 0 1 1.06 0l2 2a.75.75 0 0 1 0 1.06l-2 2a.749.749 0 0 1-1.275-.326.749.749 0 0 1 .215-.734L10.69 8 9.22 6.53a.75.75 0 0 1 0-1.06ZM6.78 6.53 5.31 8l1.47 1.47a.749.749 0 0 1-.326 1.275.749.749 0 0 1-.734-.215l-2-2a.75.75 0 0 1 0-1.06l2-2a.751.751 0 0 1 1.042.018.751.751 0 0 1 .018 1.042Z"></path>
</svg>
</template>

<template id="device-desktop-icon">
  <svg aria-hidden="true" height="16" viewBox="0 0 16 16" version="1.1" width="16" data-view-component="true" class="octicon octicon-device-desktop">
    <path d="M14.25 1c.966 0 1.75.784 1.75 1.75v7.5A1.75 1.75 0 0 1 14.25 12h-3.727c.099 1.041.52 1.872 1.292 2.757A.752.752 0 0 1 11.25 16h-6.5a.75.75 0 0 1-.565-1.243c.772-.885 1.192-1.716 1.292-2.757H1.75A1.75 1.75 0 0 1 0 10.25v-7.5C0 1.784.784 1 1.75 1ZM1.75 2.5a.25.25 0 0 0-.25.25v7.5c0 .138.112.25.25.25h12.5a.25.25 0 0 0 .25-.25v-7.5a.25.25 0 0 0-.25-.25ZM9.018 12H6.982a5.72 5.72 0 0 1-.765 2.5h3.566a5.72 5.72 0 0 1-.765-2.5Z"></path>
</svg>
</template>

        <div class="position-relative">
                <ul
                  role="listbox"
                  class="ActionListWrap QueryBuilder-ListWrap"
                  aria-label="Suggestions"
                  data-action="
                    combobox-commit:query-builder#comboboxCommit
                    mousedown:query-builder#resultsMousedown
                  "
                  data-target="query-builder.resultsList"
                  data-persist-list=false
                  id="query-builder-test-results"
                ></ul>
        </div>
      <div class="FormControl-inlineValidation" id="validation-80ca6e07-65bb-4ac5-aac3-d8a07fbd6358" hidden="hidden">
        <span class="FormControl-inlineValidation--visual">
          <svg aria-hidden="true" height="12" viewBox="0 0 12 12" version="1.1" width="12" data-view-component="true" class="octicon octicon-alert-fill">
    <path d="M4.855.708c.5-.896 1.79-.896 2.29 0l4.675 8.351a1.312 1.312 0 0 1-1.146 1.954H1.33A1.313 1.313 0 0 1 .183 9.058ZM7 7V3H5v4Zm-1 3a1 1 0 1 0 0-2 1 1 0 0 0 0 2Z"></path>
</svg>
        </span>
        <span></span>
</div>    </div>
    <div data-target="query-builder.screenReaderFeedback" aria-live="polite" aria-atomic="true" class="sr-only"></div>
</query-builder></form>
          <div class="d-flex flex-row color-fg-muted px-3 text-small color-bg-default search-feedback-prompt">
            <a target="_blank" href="https://docs.github.com/search-github/github-code-search/understanding-github-code-search-syntax" data-view-component="true" class="Link color-fg-accent text-normal ml-2">Search syntax tips</a>            <div class="d-flex flex-1"></div>
              <button data-action="click:qbsearch-input#showFeedbackDialog" type="button" data-view-component="true" class="Button--link Button--medium Button color-fg-accent text-normal ml-2">  <span class="Button-content">
    <span class="Button-label">Give feedback</span>
  </span>
</button>
          </div>
        </div>
</div>

    </div>
</modal-dialog></div>
  </div>
  <div data-action="click:qbsearch-input#retract" class="dark-backdrop position-fixed" hidden data-target="qbsearch-input.darkBackdrop"></div>
  <div class="color-fg-default">
    
<dialog-helper>
  <dialog data-target="qbsearch-input.feedbackDialog" data-action="close:qbsearch-input#handleDialogClose cancel:qbsearch-input#handleDialogClose" id="feedback-dialog" aria-modal="true" aria-labelledby="feedback-dialog-title" aria-describedby="feedback-dialog-description" data-view-component="true" class="Overlay Overlay-whenNarrow Overlay--size-medium Overlay--motion-scaleFade Overlay--disableScroll">
    <div data-view-component="true" class="Overlay-header">
  <div class="Overlay-headerContentWrap">
    <div class="Overlay-titleWrap">
      <h1 class="Overlay-title " id="feedback-dialog-title">
        Provide feedback
      </h1>
        
    </div>
    <div class="Overlay-actionWrap">
      <button data-close-dialog-id="feedback-dialog" aria-label="Close" type="button" data-view-component="true" class="close-button Overlay-closeButton"><svg aria-hidden="true" height="16" viewBox="0 0 16 16" version="1.1" width="16" data-view-component="true" class="octicon octicon-x">
    <path d="M3.72 3.72a.75.75 0 0 1 1.06 0L8 6.94l3.22-3.22a.749.749 0 0 1 1.275.326.749.749 0 0 1-.215.734L9.06 8l3.22 3.22a.749.749 0 0 1-.326 1.275.749.749 0 0 1-.734-.215L8 9.06l-3.22 3.22a.751.751 0 0 1-1.042-.018.751.751 0 0 1-.018-1.042L6.94 8 3.72 4.78a.75.75 0 0 1 0-1.06Z"></path>
</svg></button>
    </div>
  </div>
  
</div>
      <scrollable-region data-labelled-by="feedback-dialog-title">
        <div data-view-component="true" class="Overlay-body">        <!-- '"` --><!-- </textarea></xmp> --></option></form><form id="code-search-feedback-form" data-turbo="false" action="/search/feedback" accept-charset="UTF-8" method="post"><input type="hidden" name="authenticity_token" value="SB_Yik1RdyZZeXFWTOY5hmYX2XVy9hOl-OGNXD94LLqzHqqmZmjmTeEzE3t0vkBf7UP9Zg7QjbEZLoqK0MKv2w" />
          <p>We read every piece of feedback, and take your input very seriously.</p>
          <textarea name="feedback" class="form-control width-full mb-2" style="height: 120px" id="feedback"></textarea>
          <input name="include_email" id="include_email" aria-label="Include my email address so I can be contacted" class="form-control mr-2" type="checkbox">
          <label for="include_email" style="font-weight: normal">Include my email address so I can be contacted</label>
</form></div>
      </scrollable-region>
      <div data-view-component="true" class="Overlay-footer Overlay-footer--alignEnd">          <button data-close-dialog-id="feedback-dialog" type="button" data-view-component="true" class="btn">    Cancel
</button>
          <button form="code-search-feedback-form" data-action="click:qbsearch-input#submitFeedback" type="submit" data-view-component="true" class="btn-primary btn">    Submit feedback
</button>
</div>
</dialog></dialog-helper>

    <custom-scopes data-target="qbsearch-input.customScopesManager">
    
<dialog-helper>
  <dialog data-target="custom-scopes.customScopesModalDialog" data-action="close:qbsearch-input#handleDialogClose cancel:qbsearch-input#handleDialogClose" id="custom-scopes-dialog" aria-modal="true" aria-labelledby="custom-scopes-dialog-title" aria-describedby="custom-scopes-dialog-description" data-view-component="true" class="Overlay Overlay-whenNarrow Overlay--size-medium Overlay--motion-scaleFade Overlay--disableScroll">
    <div data-view-component="true" class="Overlay-header Overlay-header--divided">
  <div class="Overlay-headerContentWrap">
    <div class="Overlay-titleWrap">
      <h1 class="Overlay-title " id="custom-scopes-dialog-title">
        Saved searches
      </h1>
        <h2 id="custom-scopes-dialog-description" class="Overlay-description">Use saved searches to filter your results more quickly</h2>
    </div>
    <div class="Overlay-actionWrap">
      <button data-close-dialog-id="custom-scopes-dialog" aria-label="Close" type="button" data-view-component="true" class="close-button Overlay-closeButton"><svg aria-hidden="true" height="16" viewBox="0 0 16 16" version="1.1" width="16" data-view-component="true" class="octicon octicon-x">
    <path d="M3.72 3.72a.75.75 0 0 1 1.06 0L8 6.94l3.22-3.22a.749.749 0 0 1 1.275.326.749.749 0 0 1-.215.734L9.06 8l3.22 3.22a.749.749 0 0 1-.326 1.275.749.749 0 0 1-.734-.215L8 9.06l-3.22 3.22a.751.751 0 0 1-1.042-.018.751.751 0 0 1-.018-1.042L6.94 8 3.72 4.78a.75.75 0 0 1 0-1.06Z"></path>
</svg></button>
    </div>
  </div>
  
</div>
      <scrollable-region data-labelled-by="custom-scopes-dialog-title">
        <div data-view-component="true" class="Overlay-body">        <div data-target="custom-scopes.customScopesModalDialogFlash"></div>

        <div hidden class="create-custom-scope-form" data-target="custom-scopes.createCustomScopeForm">
        <!-- '"` --><!-- </textarea></xmp> --></option></form><form id="custom-scopes-dialog-form" data-turbo="false" action="/search/custom_scopes" accept-charset="UTF-8" method="post"><input type="hidden" name="authenticity_token" value="gVRoFUFO7XvY8-fvySDPznuc8XZ2TJEoOTCD0lYzV_0y-4JwbEZyjuhW0Mi_Yzk9Ytt5qB3A7QE1Iu3hF_WbHw" />
          <div data-target="custom-scopes.customScopesModalDialogFlash"></div>

          <input type="hidden" id="custom_scope_id" name="custom_scope_id" data-target="custom-scopes.customScopesIdField">

          <div class="form-group">
            <label for="custom_scope_name">Name</label>
            <auto-check src="/search/custom_scopes/check_name" required only-validate-on-blur="false">
              <input
                type="text"
                name="custom_scope_name"
                id="custom_scope_name"
                data-target="custom-scopes.customScopesNameField"
                class="form-control"
                autocomplete="off"
                placeholder="github-ruby"
                required
                maxlength="50">
              <input type="hidden" value="jmc447OUMCDn7qxJ-H5FOwpZkAoHY73sUz5F7UluXRrYviruUlZkrdZSH_14PlQjWE6m8ASiFIhwXkRVvVYdAA" data-csrf="true" />
            </auto-check>
          </div>

          <div class="form-group">
            <label for="custom_scope_query">Query</label>
            <input
              type="text"
              name="custom_scope_query"
              id="custom_scope_query"
              data-target="custom-scopes.customScopesQueryField"
              class="form-control"
              autocomplete="off"
              placeholder="(repo:mona/a OR repo:mona/b) AND lang:python"
              required
              maxlength="500">
          </div>

          <p class="text-small color-fg-muted">
            To see all available qualifiers, see our <a class="Link--inTextBlock" href="https://docs.github.com/search-github/github-code-search/understanding-github-code-search-syntax">documentation</a>.
          </p>
</form>        </div>

        <div data-target="custom-scopes.manageCustomScopesForm">
          <div data-target="custom-scopes.list"></div>
        </div>

</div>
      </scrollable-region>
      <div data-view-component="true" class="Overlay-footer Overlay-footer--alignEnd Overlay-footer--divided">          <button data-action="click:custom-scopes#customScopesCancel" type="button" data-view-component="true" class="btn">    Cancel
</button>
          <button form="custom-scopes-dialog-form" data-action="click:custom-scopes#customScopesSubmit" data-target="custom-scopes.customScopesSubmitButton" type="submit" data-view-component="true" class="btn-primary btn">    Create saved search
</button>
</div>
</dialog></dialog-helper>
    </custom-scopes>
  </div>
</qbsearch-input>  <input type="hidden" value="qQnj5KxTV-X9bTopaJxeP4CFkvlvbwo16JKRAnHtSqQfTfQ0ljhUDpBwK7yDMCqtWQX_6lhqMCbhS_L5-roxaQ" data-csrf="true" class="js-data-jump-to-suggestions-path-csrf" />


          </div>

        
          <div class="AppHeader-CopilotChat">
    <react-partial-anchor>
      <button id="copilot-chat-header-button" data-target="react-partial-anchor.anchor" data-hotkey="Shift+C" aria-expanded="false" aria-controls="copilot-chat-panel" aria-labelledby="tooltip-89461c67-c4be-4fdc-8dde-bef2fd7fb40a" type="button" disabled="disabled" data-view-component="true" class="Button Button--iconOnly Button--secondary Button--medium AppHeader-button AppHeader-buttonLeft cursor-wait">  <svg aria-hidden="true" height="16" viewBox="0 0 16 16" version="1.1" width="16" data-view-component="true" class="octicon octicon-copilot Button-visual">
    <path d="M7.998 15.035c-4.562 0-7.873-2.914-7.998-3.749V9.338c.085-.628.677-1.686 1.588-2.065.013-.07.024-.143.036-.218.029-.183.06-.384.126-.612-.201-.508-.254-1.084-.254-1.656 0-.87.128-1.769.693-2.484.579-.733 1.494-1.124 2.724-1.261 1.206-.134 2.262.034 2.944.765.05.053.096.108.139.165.044-.057.094-.112.143-.165.682-.731 1.738-.899 2.944-.765 1.23.137 2.145.528 2.724 1.261.566.715.693 1.614.693 2.484 0 .572-.053 1.148-.254 1.656.066.228.098.429.126.612.012.076.024.148.037.218.924.385 1.522 1.471 1.591 2.095v1.872c0 .766-3.351 3.795-8.002 3.795Zm0-1.485c2.28 0 4.584-1.11 5.002-1.433V7.862l-.023-.116c-.49.21-1.075.291-1.727.291-1.146 0-2.059-.327-2.71-.991A3.222 3.222 0 0 1 8 6.303a3.24 3.24 0 0 1-.544.743c-.65.664-1.563.991-2.71.991-.652 0-1.236-.081-1.727-.291l-.023.116v4.255c.419.323 2.722 1.433 5.002 1.433ZM6.762 2.83c-.193-.206-.637-.413-1.682-.297-1.019.113-1.479.404-1.713.7-.247.312-.369.789-.369 1.554 0 .793.129 1.171.308 1.371.162.181.519.379 1.442.379.853 0 1.339-.235 1.638-.54.315-.322.527-.827.617-1.553.117-.935-.037-1.395-.241-1.614Zm4.155-.297c-1.044-.116-1.488.091-1.681.297-.204.219-.359.679-.242 1.614.091.726.303 1.231.618 1.553.299.305.784.54 1.638.54.922 0 1.28-.198 1.442-.379.179-.2.308-.578.308-1.371 0-.765-.123-1.242-.37-1.554-.233-.296-.693-.587-1.713-.7Z"></path><path d="M6.25 9.037a.75.75 0 0 1 .75.75v1.501a.75.75 0 0 1-1.5 0V9.787a.75.75 0 0 1 .75-.75Zm4.25.75v1.501a.75.75 0 0 1-1.5 0V9.787a.75.75 0 0 1 1.5 0Z"></path>
</svg>
</button><tool-tip id="tooltip-89461c67-c4be-4fdc-8dde-bef2fd7fb40a" for="copilot-chat-header-button" popover="manual" data-direction="s" data-type="label" data-view-component="true" class="sr-only position-absolute">Chat with Copilot</tool-tip>

      <template data-target="react-partial-anchor.template">
        <script crossorigin="anonymous" defer="defer" type="application/javascript" src="https://github.githubassets.com/assets/vendors-node_modules_react-relay_index_js-3e4c69718bad.js"></script>
<script crossorigin="anonymous" defer="defer" type="application/javascript" src="https://github.githubassets.com/assets/vendors-node_modules_tanstack_query-core_build_modern_queryObserver_js-node_modules_tanstack_-defd52-843b41414e0e.js"></script>
<script crossorigin="anonymous" defer="defer" type="application/javascript" src="https://github.githubassets.com/assets/vendors-node_modules_remark-gfm_lib_index_js-node_modules_remark-parse_lib_index_js-node_modu-44d0fc-3771aaaad894.js"></script>
<script crossorigin="anonymous" defer="defer" type="application/javascript" src="https://github.githubassets.com/assets/vendors-node_modules_highlight_js_lib_index_js-node_modules_tanstack_react-query_build_modern-d366b9-2c1e69100f68.js"></script>
<script crossorigin="anonymous" defer="defer" type="application/javascript" src="https://github.githubassets.com/assets/vendors-node_modules_github_mini-throttle_dist_decorators_js-node_modules_accname_dist_access-b37425-35bd8d94d981.js"></script>
<script crossorigin="anonymous" defer="defer" type="application/javascript" src="https://github.githubassets.com/assets/vendors-node_modules_github_combobox-nav_dist_index_js-node_modules_github_hotkey_dist_index_-de17ed-2edeb068af78.js"></script>
<script crossorigin="anonymous" defer="defer" type="application/javascript" src="https://github.githubassets.com/assets/ui_packages_item-picker_constants_labels_ts-ui_packages_item-picker_constants_values_ts-ui_pa-163a9a-5949c2b63962.js"></script>
<script crossorigin="anonymous" defer="defer" type="application/javascript" src="https://github.githubassets.com/assets/ui_packages_item-picker_components_RepositoryPicker_tsx-1c8608c736a7.js"></script>
<script crossorigin="anonymous" defer="defer" type="application/javascript" src="https://github.githubassets.com/assets/ui_packages_copy-to-clipboard_CopyToClipboardButton_tsx-ui_packages_inline-autocomplete_Inlin-d7b165-b871eee9ce66.js"></script>
<script crossorigin="anonymous" defer="defer" type="application/javascript" src="https://github.githubassets.com/assets/ui_packages_copilot-chat_utils_copilot-chat-helpers_ts-b0b6c4f61485.js"></script>
<script crossorigin="anonymous" defer="defer" type="application/javascript" src="https://github.githubassets.com/assets/ui_packages_copilot-chat_utils_copilot-local-storage_ts-ui_packages_hydro-analytics_hydro-ana-74ad7c-2b11d1454c7f.js"></script>
<script crossorigin="anonymous" defer="defer" type="application/javascript" src="https://github.githubassets.com/assets/ui_packages_copilot-chat_utils_copilot-chat-hooks_ts-ui_packages_issue-viewer_utils_queries_ts-ebf989283b64.js"></script>
<script crossorigin="anonymous" defer="defer" type="application/javascript" src="https://github.githubassets.com/assets/ui_packages_test-id-props_test-id-props_ts-ui_packages_copilot-markdown_MarkdownRenderer_tsx--f736ee-c88d237d0d66.js"></script>
<script crossorigin="anonymous" defer="defer" type="application/javascript" src="https://github.githubassets.com/assets/copilot-chat-5f1e763f96f2.js"></script>
<link crossorigin="anonymous" media="all" rel="stylesheet" href="https://github.githubassets.com/assets/primer-react.5a0ffaf77c0db0d0dac2.module.css" />
<link crossorigin="anonymous" media="all" rel="stylesheet" href="https://github.githubassets.com/assets/copilot-chat.7fb585fda39f1e8958ff.module.css" />
        <link crossorigin="anonymous" media="all" rel="stylesheet" href="https://github.githubassets.com/assets/copilot-markdown-rendering-f6845e8f5d6b.css" />
        <include-fragment src="/github-copilot/chat?skip_anchor=true"></include-fragment>
      </template>
    </react-partial-anchor>
    <react-partial-anchor>
      <button id="global-copilot-menu-button" data-target="react-partial-anchor.anchor" aria-expanded="false" aria-labelledby="tooltip-47f6b7dd-54a2-48b5-b1b4-8af87721504a" type="button" data-view-component="true" class="Button Button--iconOnly Button--secondary Button--medium AppHeader-button AppHeader-buttonRight">  <svg aria-hidden="true" height="16" viewBox="0 0 16 16" version="1.1" width="16" data-view-component="true" class="octicon octicon-triangle-down Button-visual">
    <path d="m4.427 7.427 3.396 3.396a.25.25 0 0 0 .354 0l3.396-3.396A.25.25 0 0 0 11.396 7H4.604a.25.25 0 0 0-.177.427Z"></path>
</svg>
</button><tool-tip id="tooltip-47f6b7dd-54a2-48b5-b1b4-8af87721504a" for="global-copilot-menu-button" popover="manual" data-direction="s" data-type="label" data-view-component="true" class="sr-only position-absolute">Open Copilot…</tool-tip>

      <template data-target="react-partial-anchor.template">
        <script crossorigin="anonymous" defer="defer" type="application/javascript" src="https://github.githubassets.com/assets/global-copilot-menu-856323917965.js"></script>
<link crossorigin="anonymous" media="all" rel="stylesheet" href="https://github.githubassets.com/assets/primer-react.5a0ffaf77c0db0d0dac2.module.css" />

<react-partial
  partial-name="global-copilot-menu"
  data-ssr="false"
  data-attempted-ssr="false"
>
  
  <script type="application/json" data-target="react-partial.embeddedData">{"props":{}}</script>
  <div data-target="react-partial.reactRoot"></div>
</react-partial>

      </template>
    </react-partial-anchor>
</div>


        <div class="AppHeader-actions position-relative">
             <react-partial-anchor>
      <button id="global-create-menu-anchor" aria-label="Create something new" data-target="react-partial-anchor.anchor" type="button" disabled="disabled" data-view-component="true" class="AppHeader-button global-create-button cursor-wait Button--secondary Button--medium Button width-auto color-fg-muted">  <span class="Button-content">
      <span class="Button-visual Button-leadingVisual">
        <svg aria-hidden="true" height="16" viewBox="0 0 16 16" version="1.1" width="16" data-view-component="true" class="octicon octicon-plus">
    <path d="M7.75 2a.75.75 0 0 1 .75.75V7h4.25a.75.75 0 0 1 0 1.5H8.5v4.25a.75.75 0 0 1-1.5 0V8.5H2.75a.75.75 0 0 1 0-1.5H7V2.75A.75.75 0 0 1 7.75 2Z"></path>
</svg>
      </span>
    <span class="Button-label"><svg aria-hidden="true" height="16" viewBox="0 0 16 16" version="1.1" width="16" data-view-component="true" class="octicon octicon-triangle-down">
    <path d="m4.427 7.427 3.396 3.396a.25.25 0 0 0 .354 0l3.396-3.396A.25.25 0 0 0 11.396 7H4.604a.25.25 0 0 0-.177.427Z"></path>
</svg></span>
  </span>
</button><tool-tip id="tooltip-3e63ad73-c78c-45e3-8b45-1d274eb1c332" for="global-create-menu-anchor" popover="manual" data-direction="s" data-type="description" data-view-component="true" class="sr-only position-absolute">Create new...</tool-tip>

      <template data-target="react-partial-anchor.template">
        <script crossorigin="anonymous" defer="defer" type="application/javascript" src="https://github.githubassets.com/assets/ui_packages_promise-with-resolvers-polyfill_promise-with-resolvers-polyfill_ts-ui_packages_re-8d43b0-e796610c5b0c.js"></script>
<script crossorigin="anonymous" defer="defer" type="application/javascript" src="https://github.githubassets.com/assets/global-create-menu-7510a0ee7657.js"></script>
<link crossorigin="anonymous" media="all" rel="stylesheet" href="https://github.githubassets.com/assets/primer-react.5a0ffaf77c0db0d0dac2.module.css" />

<react-partial
  partial-name="global-create-menu"
  data-ssr="false"
  data-attempted-ssr="false"
>
  
  <script type="application/json" data-target="react-partial.embeddedData">{"props":{"createRepo":true,"importRepo":true,"codespaces":true,"gist":true,"createOrg":true,"createProject":false,"createProjectUrl":"/Melodiepo?tab=projects","createLegacyProject":false,"createIssue":false,"org":null,"owner":"sotakao","repo":"ml-seminar-ucl"}}</script>
  <div data-target="react-partial.reactRoot"></div>
</react-partial>

      </template>
    </react-partial-anchor>


          <a href="/issues" data-analytics-event="{&quot;category&quot;:&quot;Global navigation&quot;,&quot;action&quot;:&quot;ISSUES_HEADER&quot;,&quot;label&quot;:null}" id="icon-button-4d0b37a3-1cd4-42ff-9670-37654d4f9e3e" aria-labelledby="tooltip-bbd1cc03-072b-46a6-8392-fcedfb130b67" data-view-component="true" class="Button Button--iconOnly Button--secondary Button--medium AppHeader-button color-fg-muted">  <svg aria-hidden="true" height="16" viewBox="0 0 16 16" version="1.1" width="16" data-view-component="true" class="octicon octicon-issue-opened Button-visual">
    <path d="M8 9.5a1.5 1.5 0 1 0 0-3 1.5 1.5 0 0 0 0 3Z"></path><path d="M8 0a8 8 0 1 1 0 16A8 8 0 0 1 8 0ZM1.5 8a6.5 6.5 0 1 0 13 0 6.5 6.5 0 0 0-13 0Z"></path>
</svg>
</a><tool-tip id="tooltip-bbd1cc03-072b-46a6-8392-fcedfb130b67" for="icon-button-4d0b37a3-1cd4-42ff-9670-37654d4f9e3e" popover="manual" data-direction="s" data-type="label" data-view-component="true" class="sr-only position-absolute">Your issues</tool-tip>

          <a href="/pulls" data-analytics-event="{&quot;category&quot;:&quot;Global navigation&quot;,&quot;action&quot;:&quot;PULL_REQUESTS_HEADER&quot;,&quot;label&quot;:null}" id="icon-button-4ef69e71-10ee-4bed-bdde-7aa950059a02" aria-labelledby="tooltip-a342fb6d-ab9c-421a-8a88-ae9454add31d" data-view-component="true" class="Button Button--iconOnly Button--secondary Button--medium AppHeader-button color-fg-muted">  <svg aria-hidden="true" height="16" viewBox="0 0 16 16" version="1.1" width="16" data-view-component="true" class="octicon octicon-git-pull-request Button-visual">
    <path d="M1.5 3.25a2.25 2.25 0 1 1 3 2.122v5.256a2.251 2.251 0 1 1-1.5 0V5.372A2.25 2.25 0 0 1 1.5 3.25Zm5.677-.177L9.573.677A.25.25 0 0 1 10 .854V2.5h1A2.5 2.5 0 0 1 13.5 5v5.628a2.251 2.251 0 1 1-1.5 0V5a1 1 0 0 0-1-1h-1v1.646a.25.25 0 0 1-.427.177L7.177 3.427a.25.25 0 0 1 0-.354ZM3.75 2.5a.75.75 0 1 0 0 1.5.75.75 0 0 0 0-1.5Zm0 9.5a.75.75 0 1 0 0 1.5.75.75 0 0 0 0-1.5Zm8.25.75a.75.75 0 1 0 1.5 0 .75.75 0 0 0-1.5 0Z"></path>
</svg>
</a><tool-tip id="tooltip-a342fb6d-ab9c-421a-8a88-ae9454add31d" for="icon-button-4ef69e71-10ee-4bed-bdde-7aa950059a02" popover="manual" data-direction="s" data-type="label" data-view-component="true" class="sr-only position-absolute">Your pull requests</tool-tip>

        </div>

        <notification-indicator data-channel="eyJjIjoibm90aWZpY2F0aW9uLWNoYW5nZWQ6MTA3OTI2NDA0IiwidCI6MTczOTgwNzE2MX0=--b98c14b7f5608951580f715f287d4a8c35031fd219df5df58f9cb9aaa7afb0c4" data-indicator-mode="none" data-tooltip-global="You have unread notifications" data-tooltip-unavailable="Notifications are unavailable at the moment." data-tooltip-none="You have no unread notifications" data-header-redesign-enabled="true" data-fetch-indicator-src="/notifications/indicator" data-fetch-indicator-enabled="true" data-view-component="true" class="js-socket-channel">
    <a id="AppHeader-notifications-button" href="/notifications" aria-labelledby="notification-indicator-tooltip" data-hotkey="g n" data-target="notification-indicator.link" data-analytics-event="{&quot;category&quot;:&quot;Global navigation&quot;,&quot;action&quot;:&quot;NOTIFICATIONS_HEADER&quot;,&quot;label&quot;:null}" data-view-component="true" class="Button Button--iconOnly Button--secondary Button--medium AppHeader-button  color-fg-muted">  <svg aria-hidden="true" height="16" viewBox="0 0 16 16" version="1.1" width="16" data-view-component="true" class="octicon octicon-inbox Button-visual">
    <path d="M2.8 2.06A1.75 1.75 0 0 1 4.41 1h7.18c.7 0 1.333.417 1.61 1.06l2.74 6.395c.04.093.06.194.06.295v4.5A1.75 1.75 0 0 1 14.25 15H1.75A1.75 1.75 0 0 1 0 13.25v-4.5c0-.101.02-.202.06-.295Zm1.61.44a.25.25 0 0 0-.23.152L1.887 8H4.75a.75.75 0 0 1 .6.3L6.625 10h2.75l1.275-1.7a.75.75 0 0 1 .6-.3h2.863L11.82 2.652a.25.25 0 0 0-.23-.152Zm10.09 7h-2.875l-1.275 1.7a.75.75 0 0 1-.6.3h-3.5a.75.75 0 0 1-.6-.3L4.375 9.5H1.5v3.75c0 .138.112.25.25.25h12.5a.25.25 0 0 0 .25-.25Z"></path>
</svg>
</a>

    <tool-tip id="notification-indicator-tooltip" data-target="notification-indicator.tooltip" for="AppHeader-notifications-button" popover="manual" data-direction="s" data-type="label" data-view-component="true" class="sr-only position-absolute">Notifications</tool-tip>
</notification-indicator>

        <div class="AppHeader-user">
          <deferred-side-panel data-url="/_side-panels/user?repository_id=575043919">
  <include-fragment data-target="deferred-side-panel.fragment">
    <react-partial-anchor
  
>
  <button data-target="react-partial-anchor.anchor" data-login="Melodiepo" aria-label="Open user navigation menu" type="button" data-view-component="true" class="cursor-wait Button--invisible Button--medium Button Button--invisible-noVisuals color-bg-transparent p-0">  <span class="Button-content">
    <span class="Button-label"><img src="https://avatars.githubusercontent.com/u/107926404?v=4" alt="" size="32" height="32" width="32" data-view-component="true" class="avatar circle" /></span>
  </span>
</button>
  <template data-target="react-partial-anchor.template">
    <script crossorigin="anonymous" defer="defer" type="application/javascript" src="https://github.githubassets.com/assets/global-user-nav-drawer-558783552913.js"></script>
<link crossorigin="anonymous" media="all" rel="stylesheet" href="https://github.githubassets.com/assets/primer-react.5a0ffaf77c0db0d0dac2.module.css" />
<link crossorigin="anonymous" media="all" rel="stylesheet" href="https://github.githubassets.com/assets/global-user-nav-drawer.830d6c10c9fea7fc134e.module.css" />

<react-partial
  partial-name="global-user-nav-drawer"
  data-ssr="false"
  data-attempted-ssr="false"
>
  
  <script type="application/json" data-target="react-partial.embeddedData">{"props":{"owner":{"login":"Melodiepo","name":"Melodie Li","avatarUrl":"https://avatars.githubusercontent.com/u/107926404?v=4"},"drawerId":"global-user-nav-drawer","lazyLoadItemDataFetchUrl":"/_side-panels/user.json","canAddAccount":true,"addAccountPath":"/login?add_account=1\u0026return_to=https%3A%2F%2Fgithub.com%2Fsotakao%2Fml-seminar-ucl%2Fblob%2Fmain%2FNotebooks%2Floopy_example.ipynb","switchAccountPath":"/switch_account","loginAccountPath":"/login?add_account=1","projectsPath":"/Melodiepo?tab=projects","gistsUrl":"https://gist.github.com/mine","docsUrl":"https://docs.github.com","yourEnterpriseUrl":null,"enterpriseSettingsUrl":null,"supportUrl":"https://support.github.com","showAccountSwitcher":true,"showCopilot":true,"showEnterprises":true,"showEnterprise":false,"showGists":true,"showOrganizations":true,"showSponsors":true,"showUpgrade":true,"showFeaturesPreviews":true,"showEnterpriseSettings":false,"createMenuProps":{"createRepo":true,"importRepo":true,"codespaces":true,"gist":true,"createOrg":true,"createProject":false,"createProjectUrl":"/Melodiepo?tab=projects","createLegacyProject":false,"createIssue":false,"org":null,"owner":"sotakao","repo":"ml-seminar-ucl"}}}</script>
  <div data-target="react-partial.reactRoot"></div>
</react-partial>

  </template>
</react-partial-anchor>

  </include-fragment>
</deferred-side-panel>
        </div>

        <div class="position-absolute mt-2">
            
<site-header-logged-in-user-menu>

</site-header-logged-in-user-menu>

        </div>
      </div>
    </div>


    
        <div class="AppHeader-localBar" >
          <nav data-pjax="#js-repo-pjax-container" aria-label="Repository" data-view-component="true" class="js-repo-nav js-sidenav-container-pjax js-responsive-underlinenav overflow-hidden UnderlineNav">

  <ul data-view-component="true" class="UnderlineNav-body list-style-none">
      <li data-view-component="true" class="d-inline-flex">
  <a id="code-tab" href="/sotakao/ml-seminar-ucl" data-tab-item="i0code-tab" data-selected-links="repo_source repo_downloads repo_commits repo_releases repo_tags repo_branches repo_packages repo_deployments repo_attestations /sotakao/ml-seminar-ucl" data-pjax="#repo-content-pjax-container" data-turbo-frame="repo-content-turbo-frame" data-hotkey="g c" data-analytics-event="{&quot;category&quot;:&quot;Underline navbar&quot;,&quot;action&quot;:&quot;Click tab&quot;,&quot;label&quot;:&quot;Code&quot;,&quot;target&quot;:&quot;UNDERLINE_NAV.TAB&quot;}" data-view-component="true" class="UnderlineNav-item no-wrap js-responsive-underlinenav-item js-selected-navigation-item">
    
              <svg aria-hidden="true" height="16" viewBox="0 0 16 16" version="1.1" width="16" data-view-component="true" class="octicon octicon-code UnderlineNav-octicon d-none d-sm-inline">
    <path d="m11.28 3.22 4.25 4.25a.75.75 0 0 1 0 1.06l-4.25 4.25a.749.749 0 0 1-1.275-.326.749.749 0 0 1 .215-.734L13.94 8l-3.72-3.72a.749.749 0 0 1 .326-1.275.749.749 0 0 1 .734.215Zm-6.56 0a.751.751 0 0 1 1.042.018.751.751 0 0 1 .018 1.042L2.06 8l3.72 3.72a.749.749 0 0 1-.326 1.275.749.749 0 0 1-.734-.215L.47 8.53a.75.75 0 0 1 0-1.06Z"></path>
</svg>
        <span data-content="Code">Code</span>
          <span id="code-repo-tab-count" data-pjax-replace="" data-turbo-replace="" title="Not available" data-view-component="true" class="Counter"></span>


    
</a></li>
      <li data-view-component="true" class="d-inline-flex">
  <a id="issues-tab" href="/sotakao/ml-seminar-ucl/issues" data-tab-item="i1issues-tab" data-selected-links="repo_issues repo_labels repo_milestones /sotakao/ml-seminar-ucl/issues" data-pjax="#repo-content-pjax-container" data-turbo-frame="repo-content-turbo-frame" data-hotkey="g i" data-analytics-event="{&quot;category&quot;:&quot;Underline navbar&quot;,&quot;action&quot;:&quot;Click tab&quot;,&quot;label&quot;:&quot;Issues&quot;,&quot;target&quot;:&quot;UNDERLINE_NAV.TAB&quot;}" data-view-component="true" class="UnderlineNav-item no-wrap js-responsive-underlinenav-item js-selected-navigation-item">
    
              <svg aria-hidden="true" height="16" viewBox="0 0 16 16" version="1.1" width="16" data-view-component="true" class="octicon octicon-issue-opened UnderlineNav-octicon d-none d-sm-inline">
    <path d="M8 9.5a1.5 1.5 0 1 0 0-3 1.5 1.5 0 0 0 0 3Z"></path><path d="M8 0a8 8 0 1 1 0 16A8 8 0 0 1 8 0ZM1.5 8a6.5 6.5 0 1 0 13 0 6.5 6.5 0 0 0-13 0Z"></path>
</svg>
        <span data-content="Issues">Issues</span>
          <span id="issues-repo-tab-count" data-pjax-replace="" data-turbo-replace="" title="0" hidden="hidden" data-view-component="true" class="Counter">0</span>


    
</a></li>
      <li data-view-component="true" class="d-inline-flex">
  <a id="pull-requests-tab" href="/sotakao/ml-seminar-ucl/pulls" data-tab-item="i2pull-requests-tab" data-selected-links="repo_pulls checks /sotakao/ml-seminar-ucl/pulls" data-pjax="#repo-content-pjax-container" data-turbo-frame="repo-content-turbo-frame" data-hotkey="g p" data-analytics-event="{&quot;category&quot;:&quot;Underline navbar&quot;,&quot;action&quot;:&quot;Click tab&quot;,&quot;label&quot;:&quot;Pull requests&quot;,&quot;target&quot;:&quot;UNDERLINE_NAV.TAB&quot;}" data-view-component="true" class="UnderlineNav-item no-wrap js-responsive-underlinenav-item js-selected-navigation-item">
    
              <svg aria-hidden="true" height="16" viewBox="0 0 16 16" version="1.1" width="16" data-view-component="true" class="octicon octicon-git-pull-request UnderlineNav-octicon d-none d-sm-inline">
    <path d="M1.5 3.25a2.25 2.25 0 1 1 3 2.122v5.256a2.251 2.251 0 1 1-1.5 0V5.372A2.25 2.25 0 0 1 1.5 3.25Zm5.677-.177L9.573.677A.25.25 0 0 1 10 .854V2.5h1A2.5 2.5 0 0 1 13.5 5v5.628a2.251 2.251 0 1 1-1.5 0V5a1 1 0 0 0-1-1h-1v1.646a.25.25 0 0 1-.427.177L7.177 3.427a.25.25 0 0 1 0-.354ZM3.75 2.5a.75.75 0 1 0 0 1.5.75.75 0 0 0 0-1.5Zm0 9.5a.75.75 0 1 0 0 1.5.75.75 0 0 0 0-1.5Zm8.25.75a.75.75 0 1 0 1.5 0 .75.75 0 0 0-1.5 0Z"></path>
</svg>
        <span data-content="Pull requests">Pull requests</span>
          <span id="pull-requests-repo-tab-count" data-pjax-replace="" data-turbo-replace="" title="0" hidden="hidden" data-view-component="true" class="Counter">0</span>


    
</a></li>
      <li data-view-component="true" class="d-inline-flex">
  <a id="actions-tab" href="/sotakao/ml-seminar-ucl/actions" data-tab-item="i3actions-tab" data-selected-links="repo_actions /sotakao/ml-seminar-ucl/actions" data-pjax="#repo-content-pjax-container" data-turbo-frame="repo-content-turbo-frame" data-hotkey="g a" data-analytics-event="{&quot;category&quot;:&quot;Underline navbar&quot;,&quot;action&quot;:&quot;Click tab&quot;,&quot;label&quot;:&quot;Actions&quot;,&quot;target&quot;:&quot;UNDERLINE_NAV.TAB&quot;}" data-view-component="true" class="UnderlineNav-item no-wrap js-responsive-underlinenav-item js-selected-navigation-item">
    
              <svg aria-hidden="true" height="16" viewBox="0 0 16 16" version="1.1" width="16" data-view-component="true" class="octicon octicon-play UnderlineNav-octicon d-none d-sm-inline">
    <path d="M8 0a8 8 0 1 1 0 16A8 8 0 0 1 8 0ZM1.5 8a6.5 6.5 0 1 0 13 0 6.5 6.5 0 0 0-13 0Zm4.879-2.773 4.264 2.559a.25.25 0 0 1 0 .428l-4.264 2.559A.25.25 0 0 1 6 10.559V5.442a.25.25 0 0 1 .379-.215Z"></path>
</svg>
        <span data-content="Actions">Actions</span>
          <span id="actions-repo-tab-count" data-pjax-replace="" data-turbo-replace="" title="Not available" data-view-component="true" class="Counter"></span>


    
</a></li>
      <li data-view-component="true" class="d-inline-flex">
  <a id="projects-tab" href="/sotakao/ml-seminar-ucl/projects" data-tab-item="i4projects-tab" data-selected-links="repo_projects new_repo_project repo_project /sotakao/ml-seminar-ucl/projects" data-pjax="#repo-content-pjax-container" data-turbo-frame="repo-content-turbo-frame" data-hotkey="g b" data-analytics-event="{&quot;category&quot;:&quot;Underline navbar&quot;,&quot;action&quot;:&quot;Click tab&quot;,&quot;label&quot;:&quot;Projects&quot;,&quot;target&quot;:&quot;UNDERLINE_NAV.TAB&quot;}" data-view-component="true" class="UnderlineNav-item no-wrap js-responsive-underlinenav-item js-selected-navigation-item">
    
              <svg aria-hidden="true" height="16" viewBox="0 0 16 16" version="1.1" width="16" data-view-component="true" class="octicon octicon-table UnderlineNav-octicon d-none d-sm-inline">
    <path d="M0 1.75C0 .784.784 0 1.75 0h12.5C15.216 0 16 .784 16 1.75v12.5A1.75 1.75 0 0 1 14.25 16H1.75A1.75 1.75 0 0 1 0 14.25ZM6.5 6.5v8h7.75a.25.25 0 0 0 .25-.25V6.5Zm8-1.5V1.75a.25.25 0 0 0-.25-.25H6.5V5Zm-13 1.5v7.75c0 .138.112.25.25.25H5v-8ZM5 5V1.5H1.75a.25.25 0 0 0-.25.25V5Z"></path>
</svg>
        <span data-content="Projects">Projects</span>
          <span id="projects-repo-tab-count" data-pjax-replace="" data-turbo-replace="" title="0" hidden="hidden" data-view-component="true" class="Counter">0</span>


    
</a></li>
      <li data-view-component="true" class="d-inline-flex">
  <a id="security-tab" href="/sotakao/ml-seminar-ucl/security" data-tab-item="i5security-tab" data-selected-links="security overview alerts policy token_scanning code_scanning /sotakao/ml-seminar-ucl/security" data-pjax="#repo-content-pjax-container" data-turbo-frame="repo-content-turbo-frame" data-hotkey="g s" data-analytics-event="{&quot;category&quot;:&quot;Underline navbar&quot;,&quot;action&quot;:&quot;Click tab&quot;,&quot;label&quot;:&quot;Security&quot;,&quot;target&quot;:&quot;UNDERLINE_NAV.TAB&quot;}" data-view-component="true" class="UnderlineNav-item no-wrap js-responsive-underlinenav-item js-selected-navigation-item">
    
              <svg aria-hidden="true" height="16" viewBox="0 0 16 16" version="1.1" width="16" data-view-component="true" class="octicon octicon-shield UnderlineNav-octicon d-none d-sm-inline">
    <path d="M7.467.133a1.748 1.748 0 0 1 1.066 0l5.25 1.68A1.75 1.75 0 0 1 15 3.48V7c0 1.566-.32 3.182-1.303 4.682-.983 1.498-2.585 2.813-5.032 3.855a1.697 1.697 0 0 1-1.33 0c-2.447-1.042-4.049-2.357-5.032-3.855C1.32 10.182 1 8.566 1 7V3.48a1.75 1.75 0 0 1 1.217-1.667Zm.61 1.429a.25.25 0 0 0-.153 0l-5.25 1.68a.25.25 0 0 0-.174.238V7c0 1.358.275 2.666 1.057 3.86.784 1.194 2.121 2.34 4.366 3.297a.196.196 0 0 0 .154 0c2.245-.956 3.582-2.104 4.366-3.298C13.225 9.666 13.5 8.36 13.5 7V3.48a.251.251 0 0 0-.174-.237l-5.25-1.68ZM8.75 4.75v3a.75.75 0 0 1-1.5 0v-3a.75.75 0 0 1 1.5 0ZM9 10.5a1 1 0 1 1-2 0 1 1 0 0 1 2 0Z"></path>
</svg>
        <span data-content="Security">Security</span>
          <include-fragment src="/sotakao/ml-seminar-ucl/security/overall-count" accept="text/fragment+html"></include-fragment>

    
</a></li>
      <li data-view-component="true" class="d-inline-flex">
  <a id="insights-tab" href="/sotakao/ml-seminar-ucl/pulse" data-tab-item="i6insights-tab" data-selected-links="repo_graphs repo_contributors dependency_graph dependabot_updates pulse people community /sotakao/ml-seminar-ucl/pulse" data-pjax="#repo-content-pjax-container" data-turbo-frame="repo-content-turbo-frame" data-analytics-event="{&quot;category&quot;:&quot;Underline navbar&quot;,&quot;action&quot;:&quot;Click tab&quot;,&quot;label&quot;:&quot;Insights&quot;,&quot;target&quot;:&quot;UNDERLINE_NAV.TAB&quot;}" data-view-component="true" class="UnderlineNav-item no-wrap js-responsive-underlinenav-item js-selected-navigation-item">
    
              <svg aria-hidden="true" height="16" viewBox="0 0 16 16" version="1.1" width="16" data-view-component="true" class="octicon octicon-graph UnderlineNav-octicon d-none d-sm-inline">
    <path d="M1.5 1.75V13.5h13.75a.75.75 0 0 1 0 1.5H.75a.75.75 0 0 1-.75-.75V1.75a.75.75 0 0 1 1.5 0Zm14.28 2.53-5.25 5.25a.75.75 0 0 1-1.06 0L7 7.06 4.28 9.78a.751.751 0 0 1-1.042-.018.751.751 0 0 1-.018-1.042l3.25-3.25a.75.75 0 0 1 1.06 0L10 7.94l4.72-4.72a.751.751 0 0 1 1.042.018.751.751 0 0 1 .018 1.042Z"></path>
</svg>
        <span data-content="Insights">Insights</span>
          <span id="insights-repo-tab-count" data-pjax-replace="" data-turbo-replace="" title="Not available" data-view-component="true" class="Counter"></span>


    
</a></li>
</ul>
    <div style="visibility:hidden;" data-view-component="true" class="UnderlineNav-actions js-responsive-underlinenav-overflow position-absolute pr-3 pr-md-4 pr-lg-5 right-0">      <action-menu data-select-variant="none" data-view-component="true">
  <focus-group direction="vertical" mnemonics retain>
    <button id="action-menu-a0a3c509-82e0-4ff4-9415-a338ea1dc42a-button" popovertarget="action-menu-a0a3c509-82e0-4ff4-9415-a338ea1dc42a-overlay" aria-controls="action-menu-a0a3c509-82e0-4ff4-9415-a338ea1dc42a-list" aria-haspopup="true" aria-labelledby="tooltip-be148895-8610-48af-8224-dcb114c08ace" type="button" data-view-component="true" class="Button Button--iconOnly Button--secondary Button--medium UnderlineNav-item">  <svg aria-hidden="true" height="16" viewBox="0 0 16 16" version="1.1" width="16" data-view-component="true" class="octicon octicon-kebab-horizontal Button-visual">
    <path d="M8 9a1.5 1.5 0 1 0 0-3 1.5 1.5 0 0 0 0 3ZM1.5 9a1.5 1.5 0 1 0 0-3 1.5 1.5 0 0 0 0 3Zm13 0a1.5 1.5 0 1 0 0-3 1.5 1.5 0 0 0 0 3Z"></path>
</svg>
</button><tool-tip id="tooltip-be148895-8610-48af-8224-dcb114c08ace" for="action-menu-a0a3c509-82e0-4ff4-9415-a338ea1dc42a-button" popover="manual" data-direction="s" data-type="label" data-view-component="true" class="sr-only position-absolute">Additional navigation options</tool-tip>


<anchored-position data-target="action-menu.overlay" id="action-menu-a0a3c509-82e0-4ff4-9415-a338ea1dc42a-overlay" anchor="action-menu-a0a3c509-82e0-4ff4-9415-a338ea1dc42a-button" align="start" side="outside-bottom" anchor-offset="normal" popover="auto" data-view-component="true">
  <div data-view-component="true" class="Overlay Overlay--size-auto">
    
      <div data-view-component="true" class="Overlay-body Overlay-body--paddingNone">          <action-list>
  <div data-view-component="true">
    <ul aria-labelledby="action-menu-a0a3c509-82e0-4ff4-9415-a338ea1dc42a-button" id="action-menu-a0a3c509-82e0-4ff4-9415-a338ea1dc42a-list" role="menu" data-view-component="true" class="ActionListWrap--inset ActionListWrap">
        <li hidden="hidden" data-menu-item="i0code-tab" data-targets="action-list.items" role="none" data-view-component="true" class="ActionListItem">
    
    
    <a tabindex="-1" id="item-7b3bcfab-04f0-4d4f-ac67-f29d14bbc602" href="/sotakao/ml-seminar-ucl" role="menuitem" data-view-component="true" class="ActionListContent ActionListContent--visual16">
        <span class="ActionListItem-visual ActionListItem-visual--leading">
          <svg aria-hidden="true" height="16" viewBox="0 0 16 16" version="1.1" width="16" data-view-component="true" class="octicon octicon-code">
    <path d="m11.28 3.22 4.25 4.25a.75.75 0 0 1 0 1.06l-4.25 4.25a.749.749 0 0 1-1.275-.326.749.749 0 0 1 .215-.734L13.94 8l-3.72-3.72a.749.749 0 0 1 .326-1.275.749.749 0 0 1 .734.215Zm-6.56 0a.751.751 0 0 1 1.042.018.751.751 0 0 1 .018 1.042L2.06 8l3.72 3.72a.749.749 0 0 1-.326 1.275.749.749 0 0 1-.734-.215L.47 8.53a.75.75 0 0 1 0-1.06Z"></path>
</svg>
        </span>
      
        <span data-view-component="true" class="ActionListItem-label">
          Code
</span>      
</a>
  
</li>
        <li hidden="hidden" data-menu-item="i1issues-tab" data-targets="action-list.items" role="none" data-view-component="true" class="ActionListItem">
    
    
    <a tabindex="-1" id="item-45ad455f-f1eb-4b11-974a-22e1d98d4a49" href="/sotakao/ml-seminar-ucl/issues" role="menuitem" data-view-component="true" class="ActionListContent ActionListContent--visual16">
        <span class="ActionListItem-visual ActionListItem-visual--leading">
          <svg aria-hidden="true" height="16" viewBox="0 0 16 16" version="1.1" width="16" data-view-component="true" class="octicon octicon-issue-opened">
    <path d="M8 9.5a1.5 1.5 0 1 0 0-3 1.5 1.5 0 0 0 0 3Z"></path><path d="M8 0a8 8 0 1 1 0 16A8 8 0 0 1 8 0ZM1.5 8a6.5 6.5 0 1 0 13 0 6.5 6.5 0 0 0-13 0Z"></path>
</svg>
        </span>
      
        <span data-view-component="true" class="ActionListItem-label">
          Issues
</span>      
</a>
  
</li>
        <li hidden="hidden" data-menu-item="i2pull-requests-tab" data-targets="action-list.items" role="none" data-view-component="true" class="ActionListItem">
    
    
    <a tabindex="-1" id="item-08297b2b-e8bc-4cd6-b217-9dfcff34440d" href="/sotakao/ml-seminar-ucl/pulls" role="menuitem" data-view-component="true" class="ActionListContent ActionListContent--visual16">
        <span class="ActionListItem-visual ActionListItem-visual--leading">
          <svg aria-hidden="true" height="16" viewBox="0 0 16 16" version="1.1" width="16" data-view-component="true" class="octicon octicon-git-pull-request">
    <path d="M1.5 3.25a2.25 2.25 0 1 1 3 2.122v5.256a2.251 2.251 0 1 1-1.5 0V5.372A2.25 2.25 0 0 1 1.5 3.25Zm5.677-.177L9.573.677A.25.25 0 0 1 10 .854V2.5h1A2.5 2.5 0 0 1 13.5 5v5.628a2.251 2.251 0 1 1-1.5 0V5a1 1 0 0 0-1-1h-1v1.646a.25.25 0 0 1-.427.177L7.177 3.427a.25.25 0 0 1 0-.354ZM3.75 2.5a.75.75 0 1 0 0 1.5.75.75 0 0 0 0-1.5Zm0 9.5a.75.75 0 1 0 0 1.5.75.75 0 0 0 0-1.5Zm8.25.75a.75.75 0 1 0 1.5 0 .75.75 0 0 0-1.5 0Z"></path>
</svg>
        </span>
      
        <span data-view-component="true" class="ActionListItem-label">
          Pull requests
</span>      
</a>
  
</li>
        <li hidden="hidden" data-menu-item="i3actions-tab" data-targets="action-list.items" role="none" data-view-component="true" class="ActionListItem">
    
    
    <a tabindex="-1" id="item-59899483-378c-4d07-8d52-c040537fab89" href="/sotakao/ml-seminar-ucl/actions" role="menuitem" data-view-component="true" class="ActionListContent ActionListContent--visual16">
        <span class="ActionListItem-visual ActionListItem-visual--leading">
          <svg aria-hidden="true" height="16" viewBox="0 0 16 16" version="1.1" width="16" data-view-component="true" class="octicon octicon-play">
    <path d="M8 0a8 8 0 1 1 0 16A8 8 0 0 1 8 0ZM1.5 8a6.5 6.5 0 1 0 13 0 6.5 6.5 0 0 0-13 0Zm4.879-2.773 4.264 2.559a.25.25 0 0 1 0 .428l-4.264 2.559A.25.25 0 0 1 6 10.559V5.442a.25.25 0 0 1 .379-.215Z"></path>
</svg>
        </span>
      
        <span data-view-component="true" class="ActionListItem-label">
          Actions
</span>      
</a>
  
</li>
        <li hidden="hidden" data-menu-item="i4projects-tab" data-targets="action-list.items" role="none" data-view-component="true" class="ActionListItem">
    
    
    <a tabindex="-1" id="item-03b01ee6-136d-4ff5-9bd7-cb6c25bf3d1b" href="/sotakao/ml-seminar-ucl/projects" role="menuitem" data-view-component="true" class="ActionListContent ActionListContent--visual16">
        <span class="ActionListItem-visual ActionListItem-visual--leading">
          <svg aria-hidden="true" height="16" viewBox="0 0 16 16" version="1.1" width="16" data-view-component="true" class="octicon octicon-table">
    <path d="M0 1.75C0 .784.784 0 1.75 0h12.5C15.216 0 16 .784 16 1.75v12.5A1.75 1.75 0 0 1 14.25 16H1.75A1.75 1.75 0 0 1 0 14.25ZM6.5 6.5v8h7.75a.25.25 0 0 0 .25-.25V6.5Zm8-1.5V1.75a.25.25 0 0 0-.25-.25H6.5V5Zm-13 1.5v7.75c0 .138.112.25.25.25H5v-8ZM5 5V1.5H1.75a.25.25 0 0 0-.25.25V5Z"></path>
</svg>
        </span>
      
        <span data-view-component="true" class="ActionListItem-label">
          Projects
</span>      
</a>
  
</li>
        <li hidden="hidden" data-menu-item="i5security-tab" data-targets="action-list.items" role="none" data-view-component="true" class="ActionListItem">
    
    
    <a tabindex="-1" id="item-418ded4c-7170-415a-bf85-188ca82a2ffa" href="/sotakao/ml-seminar-ucl/security" role="menuitem" data-view-component="true" class="ActionListContent ActionListContent--visual16">
        <span class="ActionListItem-visual ActionListItem-visual--leading">
          <svg aria-hidden="true" height="16" viewBox="0 0 16 16" version="1.1" width="16" data-view-component="true" class="octicon octicon-shield">
    <path d="M7.467.133a1.748 1.748 0 0 1 1.066 0l5.25 1.68A1.75 1.75 0 0 1 15 3.48V7c0 1.566-.32 3.182-1.303 4.682-.983 1.498-2.585 2.813-5.032 3.855a1.697 1.697 0 0 1-1.33 0c-2.447-1.042-4.049-2.357-5.032-3.855C1.32 10.182 1 8.566 1 7V3.48a1.75 1.75 0 0 1 1.217-1.667Zm.61 1.429a.25.25 0 0 0-.153 0l-5.25 1.68a.25.25 0 0 0-.174.238V7c0 1.358.275 2.666 1.057 3.86.784 1.194 2.121 2.34 4.366 3.297a.196.196 0 0 0 .154 0c2.245-.956 3.582-2.104 4.366-3.298C13.225 9.666 13.5 8.36 13.5 7V3.48a.251.251 0 0 0-.174-.237l-5.25-1.68ZM8.75 4.75v3a.75.75 0 0 1-1.5 0v-3a.75.75 0 0 1 1.5 0ZM9 10.5a1 1 0 1 1-2 0 1 1 0 0 1 2 0Z"></path>
</svg>
        </span>
      
        <span data-view-component="true" class="ActionListItem-label">
          Security
</span>      
</a>
  
</li>
        <li hidden="hidden" data-menu-item="i6insights-tab" data-targets="action-list.items" role="none" data-view-component="true" class="ActionListItem">
    
    
    <a tabindex="-1" id="item-72265bc9-8f4d-4fee-a2ac-96bb4f2c42e4" href="/sotakao/ml-seminar-ucl/pulse" role="menuitem" data-view-component="true" class="ActionListContent ActionListContent--visual16">
        <span class="ActionListItem-visual ActionListItem-visual--leading">
          <svg aria-hidden="true" height="16" viewBox="0 0 16 16" version="1.1" width="16" data-view-component="true" class="octicon octicon-graph">
    <path d="M1.5 1.75V13.5h13.75a.75.75 0 0 1 0 1.5H.75a.75.75 0 0 1-.75-.75V1.75a.75.75 0 0 1 1.5 0Zm14.28 2.53-5.25 5.25a.75.75 0 0 1-1.06 0L7 7.06 4.28 9.78a.751.751 0 0 1-1.042-.018.751.751 0 0 1-.018-1.042l3.25-3.25a.75.75 0 0 1 1.06 0L10 7.94l4.72-4.72a.751.751 0 0 1 1.042.018.751.751 0 0 1 .018 1.042Z"></path>
</svg>
        </span>
      
        <span data-view-component="true" class="ActionListItem-label">
          Insights
</span>      
</a>
  
</li>
</ul>    
</div></action-list>


</div>
      
</div></anchored-position>  </focus-group>
</action-menu></div>
</nav>
        </div>
</header>


      <div hidden="hidden" data-view-component="true" class="js-stale-session-flash stale-session-flash flash flash-warn flash-full">
  
        <svg aria-hidden="true" height="16" viewBox="0 0 16 16" version="1.1" width="16" data-view-component="true" class="octicon octicon-alert">
    <path d="M6.457 1.047c.659-1.234 2.427-1.234 3.086 0l6.082 11.378A1.75 1.75 0 0 1 14.082 15H1.918a1.75 1.75 0 0 1-1.543-2.575Zm1.763.707a.25.25 0 0 0-.44 0L1.698 13.132a.25.25 0 0 0 .22.368h12.164a.25.25 0 0 0 .22-.368Zm.53 3.996v2.5a.75.75 0 0 1-1.5 0v-2.5a.75.75 0 0 1 1.5 0ZM9 11a1 1 0 1 1-2 0 1 1 0 0 1 2 0Z"></path>
</svg>
        <span class="js-stale-session-flash-signed-in" hidden>You signed in with another tab or window. <a class="Link--inTextBlock" href="">Reload</a> to refresh your session.</span>
        <span class="js-stale-session-flash-signed-out" hidden>You signed out in another tab or window. <a class="Link--inTextBlock" href="">Reload</a> to refresh your session.</span>
        <span class="js-stale-session-flash-switched" hidden>You switched accounts on another tab or window. <a class="Link--inTextBlock" href="">Reload</a> to refresh your session.</span>

    <button id="icon-button-634e8cac-3329-414c-9cfc-7b3454f8f095" aria-labelledby="tooltip-c12e6e58-1e6d-4767-bbfe-cc022b951d2a" type="button" data-view-component="true" class="Button Button--iconOnly Button--invisible Button--medium flash-close js-flash-close">  <svg aria-hidden="true" height="16" viewBox="0 0 16 16" version="1.1" width="16" data-view-component="true" class="octicon octicon-x Button-visual">
    <path d="M3.72 3.72a.75.75 0 0 1 1.06 0L8 6.94l3.22-3.22a.749.749 0 0 1 1.275.326.749.749 0 0 1-.215.734L9.06 8l3.22 3.22a.749.749 0 0 1-.326 1.275.749.749 0 0 1-.734-.215L8 9.06l-3.22 3.22a.751.751 0 0 1-1.042-.018.751.751 0 0 1-.018-1.042L6.94 8 3.72 4.78a.75.75 0 0 1 0-1.06Z"></path>
</svg>
</button><tool-tip id="tooltip-c12e6e58-1e6d-4767-bbfe-cc022b951d2a" for="icon-button-634e8cac-3329-414c-9cfc-7b3454f8f095" popover="manual" data-direction="s" data-type="label" data-view-component="true" class="sr-only position-absolute">Dismiss alert</tool-tip>


  
</div>
          
    </div>

  <div id="start-of-content" class="show-on-focus"></div>








    <div id="js-flash-container" class="flash-container" data-turbo-replace>




  <template class="js-flash-template">
    
<div class="flash flash-full   {{ className }}">
  <div >
    <button autofocus class="flash-close js-flash-close" type="button" aria-label="Dismiss this message">
      <svg aria-hidden="true" height="16" viewBox="0 0 16 16" version="1.1" width="16" data-view-component="true" class="octicon octicon-x">
    <path d="M3.72 3.72a.75.75 0 0 1 1.06 0L8 6.94l3.22-3.22a.749.749 0 0 1 1.275.326.749.749 0 0 1-.215.734L9.06 8l3.22 3.22a.749.749 0 0 1-.326 1.275.749.749 0 0 1-.734-.215L8 9.06l-3.22 3.22a.751.751 0 0 1-1.042-.018.751.751 0 0 1-.018-1.042L6.94 8 3.72 4.78a.75.75 0 0 1 0-1.06Z"></path>
</svg>
    </button>
    <div aria-atomic="true" role="alert" class="js-flash-alert">
      
      <div>{{ message }}</div>

    </div>
  </div>
</div>
  </template>
</div>


    
  <notification-shelf-watcher data-base-url="https://github.com/notifications/beta/shelf" data-channel="eyJjIjoibm90aWZpY2F0aW9uLWNoYW5nZWQ6MTA3OTI2NDA0IiwidCI6MTczOTgwNzE2MX0=--b98c14b7f5608951580f715f287d4a8c35031fd219df5df58f9cb9aaa7afb0c4" data-view-component="true" class="js-socket-channel"></notification-shelf-watcher>
  <div hidden data-initial data-target="notification-shelf-watcher.placeholder"></div>






  <div
    class="application-main "
    data-commit-hovercards-enabled
    data-discussion-hovercards-enabled
    data-issue-and-pr-hovercards-enabled
    data-project-hovercards-enabled
  >
        <div itemscope itemtype="http://schema.org/SoftwareSourceCode" class="">
    <main id="js-repo-pjax-container" >
      
      






    
  <div id="repository-container-header" data-turbo-replace hidden ></div>




<turbo-frame id="repo-content-turbo-frame" target="_top" data-turbo-action="advance" class="">
    <div id="repo-content-pjax-container" class="repository-content " >
      <a href="https://github.dev/" class="d-none js-github-dev-shortcut" data-hotkey=".,Mod+Alt+.">Open in github.dev</a>
  <a href="https://github.dev/" class="d-none js-github-dev-new-tab-shortcut" data-hotkey="Shift+.,Shift+&gt;,&gt;" target="_blank" rel="noopener noreferrer">Open in a new github.dev tab</a>
    <a class="d-none" data-hotkey=",,Mod+Alt+," target="_blank" href="/codespaces/new/sotakao/ml-seminar-ucl/tree/main?resume=1">Open in codespace</a>




    
      
    








<react-app
  app-name="react-code-view"
  initial-path="/sotakao/ml-seminar-ucl/blob/main/Notebooks/loopy_example.ipynb"
    style="display: block; min-height: calc(100vh - 64px);"
  data-attempted-ssr="true"
  data-ssr="true"
  data-lazy="false"
  data-alternate="false"
  data-data-router-enabled="false"
>
  
  <script type="application/json" data-target="react-app.embeddedData">{"payload":{"allShortcutsEnabled":true,"fileTree":{"Notebooks":{"items":[{"name":"bp_example.ipynb","path":"Notebooks/bp_example.ipynb","contentType":"file"},{"name":"cora_example.ipynb","path":"Notebooks/cora_example.ipynb","contentType":"file"},{"name":"loopy_example.ipynb","path":"Notebooks/loopy_example.ipynb","contentType":"file"},{"name":"max_product.ipynb","path":"Notebooks/max_product.ipynb","contentType":"file"}],"totalCount":4},"":{"items":[{"name":"Figures","path":"Figures","contentType":"directory"},{"name":"Notebooks","path":"Notebooks","contentType":"directory"},{"name":"Message_Passing_Lecture_Slides.pdf","path":"Message_Passing_Lecture_Slides.pdf","contentType":"file"},{"name":"README.md","path":"README.md","contentType":"file"},{"name":"algorithms.py","path":"algorithms.py","contentType":"file"},{"name":"models.py","path":"models.py","contentType":"file"}],"totalCount":6}},"fileTreeProcessingTime":3.87092,"foldersToFetch":[],"repo":{"id":575043919,"defaultBranch":"main","name":"ml-seminar-ucl","ownerLogin":"sotakao","currentUserCanPush":false,"isFork":false,"isEmpty":false,"createdAt":"2022-12-06T16:20:47.000+00:00","ownerAvatar":"https://avatars.githubusercontent.com/u/44118658?v=4","public":true,"private":false,"isOrgOwned":false},"codeLineWrapEnabled":false,"symbolsExpanded":false,"treeExpanded":true,"refInfo":{"name":"main","listCacheKey":"v0:1675211867.781164","canEdit":true,"refType":"branch","currentOid":"9afeb537e46e6c830b23d4d9c1d89de6a0cbbe8b"},"path":"Notebooks/loopy_example.ipynb","currentUser":{"id":107926404,"login":"Melodiepo","userEmail":"melodieeepo@gmail.com"},"blob":{"rawLines":["{"," \"cells\": [","  {","   \"cell_type\": \"markdown\",","   \"metadata\": {},","   \"source\": [","    \"# Loopy Belief Propagation\\n\",","    \"\\n\",","    \"Consider the following factor graph representation of a PGM in four variables $x_1, x_2, x_3, x_4$:\\n\",","    \"\\n\",","    \"![image](../Figures/loopy_factor_graph.png)\\n\",","    \"\\n\",","    \"Assume that the variables are discrete with four states $x_i \\\\in \\\\{1, 2, 3, 4\\\\}$.\\n\",","    \"We wish to infer the marginal probabilities $p(x_i)$ for $i = 1, 2, 3, 4$ when the pairwise potential functions are given by\\n\",","    \"\\n\",","    \"$$\\n\",","    \"[f_a(x_1, x_2)]_{x_1, x_2=1}^4 = [f_b(x_1, x_3)]_{x_1, x_3=1}^4 = [f_c(x_2, x_3)]_{x_2, x_3=1}^4 = [f_d(x_3, x_4)]_{x_3, x_4=1}^4 = \\\\Psi,\\n\",","    \"$$\\n\",","    \"\\n\",","    \"where $\\\\Psi$ is a randomly generated $4 \\\\times 4$ matrix.\\n\",","    \"Since the graph is clearly not tree-structured, standard belief propagation does not apply. Hence, we opt to run loopy belief propagation in hope that the result converges.\"","   ]","  },","  {","   \"cell_type\": \"code\",","   \"execution_count\": 1,","   \"metadata\": {},","   \"outputs\": [],","   \"source\": [","    \"import networkx as nx\\n\",","    \"import numpy as np\\n\",","    \"import matplotlib.pyplot as plt\\n\",","    \"import os\\n\",","    \"\\n\",","    \"os.chdir('..')\\n\",","    \"from models import FactorGraph, Potential\\n\",","    \"from algorithms import LoopyBP\\n\",","    \"\\n\",","    \"\\n\",","    \"# Generate a random matrix Psi, corresponding to the pairwise potential functions\\n\",","    \"np.random.seed(0)\\n\",","    \"Psi = np.random.uniform(size=(4,4))\\n\"","   ]","  },","  {","   \"cell_type\": \"markdown\",","   \"metadata\": {},","   \"source\": [","    \"First, let's compute the exact solution by brute force for comparison.\"","   ]","  },","  {","   \"cell_type\": \"code\",","   \"execution_count\": 2,","   \"metadata\": {},","   \"outputs\": [","    {","     \"data\": {","      \"image/png\": \"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\",","      \"text/plain\": [","       \"\u003cFigure size 1000x300 with 4 Axes\u003e\"","      ]","     },","     \"metadata\": {},","     \"output_type\": \"display_data\"","    }","   ],","   \"source\": [","    \"# Construct the joint probability distribution, which is a normalised product of the potentials\\n\",","    \"f_a = Psi[:,:,None,None] # Shape (4, 4, 1, 1)\\n\",","    \"f_b = Psi[:,None,:,None] # Shape (4, 1, 4, 1)\\n\",","    \"f_c = Psi[None,:,:,None] # Shape (1, 4, 4, 1)\\n\",","    \"f_d = Psi[None,None,:,:] # Shape (1, 1, 4, 4)\\n\",","    \"\\n\",","    \"joint_probability = f_a * f_b * f_c * f_d # Shape (4, 4, 4, 4)\\n\",","    \"Z = joint_probability.sum() # Compute normalisation constant\\n\",","    \"joint_probability /= Z # Normalise to yield a valid probability mass function\\n\",","    \"\\n\",","    \"# Compute the marginal distributions directly\\n\",","    \"true_marginals = []\\n\",","    \"for i in range(4):\\n\",","    \"    p_i = joint_probability\\n\",","    \"    for j in range(4):\\n\",","    \"        if j != i:\\n\",","    \"            p_i = p_i.sum(axis=j, keepdims=True)\\n\",","    \"    p_i = p_i.squeeze() # Shape (4,)\\n\",","    \"    true_marginals.append(p_i)\\n\",","    \"\\n\",","    \"# Plot true marginals\\n\",","    \"fig, axs = plt.subplots(1, 4, figsize=(10,3))\\n\",","    \"for i in range(4):\\n\",","    \"    axs[i].bar(np.arange(4), true_marginals[i], width=1.0, edgecolor='black', linewidth=5, alpha=1.0)\\n\",","    \"    axs[i].set_title(f\\\"Node {i+1}\\\")\\n\",","    \"    axs[i].set_ylim([0,0.4])\\n\",","    \"    axs[i].set_axis_off()\\n\",","    \"plt.suptitle(\\\"Ground truth marginals computed by brute force approach\\\")\\n\",","    \"plt.tight_layout()\"","   ]","  },","  {","   \"cell_type\": \"markdown\",","   \"metadata\": {},","   \"source\": [","    \"Next, we compute approximations to these marginals by running loopy belief propagation on the factor graph.\"","   ]","  },","  {","   \"cell_type\": \"code\",","   \"execution_count\": 3,","   \"metadata\": {},","   \"outputs\": [","    {","     \"data\": {","      \"image/png\": \"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\",","      \"text/plain\": [","       \"\u003cFigure size 1000x300 with 4 Axes\u003e\"","      ]","     },","     \"metadata\": {},","     \"output_type\": \"display_data\"","    }","   ],","   \"source\": [","    \"# Set up factor graph\\n\",","    \"potentials = {'a': Potential(Psi, variables=[1,2]),\\n\",","    \"              'b': Potential(Psi, variables=[1,3]),\\n\",","    \"              'c': Potential(Psi, variables=[2,3]),\\n\",","    \"              'd': Potential(Psi, variables=[3,4])}\\n\",","    \"              \\n\",","    \"f = FactorGraph(potentials)\\n\",","    \"\\n\",","    \"# Plot initialisation\\n\",","    \"def plot(factor_graph: FactorGraph, ground_truth=None):\\n\",","    \"    fig, axs = plt.subplots(1, 4, figsize=(10,3))\\n\",","    \"    for i in range(4):\\n\",","    \"        if ground_truth is not None:\\n\",","    \"            axs[i].bar(np.arange(4), ground_truth[i], width=1.0, edgecolor='black', linewidth=5, alpha=1.0, label='ground truth marginals')\\n\",","    \"        state = factor_graph.states[i+1]\\n\",","    \"        state /= state.sum()\\n\",","    \"        axs[i].bar(np.arange(4), state, width=1.0, edgecolor='black', linewidth=5, alpha=0.7, label='approximate marginals')\\n\",","    \"        axs[i].set_title(f\\\"Node {i+1}\\\")\\n\",","    \"        axs[i].set_ylim([0,0.4])\\n\",","    \"        axs[i].set_axis_off()\\n\",","    \"    plt.legend(loc='lower right')\\n\",","    \"    plt.tight_layout()\\n\",","    \"\\n\",","    \"plot(f, true_marginals)\"","   ]","  },","  {","   \"cell_type\": \"code\",","   \"execution_count\": 4,","   \"metadata\": {},","   \"outputs\": [","    {","     \"data\": {","      \"image/png\": \"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\",","      \"text/plain\": [","       \"\u003cFigure size 1000x300 with 4 Axes\u003e\"","      ]","     },","     \"metadata\": {},","     \"output_type\": \"display_data\"","    }","   ],","   \"source\": [","    \"# First iteration of loopy belief propagation (using flooding schedule)\\n\",","    \"LoopyBP(f)\\n\",","    \"plot(f, true_marginals)\"","   ]","  },","  {","   \"cell_type\": \"code\",","   \"execution_count\": 5,","   \"metadata\": {},","   \"outputs\": [","    {","     \"data\": {","      \"image/png\": \"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\",","      \"text/plain\": [","       \"\u003cFigure size 1000x300 with 4 Axes\u003e\"","      ]","     },","     \"metadata\": {},","     \"output_type\": \"display_data\"","    }","   ],","   \"source\": [","    \"# Second iteration of loopy BP\\n\",","    \"LoopyBP(f)\\n\",","    \"plot(f, true_marginals)\"","   ]","  },","  {","   \"cell_type\": \"code\",","   \"execution_count\": 6,","   \"metadata\": {},","   \"outputs\": [","    {","     \"data\": {","      \"image/png\": \"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\",","      \"text/plain\": [","       \"\u003cFigure size 1000x300 with 4 Axes\u003e\"","      ]","     },","     \"metadata\": {},","     \"output_type\": \"display_data\"","    }","   ],","   \"source\": [","    \"# Third iteration of loopy BP\\n\",","    \"LoopyBP(f)\\n\",","    \"plot(f, true_marginals)\"","   ]","  },","  {","   \"cell_type\": \"markdown\",","   \"metadata\": {},","   \"source\": [","    \"We see that after only three iterations, the approximations obtained by loopy belief propagation are already reasonably close to the true marginals!\"","   ]","  },","  {","   \"cell_type\": \"code\",","   \"execution_count\": null,","   \"metadata\": {},","   \"outputs\": [],","   \"source\": []","  }"," ],"," \"metadata\": {","  \"kernelspec\": {","   \"display_name\": \"Python 3.10.8 ('.venv': venv)\",","   \"language\": \"python\",","   \"name\": \"python3\"","  },","  \"language_info\": {","   \"codemirror_mode\": {","    \"name\": \"ipython\",","    \"version\": 3","   },","   \"file_extension\": \".py\",","   \"mimetype\": \"text/x-python\",","   \"name\": \"python\",","   \"nbconvert_exporter\": \"python\",","   \"pygments_lexer\": \"ipython3\",","   \"version\": \"3.10.8\"","  },","  \"orig_nbformat\": 4,","  \"vscode\": {","   \"interpreter\": {","    \"hash\": \"b198409704de6654d8fab5c07f807c91171fa2c48b9926906a91a96be375a287\"","   }","  }"," },"," \"nbformat\": 4,"," \"nbformat_minor\": 2","}"],"stylingDirectives":null,"colorizedLines":null,"csv":null,"csvError":null,"dependabotInfo":{"showConfigurationBanner":false,"configFilePath":null,"networkDependabotPath":"/sotakao/ml-seminar-ucl/network/updates","dismissConfigurationNoticePath":"/settings/dismiss-notice/dependabot_configuration_notice","configurationNoticeDismissed":false},"displayName":"loopy_example.ipynb","displayUrl":"https://notebooks.githubusercontent.com/view/ipynb?browser=chrome\u0026bypass_fastly=true\u0026color_mode=auto\u0026commit=9afeb537e46e6c830b23d4d9c1d89de6a0cbbe8b\u0026device=unknown_device\u0026docs_host=https%3A%2F%2Fdocs.github.com\u0026enc_url=68747470733a2f2f7261772e67697468756275736572636f6e74656e742e636f6d2f736f74616b616f2f6d6c2d73656d696e61722d75636c2f396166656235333765343665366338333062323364346439633164383964653661306362626538622f4e6f7465626f6f6b732f6c6f6f70795f6578616d706c652e6970796e62\u0026logged_in=true\u0026nwo=sotakao%2Fml-seminar-ucl\u0026path=Notebooks%2Floopy_example.ipynb\u0026platform=windows\u0026repository_id=575043919\u0026repository_type=Repository\u0026version=132","headerInfo":{"blobSize":"94.1 KB","deleteTooltip":"Fork this repository and delete the file","editTooltip":"Fork this repository and edit the file","ghDesktopPath":"https://desktop.github.com","isGitLfs":false,"onBranch":true,"shortPath":"b5c4005","siteNavLoginPath":"/login?return_to=https%3A%2F%2Fgithub.com%2Fsotakao%2Fml-seminar-ucl%2Fblob%2Fmain%2FNotebooks%2Floopy_example.ipynb","isCSV":false,"isRichtext":false,"toc":null,"lineInfo":{"truncatedLoc":"258","truncatedSloc":"258"},"mode":"file"},"image":false,"isCodeownersFile":null,"isPlain":false,"isValidLegacyIssueTemplate":false,"issueTemplate":null,"discussionTemplate":null,"language":"Jupyter Notebook","languageID":185,"large":false,"planSupportInfo":{"repoIsFork":null,"repoOwnedByCurrentUser":null,"requestFullPath":"/sotakao/ml-seminar-ucl/blob/main/Notebooks/loopy_example.ipynb","showFreeOrgGatedFeatureMessage":null,"showPlanSupportBanner":null,"upgradeDataAttributes":null,"upgradePath":null},"publishBannersInfo":{"dismissActionNoticePath":"/settings/dismiss-notice/publish_action_from_dockerfile","releasePath":"/sotakao/ml-seminar-ucl/releases/new?marketplace=true","showPublishActionBanner":false},"rawBlobUrl":"https://github.com/sotakao/ml-seminar-ucl/raw/refs/heads/main/Notebooks/loopy_example.ipynb","renderImageOrRaw":false,"richText":null,"renderedFileInfo":{"identityUUID":"84ff65d1-2da3-41db-9345-c67dd6db784e","renderFileType":"ipynb","size":96385},"shortPath":null,"symbolsEnabled":true,"tabSize":8,"topBannersInfo":{"overridingGlobalFundingFile":false,"globalPreferredFundingPath":null,"showInvalidCitationWarning":false,"citationHelpUrl":"https://docs.github.com/github/creating-cloning-and-archiving-repositories/creating-a-repository-on-github/about-citation-files","actionsOnboardingTip":null},"truncated":false,"viewable":true,"workflowRedirectUrl":null,"symbols":{"timed_out":false,"not_analyzed":true,"symbols":[]}},"copilotInfo":null,"copilotAccessAllowed":true,"modelsAccessAllowed":false,"csrf_tokens":{"/sotakao/ml-seminar-ucl/branches":{"post":"fzaXB-BZB9VBCvvCAjtSZDASB9tkWBedoMtr40umxQaDSq6iCF1xLy6dToigApXLgLXpoSJvIwuRaotAvpZy4Q"},"/repos/preferences":{"post":"RyTgsI0RiA6dY56bzhWsAe1x6ZN8I8eqRrIBHWuaOdw4DFSZfqKHg5jkkFIeCRr500bnD6VtYeCJNjhAr_-4uw"}}},"title":"ml-seminar-ucl/Notebooks/loopy_example.ipynb at main · sotakao/ml-seminar-ucl","appPayload":{"helpUrl":"https://docs.github.com","findFileWorkerPath":"/assets-cdn/worker/find-file-worker-9f8a877aa99f.js","findInFileWorkerPath":"/assets-cdn/worker/find-in-file-worker-96e76d5fdb2c.js","githubDevUrl":"https://github.dev/","enabled_features":{"code_nav_ui_events":false,"overview_shared_code_dropdown_button":false,"react_blob_overlay":true,"copilot_conversational_ux_embedding_update":false,"copilot_smell_icebreaker_ux":true,"accessible_code_button":true}}}</script>
  <div data-target="react-app.reactRoot"><style data-styled="true" data-styled-version="5.3.11">.hOfjFo{padding:0;}/*!sc*/
.oDGAe{max-width:100%;margin-left:auto;margin-right:auto;display:-webkit-box;display:-webkit-flex;display:-ms-flexbox;display:flex;-webkit-flex-wrap:wrap;-ms-flex-wrap:wrap;flex-wrap:wrap;}/*!sc*/
.kowOcT{display:-webkit-box;display:-webkit-flex;display:-ms-flexbox;display:flex;-webkit-flex:1 1 100%;-ms-flex:1 1 100%;flex:1 1 100%;-webkit-flex-wrap:wrap;-ms-flex-wrap:wrap;flex-wrap:wrap;max-width:100%;}/*!sc*/
.gISSDQ{width:100%;}/*!sc*/
@media screen and (min-width:544px){.gISSDQ{width:100%;}}/*!sc*/
@media screen and (min-width:768px){.gISSDQ{width:auto;}}/*!sc*/
.cMnVPV{display:-webkit-box;display:-webkit-flex;display:-ms-flexbox;display:flex;-webkit-order:1;-ms-flex-order:1;order:1;width:100%;margin-left:0;margin-right:0;-webkit-flex-direction:column-reverse;-ms-flex-direction:column-reverse;flex-direction:column-reverse;margin-bottom:0;min-width:0;}/*!sc*/
@media screen and (min-width:768px){.cMnVPV{width:auto;margin-top:0 !important;margin-bottom:0 !important;position:-webkit-sticky;position:sticky;top:0px;max-height:100vh !important;-webkit-flex-direction:row;-ms-flex-direction:row;flex-direction:row;margin-right:0;height:100vh;}}/*!sc*/
@media print,screen and (max-width:1011px) and (min-width:768px){.cMnVPV{display:none;}}/*!sc*/
.hPvFuC{margin-left:0;margin-right:0;display:none;margin-top:0;}/*!sc*/
@media screen and (min-width:768px){.hPvFuC{margin-left:0 !important;margin-right:0 !important;}}/*!sc*/
.fFSoPl{--pane-min-width:256px;--pane-max-width-diff:511px;--pane-max-width:calc(100vw - var(--pane-max-width-diff));width:100%;padding:0;}/*!sc*/
@media screen and (min-width:544px){}/*!sc*/
@media screen and (min-width:768px){.fFSoPl{width:clamp(var(--pane-min-width),var(--pane-width),var(--pane-max-width));overflow:auto;}}/*!sc*/
@media screen and (min-width:1280px){.fFSoPl{--pane-max-width-diff:959px;}}/*!sc*/
.birIjn{max-height:100%;height:100%;display:-webkit-box;display:-webkit-flex;display:-ms-flexbox;display:flex;-webkit-flex-direction:column;-ms-flex-direction:column;flex-direction:column;}/*!sc*/
@media screen and (max-width:768px){.birIjn{display:none;}}/*!sc*/
@media screen and (min-width:768px){.birIjn{max-height:100vh;height:100vh;}}/*!sc*/
.hNNCwk{display:-webkit-box;display:-webkit-flex;display:-ms-flexbox;display:flex;-webkit-flex-direction:column;-ms-flex-direction:column;flex-direction:column;-webkit-align-items:center;-webkit-box-align:center;-ms-flex-align:center;align-items:center;padding-left:16px;padding-right:16px;padding-bottom:8px;padding-top:16px;}/*!sc*/
.jfIeyl{display:-webkit-box;display:-webkit-flex;display:-ms-flexbox;display:flex;width:100%;margin-bottom:16px;-webkit-align-items:center;-webkit-box-align:center;-ms-flex-align:center;align-items:center;}/*!sc*/
.XosP{display:-webkit-box;display:-webkit-flex;display:-ms-flexbox;display:flex;font-size:14px;}/*!sc*/
.hMLRgO[data-size="medium"]{color:var(--fgColor-muted,var(--color-fg-muted,#848d97));padding-left:8px;padding-right:8px;display:none;}/*!sc*/
@media screen and (max-width:768px){.hMLRgO[data-size="medium"]{display:block;}}/*!sc*/
.gUkoLg{-webkit-box-pack:center;-webkit-justify-content:center;-ms-flex-pack:center;justify-content:center;}/*!sc*/
.kOkWgo{font-size:16px;margin-left:8px;}/*!sc*/
.lhbroM{margin-left:24px;margin-right:24px;display:-webkit-box;display:-webkit-flex;display:-ms-flexbox;display:flex;width:100%;}/*!sc*/
.khzwtX{-webkit-box-flex:1;-webkit-flex-grow:1;-ms-flex-positive:1;flex-grow:1;}/*!sc*/
.JMXqM[data-size="medium"]{display:-webkit-box;display:-webkit-flex;display:-ms-flexbox;display:flex;min-width:0;}/*!sc*/
.JMXqM[data-size="medium"] svg{color:var(--fgColor-muted,var(--color-fg-muted,#848d97));}/*!sc*/
.JMXqM[data-size="medium"] > span{width:inherit;}/*!sc*/
.bZBlpz{display:-webkit-box;display:-webkit-flex;display:-ms-flexbox;display:flex;width:100%;}/*!sc*/
.bJjzmO{margin-right:4px;color:var(--fgColor-muted,var(--color-fg-muted,#848d97));}/*!sc*/
.ffLUq{font-size:14px;min-width:0;overflow:hidden;text-overflow:ellipsis;white-space:nowrap;}/*!sc*/
.eTeVqd{margin-left:8px;white-space:nowrap;}/*!sc*/
.eTeVqd:hover button:not(:hover){border-left-color:var(--button-default-borderColor-hover,var(--color-btn-hover-border));}/*!sc*/
.jNHrPP[data-size="medium"][data-no-visuals]{color:var(--fgColor-muted,var(--color-fg-subtle,#6e7681));border-top-right-radius:0;border-bottom-right-radius:0;border-right:0;}/*!sc*/
.ijefGF[data-size="medium"][data-no-visuals]{color:var(--fgColor-muted,var(--color-fg-subtle,#6e7681));font-size:14px;font-weight:400;-webkit-flex-shrink:0;-ms-flex-negative:0;flex-shrink:0;border-top-left-radius:0;border-bottom-left-radius:0;}/*!sc*/
.ftzGWg{margin-left:16px;margin-right:16px;margin-bottom:12px;}/*!sc*/
@media screen and (max-width:768px){.ftzGWg{display:none;}}/*!sc*/
.dItACB{margin-right:-6px;}/*!sc*/
.gjtfVk{-webkit-box-flex:1;-webkit-flex-grow:1;-ms-flex-positive:1;flex-grow:1;max-height:100% !important;overflow-y:auto;-webkit-scrollbar-gutter:stable;-moz-scrollbar-gutter:stable;-ms-scrollbar-gutter:stable;scrollbar-gutter:stable;}/*!sc*/
@media screen and (max-width:768px){.gjtfVk{display:none;}}/*!sc*/
.cOxzdh{padding-left:16px;padding-right:16px;padding-bottom:8px;}/*!sc*/
.bTBnTW{height:100%;position:relative;display:none;margin-left:0;}/*!sc*/
.fFMzrG{position:absolute;inset:0 -2px;cursor:col-resize;background-color:transparent;-webkit-transition-delay:0.1s;transition-delay:0.1s;}/*!sc*/
.fFMzrG:hover{background-color:var(--bgColor-neutral-muted,var(--color-neutral-muted,rgba(110,118,129,0.4)));}/*!sc*/
.iKqMNA{display:-webkit-box;display:-webkit-flex;display:-ms-flexbox;display:flex;-webkit-flex-direction:column;-ms-flex-direction:column;flex-direction:column;-webkit-order:2;-ms-flex-order:2;order:2;-webkit-flex-basis:0;-ms-flex-preferred-size:0;flex-basis:0;-webkit-box-flex:1;-webkit-flex-grow:1;-ms-flex-positive:1;flex-grow:1;-webkit-flex-shrink:1;-ms-flex-negative:1;flex-shrink:1;min-width:1px;margin-right:auto;}/*!sc*/
@media print{.iKqMNA{display:-webkit-box !important;display:-webkit-flex !important;display:-ms-flexbox !important;display:flex !important;}}/*!sc*/
.FxAyp{width:100%;max-width:100%;margin-left:auto;margin-right:auto;-webkit-box-flex:1;-webkit-flex-grow:1;-ms-flex-positive:1;flex-grow:1;padding:0;}/*!sc*/
.leYMvG{margin-left:auto;margin-right:auto;-webkit-flex-direction:column;-ms-flex-direction:column;flex-direction:column;padding-bottom:40px;max-width:100%;margin-top:0;}/*!sc*/
.KMPzq{display:inherit;}/*!sc*/
.hfKjHv{width:100%;}/*!sc*/
.gZWyZE{display:-webkit-box;display:-webkit-flex;display:-ms-flexbox;display:flex;gap:8px;-webkit-flex-direction:column;-ms-flex-direction:column;flex-direction:column;width:100%;}/*!sc*/
.dwYKDk{display:-webkit-box;display:-webkit-flex;display:-ms-flexbox;display:flex;-webkit-align-items:start;-webkit-box-align:start;-ms-flex-align:start;align-items:start;-webkit-box-pack:justify;-webkit-justify-content:space-between;-ms-flex-pack:justify;justify-content:space-between;gap:8px;}/*!sc*/
.iDtIiT{-webkit-align-self:center;-ms-flex-item-align:center;align-self:center;display:-webkit-box;display:-webkit-flex;display:-ms-flexbox;display:flex;padding-right:8px;min-width:0;}/*!sc*/
.cEytCf{display:-webkit-box;display:-webkit-flex;display:-ms-flexbox;display:flex;-webkit-flex-direction:row;-ms-flex-direction:row;flex-direction:row;font-size:16px;min-width:0;-webkit-flex-shrink:1;-ms-flex-negative:1;flex-shrink:1;-webkit-flex-wrap:wrap;-ms-flex-wrap:wrap;flex-wrap:wrap;max-width:100%;-webkit-align-items:center;-webkit-box-align:center;-ms-flex-align:center;align-items:center;}/*!sc*/
.fzFXnm{max-width:100%;}/*!sc*/
.iMnkmv{max-width:100%;list-style:none;display:inline-block;}/*!sc*/
.ghzDag{display:inline-block;max-width:100%;}/*!sc*/
.kHuKdh{font-weight:600;}/*!sc*/
.kgiVEz{font-weight:400;}/*!sc*/
.jGhzSQ{font-weight:600;display:inline-block;max-width:100%;font-size:16px;}/*!sc*/
.faNtbn{min-height:32px;display:-webkit-box;display:-webkit-flex;display:-ms-flexbox;display:flex;-webkit-align-items:start;-webkit-box-align:start;-ms-flex-align:start;align-items:start;}/*!sc*/
.dwNhzn[data-size="medium"][data-no-visuals]{border-top-left-radius:0;border-bottom-left-radius:0;display:none;}/*!sc*/
.kVRliy[data-size="medium"][data-no-visuals]{color:var(--fgColor-muted,var(--color-fg-muted,#848d97));}/*!sc*/
.dJxjrT{margin-left:16px;margin-right:16px;}/*!sc*/
.eFxKDQ{display:-webkit-box;display:-webkit-flex;display:-ms-flexbox;display:flex;-webkit-flex-direction:column;-ms-flex-direction:column;flex-direction:column;}/*!sc*/
.dzCJzi{display:-webkit-box;display:-webkit-flex;display:-ms-flexbox;display:flex;-webkit-flex-direction:row;-ms-flex-direction:row;flex-direction:row;-webkit-flex-wrap:wrap;-ms-flex-wrap:wrap;flex-wrap:wrap;-webkit-box-pack:justify;-webkit-justify-content:space-between;-ms-flex-pack:justify;justify-content:space-between;-webkit-align-items:center;-webkit-box-align:center;-ms-flex-align:center;align-items:center;gap:8px;min-width:273px;padding:8px;}/*!sc*/
@media screen and (min-width:544px){.dzCJzi{-webkit-flex-wrap:nowrap;-ms-flex-wrap:nowrap;flex-wrap:nowrap;}}/*!sc*/
.ldRxiI{display:-webkit-box;display:-webkit-flex;display:-ms-flexbox;display:flex;-webkit-flex-direction:row;-ms-flex-direction:row;flex-direction:row;}/*!sc*/
.fVkfyA{width:100%;height:-webkit-fit-content;height:-moz-fit-content;height:fit-content;min-width:0;margin-right:0;}/*!sc*/
.gNAmSV{height:40px;padding-left:4px;padding-bottom:16px;}/*!sc*/
.jNEwzY{-webkit-align-items:center;-webkit-box-align:center;-ms-flex-align:center;align-items:center;}/*!sc*/
.ifyOQK{font-size:12px;-webkit-flex:auto;-ms-flex:auto;flex:auto;padding-right:16px;color:var(--fgColor-muted,var(--color-fg-muted,#848d97));min-width:0;}/*!sc*/
.jdLMhu{top:0px;z-index:4;background:var(--bgColor-default,var(--color-canvas-default));position:-webkit-sticky;position:sticky;}/*!sc*/
.tOISc{display:-webkit-box;display:-webkit-flex;display:-ms-flexbox;display:flex;-webkit-flex-direction:column;-ms-flex-direction:column;flex-direction:column;width:100%;position:absolute;}/*!sc*/
.hqwSEx{display:none;min-width:0;padding-top:8px;padding-bottom:8px;}/*!sc*/
.lzKZY{margin-right:8px;margin-left:16px;text-overflow:ellipsis;overflow:hidden;display:-webkit-box;display:-webkit-flex;display:-ms-flexbox;display:flex;-webkit-flex-direction:row;-ms-flex-direction:row;flex-direction:row;-webkit-align-items:center;-webkit-box-align:center;-ms-flex-align:center;align-items:center;-webkit-box-pack:justify;-webkit-justify-content:space-between;-ms-flex-pack:justify;justify-content:space-between;width:100%;}/*!sc*/
.fHind{display:-webkit-box;display:-webkit-flex;display:-ms-flexbox;display:flex;-webkit-flex-direction:row;-ms-flex-direction:row;flex-direction:row;font-size:14px;min-width:0;-webkit-flex-shrink:1;-ms-flex-negative:1;flex-shrink:1;-webkit-flex-wrap:wrap;-ms-flex-wrap:wrap;flex-wrap:wrap;max-width:100%;-webkit-align-items:center;-webkit-box-align:center;-ms-flex-align:center;align-items:center;}/*!sc*/
.dnZoUW{font-weight:600;display:inline-block;max-width:100%;font-size:14px;}/*!sc*/
.dpNnZU[data-size="small"]{color:var(--fgColor-default,var(--color-fg-default,#e6edf3));margin-left:8px;}/*!sc*/
.gpHFJV{padding-left:8px;padding-top:8px;padding-bottom:8px;display:-webkit-box;display:-webkit-flex;display:-ms-flexbox;display:flex;-webkit-flex:1;-ms-flex:1;flex:1;-webkit-align-items:center;-webkit-box-align:center;-ms-flex-align:center;align-items:center;-webkit-box-pack:justify;-webkit-justify-content:space-between;-ms-flex-pack:justify;justify-content:space-between;background-color:var(--bgColor-muted,var(--color-canvas-subtle,#161b22));border:1px solid var(--borderColor-default,var(--color-border-default));border-radius:6px 6px 0px 0px;}/*!sc*/
.iNMjfP{display:-webkit-box;display:-webkit-flex;display:-ms-flexbox;display:flex;-webkit-align-items:center;-webkit-box-align:center;-ms-flex-align:center;align-items:center;gap:8px;min-width:0;}/*!sc*/
.fefCSX{display:block;position:relative;-webkit-box-flex:1;-webkit-flex-grow:1;-ms-flex-positive:1;flex-grow:1;margin-top:-1px;margin-bottom:-1px;--separator-color:transparent;}/*!sc*/
.fefCSX:not(:last-child){margin-right:1px;}/*!sc*/
.fefCSX:not(:last-child):after{background-color:var(--separator-color);content:"";position:absolute;right:-2px;top:8px;bottom:8px;width:1px;}/*!sc*/
.fefCSX:focus-within:has(:focus-visible){--separator-color:transparent;}/*!sc*/
.fefCSX:first-child{margin-left:-1px;}/*!sc*/
.fefCSX:last-child{margin-right:-1px;}/*!sc*/
.sulSy{display:block;position:relative;-webkit-box-flex:1;-webkit-flex-grow:1;-ms-flex-positive:1;flex-grow:1;margin-top:-1px;margin-bottom:-1px;--separator-color:var(--borderColor-default,var(--color-border-default,#30363d));}/*!sc*/
.sulSy:not(:last-child){margin-right:1px;}/*!sc*/
.sulSy:not(:last-child):after{background-color:var(--separator-color);content:"";position:absolute;right:-2px;top:8px;bottom:8px;width:1px;}/*!sc*/
.sulSy:focus-within:has(:focus-visible){--separator-color:transparent;}/*!sc*/
.sulSy:first-child{margin-left:-1px;}/*!sc*/
.sulSy:last-child{margin-right:-1px;}/*!sc*/
.kcLCKF{display:-webkit-box;display:-webkit-flex;display:-ms-flexbox;display:flex;-webkit-align-items:center;-webkit-box-align:center;-ms-flex-align:center;align-items:center;gap:8px;margin-right:8px;}/*!sc*/
.kVWtTz{gap:8px;}/*!sc*/
.gWqxTd{padding-left:8px;padding-right:8px;}/*!sc*/
.gWqxTd linkButtonSx:hover:not([disabled]){-webkit-text-decoration:none;text-decoration:none;}/*!sc*/
.gWqxTd linkButtonSx:focus:not([disabled]){-webkit-text-decoration:none;text-decoration:none;}/*!sc*/
.gWqxTd linkButtonSx:active:not([disabled]){-webkit-text-decoration:none;text-decoration:none;}/*!sc*/
.ivobqY[data-size="small"][data-no-visuals]{border-top-left-radius:0;border-bottom-left-radius:0;}/*!sc*/
.kilKoS[data-size="small"][data-no-visuals]{border-top-right-radius:0;border-bottom-right-radius:0;border-right-width:0;}/*!sc*/
.kilKoS[data-size="small"][data-no-visuals]:hover:not([disabled]){-webkit-text-decoration:none;text-decoration:none;}/*!sc*/
.kilKoS[data-size="small"][data-no-visuals]:focus:not([disabled]){-webkit-text-decoration:none;text-decoration:none;}/*!sc*/
.kilKoS[data-size="small"][data-no-visuals]:active:not([disabled]){-webkit-text-decoration:none;text-decoration:none;}/*!sc*/
.itGLhU[data-size="small"][data-no-visuals]{color:var(--fgColor-muted,var(--color-fg-muted,#848d97));}/*!sc*/
.hycJXc{border:1px solid;border-top:none;border-color:var(--borderColor-default,var(--color-border-default,#30363d));border-radius:0px 0px 6px 6px;min-width:273px;}/*!sc*/
.iWAocR{background-color:var(--bgColor-default,var(--color-canvas-default));border:0px;border-width:0;border-radius:0px 0px 6px 6px;padding:0;min-width:0;margin-top:46px;overflow:auto;}/*!sc*/
.cCoXib{position:fixed;top:0;right:0;height:100%;width:15px;-webkit-transition:-webkit-transform 0.3s;-webkit-transition:transform 0.3s;transition:transform 0.3s;z-index:1;}/*!sc*/
.cCoXib:hover{-webkit-transform:scaleX(1.5);-ms-transform:scaleX(1.5);transform:scaleX(1.5);}/*!sc*/
.fgsa-DI{display:-webkit-box;display:-webkit-flex;display:-ms-flexbox;display:flex;-webkit-flex-direction:column;-ms-flex-direction:column;flex-direction:column;-webkit-align-items:center;-webkit-box-align:center;-ms-flex-align:center;align-items:center;padding-top:16px;padding-bottom:16px;}/*!sc*/
data-styled.g1[id="Box-sc-g0xbh4-0"]{content:"hOfjFo,oDGAe,kowOcT,gISSDQ,cMnVPV,hPvFuC,fFSoPl,birIjn,hNNCwk,jfIeyl,XosP,hMLRgO,gUkoLg,kOkWgo,lhbroM,khzwtX,JMXqM,bZBlpz,bJjzmO,ffLUq,eTeVqd,jNHrPP,ijefGF,ftzGWg,dItACB,gjtfVk,cOxzdh,bTBnTW,fFMzrG,iKqMNA,FxAyp,leYMvG,KMPzq,hfKjHv,gZWyZE,dwYKDk,iDtIiT,cEytCf,fzFXnm,iMnkmv,ghzDag,kHuKdh,kgiVEz,jGhzSQ,faNtbn,dwNhzn,kVRliy,dJxjrT,eFxKDQ,dzCJzi,ldRxiI,fVkfyA,gNAmSV,jNEwzY,ifyOQK,jdLMhu,tOISc,hqwSEx,lzKZY,fHind,dnZoUW,dpNnZU,gpHFJV,iNMjfP,fefCSX,sulSy,kcLCKF,kVWtTz,gWqxTd,ivobqY,kilKoS,itGLhU,hycJXc,iWAocR,cCoXib,fgsa-DI,"}/*!sc*/
.eMMFM{min-width:0;}/*!sc*/
.eMMFM:where([data-size='small']){font-size:var(--text-body-size-small,0.75rem);line-height:var(--text-body-lineHeight-small,1.6666);}/*!sc*/
.eMMFM:where([data-size='medium']){font-size:var(--text-body-size-medium,0.875rem);line-height:var(--text-body-lineHeight-medium,1.4285);}/*!sc*/
.eMMFM:where([data-size='large']){font-size:var(--text-body-size-large,1rem);line-height:var(--text-body-lineHeight-large,1.5);}/*!sc*/
.eMMFM:where([data-weight='light']){font-weight:var(--base-text-weight-light,300);}/*!sc*/
.eMMFM:where([data-weight='normal']){font-weight:var(--base-text-weight-normal,400);}/*!sc*/
.eMMFM:where([data-weight='medium']){font-weight:var(--base-text-weight-medium,500);}/*!sc*/
.eMMFM:where([data-weight='semibold']){font-weight:var(--base-text-weight-semibold,600);}/*!sc*/
.iHQnrN{padding-left:4px;padding-right:4px;font-weight:400;color:var(--fgColor-muted,var(--color-fg-muted,#848d97));font-size:16px;}/*!sc*/
.iHQnrN:where([data-size='small']){font-size:var(--text-body-size-small,0.75rem);line-height:var(--text-body-lineHeight-small,1.6666);}/*!sc*/
.iHQnrN:where([data-size='medium']){font-size:var(--text-body-size-medium,0.875rem);line-height:var(--text-body-lineHeight-medium,1.4285);}/*!sc*/
.iHQnrN:where([data-size='large']){font-size:var(--text-body-size-large,1rem);line-height:var(--text-body-lineHeight-large,1.5);}/*!sc*/
.iHQnrN:where([data-weight='light']){font-weight:var(--base-text-weight-light,300);}/*!sc*/
.iHQnrN:where([data-weight='normal']){font-weight:var(--base-text-weight-normal,400);}/*!sc*/
.iHQnrN:where([data-weight='medium']){font-weight:var(--base-text-weight-medium,500);}/*!sc*/
.iHQnrN:where([data-weight='semibold']){font-weight:var(--base-text-weight-semibold,600);}/*!sc*/
.wcuBT{padding-left:4px;padding-right:4px;font-weight:400;color:var(--fgColor-muted,var(--color-fg-muted,#848d97));font-size:14px;}/*!sc*/
.wcuBT:where([data-size='small']){font-size:var(--text-body-size-small,0.75rem);line-height:var(--text-body-lineHeight-small,1.6666);}/*!sc*/
.wcuBT:where([data-size='medium']){font-size:var(--text-body-size-medium,0.875rem);line-height:var(--text-body-lineHeight-medium,1.4285);}/*!sc*/
.wcuBT:where([data-size='large']){font-size:var(--text-body-size-large,1rem);line-height:var(--text-body-lineHeight-large,1.5);}/*!sc*/
.wcuBT:where([data-weight='light']){font-weight:var(--base-text-weight-light,300);}/*!sc*/
.wcuBT:where([data-weight='normal']){font-weight:var(--base-text-weight-normal,400);}/*!sc*/
.wcuBT:where([data-weight='medium']){font-weight:var(--base-text-weight-medium,500);}/*!sc*/
.wcuBT:where([data-weight='semibold']){font-weight:var(--base-text-weight-semibold,600);}/*!sc*/
data-styled.g3[id="Text__StyledText-sc-17v1xeu-0"]{content:"eMMFM,iHQnrN,wcuBT,"}/*!sc*/
.brGdpi{position:absolute;width:1px;height:1px;padding:0;margin:-1px;overflow:hidden;-webkit-clip:rect(0,0,0,0);clip:rect(0,0,0,0);white-space:nowrap;border-width:0;}/*!sc*/
data-styled.g4[id="_VisuallyHidden__VisuallyHidden-sc-11jhm7a-0"]{content:"brGdpi,"}/*!sc*/
.jkNcAv{border:0;font-size:inherit;font-family:inherit;background-color:transparent;-webkit-appearance:none;color:inherit;width:100%;}/*!sc*/
.jkNcAv:focus{outline:0;}/*!sc*/
data-styled.g13[id="UnstyledTextInput__ToggledUnstyledTextInput-sc-14ypya-0"]{content:"jkNcAv,"}/*!sc*/
.bclhiL{font-size:14px;line-height:var(--base-size-20);color:var(--fgColor-default,var(--color-fg-default,#e6edf3));vertical-align:middle;background-color:var(--bgColor-default,var(--color-canvas-default,#0d1117));border:1px solid var(--control-borderColor-rest,var(--borderColor-default,var(--color-border-default,#30363d)));border-radius:6px;outline:none;box-shadow:var(--shadow-inset,var(--color-primer-shadow-inset,0 0 transparent));display:-webkit-inline-box;display:-webkit-inline-flex;display:-ms-inline-flexbox;display:inline-flex;-webkit-align-items:stretch;-webkit-box-align:stretch;-ms-flex-align:stretch;align-items:stretch;min-height:var(--base-size-32);overflow:hidden;--inner-action-size:var(--base-size-24);}/*!sc*/
.bclhiL input,.bclhiL textarea{cursor:text;}/*!sc*/
.bclhiL select{cursor:pointer;}/*!sc*/
.bclhiL input::-webkit-input-placeholder,.bclhiL textarea::-webkit-input-placeholder,.bclhiL select::-webkit-input-placeholder{color:var(---control-fgColor-placeholder,var(--fgColor-muted,var(--color-fg-muted,#848d97)));}/*!sc*/
.bclhiL input::-moz-placeholder,.bclhiL textarea::-moz-placeholder,.bclhiL select::-moz-placeholder{color:var(---control-fgColor-placeholder,var(--fgColor-muted,var(--color-fg-muted,#848d97)));}/*!sc*/
.bclhiL input:-ms-input-placeholder,.bclhiL textarea:-ms-input-placeholder,.bclhiL select:-ms-input-placeholder{color:var(---control-fgColor-placeholder,var(--fgColor-muted,var(--color-fg-muted,#848d97)));}/*!sc*/
.bclhiL input::placeholder,.bclhiL textarea::placeholder,.bclhiL select::placeholder{color:var(---control-fgColor-placeholder,var(--fgColor-muted,var(--color-fg-muted,#848d97)));}/*!sc*/
.bclhiL:where([data-trailing-action][data-focused]),.bclhiL:where(:not([data-trailing-action]):focus-within){border-color:var(--fgColor-accent,var(--color-accent-fg,#2f81f7));outline:2px solid var(--fgColor-accent,var(--color-accent-fg,#2f81f7));outline-offset:-1px;}/*!sc*/
.bclhiL > textarea{padding:var(--base-size-12);}/*!sc*/
.bclhiL:where([data-contrast]){background-color:var(--bgColor-inset,var(--color-canvas-inset,#010409));}/*!sc*/
.bclhiL:where([data-disabled]){color:var(--fgColor-disabled,var(--color-primer-fg-disabled,#484f58));background-color:var(--control-bgColor-disabled,var(--color-input-disabled-bg,rgba(110,118,129,0)));box-shadow:none;border-color:var(--control-borderColor-disabled,var(--borderColor-default,var(--color-border-default,#30363d)));}/*!sc*/
.bclhiL:where([data-disabled]) input,.bclhiL:where([data-disabled]) textarea,.bclhiL:where([data-disabled]) select{cursor:not-allowed;}/*!sc*/
.bclhiL:where([data-monospace]){font-family:var(--fontStack-monospace,SFMono-Regular,Consolas,"Liberation Mono",Menlo,Courier,monospace);}/*!sc*/
.bclhiL:where([data-validation='error']){border-color:var(--borderColor-danger-emphasis,var(--color-danger-emphasis,#da3633));}/*!sc*/
.bclhiL:where([data-validation='error']):where([data-trailing-action][data-focused]),.bclhiL:where([data-validation='error']):where(:not([data-trailing-action])):focus-within{border-color:var(--fgColor-accent,var(--color-accent-fg,#2f81f7));outline:2px solid var(--fgColor-accent,var(--color-accent-fg,#2f81f7));outline-offset:-1px;}/*!sc*/
.bclhiL:where([data-validation='success']){border-color:var(--bgColor-success-emphasis,var(--color-success-emphasis,#238636));}/*!sc*/
.bclhiL:where([data-block]){width:100%;display:-webkit-box;display:-webkit-flex;display:-ms-flexbox;display:flex;-webkit-align-self:stretch;-ms-flex-item-align:stretch;align-self:stretch;}/*!sc*/
@media (min-width:768px){.bclhiL{font-size:var(--text-body-size-medium);}}/*!sc*/
.bclhiL:where([data-size='small']){--inner-action-size:var(--base-size-20);min-height:var(--base-size-28);padding-top:3px;padding-right:var(--base-size-8);padding-bottom:3px;padding-left:var(--base-size-8);font-size:var(--text-body-size-small);line-height:var(--base-size-20);}/*!sc*/
.bclhiL:where([data-size='large']){--inner-action-size:var(--base-size-28);height:var(--base-size-40);padding-top:10px;padding-right:var(--base-size-8);padding-bottom:10px;padding-left:var(--base-size-8);}/*!sc*/
.bclhiL:where([data-variant='small']){min-height:28px;padding-top:3px;padding-right:var(--base-size-8);padding-bottom:3px;padding-left:var(--base-size-8);font-size:(--text-body-size-small);line-height:var(--base-size-20);}/*!sc*/
.bclhiL:where([data-variant='large']){padding-top:10px;padding-right:var(--base-size-8);padding-bottom:10px;padding-left:var(--base-size-8);font-size:var(--text-title-size-medium);}/*!sc*/
.bclhiL{display:-webkit-box;display:-webkit-flex;display:-ms-flexbox;display:flex;min-width:160px;}/*!sc*/
data-styled.g14[id="TextInputWrapper__StyledTextInputBaseWrapper-sc-1mqhpbi-0"]{content:"bclhiL,"}/*!sc*/
.jpROxA{background-repeat:no-repeat;background-position:right 8px center;padding-right:0;padding-left:0;}/*!sc*/
.jpROxA > :not(:last-child){margin-right:8px;}/*!sc*/
.jpROxA .TextInput-icon,.jpROxA .TextInput-action{-webkit-align-self:center;-ms-flex-item-align:center;align-self:center;color:var(--fgColor-muted,var(--color-fg-muted,#848d97));-webkit-flex-shrink:0;-ms-flex-negative:0;flex-shrink:0;}/*!sc*/
.jpROxA > input,.jpROxA > select{padding-right:0;padding-left:0;}/*!sc*/
.jpROxA:where([data-leading-visual]){padding-left:var(--base-size-12);}/*!sc*/
.jpROxA:where([data-trailing-visual]:not([data-trailing-action])){padding-right:var(--base-size-12);}/*!sc*/
.jpROxA:where(:not([data-leading-visual])) > input,.jpROxA:where(:not([data-leading-visual])) > select{padding-left:var(--base-size-12);}/*!sc*/
.jpROxA:where(:not([data-trailing-visual]):not([data-trailing-action])) > input,.jpROxA:where(:not([data-trailing-visual]):not([data-trailing-action])) > select{padding-right:var(--base-size-12);}/*!sc*/
.jpROxA{display:-webkit-box;display:-webkit-flex;display:-ms-flexbox;display:flex;min-width:160px;}/*!sc*/
data-styled.g15[id="TextInputWrapper__StyledTextInputWrapper-sc-1mqhpbi-1"]{content:"jpROxA,"}/*!sc*/
.fLAhLl{display:none;}/*!sc*/
.fLAhLl[popover]{position:absolute;padding:0.5em 0.75em;width:-webkit-max-content;width:-moz-max-content;width:max-content;margin:auto;-webkit-clip:auto;clip:auto;white-space:normal;font:normal normal 11px/1.5 -apple-system,BlinkMacSystemFont,"Segoe UI","Noto Sans",Helvetica,Arial,sans-serif,"Apple Color Emoji","Segoe UI Emoji";-webkit-font-smoothing:subpixel-antialiased;color:var(--tooltip-fgColor,var(--fgColor-onEmphasis,var(--color-fg-on-emphasis,#ffffff)));text-align:center;word-wrap:break-word;background:var(--tooltip-bgColor,var(--bgColor-emphasis,var(--color-neutral-emphasis-plus,#6e7681)));border-radius:6px;border:0;opacity:0;max-width:250px;inset:auto;overflow:visible;}/*!sc*/
.fLAhLl[popover]:popover-open{display:block;}/*!sc*/
.fLAhLl[popover].\:popover-open{display:block;}/*!sc*/
@media (forced-colors:active){.fLAhLl{outline:1px solid transparent;}}/*!sc*/
.fLAhLl::after{position:absolute;display:block;right:0;left:0;height:var(--overlay-offset,0.25rem);content:'';}/*!sc*/
.fLAhLl[data-direction='n']::after,.fLAhLl[data-direction='ne']::after,.fLAhLl[data-direction='nw']::after{top:100%;}/*!sc*/
.fLAhLl[data-direction='s']::after,.fLAhLl[data-direction='se']::after,.fLAhLl[data-direction='sw']::after{bottom:100%;}/*!sc*/
.fLAhLl[data-direction='w']::after{position:absolute;display:block;height:100%;width:8px;content:'';bottom:0;left:100%;}/*!sc*/
.fLAhLl[data-direction='e']::after{position:absolute;display:block;height:100%;width:8px;content:'';bottom:0;right:100%;margin-left:-8px;}/*!sc*/
@-webkit-keyframes tooltip-appear{from{opacity:0;}to{opacity:1;}}/*!sc*/
@keyframes tooltip-appear{from{opacity:0;}to{opacity:1;}}/*!sc*/
.fLAhLl:popover-open,.fLAhLl:popover-open::before{-webkit-animation-name:tooltip-appear;animation-name:tooltip-appear;-webkit-animation-duration:0.1s;animation-duration:0.1s;-webkit-animation-fill-mode:forwards;animation-fill-mode:forwards;-webkit-animation-timing-function:ease-in;animation-timing-function:ease-in;-webkit-animation-delay:0s;animation-delay:0s;}/*!sc*/
.fLAhLl.\:popover-open,.fLAhLl.\:popover-open::before{-webkit-animation-name:tooltip-appear;animation-name:tooltip-appear;-webkit-animation-duration:0.1s;animation-duration:0.1s;-webkit-animation-fill-mode:forwards;animation-fill-mode:forwards;-webkit-animation-timing-function:ease-in;animation-timing-function:ease-in;-webkit-animation-delay:0s;animation-delay:0s;}/*!sc*/
data-styled.g16[id="Tooltip__StyledTooltip-sc-e45c7z-0"]{content:"fLAhLl,"}/*!sc*/
.fiSvBN{position:relative;display:inline-block;}/*!sc*/
.fiSvBN::after{position:absolute;z-index:1000000;display:none;padding:0.5em 0.75em;font:normal normal 11px/1.5 -apple-system,BlinkMacSystemFont,"Segoe UI","Noto Sans",Helvetica,Arial,sans-serif,"Apple Color Emoji","Segoe UI Emoji";-webkit-font-smoothing:subpixel-antialiased;color:var(--tooltip-fgColor,var(--fgColor-onEmphasis,var(--color-fg-on-emphasis,#ffffff)));text-align:center;-webkit-text-decoration:none;text-decoration:none;text-shadow:none;text-transform:none;-webkit-letter-spacing:normal;-moz-letter-spacing:normal;-ms-letter-spacing:normal;letter-spacing:normal;word-wrap:break-word;white-space:pre;pointer-events:none;content:attr(aria-label);background:var(--tooltip-bgColor,var(--bgColor-emphasis,var(--color-neutral-emphasis-plus,#6e7681)));border-radius:6px;opacity:0;}/*!sc*/
@-webkit-keyframes tooltip-appear{from{opacity:0;}to{opacity:1;}}/*!sc*/
@keyframes tooltip-appear{from{opacity:0;}to{opacity:1;}}/*!sc*/
.fiSvBN:hover::after,.fiSvBN:active::after,.fiSvBN:focus::after,.fiSvBN:focus-within::after{display:inline-block;-webkit-text-decoration:none;text-decoration:none;-webkit-animation-name:tooltip-appear;animation-name:tooltip-appear;-webkit-animation-duration:0.1s;animation-duration:0.1s;-webkit-animation-fill-mode:forwards;animation-fill-mode:forwards;-webkit-animation-timing-function:ease-in;animation-timing-function:ease-in;-webkit-animation-delay:0s;animation-delay:0s;}/*!sc*/
.fiSvBN.tooltipped-no-delay:hover::after,.fiSvBN.tooltipped-no-delay:active::after,.fiSvBN.tooltipped-no-delay:focus::after,.fiSvBN.tooltipped-no-delay:focus-within::after{-webkit-animation-delay:0s;animation-delay:0s;}/*!sc*/
.fiSvBN.tooltipped-multiline:hover::after,.fiSvBN.tooltipped-multiline:active::after,.fiSvBN.tooltipped-multiline:focus::after,.fiSvBN.tooltipped-multiline:focus-within::after{display:table-cell;}/*!sc*/
.fiSvBN.tooltipped-s::after,.fiSvBN.tooltipped-se::after,.fiSvBN.tooltipped-sw::after{top:100%;right:50%;margin-top:6px;}/*!sc*/
.fiSvBN.tooltipped-se::after{right:auto;left:50%;margin-left:-16px;}/*!sc*/
.fiSvBN.tooltipped-sw::after{margin-right:-16px;}/*!sc*/
.fiSvBN.tooltipped-n::after,.fiSvBN.tooltipped-ne::after,.fiSvBN.tooltipped-nw::after{right:50%;bottom:100%;margin-bottom:6px;}/*!sc*/
.fiSvBN.tooltipped-ne::after{right:auto;left:50%;margin-left:-16px;}/*!sc*/
.fiSvBN.tooltipped-nw::after{margin-right:-16px;}/*!sc*/
.fiSvBN.tooltipped-s::after,.fiSvBN.tooltipped-n::after{-webkit-transform:translateX(50%);-ms-transform:translateX(50%);transform:translateX(50%);}/*!sc*/
.fiSvBN.tooltipped-w::after{right:100%;bottom:50%;margin-right:6px;-webkit-transform:translateY(50%);-ms-transform:translateY(50%);transform:translateY(50%);}/*!sc*/
.fiSvBN.tooltipped-e::after{bottom:50%;left:100%;margin-left:6px;-webkit-transform:translateY(50%);-ms-transform:translateY(50%);transform:translateY(50%);}/*!sc*/
.fiSvBN.tooltipped-multiline::after{width:-webkit-max-content;width:-moz-max-content;width:max-content;max-width:250px;word-wrap:break-word;white-space:pre-line;border-collapse:separate;}/*!sc*/
.fiSvBN.tooltipped-multiline.tooltipped-s::after,.fiSvBN.tooltipped-multiline.tooltipped-n::after{right:auto;left:50%;-webkit-transform:translateX(-50%);-ms-transform:translateX(-50%);transform:translateX(-50%);}/*!sc*/
.fiSvBN.tooltipped-multiline.tooltipped-w::after,.fiSvBN.tooltipped-multiline.tooltipped-e::after{right:100%;}/*!sc*/
.fiSvBN.tooltipped-align-right-2::after{right:0;margin-right:0;}/*!sc*/
.fiSvBN.tooltipped-align-left-2::after{left:0;margin-left:0;}/*!sc*/
data-styled.g17[id="Tooltip__TooltipBase-sc-17tf59c-0"]{content:"fiSvBN,"}/*!sc*/
.eAtkQz{display:inline-block;overflow:hidden;text-overflow:ellipsis;vertical-align:top;white-space:nowrap;max-width:125px;max-width:100%;}/*!sc*/
data-styled.g19[id="Truncate__StyledTruncate-sc-23o1d2-0"]{content:"eAtkQz,"}/*!sc*/
.dPDqJE{--segmented-control-button-inner-padding:12px;--segmented-control-button-bg-inset:4px;--segmented-control-outer-radius:6px;background-color:transparent;border-color:transparent;border-radius:var(--segmented-control-outer-radius);border-width:0;color:currentColor;cursor:pointer;font-family:inherit;font-size:inherit;font-weight:600;padding:0;height:100%;width:100%;}/*!sc*/
.dPDqJE:focus:not(:disabled){box-shadow:none;outline:2px solid var(--fgColor-accent,var(--color-accent-fg,#2f81f7));outline-offset:-1px;}/*!sc*/
.dPDqJE:focus:not(:disabled):not(:focus-visible){outline:solid 1px transparent;}/*!sc*/
.dPDqJE:focus-visible:not(:disabled){box-shadow:none;outline:2px solid var(--fgColor-accent,var(--color-accent-fg,#2f81f7));outline-offset:-1px;}/*!sc*/
.dPDqJE .segmentedControl-content{-webkit-align-items:center;-webkit-box-align:center;-ms-flex-align:center;align-items:center;background-color:var(--controlKnob-bgColor-rest,var(--color-segmented-control-button-bg,#0d1117));border-color:var(--controlKnob-borderColor-rest,var(--color-segmented-control-button-selected-border,#6e7681));border-style:solid;border-width:1px;border-radius:var(--segmented-control-outer-radius);display:-webkit-box;display:-webkit-flex;display:-ms-flexbox;display:flex;height:100%;-webkit-box-pack:center;-webkit-justify-content:center;-ms-flex-pack:center;justify-content:center;padding-left:var(--segmented-control-button-inner-padding);padding-right:var(--segmented-control-button-inner-padding);}/*!sc*/
.dPDqJE svg{fill:var(--fgColor-muted,var(--color-fg-muted,#848d97));}/*!sc*/
.dPDqJE:focus:focus-visible:not(:last-child):after{width:0;}/*!sc*/
.dPDqJE .segmentedControl-text:after{content:"Preview";display:block;font-weight:600;height:0;overflow:hidden;pointer-events:none;-webkit-user-select:none;-moz-user-select:none;-ms-user-select:none;user-select:none;visibility:hidden;}/*!sc*/
@media (pointer:coarse){.dPDqJE:before{content:"";position:absolute;left:0;right:0;-webkit-transform:translateY(-50%);-ms-transform:translateY(-50%);transform:translateY(-50%);top:50%;min-height:44px;}}/*!sc*/
.kTvXLQ{--segmented-control-button-inner-padding:12px;--segmented-control-button-bg-inset:4px;--segmented-control-outer-radius:6px;background-color:transparent;border-color:transparent;border-radius:var(--segmented-control-outer-radius);border-width:0;color:currentColor;cursor:pointer;font-family:inherit;font-size:inherit;font-weight:400;padding:var(--segmented-control-button-bg-inset);height:100%;width:100%;}/*!sc*/
.kTvXLQ:focus:not(:disabled){box-shadow:none;outline:2px solid var(--fgColor-accent,var(--color-accent-fg,#2f81f7));outline-offset:-1px;}/*!sc*/
.kTvXLQ:focus:not(:disabled):not(:focus-visible){outline:solid 1px transparent;}/*!sc*/
.kTvXLQ:focus-visible:not(:disabled){box-shadow:none;outline:2px solid var(--fgColor-accent,var(--color-accent-fg,#2f81f7));outline-offset:-1px;}/*!sc*/
.kTvXLQ .segmentedControl-content{-webkit-align-items:center;-webkit-box-align:center;-ms-flex-align:center;align-items:center;background-color:transparent;border-color:transparent;border-style:solid;border-width:1px;border-radius:calc(var(--segmented-control-outer-radius) - var(--segmented-control-button-bg-inset) / 2);display:-webkit-box;display:-webkit-flex;display:-ms-flexbox;display:flex;height:100%;-webkit-box-pack:center;-webkit-justify-content:center;-ms-flex-pack:center;justify-content:center;padding-left:calc(var(--segmented-control-button-inner-padding) - var(--segmented-control-button-bg-inset));padding-right:calc(var(--segmented-control-button-inner-padding) - var(--segmented-control-button-bg-inset));}/*!sc*/
.kTvXLQ svg{fill:var(--fgColor-muted,var(--color-fg-muted,#848d97));}/*!sc*/
.kTvXLQ:hover .segmentedControl-content{background-color:var(--controlTrack-bgColor-hover,var(--color-segmented-control-button-hover-bg,#30363d));}/*!sc*/
.kTvXLQ:active .segmentedControl-content{background-color:var(--controlTrack-bgColor-active,var(--color-segmented-control-button-active-bg,#21262d));}/*!sc*/
.kTvXLQ:focus:focus-visible:not(:last-child):after{width:0;}/*!sc*/
.kTvXLQ .segmentedControl-text:after{content:"Code";display:block;font-weight:600;height:0;overflow:hidden;pointer-events:none;-webkit-user-select:none;-moz-user-select:none;-ms-user-select:none;user-select:none;visibility:hidden;}/*!sc*/
@media (pointer:coarse){.kTvXLQ:before{content:"";position:absolute;left:0;right:0;-webkit-transform:translateY(-50%);-ms-transform:translateY(-50%);transform:translateY(-50%);top:50%;min-height:44px;}}/*!sc*/
.gKyOFO{--segmented-control-button-inner-padding:12px;--segmented-control-button-bg-inset:4px;--segmented-control-outer-radius:6px;background-color:transparent;border-color:transparent;border-radius:var(--segmented-control-outer-radius);border-width:0;color:currentColor;cursor:pointer;font-family:inherit;font-size:inherit;font-weight:400;padding:var(--segmented-control-button-bg-inset);height:100%;width:100%;}/*!sc*/
.gKyOFO:focus:not(:disabled){box-shadow:none;outline:2px solid var(--fgColor-accent,var(--color-accent-fg,#2f81f7));outline-offset:-1px;}/*!sc*/
.gKyOFO:focus:not(:disabled):not(:focus-visible){outline:solid 1px transparent;}/*!sc*/
.gKyOFO:focus-visible:not(:disabled){box-shadow:none;outline:2px solid var(--fgColor-accent,var(--color-accent-fg,#2f81f7));outline-offset:-1px;}/*!sc*/
.gKyOFO .segmentedControl-content{-webkit-align-items:center;-webkit-box-align:center;-ms-flex-align:center;align-items:center;background-color:transparent;border-color:transparent;border-style:solid;border-width:1px;border-radius:calc(var(--segmented-control-outer-radius) - var(--segmented-control-button-bg-inset) / 2);display:-webkit-box;display:-webkit-flex;display:-ms-flexbox;display:flex;height:100%;-webkit-box-pack:center;-webkit-justify-content:center;-ms-flex-pack:center;justify-content:center;padding-left:calc(var(--segmented-control-button-inner-padding) - var(--segmented-control-button-bg-inset));padding-right:calc(var(--segmented-control-button-inner-padding) - var(--segmented-control-button-bg-inset));}/*!sc*/
.gKyOFO svg{fill:var(--fgColor-muted,var(--color-fg-muted,#848d97));}/*!sc*/
.gKyOFO:hover .segmentedControl-content{background-color:var(--controlTrack-bgColor-hover,var(--color-segmented-control-button-hover-bg,#30363d));}/*!sc*/
.gKyOFO:active .segmentedControl-content{background-color:var(--controlTrack-bgColor-active,var(--color-segmented-control-button-active-bg,#21262d));}/*!sc*/
.gKyOFO:focus:focus-visible:not(:last-child):after{width:0;}/*!sc*/
.gKyOFO .segmentedControl-text:after{content:"Blame";display:block;font-weight:600;height:0;overflow:hidden;pointer-events:none;-webkit-user-select:none;-moz-user-select:none;-ms-user-select:none;user-select:none;visibility:hidden;}/*!sc*/
@media (pointer:coarse){.gKyOFO:before{content:"";position:absolute;left:0;right:0;-webkit-transform:translateY(-50%);-ms-transform:translateY(-50%);transform:translateY(-50%);top:50%;min-height:44px;}}/*!sc*/
data-styled.g105[id="SegmentedControlButton__SegmentedControlButtonStyled-sc-8lkgxl-0"]{content:"dPDqJE,kTvXLQ,gKyOFO,"}/*!sc*/
.eYPFoP{background-color:var(--controlTrack-bgColor-rest,var(--color-segmented-control-bg,rgba(110,118,129,0.1)));border-radius:6px;border:1px solid;border-color:var(--controlTrack-borderColor-rest,transparent);display:-webkit-inline-box;display:-webkit-inline-flex;display:-ms-inline-flexbox;display:inline-flex;font-size:14px;height:28px;margin:0;padding:0;}/*!sc*/
data-styled.g107[id="SegmentedControl__SegmentedControlList-sc-1rzig82-0"]{content:"eYPFoP,"}/*!sc*/
body[data-page-layout-dragging="true"]{cursor:col-resize;}/*!sc*/
body[data-page-layout-dragging="true"] *{-webkit-user-select:none;-moz-user-select:none;-ms-user-select:none;user-select:none;}/*!sc*/
data-styled.g108[id="sc-global-gbKrvU1"]{content:"sc-global-gbKrvU1,"}/*!sc*/
.cJWUiG{list-style:none;padding:0;margin:0;}/*!sc*/
.cJWUiG .PRIVATE_TreeView-item{outline:none;}/*!sc*/
.cJWUiG .PRIVATE_TreeView-item:focus-visible > div,.cJWUiG .PRIVATE_TreeView-item.focus-visible > div{box-shadow:inset 0 0 0 2px var(--fgColor-accent,var(--color-accent-fg,#2f81f7));}/*!sc*/
@media (forced-colors:active){.cJWUiG .PRIVATE_TreeView-item:focus-visible > div,.cJWUiG .PRIVATE_TreeView-item.focus-visible > div{outline:2px solid HighlightText;outline-offset:-2;}}/*!sc*/
.cJWUiG .PRIVATE_TreeView-item[data-has-leading-action]{--has-leading-action:1;}/*!sc*/
.cJWUiG .PRIVATE_TreeView-item-container{--level:1;--toggle-width:1rem;--min-item-height:2rem;position:relative;display:grid;--leading-action-width:calc(var(--has-leading-action,0) * 1.5rem);--spacer-width:calc(calc(var(--level) - 1) * (var(--toggle-width) / 2));grid-template-columns:var(--spacer-width) var(--leading-action-width) var(--toggle-width) 1fr;grid-template-areas:'spacer leadingAction toggle content';width:100%;font-size:14px;color:var(--fgColor-default,var(--color-fg-default,#e6edf3));border-radius:6px;cursor:pointer;}/*!sc*/
.cJWUiG .PRIVATE_TreeView-item-container:hover{background-color:var(--control-transparent-bgColor-hover,var(--color-action-list-item-default-hover-bg,rgba(177,186,196,0.12)));}/*!sc*/
@media (forced-colors:active){.cJWUiG .PRIVATE_TreeView-item-container:hover{outline:2px solid transparent;outline-offset:-2px;}}/*!sc*/
@media (pointer:coarse){.cJWUiG .PRIVATE_TreeView-item-container{--toggle-width:1.5rem;--min-item-height:2.75rem;}}/*!sc*/
.cJWUiG .PRIVATE_TreeView-item-container:has(.PRIVATE_TreeView-item-skeleton):hover{background-color:transparent;cursor:default;}/*!sc*/
@media (forced-colors:active){.cJWUiG .PRIVATE_TreeView-item-container:has(.PRIVATE_TreeView-item-skeleton):hover{outline:none;}}/*!sc*/
.cJWUiG[data-omit-spacer='true'] .PRIVATE_TreeView-item-container{grid-template-columns:0 0 0 1fr;}/*!sc*/
.cJWUiG .PRIVATE_TreeView-item[aria-current='true'] > .PRIVATE_TreeView-item-container{background-color:var(--control-transparent-bgColor-selected,var(--color-action-list-item-default-selected-bg,rgba(177,186,196,0.08)));}/*!sc*/
.cJWUiG .PRIVATE_TreeView-item[aria-current='true'] > .PRIVATE_TreeView-item-container::after{content:'';position:absolute;top:calc(50% - 0.75rem);left:-8px;width:0.25rem;height:1.5rem;background-color:var(--fgColor-accent,var(--color-accent-fg,#2f81f7));border-radius:6px;}/*!sc*/
@media (forced-colors:active){.cJWUiG .PRIVATE_TreeView-item[aria-current='true'] > .PRIVATE_TreeView-item-container::after{background-color:HighlightText;}}/*!sc*/
.cJWUiG .PRIVATE_TreeView-item-toggle{grid-area:toggle;display:-webkit-box;display:-webkit-flex;display:-ms-flexbox;display:flex;-webkit-box-pack:center;-webkit-justify-content:center;-ms-flex-pack:center;justify-content:center;-webkit-align-items:flex-start;-webkit-box-align:flex-start;-ms-flex-align:flex-start;align-items:flex-start;padding-top:calc(var(--min-item-height) / 2 - 12px / 2);height:100%;color:var(--fgColor-muted,var(--color-fg-muted,#848d97));}/*!sc*/
.cJWUiG .PRIVATE_TreeView-item-toggle--hover:hover{background-color:var(--control-transparent-bgColor-hover,var(--color-tree-view-item-chevron-hover-bg,rgba(177,186,196,0.12)));}/*!sc*/
.cJWUiG .PRIVATE_TreeView-item-toggle--end{border-top-left-radius:6px;border-bottom-left-radius:6px;}/*!sc*/
.cJWUiG .PRIVATE_TreeView-item-content{grid-area:content;display:-webkit-box;display:-webkit-flex;display:-ms-flexbox;display:flex;height:100%;padding:0 8px;gap:8px;line-height:var(--custom-line-height,var(--text-body-lineHeight-medium,1.4285));padding-top:calc((var(--min-item-height) - var(--custom-line-height,1.3rem)) / 2);padding-bottom:calc((var(--min-item-height) - var(--custom-line-height,1.3rem)) / 2);}/*!sc*/
.cJWUiG .PRIVATE_TreeView-item-content-text{-webkit-flex:1 1 auto;-ms-flex:1 1 auto;flex:1 1 auto;width:0;}/*!sc*/
.cJWUiG[data-truncate-text='true'] .PRIVATE_TreeView-item-content-text{overflow:hidden;white-space:nowrap;text-overflow:ellipsis;}/*!sc*/
.cJWUiG[data-truncate-text='false'] .PRIVATE_TreeView-item-content-text{word-break:break-word;}/*!sc*/
.cJWUiG .PRIVATE_TreeView-item-visual{display:-webkit-box;display:-webkit-flex;display:-ms-flexbox;display:flex;-webkit-align-items:center;-webkit-box-align:center;-ms-flex-align:center;align-items:center;color:var(--fgColor-muted,var(--color-fg-muted,#848d97));height:var(--custom-line-height,1.3rem);}/*!sc*/
.cJWUiG .PRIVATE_TreeView-item-leading-action{display:-webkit-box;display:-webkit-flex;display:-ms-flexbox;display:flex;color:var(--fgColor-muted,var(--color-fg-muted,#848d97));grid-area:leadingAction;}/*!sc*/
.cJWUiG .PRIVATE_TreeView-item-leading-action > button{-webkit-flex-shrink:1;-ms-flex-negative:1;flex-shrink:1;}/*!sc*/
.cJWUiG .PRIVATE_TreeView-item-level-line{width:100%;height:100%;border-right:1px solid;border-color:var(--borderColor-muted,var(--color-border-subtle,rgba(240,246,252,0.1)));}/*!sc*/
@media (hover:hover){.cJWUiG .PRIVATE_TreeView-item-level-line{border-color:transparent;}.cJWUiG:hover .PRIVATE_TreeView-item-level-line,.cJWUiG:focus-within .PRIVATE_TreeView-item-level-line{border-color:var(--borderColor-muted,var(--color-border-subtle,rgba(240,246,252,0.1)));}}/*!sc*/
.cJWUiG .PRIVATE_TreeView-directory-icon{display:grid;color:var(--treeViewItem-leadingVisual-iconColor-rest,var(--color-tree-view-item-directory-fill,#848d97));}/*!sc*/
.cJWUiG .PRIVATE_VisuallyHidden{position:absolute;width:1px;height:1px;padding:0;margin:-1px;overflow:hidden;-webkit-clip:rect(0,0,0,0);clip:rect(0,0,0,0);white-space:nowrap;border-width:0;}/*!sc*/
data-styled.g114[id="TreeView__UlBox-sc-4ex6b6-0"]{content:"cJWUiG,"}/*!sc*/
</style><meta data-hydrostats="publish"/> <!-- --> <!-- --> <button hidden="" data-testid="header-permalink-button" data-hotkey-scope="read-only-cursor-text-area"></button><button hidden=""></button><div><div style="--sticky-pane-height:100vh;--spacing:var(--spacing-none)" class="Box-sc-g0xbh4-0 hOfjFo"><div class="Box-sc-g0xbh4-0 oDGAe"><div class="Box-sc-g0xbh4-0 kowOcT"><div tabindex="0" class="Box-sc-g0xbh4-0 gISSDQ"><div class="Box-sc-g0xbh4-0 cMnVPV"><div class="Box-sc-g0xbh4-0 hPvFuC"></div><div style="--pane-width:320px" class="Box-sc-g0xbh4-0 fFSoPl"><div class="react-tree-pane-contents"><div id="repos-file-tree" class="Box-sc-g0xbh4-0 birIjn"><div class="Box-sc-g0xbh4-0 hNNCwk"><div class="Box-sc-g0xbh4-0 jfIeyl"><h2 class="Box-sc-g0xbh4-0 XosP prc-Heading-Heading-6CmGO"><button style="--button-color:fg.muted" type="button" aria-label="Expand file tree" data-testid="expand-file-tree-button-mobile" class="Box-sc-g0xbh4-0 hMLRgO prc-Button-ButtonBase-c50BI" data-loading="false" data-size="medium" data-variant="invisible" aria-describedby=":Rl6mplab:-loading-announcement"><span data-component="buttonContent" class="Box-sc-g0xbh4-0 gUkoLg prc-Button-ButtonContent-HKbr-"><span data-component="leadingVisual" class="prc-Button-Visual-2epfX prc-Button-VisualWrap-Db-eB"><svg aria-hidden="true" focusable="false" class="octicon octicon-arrow-left" viewBox="0 0 16 16" width="16" height="16" fill="currentColor" style="display:inline-block;user-select:none;vertical-align:text-bottom;overflow:visible"><path d="M7.78 12.53a.75.75 0 0 1-1.06 0L2.47 8.28a.75.75 0 0 1 0-1.06l4.25-4.25a.751.751 0 0 1 1.042.018.751.751 0 0 1 .018 1.042L4.81 7h7.44a.75.75 0 0 1 0 1.5H4.81l2.97 2.97a.75.75 0 0 1 0 1.06Z"></path></svg></span><span data-component="text" class="prc-Button-Label-pTQ3x">Files</span></span></button><span role="tooltip" aria-label="Collapse file tree" id="expand-button-file-tree-button" class="Tooltip__TooltipBase-sc-17tf59c-0 fiSvBN tooltipped-se"><button data-component="IconButton" type="button" data-testid="collapse-file-tree-button" aria-expanded="true" aria-controls="repos-file-tree" class="prc-Button-ButtonBase-c50BI position-relative ExpandFileTreeButton-module__expandButton--gL4is ExpandFileTreeButton-module__filesButtonBreakpoint--WfX9t fgColor-muted prc-Button-IconButton-szpyj" data-loading="false" data-no-visuals="true" data-size="medium" data-variant="invisible" aria-describedby=":R356mplab:-loading-announcement" aria-labelledby="expand-button-file-tree-button"><svg aria-hidden="true" focusable="false" class="octicon octicon-sidebar-expand" viewBox="0 0 16 16" width="16" height="16" fill="currentColor" style="display:inline-block;user-select:none;vertical-align:text-bottom;overflow:visible"><path d="m4.177 7.823 2.396-2.396A.25.25 0 0 1 7 5.604v4.792a.25.25 0 0 1-.427.177L4.177 8.177a.25.25 0 0 1 0-.354Z"></path><path d="M0 1.75C0 .784.784 0 1.75 0h12.5C15.216 0 16 .784 16 1.75v12.5A1.75 1.75 0 0 1 14.25 16H1.75A1.75 1.75 0 0 1 0 14.25Zm1.75-.25a.25.25 0 0 0-.25.25v12.5c0 .138.112.25.25.25H9.5v-13Zm12.5 13a.25.25 0 0 0 .25-.25V1.75a.25.25 0 0 0-.25-.25H11v13Z"></path></svg></button></span><button hidden="" data-testid="" data-hotkey-scope="read-only-cursor-text-area"></button></h2><h2 class="Box-sc-g0xbh4-0 kOkWgo prc-Heading-Heading-6CmGO">Files</h2></div><div class="Box-sc-g0xbh4-0 lhbroM"><div class="Box-sc-g0xbh4-0 khzwtX"><button type="button" aria-haspopup="true" aria-expanded="false" tabindex="0" aria-label="main branch" data-testid="anchor-button" class="Box-sc-g0xbh4-0 JMXqM prc-Button-ButtonBase-c50BI react-repos-tree-pane-ref-selector width-full ref-selector-class" data-loading="false" data-size="medium" data-variant="default" aria-describedby="branch-picker-repos-header-ref-selector-loading-announcement" id="branch-picker-repos-header-ref-selector"><span data-component="buttonContent" class="Box-sc-g0xbh4-0 gUkoLg prc-Button-ButtonContent-HKbr-"><span data-component="text" class="prc-Button-Label-pTQ3x"><div class="Box-sc-g0xbh4-0 bZBlpz"><div class="Box-sc-g0xbh4-0 bJjzmO"><svg aria-hidden="true" focusable="false" class="octicon octicon-git-branch" viewBox="0 0 16 16" width="16" height="16" fill="currentColor" style="display:inline-block;user-select:none;vertical-align:text-bottom;overflow:visible"><path d="M9.5 3.25a2.25 2.25 0 1 1 3 2.122V6A2.5 2.5 0 0 1 10 8.5H6a1 1 0 0 0-1 1v1.128a2.251 2.251 0 1 1-1.5 0V5.372a2.25 2.25 0 1 1 1.5 0v1.836A2.493 2.493 0 0 1 6 7h4a1 1 0 0 0 1-1v-.628A2.25 2.25 0 0 1 9.5 3.25Zm-6 0a.75.75 0 1 0 1.5 0 .75.75 0 0 0-1.5 0Zm8.25-.75a.75.75 0 1 0 0 1.5.75.75 0 0 0 0-1.5ZM4.25 12a.75.75 0 1 0 0 1.5.75.75 0 0 0 0-1.5Z"></path></svg></div><div class="Box-sc-g0xbh4-0 ffLUq ref-selector-button-text-container"><span class="Text__StyledText-sc-17v1xeu-0 eMMFM"> <!-- -->main</span></div></div></span><span data-component="trailingVisual" class="prc-Button-Visual-2epfX prc-Button-VisualWrap-Db-eB"><svg aria-hidden="true" focusable="false" class="octicon octicon-triangle-down" viewBox="0 0 16 16" width="16" height="16" fill="currentColor" style="display:inline-block;user-select:none;vertical-align:text-bottom;overflow:visible"><path d="m4.427 7.427 3.396 3.396a.25.25 0 0 0 .354 0l3.396-3.396A.25.25 0 0 0 11.396 7H4.604a.25.25 0 0 0-.177.427Z"></path></svg></span></span></button><button hidden="" data-hotkey-scope="read-only-cursor-text-area"></button></div><div class="Box-sc-g0xbh4-0 eTeVqd"><a sx="[object Object]" data-component="IconButton" type="button" aria-label="Add file" class="Box-sc-g0xbh4-0 jNHrPP prc-Button-ButtonBase-c50BI prc-Button-IconButton-szpyj" data-loading="false" data-no-visuals="true" data-size="medium" data-variant="default" aria-describedby=":R6q6mplab:-loading-announcement :Rq6mplab:" href="/sotakao/ml-seminar-ucl/new/main/Notebooks"><svg aria-hidden="true" focusable="false" class="octicon octicon-plus" viewBox="0 0 16 16" width="16" height="16" fill="currentColor" style="display:inline-block;user-select:none;vertical-align:text-bottom;overflow:visible"><path d="M7.75 2a.75.75 0 0 1 .75.75V7h4.25a.75.75 0 0 1 0 1.5H8.5v4.25a.75.75 0 0 1-1.5 0V8.5H2.75a.75.75 0 0 1 0-1.5H7V2.75A.75.75 0 0 1 7.75 2Z"></path></svg></a><span class="Tooltip__StyledTooltip-sc-e45c7z-0 fLAhLl" data-direction="s" aria-label="Add file" role="tooltip" aria-hidden="true" id=":Rq6mplab:">Add file</span><button data-component="IconButton" type="button" aria-label="Search this repository" class="Box-sc-g0xbh4-0 ijefGF prc-Button-ButtonBase-c50BI prc-Button-IconButton-szpyj" data-loading="false" data-no-visuals="true" data-size="medium" data-variant="default" aria-describedby=":R3a6mplab:-loading-announcement"><svg aria-hidden="true" focusable="false" class="octicon octicon-search" viewBox="0 0 16 16" width="16" height="16" fill="currentColor" style="display:inline-block;user-select:none;vertical-align:text-bottom;overflow:visible"><path d="M10.68 11.74a6 6 0 0 1-7.922-8.982 6 6 0 0 1 8.982 7.922l3.04 3.04a.749.749 0 0 1-.326 1.275.749.749 0 0 1-.734-.215ZM11.5 7a4.499 4.499 0 1 0-8.997 0A4.499 4.499 0 0 0 11.5 7Z"></path></svg></button><button hidden="" data-testid="" data-hotkey-scope="read-only-cursor-text-area"></button></div></div></div><div class="Box-sc-g0xbh4-0 ftzGWg"><span class="TextInputWrapper__StyledTextInputBaseWrapper-sc-1mqhpbi-0 bclhiL TextInputWrapper__StyledTextInputWrapper-sc-1mqhpbi-1 jpROxA TextInput-wrapper" data-leading-visual="true" data-trailing-visual="true" aria-busy="false"><span class="TextInput-icon" id=":R5amplab:" aria-hidden="true"><svg aria-hidden="true" focusable="false" class="octicon octicon-search" viewBox="0 0 16 16" width="16" height="16" fill="currentColor" style="display:inline-block;user-select:none;vertical-align:text-bottom;overflow:visible"><path d="M10.68 11.74a6 6 0 0 1-7.922-8.982 6 6 0 0 1 8.982 7.922l3.04 3.04a.749.749 0 0 1-.326 1.275.749.749 0 0 1-.734-.215ZM11.5 7a4.499 4.499 0 1 0-8.997 0A4.499 4.499 0 0 0 11.5 7Z"></path></svg></span><input type="text" aria-label="Go to file" role="combobox" aria-controls="file-results-list" aria-expanded="false" aria-haspopup="dialog" autoCorrect="off" spellcheck="false" placeholder="Go to file" aria-describedby=":R5amplab: :R5amplabH1:" data-component="input" class="UnstyledTextInput__ToggledUnstyledTextInput-sc-14ypya-0 jkNcAv" value=""/><span class="TextInput-icon" id=":R5amplabH1:" aria-hidden="true"><div class="Box-sc-g0xbh4-0 dItACB"><kbd>t</kbd></div></span></span></div><button hidden="" data-testid="" data-hotkey-scope="read-only-cursor-text-area"></button><button hidden=""></button><div class="Box-sc-g0xbh4-0 gjtfVk"><div class="react-tree-show-tree-items"><div data-testid="repos-file-tree-container" class="Box-sc-g0xbh4-0 cOxzdh"><nav aria-label="File Tree Navigation"><span role="status" aria-live="polite" aria-atomic="true" class="_VisuallyHidden__VisuallyHidden-sc-11jhm7a-0 brGdpi"></span><ul role="tree" aria-label="Files" data-truncate-text="true" class="TreeView__UlBox-sc-4ex6b6-0 cJWUiG"><li class="PRIVATE_TreeView-item" tabindex="0" id="Figures-item" role="treeitem" aria-labelledby=":R39implab:" aria-describedby=":R39implabH1:" aria-level="1" aria-expanded="false" aria-selected="false"><div class="PRIVATE_TreeView-item-container" style="--level:1;content-visibility:auto;contain-intrinsic-size:auto 2rem"><div style="grid-area:spacer;display:flex"><div style="width:100%;display:flex"></div></div><div class="PRIVATE_TreeView-item-toggle PRIVATE_TreeView-item-toggle--hover PRIVATE_TreeView-item-toggle--end"><svg aria-hidden="true" focusable="false" class="octicon octicon-chevron-right" viewBox="0 0 12 12" width="12" height="12" fill="currentColor" style="display:inline-block;user-select:none;vertical-align:text-bottom;overflow:visible"><path d="M4.7 10c-.2 0-.4-.1-.5-.2-.3-.3-.3-.8 0-1.1L6.9 6 4.2 3.3c-.3-.3-.3-.8 0-1.1.3-.3.8-.3 1.1 0l3.3 3.2c.3.3.3.8 0 1.1L5.3 9.7c-.2.2-.4.3-.6.3Z"></path></svg></div><div id=":R39implab:" class="PRIVATE_TreeView-item-content"><div class="PRIVATE_VisuallyHidden" aria-hidden="true" id=":R39implabH1:"></div><div class="PRIVATE_TreeView-item-visual" aria-hidden="true"><div class="PRIVATE_TreeView-directory-icon"><svg aria-hidden="true" focusable="false" class="octicon octicon-file-directory-fill" viewBox="0 0 16 16" width="16" height="16" fill="currentColor" style="display:inline-block;user-select:none;vertical-align:text-bottom;overflow:visible"><path d="M1.75 1A1.75 1.75 0 0 0 0 2.75v10.5C0 14.216.784 15 1.75 15h12.5A1.75 1.75 0 0 0 16 13.25v-8.5A1.75 1.75 0 0 0 14.25 3H7.5a.25.25 0 0 1-.2-.1l-.9-1.2C6.07 1.26 5.55 1 5 1H1.75Z"></path></svg></div></div><span class="PRIVATE_TreeView-item-content-text"><span>Figures</span></span></div></div></li><li class="PRIVATE_TreeView-item" tabindex="0" id="Notebooks-item" role="treeitem" aria-labelledby=":R59implab:" aria-describedby=":R59implabH1:" aria-level="1" aria-expanded="true" aria-selected="false"><div class="PRIVATE_TreeView-item-container" style="--level:1;content-visibility:auto;contain-intrinsic-size:auto 2rem"><div style="grid-area:spacer;display:flex"><div style="width:100%;display:flex"></div></div><div class="PRIVATE_TreeView-item-toggle PRIVATE_TreeView-item-toggle--hover PRIVATE_TreeView-item-toggle--end"><svg aria-hidden="true" focusable="false" class="octicon octicon-chevron-down" viewBox="0 0 12 12" width="12" height="12" fill="currentColor" style="display:inline-block;user-select:none;vertical-align:text-bottom;overflow:visible"><path d="M6 8.825c-.2 0-.4-.1-.5-.2l-3.3-3.3c-.3-.3-.3-.8 0-1.1.3-.3.8-.3 1.1 0l2.7 2.7 2.7-2.7c.3-.3.8-.3 1.1 0 .3.3.3.8 0 1.1l-3.2 3.2c-.2.2-.4.3-.6.3Z"></path></svg></div><div id=":R59implab:" class="PRIVATE_TreeView-item-content"><div class="PRIVATE_VisuallyHidden" aria-hidden="true" id=":R59implabH1:"></div><div class="PRIVATE_TreeView-item-visual" aria-hidden="true"><div class="PRIVATE_TreeView-directory-icon"><svg aria-hidden="true" focusable="false" class="octicon octicon-file-directory-open-fill" viewBox="0 0 16 16" width="16" height="16" fill="currentColor" style="display:inline-block;user-select:none;vertical-align:text-bottom;overflow:visible"><path d="M.513 1.513A1.75 1.75 0 0 1 1.75 1h3.5c.55 0 1.07.26 1.4.7l.9 1.2a.25.25 0 0 0 .2.1H13a1 1 0 0 1 1 1v.5H2.75a.75.75 0 0 0 0 1.5h11.978a1 1 0 0 1 .994 1.117L15 13.25A1.75 1.75 0 0 1 13.25 15H1.75A1.75 1.75 0 0 1 0 13.25V2.75c0-.464.184-.91.513-1.237Z"></path></svg></div></div><span class="PRIVATE_TreeView-item-content-text"><span>Notebooks</span></span></div></div><ul role="group" style="list-style:none;padding:0;margin:0" aria-label=""><li class="PRIVATE_TreeView-item" tabindex="0" id="Notebooks/bp_example.ipynb-item" role="treeitem" aria-labelledby=":R2ml9implab:" aria-describedby=":R2ml9implabH1:" aria-level="2" aria-selected="false"><div class="PRIVATE_TreeView-item-container" style="--level:2;content-visibility:auto;contain-intrinsic-size:auto 2rem"><div style="grid-area:spacer;display:flex"><div style="width:100%;display:flex"><div class="PRIVATE_TreeView-item-level-line"></div></div></div><div id=":R2ml9implab:" class="PRIVATE_TreeView-item-content"><div class="PRIVATE_VisuallyHidden" aria-hidden="true" id=":R2ml9implabH1:"></div><div class="PRIVATE_TreeView-item-visual" aria-hidden="true"><svg aria-hidden="true" focusable="false" class="octicon octicon-file" viewBox="0 0 16 16" width="16" height="16" fill="currentColor" style="display:inline-block;user-select:none;vertical-align:text-bottom;overflow:visible"><path d="M2 1.75C2 .784 2.784 0 3.75 0h6.586c.464 0 .909.184 1.237.513l2.914 2.914c.329.328.513.773.513 1.237v9.586A1.75 1.75 0 0 1 13.25 16h-9.5A1.75 1.75 0 0 1 2 14.25Zm1.75-.25a.25.25 0 0 0-.25.25v12.5c0 .138.112.25.25.25h9.5a.25.25 0 0 0 .25-.25V6h-2.75A1.75 1.75 0 0 1 9 4.25V1.5Zm6.75.062V4.25c0 .138.112.25.25.25h2.688l-.011-.013-2.914-2.914-.013-.011Z"></path></svg></div><span class="PRIVATE_TreeView-item-content-text"><span>bp_example.ipynb</span></span></div></div></li><li class="PRIVATE_TreeView-item" tabindex="0" id="Notebooks/cora_example.ipynb-item" role="treeitem" aria-labelledby=":R4ml9implab:" aria-describedby=":R4ml9implabH1:" aria-level="2" aria-selected="false"><div class="PRIVATE_TreeView-item-container" style="--level:2;content-visibility:auto;contain-intrinsic-size:auto 2rem"><div style="grid-area:spacer;display:flex"><div style="width:100%;display:flex"><div class="PRIVATE_TreeView-item-level-line"></div></div></div><div id=":R4ml9implab:" class="PRIVATE_TreeView-item-content"><div class="PRIVATE_VisuallyHidden" aria-hidden="true" id=":R4ml9implabH1:"></div><div class="PRIVATE_TreeView-item-visual" aria-hidden="true"><svg aria-hidden="true" focusable="false" class="octicon octicon-file" viewBox="0 0 16 16" width="16" height="16" fill="currentColor" style="display:inline-block;user-select:none;vertical-align:text-bottom;overflow:visible"><path d="M2 1.75C2 .784 2.784 0 3.75 0h6.586c.464 0 .909.184 1.237.513l2.914 2.914c.329.328.513.773.513 1.237v9.586A1.75 1.75 0 0 1 13.25 16h-9.5A1.75 1.75 0 0 1 2 14.25Zm1.75-.25a.25.25 0 0 0-.25.25v12.5c0 .138.112.25.25.25h9.5a.25.25 0 0 0 .25-.25V6h-2.75A1.75 1.75 0 0 1 9 4.25V1.5Zm6.75.062V4.25c0 .138.112.25.25.25h2.688l-.011-.013-2.914-2.914-.013-.011Z"></path></svg></div><span class="PRIVATE_TreeView-item-content-text"><span>cora_example.ipynb</span></span></div></div></li><li class="PRIVATE_TreeView-item" tabindex="0" id="Notebooks/loopy_example.ipynb-item" role="treeitem" aria-labelledby=":R6ml9implab:" aria-describedby=":R6ml9implabH1:" aria-level="2" aria-current="true" aria-selected="false"><div class="PRIVATE_TreeView-item-container" style="--level:2"><div style="grid-area:spacer;display:flex"><div style="width:100%;display:flex"><div class="PRIVATE_TreeView-item-level-line"></div></div></div><div id=":R6ml9implab:" class="PRIVATE_TreeView-item-content"><div class="PRIVATE_VisuallyHidden" aria-hidden="true" id=":R6ml9implabH1:"></div><div class="PRIVATE_TreeView-item-visual" aria-hidden="true"><svg aria-hidden="true" focusable="false" class="octicon octicon-file" viewBox="0 0 16 16" width="16" height="16" fill="currentColor" style="display:inline-block;user-select:none;vertical-align:text-bottom;overflow:visible"><path d="M2 1.75C2 .784 2.784 0 3.75 0h6.586c.464 0 .909.184 1.237.513l2.914 2.914c.329.328.513.773.513 1.237v9.586A1.75 1.75 0 0 1 13.25 16h-9.5A1.75 1.75 0 0 1 2 14.25Zm1.75-.25a.25.25 0 0 0-.25.25v12.5c0 .138.112.25.25.25h9.5a.25.25 0 0 0 .25-.25V6h-2.75A1.75 1.75 0 0 1 9 4.25V1.5Zm6.75.062V4.25c0 .138.112.25.25.25h2.688l-.011-.013-2.914-2.914-.013-.011Z"></path></svg></div><span class="PRIVATE_TreeView-item-content-text"><span>loopy_example.ipynb</span></span></div></div></li><li class="PRIVATE_TreeView-item" tabindex="0" id="Notebooks/max_product.ipynb-item" role="treeitem" aria-labelledby=":R8ml9implab:" aria-describedby=":R8ml9implabH1:" aria-level="2" aria-selected="false"><div class="PRIVATE_TreeView-item-container" style="--level:2;content-visibility:auto;contain-intrinsic-size:auto 2rem"><div style="grid-area:spacer;display:flex"><div style="width:100%;display:flex"><div class="PRIVATE_TreeView-item-level-line"></div></div></div><div id=":R8ml9implab:" class="PRIVATE_TreeView-item-content"><div class="PRIVATE_VisuallyHidden" aria-hidden="true" id=":R8ml9implabH1:"></div><div class="PRIVATE_TreeView-item-visual" aria-hidden="true"><svg aria-hidden="true" focusable="false" class="octicon octicon-file" viewBox="0 0 16 16" width="16" height="16" fill="currentColor" style="display:inline-block;user-select:none;vertical-align:text-bottom;overflow:visible"><path d="M2 1.75C2 .784 2.784 0 3.75 0h6.586c.464 0 .909.184 1.237.513l2.914 2.914c.329.328.513.773.513 1.237v9.586A1.75 1.75 0 0 1 13.25 16h-9.5A1.75 1.75 0 0 1 2 14.25Zm1.75-.25a.25.25 0 0 0-.25.25v12.5c0 .138.112.25.25.25h9.5a.25.25 0 0 0 .25-.25V6h-2.75A1.75 1.75 0 0 1 9 4.25V1.5Zm6.75.062V4.25c0 .138.112.25.25.25h2.688l-.011-.013-2.914-2.914-.013-.011Z"></path></svg></div><span class="PRIVATE_TreeView-item-content-text"><span>max_product.ipynb</span></span></div></div></li></ul></li><li class="PRIVATE_TreeView-item" tabindex="0" id="Message_Passing_Lecture_Slides.pdf-item" role="treeitem" aria-labelledby=":R79implab:" aria-describedby=":R79implabH1:" aria-level="1" aria-selected="false"><div class="PRIVATE_TreeView-item-container" style="--level:1;content-visibility:auto;contain-intrinsic-size:auto 2rem"><div style="grid-area:spacer;display:flex"><div style="width:100%;display:flex"></div></div><div id=":R79implab:" class="PRIVATE_TreeView-item-content"><div class="PRIVATE_VisuallyHidden" aria-hidden="true" id=":R79implabH1:"></div><div class="PRIVATE_TreeView-item-visual" aria-hidden="true"><svg aria-hidden="true" focusable="false" class="octicon octicon-file" viewBox="0 0 16 16" width="16" height="16" fill="currentColor" style="display:inline-block;user-select:none;vertical-align:text-bottom;overflow:visible"><path d="M2 1.75C2 .784 2.784 0 3.75 0h6.586c.464 0 .909.184 1.237.513l2.914 2.914c.329.328.513.773.513 1.237v9.586A1.75 1.75 0 0 1 13.25 16h-9.5A1.75 1.75 0 0 1 2 14.25Zm1.75-.25a.25.25 0 0 0-.25.25v12.5c0 .138.112.25.25.25h9.5a.25.25 0 0 0 .25-.25V6h-2.75A1.75 1.75 0 0 1 9 4.25V1.5Zm6.75.062V4.25c0 .138.112.25.25.25h2.688l-.011-.013-2.914-2.914-.013-.011Z"></path></svg></div><span class="PRIVATE_TreeView-item-content-text"><span>Message_Passing_Lecture_Slides.pdf</span></span></div></div></li><li class="PRIVATE_TreeView-item" tabindex="0" id="README.md-item" role="treeitem" aria-labelledby=":R99implab:" aria-describedby=":R99implabH1:" aria-level="1" aria-selected="false"><div class="PRIVATE_TreeView-item-container" style="--level:1;content-visibility:auto;contain-intrinsic-size:auto 2rem"><div style="grid-area:spacer;display:flex"><div style="width:100%;display:flex"></div></div><div id=":R99implab:" class="PRIVATE_TreeView-item-content"><div class="PRIVATE_VisuallyHidden" aria-hidden="true" id=":R99implabH1:"></div><div class="PRIVATE_TreeView-item-visual" aria-hidden="true"><svg aria-hidden="true" focusable="false" class="octicon octicon-file" viewBox="0 0 16 16" width="16" height="16" fill="currentColor" style="display:inline-block;user-select:none;vertical-align:text-bottom;overflow:visible"><path d="M2 1.75C2 .784 2.784 0 3.75 0h6.586c.464 0 .909.184 1.237.513l2.914 2.914c.329.328.513.773.513 1.237v9.586A1.75 1.75 0 0 1 13.25 16h-9.5A1.75 1.75 0 0 1 2 14.25Zm1.75-.25a.25.25 0 0 0-.25.25v12.5c0 .138.112.25.25.25h9.5a.25.25 0 0 0 .25-.25V6h-2.75A1.75 1.75 0 0 1 9 4.25V1.5Zm6.75.062V4.25c0 .138.112.25.25.25h2.688l-.011-.013-2.914-2.914-.013-.011Z"></path></svg></div><span class="PRIVATE_TreeView-item-content-text"><span>README.md</span></span></div></div></li><li class="PRIVATE_TreeView-item" tabindex="0" id="algorithms.py-item" role="treeitem" aria-labelledby=":Rb9implab:" aria-describedby=":Rb9implabH1:" aria-level="1" aria-selected="false"><div class="PRIVATE_TreeView-item-container" style="--level:1;content-visibility:auto;contain-intrinsic-size:auto 2rem"><div style="grid-area:spacer;display:flex"><div style="width:100%;display:flex"></div></div><div id=":Rb9implab:" class="PRIVATE_TreeView-item-content"><div class="PRIVATE_VisuallyHidden" aria-hidden="true" id=":Rb9implabH1:"></div><div class="PRIVATE_TreeView-item-visual" aria-hidden="true"><svg aria-hidden="true" focusable="false" class="octicon octicon-file" viewBox="0 0 16 16" width="16" height="16" fill="currentColor" style="display:inline-block;user-select:none;vertical-align:text-bottom;overflow:visible"><path d="M2 1.75C2 .784 2.784 0 3.75 0h6.586c.464 0 .909.184 1.237.513l2.914 2.914c.329.328.513.773.513 1.237v9.586A1.75 1.75 0 0 1 13.25 16h-9.5A1.75 1.75 0 0 1 2 14.25Zm1.75-.25a.25.25 0 0 0-.25.25v12.5c0 .138.112.25.25.25h9.5a.25.25 0 0 0 .25-.25V6h-2.75A1.75 1.75 0 0 1 9 4.25V1.5Zm6.75.062V4.25c0 .138.112.25.25.25h2.688l-.011-.013-2.914-2.914-.013-.011Z"></path></svg></div><span class="PRIVATE_TreeView-item-content-text"><span>algorithms.py</span></span></div></div></li><li class="PRIVATE_TreeView-item" tabindex="0" id="models.py-item" role="treeitem" aria-labelledby=":Rd9implab:" aria-describedby=":Rd9implabH1:" aria-level="1" aria-selected="false"><div class="PRIVATE_TreeView-item-container" style="--level:1;content-visibility:auto;contain-intrinsic-size:auto 2rem"><div style="grid-area:spacer;display:flex"><div style="width:100%;display:flex"></div></div><div id=":Rd9implab:" class="PRIVATE_TreeView-item-content"><div class="PRIVATE_VisuallyHidden" aria-hidden="true" id=":Rd9implabH1:"></div><div class="PRIVATE_TreeView-item-visual" aria-hidden="true"><svg aria-hidden="true" focusable="false" class="octicon octicon-file" viewBox="0 0 16 16" width="16" height="16" fill="currentColor" style="display:inline-block;user-select:none;vertical-align:text-bottom;overflow:visible"><path d="M2 1.75C2 .784 2.784 0 3.75 0h6.586c.464 0 .909.184 1.237.513l2.914 2.914c.329.328.513.773.513 1.237v9.586A1.75 1.75 0 0 1 13.25 16h-9.5A1.75 1.75 0 0 1 2 14.25Zm1.75-.25a.25.25 0 0 0-.25.25v12.5c0 .138.112.25.25.25h9.5a.25.25 0 0 0 .25-.25V6h-2.75A1.75 1.75 0 0 1 9 4.25V1.5Zm6.75.062V4.25c0 .138.112.25.25.25h2.688l-.011-.013-2.914-2.914-.013-.011Z"></path></svg></div><span class="PRIVATE_TreeView-item-content-text"><span>models.py</span></span></div></div></li></ul></nav></div></div></div></div></div></div><div class="Box-sc-g0xbh4-0 bTBnTW"><div role="slider" aria-label="Draggable pane splitter" aria-valuemin="0" aria-valuemax="0" aria-valuenow="0" aria-valuetext="Pane width 0 pixels" tabindex="0" class="Box-sc-g0xbh4-0 fFMzrG"></div></div></div></div><div class="Box-sc-g0xbh4-0 iKqMNA"><div class="Box-sc-g0xbh4-0"></div><div class="Box-sc-g0xbh4-0 FxAyp"><div data-selector="repos-split-pane-content" tabindex="0" class="Box-sc-g0xbh4-0 leYMvG"><div class="Box-sc-g0xbh4-0 KMPzq"><div class="Box-sc-g0xbh4-0 hfKjHv container"><div class="px-3 pt-3 pb-0" id="StickyHeader"><div class="Box-sc-g0xbh4-0 gZWyZE"><div class="Box-sc-g0xbh4-0 dwYKDk"><div class="Box-sc-g0xbh4-0 iDtIiT"><div class="Box-sc-g0xbh4-0 cEytCf"><nav data-testid="breadcrumbs" aria-labelledby="repos-header-breadcrumb--wide-heading" id="repos-header-breadcrumb--wide" class="Box-sc-g0xbh4-0 fzFXnm"><h2 class="sr-only ScreenReaderHeading-module__userSelectNone--vW4Cq prc-Heading-Heading-6CmGO" data-testid="screen-reader-heading" id="repos-header-breadcrumb--wide-heading">Breadcrumbs</h2><ol class="Box-sc-g0xbh4-0 iMnkmv"><li class="Box-sc-g0xbh4-0 ghzDag"><a class="Box-sc-g0xbh4-0 kHuKdh prc-Link-Link-85e08" sx="[object Object]" data-testid="breadcrumbs-repo-link" href="/sotakao/ml-seminar-ucl/tree/main">ml-seminar-ucl</a></li><li class="Box-sc-g0xbh4-0 ghzDag"><span class="Text__StyledText-sc-17v1xeu-0 iHQnrN" aria-hidden="true">/</span><a class="Box-sc-g0xbh4-0 kgiVEz prc-Link-Link-85e08" sx="[object Object]" href="/sotakao/ml-seminar-ucl/tree/main/Notebooks">Notebooks</a></li></ol></nav><div data-testid="breadcrumbs-filename" class="Box-sc-g0xbh4-0 ghzDag"><span class="Text__StyledText-sc-17v1xeu-0 iHQnrN" aria-hidden="true">/</span><h1 class="Box-sc-g0xbh4-0 jGhzSQ prc-Heading-Heading-6CmGO" tabindex="-1" id="file-name-id-wide">loopy_example.ipynb</h1></div><button data-component="IconButton" type="button" class="prc-Button-ButtonBase-c50BI ml-2 prc-Button-IconButton-szpyj" data-loading="false" data-no-visuals="true" data-size="small" data-variant="invisible" aria-describedby=":R3td9lab:-loading-announcement" aria-labelledby=":Rdd9lab:"><svg aria-hidden="true" focusable="false" class="octicon octicon-copy" viewBox="0 0 16 16" width="16" height="16" fill="currentColor" style="display:inline-block;user-select:none;vertical-align:text-bottom;overflow:visible"><path d="M0 6.75C0 5.784.784 5 1.75 5h1.5a.75.75 0 0 1 0 1.5h-1.5a.25.25 0 0 0-.25.25v7.5c0 .138.112.25.25.25h7.5a.25.25 0 0 0 .25-.25v-1.5a.75.75 0 0 1 1.5 0v1.5A1.75 1.75 0 0 1 9.25 16h-7.5A1.75 1.75 0 0 1 0 14.25Z"></path><path d="M5 1.75C5 .784 5.784 0 6.75 0h7.5C15.216 0 16 .784 16 1.75v7.5A1.75 1.75 0 0 1 14.25 11h-7.5A1.75 1.75 0 0 1 5 9.25Zm1.75-.25a.25.25 0 0 0-.25.25v7.5c0 .138.112.25.25.25h7.5a.25.25 0 0 0 .25-.25v-7.5a.25.25 0 0 0-.25-.25Z"></path></svg></button><span class="Tooltip__StyledTooltip-sc-e45c7z-0 fLAhLl CopyToClipboardButton-module__tooltip--Dq1IB" data-direction="nw" aria-label="Copy path" aria-hidden="true" id=":Rdd9lab:">Copy path</span></div></div><div class="react-code-view-header-element--wide"><div class="Box-sc-g0xbh4-0 faNtbn"><div class="d-flex gap-2"> <button type="button" class="Box-sc-g0xbh4-0 dwNhzn prc-Button-ButtonBase-c50BI" data-loading="false" data-no-visuals="true" data-size="medium" data-variant="default" aria-describedby=":R2l6d9lab:-loading-announcement"><span data-component="buttonContent" class="Box-sc-g0xbh4-0 gUkoLg prc-Button-ButtonContent-HKbr-"><span data-component="text" class="prc-Button-Label-pTQ3x">Blame</span></span></button><button hidden="" data-testid="" data-hotkey-scope="read-only-cursor-text-area"></button><button data-component="IconButton" type="button" aria-label="More file actions" title="More file actions" data-testid="more-file-actions-button-nav-menu-wide" aria-haspopup="true" aria-expanded="false" tabindex="0" class="Box-sc-g0xbh4-0 kVRliy prc-Button-ButtonBase-c50BI js-blob-dropdown-click prc-Button-IconButton-szpyj" data-loading="false" data-no-visuals="true" data-size="medium" data-variant="default" aria-describedby=":R156d9lab:-loading-announcement" id=":R156d9lab:"><svg aria-hidden="true" focusable="false" class="octicon octicon-kebab-horizontal" viewBox="0 0 16 16" width="16" height="16" fill="currentColor" style="display:inline-block;user-select:none;vertical-align:text-bottom;overflow:visible"><path d="M8 9a1.5 1.5 0 1 0 0-3 1.5 1.5 0 0 0 0 3ZM1.5 9a1.5 1.5 0 1 0 0-3 1.5 1.5 0 0 0 0 3Zm13 0a1.5 1.5 0 1 0 0-3 1.5 1.5 0 0 0 0 3Z"></path></svg></button> </div></div></div><div class="react-code-view-header-element--narrow"><div class="Box-sc-g0xbh4-0 faNtbn"><div class="d-flex gap-2"> <button type="button" class="Box-sc-g0xbh4-0 dwNhzn prc-Button-ButtonBase-c50BI" data-loading="false" data-no-visuals="true" data-size="medium" data-variant="default" aria-describedby=":R2l7d9lab:-loading-announcement"><span data-component="buttonContent" class="Box-sc-g0xbh4-0 gUkoLg prc-Button-ButtonContent-HKbr-"><span data-component="text" class="prc-Button-Label-pTQ3x">Blame</span></span></button><button hidden="" data-testid="" data-hotkey-scope="read-only-cursor-text-area"></button><button data-component="IconButton" type="button" aria-label="More file actions" title="More file actions" data-testid="more-file-actions-button-nav-menu-narrow" aria-haspopup="true" aria-expanded="false" tabindex="0" class="Box-sc-g0xbh4-0 kVRliy prc-Button-ButtonBase-c50BI js-blob-dropdown-click prc-Button-IconButton-szpyj" data-loading="false" data-no-visuals="true" data-size="medium" data-variant="default" aria-describedby=":R157d9lab:-loading-announcement" id=":R157d9lab:"><svg aria-hidden="true" focusable="false" class="octicon octicon-kebab-horizontal" viewBox="0 0 16 16" width="16" height="16" fill="currentColor" style="display:inline-block;user-select:none;vertical-align:text-bottom;overflow:visible"><path d="M8 9a1.5 1.5 0 1 0 0-3 1.5 1.5 0 0 0 0 3ZM1.5 9a1.5 1.5 0 1 0 0-3 1.5 1.5 0 0 0 0 3Zm13 0a1.5 1.5 0 1 0 0-3 1.5 1.5 0 0 0 0 3Z"></path></svg></button> </div></div></div></div></div></div></div></div><div class="Box-sc-g0xbh4-0 dJxjrT react-code-view-bottom-padding"> <div class="Box-sc-g0xbh4-0 eFxKDQ"></div> <!-- --> <!-- --> </div><div class="Box-sc-g0xbh4-0 dJxjrT"> <!-- --> <!-- --> <div class="d-flex flex-column border rounded-2 mb-3 pl-1"><div class="Box-sc-g0xbh4-0 dzCJzi"><h2 class="sr-only ScreenReaderHeading-module__userSelectNone--vW4Cq prc-Heading-Heading-6CmGO" data-testid="screen-reader-heading">Latest commit</h2><div style="width:120px" class="Skeleton Skeleton--text" data-testid="loading"> </div><div class="d-flex flex-shrink-0 gap-2"><div data-testid="latest-commit-details" class="d-none d-sm-flex flex-items-center"></div><div class="d-flex gap-2"><h2 class="sr-only ScreenReaderHeading-module__userSelectNone--vW4Cq prc-Heading-Heading-6CmGO" data-testid="screen-reader-heading">History</h2><a href="/sotakao/ml-seminar-ucl/commits/main/Notebooks/loopy_example.ipynb" class="prc-Button-ButtonBase-c50BI d-none d-lg-flex LinkButton-module__code-view-link-button--xvCGA flex-items-center fgColor-default" data-loading="false" data-size="small" data-variant="invisible" aria-describedby=":R5dlal9lab:-loading-announcement"><span data-component="buttonContent" data-align="center" class="prc-Button-ButtonContent-HKbr-"><span data-component="leadingVisual" class="prc-Button-Visual-2epfX prc-Button-VisualWrap-Db-eB"><svg aria-hidden="true" focusable="false" class="octicon octicon-history" viewBox="0 0 16 16" width="16" height="16" fill="currentColor" style="display:inline-block;user-select:none;vertical-align:text-bottom;overflow:visible"><path d="m.427 1.927 1.215 1.215a8.002 8.002 0 1 1-1.6 5.685.75.75 0 1 1 1.493-.154 6.5 6.5 0 1 0 1.18-4.458l1.358 1.358A.25.25 0 0 1 3.896 6H.25A.25.25 0 0 1 0 5.75V2.104a.25.25 0 0 1 .427-.177ZM7.75 4a.75.75 0 0 1 .75.75v2.992l2.028.812a.75.75 0 0 1-.557 1.392l-2.5-1A.751.751 0 0 1 7 8.25v-3.5A.75.75 0 0 1 7.75 4Z"></path></svg></span><span data-component="text" class="prc-Button-Label-pTQ3x"><span class="fgColor-default">History</span></span></span></a><div class="d-sm-none"></div><div class="d-flex d-lg-none"><span role="tooltip" aria-label="History" id="history-icon-button-tooltip" class="Tooltip__TooltipBase-sc-17tf59c-0 fiSvBN tooltipped-n"><a href="/sotakao/ml-seminar-ucl/commits/main/Notebooks/loopy_example.ipynb" class="prc-Button-ButtonBase-c50BI LinkButton-module__code-view-link-button--xvCGA flex-items-center fgColor-default" data-loading="false" data-size="small" data-variant="invisible" aria-describedby=":Rpdlal9lab:-loading-announcement history-icon-button-tooltip"><span data-component="buttonContent" data-align="center" class="prc-Button-ButtonContent-HKbr-"><span data-component="leadingVisual" class="prc-Button-Visual-2epfX prc-Button-VisualWrap-Db-eB"><svg aria-hidden="true" focusable="false" class="octicon octicon-history" viewBox="0 0 16 16" width="16" height="16" fill="currentColor" style="display:inline-block;user-select:none;vertical-align:text-bottom;overflow:visible"><path d="m.427 1.927 1.215 1.215a8.002 8.002 0 1 1-1.6 5.685.75.75 0 1 1 1.493-.154 6.5 6.5 0 1 0 1.18-4.458l1.358 1.358A.25.25 0 0 1 3.896 6H.25A.25.25 0 0 1 0 5.75V2.104a.25.25 0 0 1 .427-.177ZM7.75 4a.75.75 0 0 1 .75.75v2.992l2.028.812a.75.75 0 0 1-.557 1.392l-2.5-1A.751.751 0 0 1 7 8.25v-3.5A.75.75 0 0 1 7.75 4Z"></path></svg></span></span></a></span></div></div></div></div></div><div class="Box-sc-g0xbh4-0 ldRxiI"><div class="Box-sc-g0xbh4-0 fVkfyA container"><div class="Box-sc-g0xbh4-0 gNAmSV react-code-size-details-banner"><div class="Box-sc-g0xbh4-0 jNEwzY react-code-size-details-banner"><div class="Box-sc-g0xbh4-0 ifyOQK text-mono"><div title="94.1 KB" data-testid="blob-size" class="Truncate__StyledTruncate-sc-23o1d2-0 eAtkQz"><span>258 lines (258 loc) · 94.1 KB</span></div></div></div></div><div class="Box-sc-g0xbh4-0 jdLMhu react-blob-view-header-sticky" id="repos-sticky-header"><div class="Box-sc-g0xbh4-0 tOISc"><div class="react-blob-sticky-header"><div class="Box-sc-g0xbh4-0 hqwSEx"><div class="Box-sc-g0xbh4-0 lzKZY"><div class="Box-sc-g0xbh4-0 fHind"><nav data-testid="breadcrumbs" aria-labelledby="sticky-breadcrumb-heading" id="sticky-breadcrumb" class="Box-sc-g0xbh4-0 fzFXnm"><h2 class="sr-only ScreenReaderHeading-module__userSelectNone--vW4Cq prc-Heading-Heading-6CmGO" data-testid="screen-reader-heading" id="sticky-breadcrumb-heading">Breadcrumbs</h2><ol class="Box-sc-g0xbh4-0 iMnkmv"><li class="Box-sc-g0xbh4-0 ghzDag"><a class="Box-sc-g0xbh4-0 kHuKdh prc-Link-Link-85e08" sx="[object Object]" data-testid="breadcrumbs-repo-link" href="/sotakao/ml-seminar-ucl/tree/main">ml-seminar-ucl</a></li><li class="Box-sc-g0xbh4-0 ghzDag"><span class="Text__StyledText-sc-17v1xeu-0 wcuBT" aria-hidden="true">/</span><a class="Box-sc-g0xbh4-0 kgiVEz prc-Link-Link-85e08" sx="[object Object]" href="/sotakao/ml-seminar-ucl/tree/main/Notebooks">Notebooks</a></li></ol></nav><div data-testid="breadcrumbs-filename" class="Box-sc-g0xbh4-0 ghzDag"><span class="Text__StyledText-sc-17v1xeu-0 wcuBT" aria-hidden="true">/</span><h1 class="Box-sc-g0xbh4-0 dnZoUW prc-Heading-Heading-6CmGO" tabindex="-1" id="sticky-file-name-id">loopy_example.ipynb</h1></div></div><button style="--button-color:fg.default" type="button" class="Box-sc-g0xbh4-0 dpNnZU prc-Button-ButtonBase-c50BI" data-loading="false" data-size="small" data-variant="invisible" aria-describedby=":Riptal9lab:-loading-announcement"><span data-component="buttonContent" class="Box-sc-g0xbh4-0 gUkoLg prc-Button-ButtonContent-HKbr-"><span data-component="leadingVisual" class="prc-Button-Visual-2epfX prc-Button-VisualWrap-Db-eB"><svg aria-hidden="true" focusable="false" class="octicon octicon-arrow-up" viewBox="0 0 16 16" width="16" height="16" fill="currentColor" style="display:inline-block;user-select:none;vertical-align:text-bottom;overflow:visible"><path d="M3.47 7.78a.75.75 0 0 1 0-1.06l4.25-4.25a.75.75 0 0 1 1.06 0l4.25 4.25a.751.751 0 0 1-.018 1.042.751.751 0 0 1-1.042.018L9 4.81v7.44a.75.75 0 0 1-1.5 0V4.81L4.53 7.78a.75.75 0 0 1-1.06 0Z"></path></svg></span><span data-component="text" class="prc-Button-Label-pTQ3x">Top</span></span></button></div></div></div><div class="Box-sc-g0xbh4-0 gpHFJV"><h2 class="sr-only ScreenReaderHeading-module__userSelectNone--vW4Cq prc-Heading-Heading-6CmGO" data-testid="screen-reader-heading">File metadata and controls</h2><div class="Box-sc-g0xbh4-0 iNMjfP"><ul aria-label="File view" class="SegmentedControl__SegmentedControlList-sc-1rzig82-0 eYPFoP" data-size="small"><li class="Box-sc-g0xbh4-0 fefCSX" data-selected="true"><button aria-current="true" class="SegmentedControlButton__SegmentedControlButtonStyled-sc-8lkgxl-0 dPDqJE" type="button"><span class="segmentedControl-content"><div class="Box-sc-g0xbh4-0 segmentedControl-text" data-text="Preview">Preview</div></span></button></li><li class="Box-sc-g0xbh4-0 sulSy"><button aria-current="false" class="SegmentedControlButton__SegmentedControlButtonStyled-sc-8lkgxl-0 kTvXLQ" type="button"><span class="segmentedControl-content"><div class="Box-sc-g0xbh4-0 segmentedControl-text" data-text="Code">Code</div></span></button></li><li class="Box-sc-g0xbh4-0 sulSy"><button aria-current="false" class="SegmentedControlButton__SegmentedControlButtonStyled-sc-8lkgxl-0 gKyOFO" type="button"><span class="segmentedControl-content"><div class="Box-sc-g0xbh4-0 segmentedControl-text" data-text="Blame">Blame</div></span></button></li></ul><button hidden="" data-testid="" data-hotkey-scope="read-only-cursor-text-area"></button><button hidden="" data-testid="" data-hotkey-scope="read-only-cursor-text-area"></button><button hidden="" data-testid="" data-hotkey-scope="read-only-cursor-text-area"></button><div class="Box-sc-g0xbh4-0 jNEwzY react-code-size-details-in-header"><div class="Box-sc-g0xbh4-0 ifyOQK text-mono"><div title="94.1 KB" data-testid="blob-size" class="Truncate__StyledTruncate-sc-23o1d2-0 eAtkQz"><span>258 lines (258 loc) · 94.1 KB</span></div></div></div></div><div class="Box-sc-g0xbh4-0 kcLCKF"><div class="Box-sc-g0xbh4-0 pr-0 prc-ButtonGroup-ButtonGroup-vcMeG"><div><button data-component="IconButton" type="button" data-testid="copilot-ask-menu" class="prc-Button-ButtonBase-c50BI AskCopilotButton-module__square--o8kDO prc-Button-IconButton-szpyj" data-loading="false" data-no-visuals="true" data-size="small" data-variant="default" aria-describedby="blob-view-header-copilot-icon-loading-announcement" aria-labelledby=":Rbsptal9lab:" id="blob-view-header-copilot-icon"><svg aria-hidden="true" focusable="false" class="octicon octicon-copilot" viewBox="0 0 16 16" width="16" height="16" fill="currentColor" style="display:inline-block;user-select:none;vertical-align:text-bottom;overflow:visible"><path d="M7.998 15.035c-4.562 0-7.873-2.914-7.998-3.749V9.338c.085-.628.677-1.686 1.588-2.065.013-.07.024-.143.036-.218.029-.183.06-.384.126-.612-.201-.508-.254-1.084-.254-1.656 0-.87.128-1.769.693-2.484.579-.733 1.494-1.124 2.724-1.261 1.206-.134 2.262.034 2.944.765.05.053.096.108.139.165.044-.057.094-.112.143-.165.682-.731 1.738-.899 2.944-.765 1.23.137 2.145.528 2.724 1.261.566.715.693 1.614.693 2.484 0 .572-.053 1.148-.254 1.656.066.228.098.429.126.612.012.076.024.148.037.218.924.385 1.522 1.471 1.591 2.095v1.872c0 .766-3.351 3.795-8.002 3.795Zm0-1.485c2.28 0 4.584-1.11 5.002-1.433V7.862l-.023-.116c-.49.21-1.075.291-1.727.291-1.146 0-2.059-.327-2.71-.991A3.222 3.222 0 0 1 8 6.303a3.24 3.24 0 0 1-.544.743c-.65.664-1.563.991-2.71.991-.652 0-1.236-.081-1.727-.291l-.023.116v4.255c.419.323 2.722 1.433 5.002 1.433ZM6.762 2.83c-.193-.206-.637-.413-1.682-.297-1.019.113-1.479.404-1.713.7-.247.312-.369.789-.369 1.554 0 .793.129 1.171.308 1.371.162.181.519.379 1.442.379.853 0 1.339-.235 1.638-.54.315-.322.527-.827.617-1.553.117-.935-.037-1.395-.241-1.614Zm4.155-.297c-1.044-.116-1.488.091-1.681.297-.204.219-.359.679-.242 1.614.091.726.303 1.231.618 1.553.299.305.784.54 1.638.54.922 0 1.28-.198 1.442-.379.179-.2.308-.578.308-1.371 0-.765-.123-1.242-.37-1.554-.233-.296-.693-.587-1.713-.7Z"></path><path d="M6.25 9.037a.75.75 0 0 1 .75.75v1.501a.75.75 0 0 1-1.5 0V9.787a.75.75 0 0 1 .75-.75Zm4.25.75v1.501a.75.75 0 0 1-1.5 0V9.787a.75.75 0 0 1 1.5 0Z"></path></svg></button><span class="Tooltip__StyledTooltip-sc-e45c7z-0 fLAhLl" data-direction="s" aria-hidden="true" id=":Rbsptal9lab:">Ask Copilot about this file</span></div><div></div></div><div class="Box-sc-g0xbh4-0 kVWtTz react-blob-header-edit-and-raw-actions"><div class="Box-sc-g0xbh4-0 prc-ButtonGroup-ButtonGroup-vcMeG"><div><a href="https://github.com/sotakao/ml-seminar-ucl/raw/refs/heads/main/Notebooks/loopy_example.ipynb" data-testid="raw-button" class="Box-sc-g0xbh4-0 gWqxTd prc-Button-ButtonBase-c50BI" data-loading="false" data-no-visuals="true" data-size="small" data-variant="default" aria-describedby=":R5csptal9lab:-loading-announcement"><span data-component="buttonContent" class="Box-sc-g0xbh4-0 gUkoLg prc-Button-ButtonContent-HKbr-"><span data-component="text" class="prc-Button-Label-pTQ3x">Raw</span></span></a></div><div><button data-component="IconButton" type="button" aria-label="Copy raw content" data-testid="copy-raw-button" class="prc-Button-ButtonBase-c50BI prc-Button-IconButton-szpyj" data-loading="false" data-no-visuals="true" data-size="small" data-variant="default" aria-describedby=":Rpcsptal9lab:-loading-announcement"><svg aria-hidden="true" focusable="false" class="octicon octicon-copy" viewBox="0 0 16 16" width="16" height="16" fill="currentColor" style="display:inline-block;user-select:none;vertical-align:text-bottom;overflow:visible"><path d="M0 6.75C0 5.784.784 5 1.75 5h1.5a.75.75 0 0 1 0 1.5h-1.5a.25.25 0 0 0-.25.25v7.5c0 .138.112.25.25.25h7.5a.25.25 0 0 0 .25-.25v-1.5a.75.75 0 0 1 1.5 0v1.5A1.75 1.75 0 0 1 9.25 16h-7.5A1.75 1.75 0 0 1 0 14.25Z"></path><path d="M5 1.75C5 .784 5.784 0 6.75 0h7.5C15.216 0 16 .784 16 1.75v7.5A1.75 1.75 0 0 1 14.25 11h-7.5A1.75 1.75 0 0 1 5 9.25Zm1.75-.25a.25.25 0 0 0-.25.25v7.5c0 .138.112.25.25.25h7.5a.25.25 0 0 0 .25-.25v-7.5a.25.25 0 0 0-.25-.25Z"></path></svg></button></div><div><span role="tooltip" aria-label="Download raw file" id=":Rdcsptal9lab:" class="Tooltip__TooltipBase-sc-17tf59c-0 fiSvBN tooltipped-n"><button data-component="IconButton" type="button" aria-label="Download raw content" data-testid="download-raw-button" class="Box-sc-g0xbh4-0 ivobqY prc-Button-ButtonBase-c50BI prc-Button-IconButton-szpyj" data-loading="false" data-no-visuals="true" data-size="small" data-variant="default" aria-describedby=":Rtcsptal9lab:-loading-announcement"><svg aria-hidden="true" focusable="false" class="octicon octicon-download" viewBox="0 0 16 16" width="16" height="16" fill="currentColor" style="display:inline-block;user-select:none;vertical-align:text-bottom;overflow:visible"><path d="M2.75 14A1.75 1.75 0 0 1 1 12.25v-2.5a.75.75 0 0 1 1.5 0v2.5c0 .138.112.25.25.25h10.5a.25.25 0 0 0 .25-.25v-2.5a.75.75 0 0 1 1.5 0v2.5A1.75 1.75 0 0 1 13.25 14Z"></path><path d="M7.25 7.689V2a.75.75 0 0 1 1.5 0v5.689l1.97-1.969a.749.749 0 1 1 1.06 1.06l-3.25 3.25a.749.749 0 0 1-1.06 0L4.22 6.78a.749.749 0 1 1 1.06-1.06l1.97 1.969Z"></path></svg></button></span></div></div><button hidden="" data-testid="raw-button-shortcut" data-hotkey-scope="read-only-cursor-text-area"></button><button hidden="" data-testid="copy-raw-button-shortcut" data-hotkey-scope="read-only-cursor-text-area"></button><button hidden="" data-testid="download-raw-button-shortcut" data-hotkey-scope="read-only-cursor-text-area"></button><a class="js-github-dev-shortcut d-none prc-Link-Link-85e08" href="https://github.dev/"></a><button hidden="" data-testid="" data-hotkey-scope="read-only-cursor-text-area"></button><a class="js-github-dev-new-tab-shortcut d-none prc-Link-Link-85e08" href="https://github.dev/" target="_blank"></a><button hidden="" data-testid="" data-hotkey-scope="read-only-cursor-text-area"></button><div class="Box-sc-g0xbh4-0 prc-ButtonGroup-ButtonGroup-vcMeG"><div><span role="tooltip" aria-label="Fork this repository and edit the file" id=":R6ksptal9lab:" class="Tooltip__TooltipBase-sc-17tf59c-0 fiSvBN tooltipped-nw"><a sx="[object Object]" data-component="IconButton" type="button" aria-label="Edit file" data-testid="edit-button" class="Box-sc-g0xbh4-0 kilKoS prc-Button-ButtonBase-c50BI prc-Button-IconButton-szpyj" data-loading="false" data-no-visuals="true" data-size="small" data-variant="default" aria-describedby=":Rmksptal9lab:-loading-announcement" href="/sotakao/ml-seminar-ucl/edit/main/Notebooks/loopy_example.ipynb"><svg aria-hidden="true" focusable="false" class="octicon octicon-pencil" viewBox="0 0 16 16" width="16" height="16" fill="currentColor" style="display:inline-block;user-select:none;vertical-align:text-bottom;overflow:visible"><path d="M11.013 1.427a1.75 1.75 0 0 1 2.474 0l1.086 1.086a1.75 1.75 0 0 1 0 2.474l-8.61 8.61c-.21.21-.47.364-.756.445l-3.251.93a.75.75 0 0 1-.927-.928l.929-3.25c.081-.286.235-.547.445-.758l8.61-8.61Zm.176 4.823L9.75 4.81l-6.286 6.287a.253.253 0 0 0-.064.108l-.558 1.953 1.953-.558a.253.253 0 0 0 .108-.064Zm1.238-3.763a.25.25 0 0 0-.354 0L10.811 3.75l1.439 1.44 1.263-1.263a.25.25 0 0 0 0-.354Z"></path></svg></a></span></div><div><button data-component="IconButton" type="button" aria-label="More edit options" data-testid="more-edit-button" aria-haspopup="true" aria-expanded="false" tabindex="0" class="prc-Button-ButtonBase-c50BI prc-Button-IconButton-szpyj" data-loading="false" data-no-visuals="true" data-size="small" data-variant="default" aria-describedby=":Raksptal9lab:-loading-announcement" id=":Raksptal9lab:"><svg aria-hidden="true" focusable="false" class="octicon octicon-triangle-down" viewBox="0 0 16 16" width="16" height="16" fill="currentColor" style="display:inline-block;user-select:none;vertical-align:text-bottom;overflow:visible"><path d="m4.427 7.427 3.396 3.396a.25.25 0 0 0 .354 0l3.396-3.396A.25.25 0 0 0 11.396 7H4.604a.25.25 0 0 0-.177.427Z"></path></svg></button></div></div><button hidden="" data-testid="" data-hotkey="e,Shift+E" data-hotkey-scope="read-only-cursor-text-area"></button></div><div class="react-blob-header-edit-and-raw-actions-combined"><button data-component="IconButton" type="button" aria-label="Edit and raw actions" title="More file actions" data-testid="more-file-actions-button" aria-haspopup="true" aria-expanded="false" tabindex="0" class="Box-sc-g0xbh4-0 itGLhU prc-Button-ButtonBase-c50BI js-blob-dropdown-click prc-Button-IconButton-szpyj" data-loading="false" data-no-visuals="true" data-size="small" data-variant="invisible" aria-describedby=":Rnsptal9lab:-loading-announcement" id=":Rnsptal9lab:"><svg aria-hidden="true" focusable="false" class="octicon octicon-kebab-horizontal" viewBox="0 0 16 16" width="16" height="16" fill="currentColor" style="display:inline-block;user-select:none;vertical-align:text-bottom;overflow:visible"><path d="M8 9a1.5 1.5 0 1 0 0-3 1.5 1.5 0 0 0 0 3ZM1.5 9a1.5 1.5 0 1 0 0-3 1.5 1.5 0 0 0 0 3Zm13 0a1.5 1.5 0 1 0 0-3 1.5 1.5 0 0 0 0 3Z"></path></svg></button></div></div></div></div><div></div></div><div class="Box-sc-g0xbh4-0 hycJXc"><section aria-labelledby="file-name-id-wide file-name-id-mobile" class="Box-sc-g0xbh4-0 iWAocR"><!--$!--><template></template><div class="Box-sc-g0xbh4-0 fgsa-DI"><span class="prc-Spinner-Box-qNUI9"><svg height="32px" width="32px" viewBox="0 0 16 16" fill="none" aria-hidden="true" aria-label="Loading" class="prc-Spinner-SpinnerAnimation-e7Gf-"><circle cx="8" cy="8" r="7" stroke="currentColor" stroke-opacity="0.25" stroke-width="2" vector-effect="non-scaling-stroke"></circle><path d="M15 8a7.002 7.002 0 00-7-7" stroke="currentColor" stroke-width="2" stroke-linecap="round" vector-effect="non-scaling-stroke"></path></svg></span></div><!--/$--></section></div></div></div> <!-- --> <!-- --> </div></div></div><div class="Box-sc-g0xbh4-0"></div></div></div></div></div><div id="find-result-marks-container" class="Box-sc-g0xbh4-0 cCoXib"></div><button hidden="" data-testid="" data-hotkey-scope="read-only-cursor-text-area"></button><button hidden=""></button></div> <!-- --> <!-- --> <script type="application/json" id="__PRIMER_DATA_:R0:__">{"resolvedServerColorMode":"night"}</script></div>
</react-app>
</turbo-frame>



  </div>

</turbo-frame>

    </main>
  </div>

  </div>

          <footer class="footer pt-8 pb-6 f6 color-fg-muted p-responsive" role="contentinfo" >
  <h2 class='sr-only'>Footer</h2>

  


  <div class="d-flex flex-justify-center flex-items-center flex-column-reverse flex-lg-row flex-wrap flex-lg-nowrap">
    <div class="d-flex flex-items-center flex-shrink-0 mx-2">
      <a aria-label="Homepage" title="GitHub" class="footer-octicon mr-2" href="https://github.com">
        <svg aria-hidden="true" height="24" viewBox="0 0 24 24" version="1.1" width="24" data-view-component="true" class="octicon octicon-mark-github">
    <path d="M12.5.75C6.146.75 1 5.896 1 12.25c0 5.089 3.292 9.387 7.863 10.91.575.101.79-.244.79-.546 0-.273-.014-1.178-.014-2.142-2.889.532-3.636-.704-3.866-1.35-.13-.331-.69-1.352-1.18-1.625-.402-.216-.977-.748-.014-.762.906-.014 1.553.834 1.769 1.179 1.035 1.74 2.688 1.25 3.349.948.1-.747.402-1.25.733-1.538-2.559-.287-5.232-1.279-5.232-5.678 0-1.25.445-2.285 1.178-3.09-.115-.288-.517-1.467.115-3.048 0 0 .963-.302 3.163 1.179.92-.259 1.897-.388 2.875-.388.977 0 1.955.13 2.875.388 2.2-1.495 3.162-1.179 3.162-1.179.633 1.581.23 2.76.115 3.048.733.805 1.179 1.825 1.179 3.09 0 4.413-2.688 5.39-5.247 5.678.417.36.776 1.05.776 2.128 0 1.538-.014 2.774-.014 3.162 0 .302.216.662.79.547C20.709 21.637 24 17.324 24 12.25 24 5.896 18.854.75 12.5.75Z"></path>
</svg>
</a>
      <span>
        &copy; 2025 GitHub,&nbsp;Inc.
      </span>
    </div>

    <nav aria-label="Footer">
      <h3 class="sr-only" id="sr-footer-heading">Footer navigation</h3>

      <ul class="list-style-none d-flex flex-justify-center flex-wrap mb-2 mb-lg-0" aria-labelledby="sr-footer-heading">

          <li class="mx-2">
            <a data-analytics-event="{&quot;category&quot;:&quot;Footer&quot;,&quot;action&quot;:&quot;go to Terms&quot;,&quot;label&quot;:&quot;text:terms&quot;}" href="https://docs.github.com/site-policy/github-terms/github-terms-of-service" data-view-component="true" class="Link--secondary Link">Terms</a>
          </li>

          <li class="mx-2">
            <a data-analytics-event="{&quot;category&quot;:&quot;Footer&quot;,&quot;action&quot;:&quot;go to privacy&quot;,&quot;label&quot;:&quot;text:privacy&quot;}" href="https://docs.github.com/site-policy/privacy-policies/github-privacy-statement" data-view-component="true" class="Link--secondary Link">Privacy</a>
          </li>

          <li class="mx-2">
            <a data-analytics-event="{&quot;category&quot;:&quot;Footer&quot;,&quot;action&quot;:&quot;go to security&quot;,&quot;label&quot;:&quot;text:security&quot;}" href="https://github.com/security" data-view-component="true" class="Link--secondary Link">Security</a>
          </li>

          <li class="mx-2">
            <a data-analytics-event="{&quot;category&quot;:&quot;Footer&quot;,&quot;action&quot;:&quot;go to status&quot;,&quot;label&quot;:&quot;text:status&quot;}" href="https://www.githubstatus.com/" data-view-component="true" class="Link--secondary Link">Status</a>
          </li>

          <li class="mx-2">
            <a data-analytics-event="{&quot;category&quot;:&quot;Footer&quot;,&quot;action&quot;:&quot;go to docs&quot;,&quot;label&quot;:&quot;text:docs&quot;}" href="https://docs.github.com/" data-view-component="true" class="Link--secondary Link">Docs</a>
          </li>

          <li class="mx-2">
            <a data-analytics-event="{&quot;category&quot;:&quot;Footer&quot;,&quot;action&quot;:&quot;go to contact&quot;,&quot;label&quot;:&quot;text:contact&quot;}" href="https://support.github.com?tags=dotcom-footer" data-view-component="true" class="Link--secondary Link">Contact</a>
          </li>

          <li class="mx-2" >
  <cookie-consent-link>
    <button
      type="button"
      class="Link--secondary underline-on-hover border-0 p-0 color-bg-transparent"
      data-action="click:cookie-consent-link#showConsentManagement"
      data-analytics-event="{&quot;location&quot;:&quot;footer&quot;,&quot;action&quot;:&quot;cookies&quot;,&quot;context&quot;:&quot;subfooter&quot;,&quot;tag&quot;:&quot;link&quot;,&quot;label&quot;:&quot;cookies_link_subfooter_footer&quot;}"
    >
      Manage cookies
    </button>
  </cookie-consent-link>
</li>

<li class="mx-2">
  <cookie-consent-link>
    <button
      type="button"
      class="Link--secondary underline-on-hover border-0 p-0 color-bg-transparent"
      data-action="click:cookie-consent-link#showConsentManagement"
      data-analytics-event="{&quot;location&quot;:&quot;footer&quot;,&quot;action&quot;:&quot;dont_share_info&quot;,&quot;context&quot;:&quot;subfooter&quot;,&quot;tag&quot;:&quot;link&quot;,&quot;label&quot;:&quot;dont_share_info_link_subfooter_footer&quot;}"
    >
      Do not share my personal information
    </button>
  </cookie-consent-link>
</li>

      </ul>
    </nav>
  </div>
</footer>



    <ghcc-consent id="ghcc" class="position-fixed bottom-0 left-0" style="z-index: 999999" data-initial-cookie-consent-allowed="" data-cookie-consent-required="true"></ghcc-consent>



  <div id="ajax-error-message" class="ajax-error-message flash flash-error" hidden>
    <svg aria-hidden="true" height="16" viewBox="0 0 16 16" version="1.1" width="16" data-view-component="true" class="octicon octicon-alert">
    <path d="M6.457 1.047c.659-1.234 2.427-1.234 3.086 0l6.082 11.378A1.75 1.75 0 0 1 14.082 15H1.918a1.75 1.75 0 0 1-1.543-2.575Zm1.763.707a.25.25 0 0 0-.44 0L1.698 13.132a.25.25 0 0 0 .22.368h12.164a.25.25 0 0 0 .22-.368Zm.53 3.996v2.5a.75.75 0 0 1-1.5 0v-2.5a.75.75 0 0 1 1.5 0ZM9 11a1 1 0 1 1-2 0 1 1 0 0 1 2 0Z"></path>
</svg>
    <button type="button" class="flash-close js-ajax-error-dismiss" aria-label="Dismiss error">
      <svg aria-hidden="true" height="16" viewBox="0 0 16 16" version="1.1" width="16" data-view-component="true" class="octicon octicon-x">
    <path d="M3.72 3.72a.75.75 0 0 1 1.06 0L8 6.94l3.22-3.22a.749.749 0 0 1 1.275.326.749.749 0 0 1-.215.734L9.06 8l3.22 3.22a.749.749 0 0 1-.326 1.275.749.749 0 0 1-.734-.215L8 9.06l-3.22 3.22a.751.751 0 0 1-1.042-.018.751.751 0 0 1-.018-1.042L6.94 8 3.72 4.78a.75.75 0 0 1 0-1.06Z"></path>
</svg>
    </button>
    You can’t perform that action at this time.
  </div>

    <template id="site-details-dialog">
  <details class="details-reset details-overlay details-overlay-dark lh-default color-fg-default hx_rsm" open>
    <summary role="button" aria-label="Close dialog"></summary>
    <details-dialog class="Box Box--overlay d-flex flex-column anim-fade-in fast hx_rsm-dialog hx_rsm-modal">
      <button class="Box-btn-octicon m-0 btn-octicon position-absolute right-0 top-0" type="button" aria-label="Close dialog" data-close-dialog>
        <svg aria-hidden="true" height="16" viewBox="0 0 16 16" version="1.1" width="16" data-view-component="true" class="octicon octicon-x">
    <path d="M3.72 3.72a.75.75 0 0 1 1.06 0L8 6.94l3.22-3.22a.749.749 0 0 1 1.275.326.749.749 0 0 1-.215.734L9.06 8l3.22 3.22a.749.749 0 0 1-.326 1.275.749.749 0 0 1-.734-.215L8 9.06l-3.22 3.22a.751.751 0 0 1-1.042-.018.751.751 0 0 1-.018-1.042L6.94 8 3.72 4.78a.75.75 0 0 1 0-1.06Z"></path>
</svg>
      </button>
      <div class="octocat-spinner my-6 js-details-dialog-spinner"></div>
    </details-dialog>
  </details>
</template>

    <div class="Popover js-hovercard-content position-absolute" style="display: none; outline: none;">
  <div class="Popover-message Popover-message--bottom-left Popover-message--large Box color-shadow-large" style="width:360px;">
  </div>
</div>

    <template id="snippet-clipboard-copy-button">
  <div class="zeroclipboard-container position-absolute right-0 top-0">
    <clipboard-copy aria-label="Copy" class="ClipboardButton btn js-clipboard-copy m-2 p-0" data-copy-feedback="Copied!" data-tooltip-direction="w">
      <svg aria-hidden="true" height="16" viewBox="0 0 16 16" version="1.1" width="16" data-view-component="true" class="octicon octicon-copy js-clipboard-copy-icon m-2">
    <path d="M0 6.75C0 5.784.784 5 1.75 5h1.5a.75.75 0 0 1 0 1.5h-1.5a.25.25 0 0 0-.25.25v7.5c0 .138.112.25.25.25h7.5a.25.25 0 0 0 .25-.25v-1.5a.75.75 0 0 1 1.5 0v1.5A1.75 1.75 0 0 1 9.25 16h-7.5A1.75 1.75 0 0 1 0 14.25Z"></path><path d="M5 1.75C5 .784 5.784 0 6.75 0h7.5C15.216 0 16 .784 16 1.75v7.5A1.75 1.75 0 0 1 14.25 11h-7.5A1.75 1.75 0 0 1 5 9.25Zm1.75-.25a.25.25 0 0 0-.25.25v7.5c0 .138.112.25.25.25h7.5a.25.25 0 0 0 .25-.25v-7.5a.25.25 0 0 0-.25-.25Z"></path>
</svg>
      <svg aria-hidden="true" height="16" viewBox="0 0 16 16" version="1.1" width="16" data-view-component="true" class="octicon octicon-check js-clipboard-check-icon color-fg-success d-none m-2">
    <path d="M13.78 4.22a.75.75 0 0 1 0 1.06l-7.25 7.25a.75.75 0 0 1-1.06 0L2.22 9.28a.751.751 0 0 1 .018-1.042.751.751 0 0 1 1.042-.018L6 10.94l6.72-6.72a.75.75 0 0 1 1.06 0Z"></path>
</svg>
    </clipboard-copy>
  </div>
</template>
<template id="snippet-clipboard-copy-button-unpositioned">
  <div class="zeroclipboard-container">
    <clipboard-copy aria-label="Copy" class="ClipboardButton btn btn-invisible js-clipboard-copy m-2 p-0 d-flex flex-justify-center flex-items-center" data-copy-feedback="Copied!" data-tooltip-direction="w">
      <svg aria-hidden="true" height="16" viewBox="0 0 16 16" version="1.1" width="16" data-view-component="true" class="octicon octicon-copy js-clipboard-copy-icon">
    <path d="M0 6.75C0 5.784.784 5 1.75 5h1.5a.75.75 0 0 1 0 1.5h-1.5a.25.25 0 0 0-.25.25v7.5c0 .138.112.25.25.25h7.5a.25.25 0 0 0 .25-.25v-1.5a.75.75 0 0 1 1.5 0v1.5A1.75 1.75 0 0 1 9.25 16h-7.5A1.75 1.75 0 0 1 0 14.25Z"></path><path d="M5 1.75C5 .784 5.784 0 6.75 0h7.5C15.216 0 16 .784 16 1.75v7.5A1.75 1.75 0 0 1 14.25 11h-7.5A1.75 1.75 0 0 1 5 9.25Zm1.75-.25a.25.25 0 0 0-.25.25v7.5c0 .138.112.25.25.25h7.5a.25.25 0 0 0 .25-.25v-7.5a.25.25 0 0 0-.25-.25Z"></path>
</svg>
      <svg aria-hidden="true" height="16" viewBox="0 0 16 16" version="1.1" width="16" data-view-component="true" class="octicon octicon-check js-clipboard-check-icon color-fg-success d-none">
    <path d="M13.78 4.22a.75.75 0 0 1 0 1.06l-7.25 7.25a.75.75 0 0 1-1.06 0L2.22 9.28a.751.751 0 0 1 .018-1.042.751.751 0 0 1 1.042-.018L6 10.94l6.72-6.72a.75.75 0 0 1 1.06 0Z"></path>
</svg>
    </clipboard-copy>
  </div>
</template>


    <style>
      .user-mention[href$="/Melodiepo"] {
        color: var(--color-user-mention-fg);
        background-color: var(--bgColor-attention-muted, var(--color-attention-subtle));
        border-radius: 2px;
        margin-left: -2px;
        margin-right: -2px;
      }
      .user-mention[href$="/Melodiepo"]:before,
      .user-mention[href$="/Melodiepo"]:after {
        content: '';
        display: inline-block;
        width: 2px;
      }
    </style>


    </div>

    <div id="js-global-screen-reader-notice" class="sr-only mt-n1" aria-live="polite" aria-atomic="true" ></div>
    <div id="js-global-screen-reader-notice-assertive" class="sr-only mt-n1" aria-live="assertive" aria-atomic="true"></div>
  </body>
</html>

