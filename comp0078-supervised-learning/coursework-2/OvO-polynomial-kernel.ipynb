{
 "cells": [
  {
   "cell_type": "markdown",
   "metadata": {},
   "source": [
    "# One-vs-One Kernel Perceptron with Polynomial Kernel"
   ]
  },
  {
   "cell_type": "code",
   "execution_count": 17,
   "metadata": {},
   "outputs": [],
   "source": [
    "import numpy as np\n",
    "from tqdm import tqdm\n",
    "from tabulate import tabulate"
   ]
  },
  {
   "cell_type": "code",
   "execution_count": 18,
   "metadata": {},
   "outputs": [],
   "source": [
    "class MultiKernelPerceptronOVO(object):\n",
    "    def __init__(self, train_data, train_labels, test_data, test_labels, kernel_param, epochs):\n",
    "        \"\"\"\n",
    "        Initialize the One-vs-One Kernel Perceptron.\n",
    "\n",
    "        Inputs:\n",
    "        - train_data (ndarray): Training data.\n",
    "        - train_labels (ndarray): Training labels.\n",
    "        - test_data (ndarray): Test data.\n",
    "        - test_labels (ndarray): Test labels.\n",
    "        - kernel_param (float): Parameter for the kernel (degree for polynomial, sigma for Gaussian).\n",
    "        - epochs (int): Number of training epochs.\n",
    "        \"\"\"\n",
    "        \n",
    "        self.train_data = train_data\n",
    "        self.train_labels = train_labels\n",
    "        self.test_data = test_data\n",
    "        self.test_labels = test_labels\n",
    "        self.epochs = epochs\n",
    "        self.classes = np.unique(np.append(self.train_labels, self.test_labels))\n",
    "        self.num_classes = len(self.classes)\n",
    "        \n",
    "        self.N = int(self.num_classes * (self.num_classes - 1) / 2) \n",
    "        self.classifiers = sorted(self.permutation(self.classes))\n",
    "        self.kernel_param = kernel_param\n",
    "        self.K = self.polynomial(self.train_data, self.train_data, self.kernel_param)\n",
    "        self.K_test = self.polynomial(self.test_data, self.train_data, self.kernel_param)\n",
    "        self.alpha = np.zeros((self.N, len(self.train_labels))) \n",
    "    \n",
    "    def permutation(self, classes):\n",
    "        \"\"\"\n",
    "        Generate all possible permutations of classes.\n",
    "\n",
    "        Inputs:\n",
    "        - classes (ndarray): Array of unique class labels.\n",
    "\n",
    "        Output:\n",
    "        - list: List of all possible permutations of classes.\n",
    "        \"\"\"\n",
    "        return [(classes[i], classes[j]) for i in range(len(classes)) for j in range(i+1, len(classes))]\n",
    "\n",
    "    def polynomial(self, X, Y, degree):\n",
    "        \"\"\"Compute the polynomial kernel.\"\"\"\n",
    "        return (np.dot(X, Y.T) + 1) ** degree\n",
    "\n",
    "    def predict(self, i, data):\n",
    "        \"\"\"\n",
    "        Predict the label for a given data sample using the ith classifier.\n",
    "\n",
    "        Inputs:\n",
    "        - i (int): Index of the classifier.\n",
    "        - data (ndarray): Data sample to predict the label for.\n",
    "\n",
    "        Output:\n",
    "        - int: Predicted label.\n",
    "        \"\"\"\n",
    "        K = self.K if data == 'train' else self.K_test\n",
    "        votes = np.sign(np.dot(self.alpha, K[i]))\n",
    "        individual_votes = [0] * self.num_classes\n",
    "        for idx, combo in enumerate(self.classifiers):\n",
    "            vote = combo[0] if votes[idx] > 0 else combo[1]\n",
    "            individual_votes[int(vote)] += 1\n",
    "        return np.argmax(individual_votes)\n",
    "    \n",
    "    def train(self):\n",
    "        \"\"\"\n",
    "        Train the OvO Kernel Perceptron.\n",
    "        Updates the alpha matrix for each classifier independently.\n",
    "        \n",
    "        Output:\n",
    "        - float: Training error rate after the final epoch.\n",
    "        \"\"\"\n",
    "        for _ in range(self.epochs):                    \n",
    "            errors = 0                                  \n",
    "            for i in range(len(self.train_labels)):       \n",
    "                y_pred = self.predict(i, 'train')       \n",
    "                label = int(self.train_labels[i])       \n",
    "                if int(y_pred) != label:                \n",
    "                    errors += 1\n",
    "                    for j in range(self.N):             \n",
    "                        combo = self.classifiers[j]    \n",
    "                        if int(label) in combo:         \n",
    "                            self.alpha[j, i] += 1 if combo[0]==label else -1\n",
    "            error_rate = (errors/len(self.train_labels)) * 100           \n",
    "        return error_rate     \n",
    "    \n",
    "    def test(self):\n",
    "        \"\"\"\n",
    "        Evaluate the OvO Kernel Perceptron on the test set.\n",
    "        \n",
    "        Output:\n",
    "        - float: Test error rate.\n",
    "        \"\"\"\n",
    "        errors = 0\n",
    "        for i in range(len(self.test_labels)):\n",
    "            y_pred = self.predict(i, 'test')\n",
    "            if y_pred != int(self.test_labels[i]):\n",
    "                errors += 1\n",
    "        return (errors / len(self.test_labels)) * 100"
   ]
  },
  {
   "cell_type": "code",
   "execution_count": 19,
   "metadata": {},
   "outputs": [],
   "source": [
    "# Helper function to split data\n",
    "def train_test_split(X, y, train_ratio=0.8, shuffle=True, random_seed=None):\n",
    "    \"\"\"\n",
    "    Split dataset into training and testing sets.\n",
    "\n",
    "    Inputs:\n",
    "    - X (ndarray): Feature data.\n",
    "    - y (ndarray): Corresponding labels.\n",
    "    - train_ratio (float): Proportion of data for training (default is 0.8).\n",
    "    - shuffle (bool): Whether to shuffle data before splitting (default is True).\n",
    "    - random_seed (int or None): Random seed for reproducibility (default is None).\n",
    "\n",
    "    Outputs:\n",
    "    - Tuple[ndarray, ndarray, ndarray, ndarray]: \n",
    "      Training features, test features, training labels, test labels.\n",
    "    \"\"\"\n",
    "    if shuffle:\n",
    "        np.random.seed(random_seed)\n",
    "        indices = np.arange(len(X))\n",
    "        np.random.shuffle(indices)\n",
    "        X, y = X[indices], y[indices]\n",
    "    n_train = int(train_ratio * len(X))\n",
    "    return X[:n_train], X[n_train:], y[:n_train], y[n_train:]"
   ]
  },
  {
   "cell_type": "code",
   "execution_count": 20,
   "metadata": {},
   "outputs": [],
   "source": [
    "# Load dataset\n",
    "X, y = np.loadtxt(\"zipcombo.dat\")[:, 1:], np.loadtxt(\"zipcombo.dat\")[:, 0].astype(int)"
   ]
  },
  {
   "cell_type": "code",
   "execution_count": 40,
   "metadata": {},
   "outputs": [
    {
     "name": "stdout",
     "output_type": "stream",
     "text": [
      "Running for polynomial degree 1...\n"
     ]
    },
    {
     "name": "stderr",
     "output_type": "stream",
     "text": [
      "  0%|          | 0/20 [00:00<?, ?it/s]"
     ]
    },
    {
     "name": "stderr",
     "output_type": "stream",
     "text": [
      "100%|██████████| 20/20 [02:09<00:00,  6.45s/it]\n"
     ]
    },
    {
     "name": "stdout",
     "output_type": "stream",
     "text": [
      "Polynomial order:  1 , mean train error:  9.335842968539929 , mean test error:  10.174731182795698\n",
      "Running for polynomial degree 2...\n"
     ]
    },
    {
     "name": "stderr",
     "output_type": "stream",
     "text": [
      "100%|██████████| 20/20 [02:11<00:00,  6.59s/it]\n"
     ]
    },
    {
     "name": "stdout",
     "output_type": "stream",
     "text": [
      "Polynomial order:  2 , mean train error:  4.747243882764184 , mean test error:  6.819892473118278\n",
      "Running for polynomial degree 3...\n"
     ]
    },
    {
     "name": "stderr",
     "output_type": "stream",
     "text": [
      "100%|██████████| 20/20 [03:07<00:00,  9.37s/it]\n"
     ]
    },
    {
     "name": "stdout",
     "output_type": "stream",
     "text": [
      "Polynomial order:  3 , mean train error:  2.1759881688625975 , mean test error:  5.513440860215053\n",
      "Running for polynomial degree 4...\n"
     ]
    },
    {
     "name": "stderr",
     "output_type": "stream",
     "text": [
      "100%|██████████| 20/20 [03:09<00:00,  9.48s/it]\n"
     ]
    },
    {
     "name": "stdout",
     "output_type": "stream",
     "text": [
      "Polynomial order:  4 , mean train error:  1.1427803172895943 , mean test error:  5.39247311827957\n",
      "Running for polynomial degree 5...\n"
     ]
    },
    {
     "name": "stderr",
     "output_type": "stream",
     "text": [
      "100%|██████████| 20/20 [03:10<00:00,  9.53s/it]\n"
     ]
    },
    {
     "name": "stdout",
     "output_type": "stream",
     "text": [
      "Polynomial order:  5 , mean train error:  0.7945684323742942 , mean test error:  5.14247311827957\n",
      "Running for polynomial degree 6...\n"
     ]
    },
    {
     "name": "stderr",
     "output_type": "stream",
     "text": [
      "100%|██████████| 20/20 [03:06<00:00,  9.31s/it]\n"
     ]
    },
    {
     "name": "stdout",
     "output_type": "stream",
     "text": [
      "Polynomial order:  6 , mean train error:  0.596262436138747 , mean test error:  4.908602150537634\n",
      "Running for polynomial degree 7...\n"
     ]
    },
    {
     "name": "stderr",
     "output_type": "stream",
     "text": [
      "100%|██████████| 20/20 [03:10<00:00,  9.54s/it]"
     ]
    },
    {
     "name": "stdout",
     "output_type": "stream",
     "text": [
      "Polynomial order:  7 , mean train error:  0.4382898628663619 , mean test error:  4.92741935483871\n"
     ]
    },
    {
     "name": "stderr",
     "output_type": "stream",
     "text": [
      "\n"
     ]
    }
   ],
   "source": [
    "# Initialize variables\n",
    "np.random.seed(42) \n",
    "train_ratio = 0.8  # Proportion of data used for training\n",
    "degree_range = np.arange(1, 8)  # Range of polynomial degrees to evaluate\n",
    "training_errors, training_stddevs, testing_errors, testing_stddevs = [], [], [], []  # Store metrics\n",
    "\n",
    "# Iterate through polynomial degrees\n",
    "for degree in degree_range:\n",
    "    train_errs, test_errs = [], []  # Store errors for each run\n",
    "    print(f\"Running for polynomial degree {degree}...\")\n",
    "\n",
    "    # Perform 20 runs for each degree\n",
    "    for run_id in tqdm(range(20)):  \n",
    "        # Split the data into training and testing sets\n",
    "        train_X, test_X, train_y, test_y = train_test_split(\n",
    "            X, y, train_ratio=train_ratio, shuffle=True\n",
    "        )\n",
    "        # Train the multi-kernel perceptron with the current degree\n",
    "        clf = MultiKernelPerceptronOVO(\n",
    "            train_X, train_y, test_X, test_y, kernel_param=degree, epochs=5\n",
    "        )\n",
    "        train_e = clf.train()  # Compute training error\n",
    "        train_errs.append(train_e)\n",
    "        test_e = clf.test()  # Compute testing error\n",
    "        test_errs.append(test_e)\n",
    "\n",
    "    # Store mean and standard deviation of errors\n",
    "    training_errors.append(np.mean(train_errs))\n",
    "    training_stddevs.append(np.std(train_errs))\n",
    "    testing_errors.append(np.mean(test_errs))\n",
    "    testing_stddevs.append(np.std(test_errs))\n",
    "\n",
    "    # Print results for the current degree\n",
    "    print(\n",
    "        'Polynomial order: ', degree,\n",
    "        ', mean train error: ', training_errors[-1],\n",
    "        ', mean test error: ', testing_errors[-1]\n",
    "    )\n"
   ]
  },
  {
   "cell_type": "code",
   "execution_count": 41,
   "metadata": {},
   "outputs": [
    {
     "name": "stdout",
     "output_type": "stream",
     "text": [
      "┌──────────┬──────────────────────────────┬─────────────────────────────┐\n",
      "│   Degree │  Mean Train Error Rates (%)  │  Mean Test Error Rates (%)  │\n",
      "├──────────┼──────────────────────────────┼─────────────────────────────┤\n",
      "│        1 │        9.3358±0.2502         │       10.1747±0.9133        │\n",
      "│        2 │        4.7472±0.1793         │        6.8199±0.6107        │\n",
      "│        3 │        2.1760±0.2140         │        5.5134±0.4882        │\n",
      "│        4 │        1.1428±0.2258         │        5.3925±0.6006        │\n",
      "│        5 │        0.7946±0.1787         │        5.1425±0.4725        │\n",
      "│        6 │        0.5963±0.1273         │        4.9086±0.5193        │\n",
      "│        7 │        0.4383±0.1179         │        4.9274±0.5219        │\n",
      "└──────────┴──────────────────────────────┴─────────────────────────────┘\n"
     ]
    }
   ],
   "source": [
    "# Tabulate results\n",
    "table_data = []\n",
    "for idx, degree in enumerate(degree_range):\n",
    "    train_entry = f\"{training_errors[idx]:.4f}±{training_stddevs[idx]:.4f}\"\n",
    "    test_entry = f\"{testing_errors[idx]:.4f}±{testing_stddevs[idx]:.4f}\"\n",
    "    table_data.append([degree, train_entry, test_entry])\n",
    "\n",
    "print(tabulate(\n",
    "    table_data,\n",
    "    headers=[\"Degree\", \"Mean Train Error Rates (%)\", \"Mean Test Error Rates (%)\"],\n",
    "    tablefmt=\"simple_outline\",\n",
    "    stralign=\"center\"\n",
    "))"
   ]
  },
  {
   "cell_type": "code",
   "execution_count": 42,
   "metadata": {},
   "outputs": [],
   "source": [
    "# Cross-validation function\n",
    "def cross_validation_split(features, labels, folds=5):\n",
    "    \"\"\"\n",
    "    Generate k-fold cross-validation splits.\n",
    "\n",
    "    Inputs:\n",
    "    - features (ndarray): Feature data.\n",
    "    - labels (ndarray): Corresponding labels.\n",
    "    - folds (int): Number of cross-validation folds (default is 5).\n",
    "\n",
    "    Output:\n",
    "    - List[Tuple[ndarray, ndarray, ndarray, ndarray]]:\n",
    "      A list of tuples containing (train_features, valid_features, train_labels, valid_labels).\n",
    "    \"\"\"\n",
    "    split_size = len(features) // folds  # Calculate the size of each fold\n",
    "    results = []\n",
    "\n",
    "    # Create cross-validation splits\n",
    "    for fold in range(folds):\n",
    "        start, end = fold * split_size, (fold + 1) * split_size\n",
    "        valid_features = features[start:end]  # Validation features for the current fold\n",
    "        valid_labels = labels[start:end]  # Validation labels for the current fold\n",
    "        # Combine remaining data into the training set\n",
    "        train_features = np.concatenate([features[:start], features[end:]]) if start > 0 else features[end:]\n",
    "        train_labels = np.concatenate([labels[:start], labels[end:]]) if start > 0 else labels[end:]\n",
    "        results.append((train_features, valid_features, train_labels, valid_labels))\n",
    "\n",
    "    return results  # Return the training-validation splits\n"
   ]
  },
  {
   "cell_type": "code",
   "execution_count": 24,
   "metadata": {},
   "outputs": [
    {
     "name": "stderr",
     "output_type": "stream",
     "text": [
      "Cross-Validation Runs:   0%|          | 0/20 [00:00<?, ?it/s]"
     ]
    },
    {
     "name": "stdout",
     "output_type": "stream",
     "text": [
      "Run 1: Evaluating degree 1...\n",
      "Run 1, Degree 1: Mean Validation Error = 9.8991\n",
      "Run 1: Evaluating degree 2...\n",
      "Run 1, Degree 2: Mean Validation Error = 6.8594\n",
      "Run 1: Evaluating degree 3...\n",
      "Run 1, Degree 3: Mean Validation Error = 5.7835\n",
      "Run 1: Evaluating degree 4...\n",
      "Run 1, Degree 4: Mean Validation Error = 5.7566\n",
      "Run 1: Evaluating degree 5...\n",
      "Run 1, Degree 5: Mean Validation Error = 5.5817\n",
      "Run 1: Evaluating degree 6...\n",
      "Run 1, Degree 6: Mean Validation Error = 5.5145\n",
      "Run 1: Evaluating degree 7...\n",
      "Run 1, Degree 7: Mean Validation Error = 5.3800\n",
      "Run 1: Best degree (d*) = 7, Validation Error = 5.3800\n"
     ]
    },
    {
     "name": "stderr",
     "output_type": "stream",
     "text": [
      "Cross-Validation Runs:   5%|▌         | 1/20 [02:56<55:59, 176.79s/it]"
     ]
    },
    {
     "name": "stdout",
     "output_type": "stream",
     "text": [
      "Run 1: d* = 7,Train Error Rate = 0.4571, Test Error Rate = 4.1935\n",
      "Run 2: Evaluating degree 1...\n",
      "Run 2, Degree 1: Mean Validation Error = 10.8944\n",
      "Run 2: Evaluating degree 2...\n",
      "Run 2, Degree 2: Mean Validation Error = 7.7606\n",
      "Run 2: Evaluating degree 3...\n",
      "Run 2, Degree 3: Mean Validation Error = 6.2946\n",
      "Run 2: Evaluating degree 4...\n",
      "Run 2, Degree 4: Mean Validation Error = 6.3215\n",
      "Run 2: Evaluating degree 5...\n",
      "Run 2, Degree 5: Mean Validation Error = 5.8238\n",
      "Run 2: Evaluating degree 6...\n",
      "Run 2, Degree 6: Mean Validation Error = 5.6893\n",
      "Run 2: Evaluating degree 7...\n",
      "Run 2, Degree 7: Mean Validation Error = 5.5414\n",
      "Run 2: Best degree (d*) = 7, Validation Error = 5.5414\n"
     ]
    },
    {
     "name": "stderr",
     "output_type": "stream",
     "text": [
      "Cross-Validation Runs:  10%|█         | 2/20 [05:59<54:06, 180.37s/it]"
     ]
    },
    {
     "name": "stdout",
     "output_type": "stream",
     "text": [
      "Run 2: d* = 7,Train Error Rate = 0.3496, Test Error Rate = 4.5699\n",
      "Run 3: Evaluating degree 1...\n",
      "Run 3, Degree 1: Mean Validation Error = 9.6167\n",
      "Run 3: Evaluating degree 2...\n",
      "Run 3, Degree 2: Mean Validation Error = 7.4647\n",
      "Run 3: Evaluating degree 3...\n",
      "Run 3, Degree 3: Mean Validation Error = 6.2004\n",
      "Run 3: Evaluating degree 4...\n",
      "Run 3, Degree 4: Mean Validation Error = 5.6759\n",
      "Run 3: Evaluating degree 5...\n",
      "Run 3, Degree 5: Mean Validation Error = 5.5817\n",
      "Run 3: Evaluating degree 6...\n",
      "Run 3, Degree 6: Mean Validation Error = 5.3665\n",
      "Run 3: Evaluating degree 7...\n",
      "Run 3, Degree 7: Mean Validation Error = 5.0706\n",
      "Run 3: Best degree (d*) = 7, Validation Error = 5.0706\n"
     ]
    },
    {
     "name": "stderr",
     "output_type": "stream",
     "text": [
      "Cross-Validation Runs:  15%|█▌        | 3/20 [08:59<51:05, 180.31s/it]"
     ]
    },
    {
     "name": "stdout",
     "output_type": "stream",
     "text": [
      "Run 3: d* = 7,Train Error Rate = 0.3764, Test Error Rate = 4.1935\n",
      "Run 4: Evaluating degree 1...\n",
      "Run 4, Degree 1: Mean Validation Error = 9.6974\n",
      "Run 4: Evaluating degree 2...\n",
      "Run 4, Degree 2: Mean Validation Error = 6.7922\n",
      "Run 4: Evaluating degree 3...\n",
      "Run 4, Degree 3: Mean Validation Error = 5.8642\n",
      "Run 4: Evaluating degree 4...\n",
      "Run 4, Degree 4: Mean Validation Error = 5.8104\n",
      "Run 4: Evaluating degree 5...\n",
      "Run 4, Degree 5: Mean Validation Error = 5.3127\n",
      "Run 4: Evaluating degree 6...\n",
      "Run 4, Degree 6: Mean Validation Error = 5.2589\n",
      "Run 4: Evaluating degree 7...\n",
      "Run 4, Degree 7: Mean Validation Error = 5.0168\n",
      "Run 4: Best degree (d*) = 7, Validation Error = 5.0168\n"
     ]
    },
    {
     "name": "stderr",
     "output_type": "stream",
     "text": [
      "Cross-Validation Runs:  20%|██        | 4/20 [11:56<47:44, 179.04s/it]"
     ]
    },
    {
     "name": "stdout",
     "output_type": "stream",
     "text": [
      "Run 4: d* = 7,Train Error Rate = 0.4974, Test Error Rate = 5.2151\n",
      "Run 5: Evaluating degree 1...\n",
      "Run 5, Degree 1: Mean Validation Error = 10.4909\n",
      "Run 5: Evaluating degree 2...\n",
      "Run 5, Degree 2: Mean Validation Error = 7.3436\n",
      "Run 5: Evaluating degree 3...\n",
      "Run 5, Degree 3: Mean Validation Error = 6.0794\n",
      "Run 5: Evaluating degree 4...\n",
      "Run 5, Degree 4: Mean Validation Error = 5.5952\n",
      "Run 5: Evaluating degree 5...\n",
      "Run 5, Degree 5: Mean Validation Error = 5.4472\n",
      "Run 5: Evaluating degree 6...\n",
      "Run 5, Degree 6: Mean Validation Error = 5.1782\n",
      "Run 5: Evaluating degree 7...\n",
      "Run 5, Degree 7: Mean Validation Error = 5.3127\n",
      "Run 5: Best degree (d*) = 6, Validation Error = 5.1782\n"
     ]
    },
    {
     "name": "stderr",
     "output_type": "stream",
     "text": [
      "Cross-Validation Runs:  25%|██▌       | 5/20 [14:52<44:28, 177.93s/it]"
     ]
    },
    {
     "name": "stdout",
     "output_type": "stream",
     "text": [
      "Run 5: d* = 6,Train Error Rate = 0.5109, Test Error Rate = 4.5161\n",
      "Run 6: Evaluating degree 1...\n",
      "Run 6, Degree 1: Mean Validation Error = 10.8541\n",
      "Run 6: Evaluating degree 2...\n",
      "Run 6, Degree 2: Mean Validation Error = 7.3436\n",
      "Run 6: Evaluating degree 3...\n",
      "Run 6, Degree 3: Mean Validation Error = 6.1735\n",
      "Run 6: Evaluating degree 4...\n",
      "Run 6, Degree 4: Mean Validation Error = 5.6490\n",
      "Run 6: Evaluating degree 5...\n",
      "Run 6, Degree 5: Mean Validation Error = 5.4203\n",
      "Run 6: Evaluating degree 6...\n",
      "Run 6, Degree 6: Mean Validation Error = 5.1110\n",
      "Run 6: Evaluating degree 7...\n",
      "Run 6, Degree 7: Mean Validation Error = 5.0572\n",
      "Run 6: Best degree (d*) = 7, Validation Error = 5.0572\n"
     ]
    },
    {
     "name": "stderr",
     "output_type": "stream",
     "text": [
      "Cross-Validation Runs:  30%|███       | 6/20 [17:51<41:34, 178.18s/it]"
     ]
    },
    {
     "name": "stdout",
     "output_type": "stream",
     "text": [
      "Run 6: d* = 7,Train Error Rate = 0.4840, Test Error Rate = 4.9462\n",
      "Run 7: Evaluating degree 1...\n",
      "Run 7, Degree 1: Mean Validation Error = 10.2488\n",
      "Run 7: Evaluating degree 2...\n",
      "Run 7, Degree 2: Mean Validation Error = 7.3840\n",
      "Run 7: Evaluating degree 3...\n",
      "Run 7, Degree 3: Mean Validation Error = 5.9583\n",
      "Run 7: Evaluating degree 4...\n",
      "Run 7, Degree 4: Mean Validation Error = 5.5145\n",
      "Run 7: Evaluating degree 5...\n",
      "Run 7, Degree 5: Mean Validation Error = 5.5952\n",
      "Run 7: Evaluating degree 6...\n",
      "Run 7, Degree 6: Mean Validation Error = 5.0975\n",
      "Run 7: Evaluating degree 7...\n",
      "Run 7, Degree 7: Mean Validation Error = 5.1648\n",
      "Run 7: Best degree (d*) = 6, Validation Error = 5.0975\n"
     ]
    },
    {
     "name": "stderr",
     "output_type": "stream",
     "text": [
      "Cross-Validation Runs:  35%|███▌      | 7/20 [20:53<38:51, 179.33s/it]"
     ]
    },
    {
     "name": "stdout",
     "output_type": "stream",
     "text": [
      "Run 7: d* = 6,Train Error Rate = 0.4302, Test Error Rate = 4.8387\n",
      "Run 8: Evaluating degree 1...\n",
      "Run 8, Degree 1: Mean Validation Error = 10.0202\n",
      "Run 8: Evaluating degree 2...\n",
      "Run 8, Degree 2: Mean Validation Error = 7.4243\n",
      "Run 8: Evaluating degree 3...\n",
      "Run 8, Degree 3: Mean Validation Error = 6.3887\n",
      "Run 8: Evaluating degree 4...\n",
      "Run 8, Degree 4: Mean Validation Error = 5.8238\n",
      "Run 8: Evaluating degree 5...\n",
      "Run 8, Degree 5: Mean Validation Error = 5.5010\n",
      "Run 8: Evaluating degree 6...\n",
      "Run 8, Degree 6: Mean Validation Error = 5.2993\n",
      "Run 8: Evaluating degree 7...\n",
      "Run 8, Degree 7: Mean Validation Error = 4.9630\n",
      "Run 8: Best degree (d*) = 7, Validation Error = 4.9630\n"
     ]
    },
    {
     "name": "stderr",
     "output_type": "stream",
     "text": [
      "Cross-Validation Runs:  40%|████      | 8/20 [23:54<36:00, 180.00s/it]"
     ]
    },
    {
     "name": "stdout",
     "output_type": "stream",
     "text": [
      "Run 8: d* = 7,Train Error Rate = 0.6857, Test Error Rate = 4.9462\n",
      "Run 9: Evaluating degree 1...\n",
      "Run 9, Degree 1: Mean Validation Error = 10.5178\n",
      "Run 9: Evaluating degree 2...\n",
      "Run 9, Degree 2: Mean Validation Error = 7.3302\n",
      "Run 9: Evaluating degree 3...\n",
      "Run 9, Degree 3: Mean Validation Error = 6.2273\n",
      "Run 9: Evaluating degree 4...\n",
      "Run 9, Degree 4: Mean Validation Error = 5.4472\n",
      "Run 9: Evaluating degree 5...\n",
      "Run 9, Degree 5: Mean Validation Error = 5.6221\n",
      "Run 9: Evaluating degree 6...\n",
      "Run 9, Degree 6: Mean Validation Error = 5.3127\n",
      "Run 9: Evaluating degree 7...\n",
      "Run 9, Degree 7: Mean Validation Error = 5.0706\n",
      "Run 9: Best degree (d*) = 7, Validation Error = 5.0706\n"
     ]
    },
    {
     "name": "stderr",
     "output_type": "stream",
     "text": [
      "Cross-Validation Runs:  45%|████▌     | 9/20 [33:00<53:57, 294.29s/it]"
     ]
    },
    {
     "name": "stdout",
     "output_type": "stream",
     "text": [
      "Run 9: d* = 7,Train Error Rate = 0.3092, Test Error Rate = 4.4086\n",
      "Run 10: Evaluating degree 1...\n",
      "Run 10, Degree 1: Mean Validation Error = 10.6792\n",
      "Run 10: Evaluating degree 2...\n",
      "Run 10, Degree 2: Mean Validation Error = 7.5992\n",
      "Run 10: Evaluating degree 3...\n",
      "Run 10, Degree 3: Mean Validation Error = 6.6039\n",
      "Run 10: Evaluating degree 4...\n",
      "Run 10, Degree 4: Mean Validation Error = 5.9045\n",
      "Run 10: Evaluating degree 5...\n",
      "Run 10, Degree 5: Mean Validation Error = 5.8776\n",
      "Run 10: Evaluating degree 6...\n",
      "Run 10, Degree 6: Mean Validation Error = 5.4069\n",
      "Run 10: Evaluating degree 7...\n",
      "Run 10, Degree 7: Mean Validation Error = 5.5279\n",
      "Run 10: Best degree (d*) = 6, Validation Error = 5.4069\n"
     ]
    },
    {
     "name": "stderr",
     "output_type": "stream",
     "text": [
      "Cross-Validation Runs:  50%|█████     | 10/20 [36:07<43:33, 261.36s/it]"
     ]
    },
    {
     "name": "stdout",
     "output_type": "stream",
     "text": [
      "Run 10: d* = 6,Train Error Rate = 0.6857, Test Error Rate = 5.3763\n",
      "Run 11: Evaluating degree 1...\n",
      "Run 11, Degree 1: Mean Validation Error = 10.0471\n",
      "Run 11: Evaluating degree 2...\n",
      "Run 11, Degree 2: Mean Validation Error = 6.8998\n",
      "Run 11: Evaluating degree 3...\n",
      "Run 11, Degree 3: Mean Validation Error = 5.9852\n",
      "Run 11: Evaluating degree 4...\n",
      "Run 11, Degree 4: Mean Validation Error = 5.6490\n",
      "Run 11: Evaluating degree 5...\n",
      "Run 11, Degree 5: Mean Validation Error = 5.3665\n",
      "Run 11: Evaluating degree 6...\n",
      "Run 11, Degree 6: Mean Validation Error = 5.3934\n",
      "Run 11: Evaluating degree 7...\n",
      "Run 11, Degree 7: Mean Validation Error = 4.9630\n",
      "Run 11: Best degree (d*) = 7, Validation Error = 4.9630\n"
     ]
    },
    {
     "name": "stderr",
     "output_type": "stream",
     "text": [
      "Cross-Validation Runs:  55%|█████▌    | 11/20 [40:35<39:29, 263.24s/it]"
     ]
    },
    {
     "name": "stdout",
     "output_type": "stream",
     "text": [
      "Run 11: d* = 7,Train Error Rate = 0.3361, Test Error Rate = 4.6774\n",
      "Run 12: Evaluating degree 1...\n",
      "Run 12, Degree 1: Mean Validation Error = 9.8184\n",
      "Run 12: Evaluating degree 2...\n",
      "Run 12, Degree 2: Mean Validation Error = 7.0074\n",
      "Run 12: Evaluating degree 3...\n",
      "Run 12, Degree 3: Mean Validation Error = 5.9045\n",
      "Run 12: Evaluating degree 4...\n",
      "Run 12, Degree 4: Mean Validation Error = 5.4741\n",
      "Run 12: Evaluating degree 5...\n",
      "Run 12, Degree 5: Mean Validation Error = 5.3127\n",
      "Run 12: Evaluating degree 6...\n",
      "Run 12, Degree 6: Mean Validation Error = 5.0975\n",
      "Run 12: Evaluating degree 7...\n",
      "Run 12, Degree 7: Mean Validation Error = 4.8420\n",
      "Run 12: Best degree (d*) = 7, Validation Error = 4.8420\n"
     ]
    },
    {
     "name": "stderr",
     "output_type": "stream",
     "text": [
      "Cross-Validation Runs:  60%|██████    | 12/20 [44:50<34:46, 260.81s/it]"
     ]
    },
    {
     "name": "stdout",
     "output_type": "stream",
     "text": [
      "Run 12: d* = 7,Train Error Rate = 0.3764, Test Error Rate = 5.0538\n",
      "Run 13: Evaluating degree 1...\n",
      "Run 13, Degree 1: Mean Validation Error = 9.5494\n",
      "Run 13: Evaluating degree 2...\n",
      "Run 13, Degree 2: Mean Validation Error = 7.0074\n",
      "Run 13: Evaluating degree 3...\n",
      "Run 13, Degree 3: Mean Validation Error = 6.0794\n",
      "Run 13: Evaluating degree 4...\n",
      "Run 13, Degree 4: Mean Validation Error = 5.6759\n",
      "Run 13: Evaluating degree 5...\n",
      "Run 13, Degree 5: Mean Validation Error = 5.6221\n",
      "Run 13: Evaluating degree 6...\n",
      "Run 13, Degree 6: Mean Validation Error = 5.6221\n",
      "Run 13: Evaluating degree 7...\n",
      "Run 13, Degree 7: Mean Validation Error = 5.3531\n",
      "Run 13: Best degree (d*) = 7, Validation Error = 5.3531\n"
     ]
    },
    {
     "name": "stderr",
     "output_type": "stream",
     "text": [
      "Cross-Validation Runs:  65%|██████▌   | 13/20 [48:22<28:42, 246.07s/it]"
     ]
    },
    {
     "name": "stdout",
     "output_type": "stream",
     "text": [
      "Run 13: d* = 7,Train Error Rate = 0.4033, Test Error Rate = 4.5161\n",
      "Run 14: Evaluating degree 1...\n",
      "Run 14, Degree 1: Mean Validation Error = 9.4687\n",
      "Run 14: Evaluating degree 2...\n",
      "Run 14, Degree 2: Mean Validation Error = 6.4291\n",
      "Run 14: Evaluating degree 3...\n",
      "Run 14, Degree 3: Mean Validation Error = 5.6624\n",
      "Run 14: Evaluating degree 4...\n",
      "Run 14, Degree 4: Mean Validation Error = 5.2858\n",
      "Run 14: Evaluating degree 5...\n",
      "Run 14, Degree 5: Mean Validation Error = 5.3531\n",
      "Run 14: Evaluating degree 6...\n",
      "Run 14, Degree 6: Mean Validation Error = 5.0303\n",
      "Run 14: Evaluating degree 7...\n",
      "Run 14, Degree 7: Mean Validation Error = 4.7478\n",
      "Run 14: Best degree (d*) = 7, Validation Error = 4.7478\n"
     ]
    },
    {
     "name": "stderr",
     "output_type": "stream",
     "text": [
      "Cross-Validation Runs:  70%|███████   | 14/20 [52:19<24:19, 243.33s/it]"
     ]
    },
    {
     "name": "stdout",
     "output_type": "stream",
     "text": [
      "Run 14: d* = 7,Train Error Rate = 0.4840, Test Error Rate = 6.0215\n",
      "Run 15: Evaluating degree 1...\n",
      "Run 15, Degree 1: Mean Validation Error = 10.3564\n",
      "Run 15: Evaluating degree 2...\n",
      "Run 15, Degree 2: Mean Validation Error = 7.2898\n",
      "Run 15: Evaluating degree 3...\n",
      "Run 15, Degree 3: Mean Validation Error = 6.3618\n",
      "Run 15: Evaluating degree 4...\n",
      "Run 15, Degree 4: Mean Validation Error = 5.7835\n",
      "Run 15: Evaluating degree 5...\n",
      "Run 15, Degree 5: Mean Validation Error = 5.5010\n",
      "Run 15: Evaluating degree 6...\n",
      "Run 15, Degree 6: Mean Validation Error = 5.0437\n",
      "Run 15: Evaluating degree 7...\n",
      "Run 15, Degree 7: Mean Validation Error = 5.3127\n",
      "Run 15: Best degree (d*) = 6, Validation Error = 5.0437\n"
     ]
    },
    {
     "name": "stderr",
     "output_type": "stream",
     "text": [
      "Cross-Validation Runs:  75%|███████▌  | 15/20 [55:29<18:55, 227.08s/it]"
     ]
    },
    {
     "name": "stdout",
     "output_type": "stream",
     "text": [
      "Run 15: d* = 6,Train Error Rate = 0.5378, Test Error Rate = 5.3226\n",
      "Run 16: Evaluating degree 1...\n",
      "Run 16, Degree 1: Mean Validation Error = 9.9529\n",
      "Run 16: Evaluating degree 2...\n",
      "Run 16, Degree 2: Mean Validation Error = 7.1688\n",
      "Run 16: Evaluating degree 3...\n",
      "Run 16, Degree 3: Mean Validation Error = 6.3618\n",
      "Run 16: Evaluating degree 4...\n",
      "Run 16, Degree 4: Mean Validation Error = 5.4876\n",
      "Run 16: Evaluating degree 5...\n",
      "Run 16, Degree 5: Mean Validation Error = 5.1244\n",
      "Run 16: Evaluating degree 6...\n",
      "Run 16, Degree 6: Mean Validation Error = 4.7747\n",
      "Run 16: Evaluating degree 7...\n",
      "Run 16, Degree 7: Mean Validation Error = 5.0841\n",
      "Run 16: Best degree (d*) = 6, Validation Error = 4.7747\n"
     ]
    },
    {
     "name": "stderr",
     "output_type": "stream",
     "text": [
      "Cross-Validation Runs:  80%|████████  | 16/20 [59:50<15:50, 237.50s/it]"
     ]
    },
    {
     "name": "stdout",
     "output_type": "stream",
     "text": [
      "Run 16: d* = 6,Train Error Rate = 0.4571, Test Error Rate = 4.3011\n",
      "Run 17: Evaluating degree 1...\n",
      "Run 17, Degree 1: Mean Validation Error = 9.9933\n",
      "Run 17: Evaluating degree 2...\n",
      "Run 17, Degree 2: Mean Validation Error = 6.9401\n",
      "Run 17: Evaluating degree 3...\n",
      "Run 17, Degree 3: Mean Validation Error = 5.7969\n",
      "Run 17: Evaluating degree 4...\n",
      "Run 17, Degree 4: Mean Validation Error = 5.3127\n",
      "Run 17: Evaluating degree 5...\n",
      "Run 17, Degree 5: Mean Validation Error = 5.3262\n",
      "Run 17: Evaluating degree 6...\n",
      "Run 17, Degree 6: Mean Validation Error = 4.7747\n",
      "Run 17: Evaluating degree 7...\n",
      "Run 17, Degree 7: Mean Validation Error = 4.7882\n",
      "Run 17: Best degree (d*) = 6, Validation Error = 4.7747\n"
     ]
    },
    {
     "name": "stderr",
     "output_type": "stream",
     "text": [
      "Cross-Validation Runs:  85%|████████▌ | 17/20 [1:04:04<12:06, 242.25s/it]"
     ]
    },
    {
     "name": "stdout",
     "output_type": "stream",
     "text": [
      "Run 17: d* = 6,Train Error Rate = 0.3630, Test Error Rate = 5.1613\n",
      "Run 18: Evaluating degree 1...\n",
      "Run 18, Degree 1: Mean Validation Error = 10.0202\n",
      "Run 18: Evaluating degree 2...\n",
      "Run 18, Degree 2: Mean Validation Error = 7.0074\n",
      "Run 18: Evaluating degree 3...\n",
      "Run 18, Degree 3: Mean Validation Error = 5.8507\n",
      "Run 18: Evaluating degree 4...\n",
      "Run 18, Degree 4: Mean Validation Error = 5.5010\n",
      "Run 18: Evaluating degree 5...\n",
      "Run 18, Degree 5: Mean Validation Error = 5.2589\n",
      "Run 18: Evaluating degree 6...\n",
      "Run 18, Degree 6: Mean Validation Error = 5.0841\n",
      "Run 18: Evaluating degree 7...\n",
      "Run 18, Degree 7: Mean Validation Error = 4.8958\n",
      "Run 18: Best degree (d*) = 7, Validation Error = 4.8958\n"
     ]
    },
    {
     "name": "stderr",
     "output_type": "stream",
     "text": [
      "Cross-Validation Runs:  90%|█████████ | 18/20 [1:07:47<07:53, 236.68s/it]"
     ]
    },
    {
     "name": "stdout",
     "output_type": "stream",
     "text": [
      "Run 18: d* = 7,Train Error Rate = 0.3496, Test Error Rate = 4.7312\n",
      "Run 19: Evaluating degree 1...\n",
      "Run 19, Degree 1: Mean Validation Error = 10.3968\n",
      "Run 19: Evaluating degree 2...\n",
      "Run 19, Degree 2: Mean Validation Error = 7.2226\n",
      "Run 19: Evaluating degree 3...\n",
      "Run 19, Degree 3: Mean Validation Error = 6.0928\n",
      "Run 19: Evaluating degree 4...\n",
      "Run 19, Degree 4: Mean Validation Error = 5.6759\n",
      "Run 19: Evaluating degree 5...\n",
      "Run 19, Degree 5: Mean Validation Error = 5.8776\n",
      "Run 19: Evaluating degree 6...\n",
      "Run 19, Degree 6: Mean Validation Error = 5.2858\n",
      "Run 19: Evaluating degree 7...\n",
      "Run 19, Degree 7: Mean Validation Error = 5.3531\n",
      "Run 19: Best degree (d*) = 6, Validation Error = 5.2858\n"
     ]
    },
    {
     "name": "stderr",
     "output_type": "stream",
     "text": [
      "Cross-Validation Runs:  95%|█████████▌| 19/20 [1:11:33<03:53, 233.43s/it]"
     ]
    },
    {
     "name": "stdout",
     "output_type": "stream",
     "text": [
      "Run 19: d* = 6,Train Error Rate = 0.5243, Test Error Rate = 4.3548\n",
      "Run 20: Evaluating degree 1...\n",
      "Run 20, Degree 1: Mean Validation Error = 10.4775\n",
      "Run 20: Evaluating degree 2...\n",
      "Run 20, Degree 2: Mean Validation Error = 6.7922\n",
      "Run 20: Evaluating degree 3...\n",
      "Run 20, Degree 3: Mean Validation Error = 5.8373\n",
      "Run 20: Evaluating degree 4...\n",
      "Run 20, Degree 4: Mean Validation Error = 5.6355\n",
      "Run 20: Evaluating degree 5...\n",
      "Run 20, Degree 5: Mean Validation Error = 5.2051\n",
      "Run 20: Evaluating degree 6...\n",
      "Run 20, Degree 6: Mean Validation Error = 4.9227\n",
      "Run 20: Evaluating degree 7...\n",
      "Run 20, Degree 7: Mean Validation Error = 4.7209\n",
      "Run 20: Best degree (d*) = 7, Validation Error = 4.7209\n"
     ]
    },
    {
     "name": "stderr",
     "output_type": "stream",
     "text": [
      "Cross-Validation Runs: 100%|██████████| 20/20 [1:14:38<00:00, 223.94s/it]"
     ]
    },
    {
     "name": "stdout",
     "output_type": "stream",
     "text": [
      "Run 20: d* = 7,Train Error Rate = 0.2286, Test Error Rate = 5.4839\n",
      "\n",
      "Final Results:\n",
      "Mean d*: 6.65 ± 0.48\n",
      "Mean Train Error: 0.4423 ± 0.1128\n",
      "Mean Test Error: 4.8414 ± 0.4750\n"
     ]
    },
    {
     "name": "stderr",
     "output_type": "stream",
     "text": [
      "\n"
     ]
    }
   ],
   "source": [
    "# Initialization\n",
    "np.random.seed(42)  \n",
    "train_ratio = 0.8  \n",
    "best_degrees, test_errs, train_errs = [], [], []  \n",
    "degree_candidates = range(1, 8)  # Polynomial degrees to evaluate\n",
    "\n",
    "# Perform 20 cross-validation iterations\n",
    "for iteration in tqdm(range(20), desc=\"Cross-Validation Iterations\"):\n",
    "    # Randomly split the dataset into training and testing sets\n",
    "    train_X, test_X, train_y, test_y = train_test_split(\n",
    "        X, y, train_ratio=train_ratio, shuffle=True, seed=iteration\n",
    "    )\n",
    "\n",
    "    # Initialize variables to track the best degree\n",
    "    best_degree, lowest_error = 0, float('inf')\n",
    "\n",
    "    # Evaluate each polynomial degree\n",
    "    for degree in degree_candidates:\n",
    "        print(f\"Iteration {iteration + 1}: Evaluating degree {degree}...\")\n",
    "        validation_errors = []  # Store validation errors for each fold\n",
    "\n",
    "        # Perform 5-fold cross-validation\n",
    "        splits = cross_validation_split(train_X, train_y, folds=5)\n",
    "        for fold_idx, (X_train_fold, X_valid_fold, y_train_fold, y_valid_fold) in enumerate(splits):\n",
    "            # Train the model on the training fold\n",
    "            model = MultiKernelPerceptronOVO(\n",
    "                X_train_fold, y_train_fold, X_valid_fold, y_valid_fold,\n",
    "                kernel_param=degree, epochs=5\n",
    "            )\n",
    "            model.train()\n",
    "            validation_errors.append(model.test())  # Test on the validation fold\n",
    "\n",
    "        # Compute the mean validation error for the current degree\n",
    "        mean_validation_error = np.mean(validation_errors)\n",
    "        print(f\"Iteration {iteration + 1}, Degree {degree}: Mean Validation Error = {mean_validation_error:.4f}\")\n",
    "\n",
    "        # Update the best degree if the current degree gives a lower validation error\n",
    "        if mean_validation_error < lowest_error:\n",
    "            lowest_error = mean_validation_error\n",
    "            best_degree = degree\n",
    "\n",
    "    print(f\"Iteration {iteration + 1}: Best Degree = {best_degree}, Validation Error = {lowest_error:.4f}\")\n",
    "\n",
    "    # Retrain the classifier on the entire training set with the best degree\n",
    "    model = MultiKernelPerceptronOVO(\n",
    "        train_X, train_y, test_X, test_y,\n",
    "        kernel_param=best_degree, epochs=5\n",
    "    )\n",
    "    train_error = model.train()\n",
    "    test_error = model.test()\n",
    "    train_errs.append(train_error)\n",
    "    test_errs.append(test_error)\n",
    "    best_degrees.append(best_degree)\n",
    "\n",
    "    # Print results for the current iteration\n",
    "    print(f\"Iteration {iteration + 1}: Best Degree = {best_degree}, Train Error = {train_error:.4f}, Test Error = {test_error:.4f}\")\n",
    "\n",
    "# Print final results across all iterations\n",
    "print(\"\\nFinal Results:\")\n",
    "print(f\"Mean Best Degree: {np.mean(best_degrees):.2f} ± {np.std(best_degrees):.2f}\")\n",
    "print(f\"Mean Train Error: {np.mean(train_errs):.4f} ± {np.std(train_errs):.4f}\")\n",
    "print(f\"Mean Test Error: {np.mean(test_errs):.4f} ± {np.std(test_errs):.4f}\")\n"
   ]
  },
  {
   "cell_type": "code",
   "execution_count": 29,
   "metadata": {},
   "outputs": [
    {
     "name": "stdout",
     "output_type": "stream",
     "text": [
      "┌───────┬────────────────────┬────────────────────────┬───────────────────────┐\n",
      "│  Run  │  Best Degree (d*)  │  Train Error Rate (%)  │  Test Error Rate (%)  │\n",
      "├───────┼────────────────────┼────────────────────────┼───────────────────────┤\n",
      "│   1   │         7          │         0.4571         │        4.1935         │\n",
      "│   2   │         7          │         0.3496         │        4.5699         │\n",
      "│   3   │         7          │         0.3764         │        4.1935         │\n",
      "│   4   │         7          │         0.4974         │        5.2151         │\n",
      "│   5   │         6          │         0.5109         │        4.5161         │\n",
      "│   6   │         7          │         0.484          │        4.9462         │\n",
      "│   7   │         6          │         0.4302         │        4.8387         │\n",
      "│   8   │         7          │         0.6857         │        4.9462         │\n",
      "│   9   │         7          │         0.3092         │        4.4086         │\n",
      "│  10   │         6          │         0.6857         │        5.3763         │\n",
      "│  11   │         7          │         0.3361         │        4.6774         │\n",
      "│  12   │         7          │         0.3764         │        5.0538         │\n",
      "│  13   │         7          │         0.4033         │        4.5161         │\n",
      "│  14   │         7          │         0.484          │        6.0215         │\n",
      "│  15   │         6          │         0.5378         │        5.3226         │\n",
      "│  16   │         6          │         0.4571         │        4.3011         │\n",
      "│  17   │         6          │         0.363          │        5.1613         │\n",
      "│  18   │         7          │         0.3496         │        4.7312         │\n",
      "│  19   │         6          │         0.5243         │        4.3548         │\n",
      "│  20   │         7          │         0.2286         │        5.4839         │\n",
      "└───────┴────────────────────┴────────────────────────┴───────────────────────┘\n"
     ]
    }
   ],
   "source": [
    "# Tabulate results\n",
    "data_table = []\n",
    "for iteration_idx in range(20):\n",
    "    train_result = f\"{train_errs[iteration_idx]:.4f}\"  # Using 'train_errs'\n",
    "    test_result = f\"{test_errs[iteration_idx]:.4f}\"    # Using 'test_errs'\n",
    "    data_table.append([iteration_idx + 1, best_degrees[iteration_idx], train_result, test_result])  # Using 'best_degrees'\n",
    "\n",
    "# Print the table\n",
    "print(tabulate(\n",
    "    data_table,\n",
    "    headers=[\"Iteration\", \"Best Degree (d*)\", \"Train Error Rate (%)\", \"Test Error Rate (%)\"],\n",
    "    tablefmt=\"simple_outline\",\n",
    "    numalign=\"center\"\n",
    "))\n"
   ]
  }
 ],
 "metadata": {
  "kernelspec": {
   "display_name": "MV00",
   "language": "python",
   "name": "python3"
  },
  "language_info": {
   "codemirror_mode": {
    "name": "ipython",
    "version": 3
   },
   "file_extension": ".py",
   "mimetype": "text/x-python",
   "name": "python",
   "nbconvert_exporter": "python",
   "pygments_lexer": "ipython3",
   "version": "3.12.7"
  }
 },
 "nbformat": 4,
 "nbformat_minor": 2
}
