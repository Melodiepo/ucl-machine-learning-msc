{
 "cells": [
  {
   "cell_type": "markdown",
   "metadata": {},
   "source": [
    "# Jupyter notebook usage\n",
    "\n",
    "We're going to use Jupyter notebooks both for demos, and for the coursework. Jupyter notebooks are comprised of a series of *cells*. Cells have different \"types\": most cells are code cells, but this cell is a markdown cell, which contains formatted text.\n",
    "\n",
    "Run a code cell by pressing `shift`+`enter`.\n",
    "\n",
    "Make sure to run all cells in order, top-to-bottom!"
   ]
  },
  {
   "cell_type": "code",
   "execution_count": 1,
   "metadata": {},
   "outputs": [],
   "source": [
    "# import everything we will want up front!\n",
    "\n",
    "import numpy as np\n",
    "import torch\n",
    "import torch.distributions as dist\n",
    "import matplotlib.pyplot as plt\n",
    "%matplotlib inline"
   ]
  },
  {
   "cell_type": "markdown",
   "metadata": {},
   "source": [
    "## Numpy usage\n",
    "\n",
    "Numpy is an array library. It supports most common linear algebra operations. It also has some basic random number generation.\n",
    "\n",
    "Documentation is available [https://numpy.org/doc/stable/]."
   ]
  },
  {
   "cell_type": "code",
   "execution_count": 2,
   "metadata": {},
   "outputs": [
    {
     "name": "stdout",
     "output_type": "stream",
     "text": [
      "(3, 2) (2,)\n"
     ]
    }
   ],
   "source": [
    "A = np.array([[1., 2.],\n",
    "              [0., 3.],\n",
    "              [4., 1.]])\n",
    "\n",
    "b = np.array([0.5, -1])\n",
    "\n",
    "print(A.shape, b.shape)"
   ]
  },
  {
   "cell_type": "code",
   "execution_count": 3,
   "metadata": {},
   "outputs": [
    {
     "name": "stdout",
     "output_type": "stream",
     "text": [
      "[[ 1.  4.]\n",
      " [ 0.  9.]\n",
      " [16.  1.]]\n"
     ]
    }
   ],
   "source": [
    "# elementwise multiplication\n",
    "print(A * A)"
   ]
  },
  {
   "cell_type": "code",
   "execution_count": 4,
   "metadata": {},
   "outputs": [
    {
     "name": "stdout",
     "output_type": "stream",
     "text": [
      "[[1. 0. 4.]\n",
      " [2. 3. 1.]]\n"
     ]
    }
   ],
   "source": [
    "# transpose\n",
    "print(A.T)"
   ]
  },
  {
   "cell_type": "code",
   "execution_count": 5,
   "metadata": {},
   "outputs": [
    {
     "name": "stdout",
     "output_type": "stream",
     "text": [
      "A @ b:\n",
      " [-1.5 -3.   1. ]\n",
      "A @ A.T:\n",
      " [[ 5.  6.  6.]\n",
      " [ 6.  9.  3.]\n",
      " [ 6.  3. 17.]]\n"
     ]
    }
   ],
   "source": [
    "# matrix-vector multiplication\n",
    "print(\"A @ b:\\n\", A @ b)\n",
    "print(\"A @ A.T:\\n\", A @ A.T)"
   ]
  },
  {
   "cell_type": "markdown",
   "metadata": {},
   "source": [
    "When indexing, you can use `:` as a wildcard, or to specify a range. Negative indices count from the end."
   ]
  },
  {
   "cell_type": "code",
   "execution_count": 6,
   "metadata": {},
   "outputs": [
    {
     "name": "stdout",
     "output_type": "stream",
     "text": [
      "A[0,1] = 2.0\n",
      "First row of A =  [1. 2.]\n",
      "Second column of A =  [2. 3. 1.]\n",
      "Second column of A, excluding the last value =  [2. 3.]\n"
     ]
    }
   ],
   "source": [
    "# indexing\n",
    "print(\"A[0,1] =\", A[0,1])\n",
    "print(\"First row of A = \", A[0,:])\n",
    "print(\"Second column of A = \", A[:,1])\n",
    "print(\"Second column of A, excluding the last value = \", A[:-1,1])"
   ]
  },
  {
   "cell_type": "code",
   "execution_count": 7,
   "metadata": {},
   "outputs": [
    {
     "data": {
      "text/plain": [
       "array([0.03030303, 0.04040404, 0.05050505, 0.06060606, 0.07070707,\n",
       "       0.08080808, 0.09090909, 0.1010101 , 0.11111111, 0.12121212,\n",
       "       0.13131313, 0.14141414])"
      ]
     },
     "execution_count": 7,
     "metadata": {},
     "output_type": "execute_result"
    }
   ],
   "source": [
    "# evenly spaced points from zero to one\n",
    "points = np.linspace(0, 1, 100)\n",
    "points[3:15] # grab a range"
   ]
  },
  {
   "cell_type": "code",
   "execution_count": 8,
   "metadata": {},
   "outputs": [
    {
     "name": "stdout",
     "output_type": "stream",
     "text": [
      "11.0\n",
      "[5. 6.]\n",
      "[3. 3. 5.]\n",
      "[3. 3. 5.]\n",
      "[1.5 1.5 2.5]\n"
     ]
    }
   ],
   "source": [
    "# there are also useful aggregation tools:\n",
    "print(A.sum())\n",
    "print(A.sum(0)) # Sum out axis 0\n",
    "print(A.sum(1)) # Sum out axis 1\n",
    "print(A.sum(-1)) # Sum out \"last\" axis\n",
    "print(A.mean(-1)) # Average instead of sum, etc"
   ]
  },
  {
   "cell_type": "markdown",
   "metadata": {},
   "source": [
    "### One surprising and useful thing is \"broadcasting\".\n",
    "\n",
    "This is a very useful feature: if you have arrays with dimensions of size one, but the rest of the dimensions match up, then elementwise operations will \"just work\". It will add across all the other rows/columns automatically.\n",
    "\n",
    "\"Missing\" leading (i.e. left-most) dimensions are treated as having size one automatically."
   ]
  },
  {
   "cell_type": "code",
   "execution_count": 9,
   "metadata": {},
   "outputs": [
    {
     "data": {
      "text/plain": [
       "array([[1.5, 1. ],\n",
       "       [0.5, 2. ],\n",
       "       [4.5, 0. ]])"
      ]
     },
     "execution_count": 9,
     "metadata": {},
     "output_type": "execute_result"
    }
   ],
   "source": [
    "A + b # A.shape == (3, 2), b.shape == (2, )"
   ]
  },
  {
   "cell_type": "code",
   "execution_count": 10,
   "metadata": {},
   "outputs": [
    {
     "ename": "ValueError",
     "evalue": "operands could not be broadcast together with shapes (2,3) (2,) ",
     "output_type": "error",
     "traceback": [
      "\u001b[0;31m---------------------------------------------------------------------------\u001b[0m",
      "\u001b[0;31mValueError\u001b[0m                                Traceback (most recent call last)",
      "\u001b[0;32m<ipython-input-10-b6b87f0d2fa2>\u001b[0m in \u001b[0;36m<module>\u001b[0;34m\u001b[0m\n\u001b[0;32m----> 1\u001b[0;31m \u001b[0mA\u001b[0m\u001b[0;34m.\u001b[0m\u001b[0mT\u001b[0m \u001b[0;34m+\u001b[0m \u001b[0mb\u001b[0m \u001b[0;31m# this doesn't work -- shapes don't line up\u001b[0m\u001b[0;34m\u001b[0m\u001b[0;34m\u001b[0m\u001b[0m\n\u001b[0m",
      "\u001b[0;31mValueError\u001b[0m: operands could not be broadcast together with shapes (2,3) (2,) "
     ]
    }
   ],
   "source": [
    "A.T + b # this doesn't work -- shapes don't line up"
   ]
  },
  {
   "cell_type": "code",
   "execution_count": 11,
   "metadata": {},
   "outputs": [
    {
     "name": "stdout",
     "output_type": "stream",
     "text": [
      "b.shape: (2,)\n",
      "b[:,None].shape: (2, 1)\n",
      "\n",
      "b = [ 0.5 -1. ]\n",
      "\n",
      "b[:,None].T = [[ 0.5 -1. ]]\n",
      "\n",
      "b[None,:] = [[ 0.5 -1. ]]\n"
     ]
    },
    {
     "data": {
      "text/plain": [
       "array([[1.5, 0.5, 4.5],\n",
       "       [1. , 2. , 0. ]])"
      ]
     },
     "execution_count": 11,
     "metadata": {},
     "output_type": "execute_result"
    }
   ],
   "source": [
    "# You can explicitly insert dimensions of size one like this:\n",
    "print(\"b.shape:\", b.shape)\n",
    "print(\"b[:,None].shape:\", b[:,None].shape)\n",
    "\n",
    "print(\"\\nb =\", b)\n",
    "print(\"\\nb[:,None].T =\", b[:,None].T)\n",
    "print(\"\\nb[None,:] =\", b[None,:])\n",
    "\n",
    "A.T + b[:,None]"
   ]
  },
  {
   "cell_type": "markdown",
   "metadata": {},
   "source": [
    "Numpy also includes many common operations in vectorized versions. See the documentation for more.\n",
    "\n",
    "Vectorized operations are much faster than using python loops!"
   ]
  },
  {
   "cell_type": "code",
   "execution_count": 12,
   "metadata": {},
   "outputs": [
    {
     "data": {
      "text/plain": [
       "(array([[1.31326169, 2.12692801],\n",
       "        [0.69314718, 3.04858735],\n",
       "        [4.01814993, 1.31326169]]),\n",
       " array([0.5, 1. ]))"
      ]
     },
     "execution_count": 12,
     "metadata": {},
     "output_type": "execute_result"
    }
   ],
   "source": [
    "(np.log( 1 + np.exp(A)), \n",
    " np.sqrt(b**2))"
   ]
  },
  {
   "cell_type": "markdown",
   "metadata": {},
   "source": [
    "There are a bunch of useful constructors for creating matrices: \n",
    "\n",
    "* `np.eye` for identity\n",
    "* `np.zeros` for all-zeros\n",
    "* `np.ones` for all ones\n",
    "* `np.arange` for ranges\n",
    "\n",
    "etc.\n",
    "\n",
    "You can also directly edit individual entries of matrices (but try to use vectorized options where possible)."
   ]
  },
  {
   "cell_type": "code",
   "execution_count": 13,
   "metadata": {},
   "outputs": [
    {
     "name": "stdout",
     "output_type": "stream",
     "text": [
      "M:\n",
      " [[-5.  2.  0.]\n",
      " [ 0.  3.  0.]\n",
      " [ 0.  4.  1.]]\n"
     ]
    }
   ],
   "source": [
    "M = np.eye(3)\n",
    "M[:,1] = np.arange(2,5)\n",
    "M[0,0] = -5\n",
    "print(\"M:\\n\", M)"
   ]
  },
  {
   "cell_type": "markdown",
   "metadata": {},
   "source": [
    "## Pytorch\n",
    "\n",
    "Pytorch [https://pytorch.org] is an automatic differentiation and deep learning toolkit. For now, we are just going to deal with its array implementation, and its probability distributions library.\n",
    "\n",
    "Syntax is designed to be in general very similar to Numpy."
   ]
  },
  {
   "cell_type": "code",
   "execution_count": 14,
   "metadata": {},
   "outputs": [
    {
     "data": {
      "text/plain": [
       "(tensor([[1., 2.],\n",
       "         [0., 3.],\n",
       "         [4., 1.]]),\n",
       " tensor([ 0.5000, -1.0000]))"
      ]
     },
     "execution_count": 14,
     "metadata": {},
     "output_type": "execute_result"
    }
   ],
   "source": [
    "# you can create tensors from numpy arrays.\n",
    "# by default, these are lower precision!\n",
    "C = torch.Tensor(A)\n",
    "d = torch.Tensor(b)\n",
    "C, d"
   ]
  },
  {
   "cell_type": "code",
   "execution_count": 15,
   "metadata": {},
   "outputs": [
    {
     "name": "stdout",
     "output_type": "stream",
     "text": [
      "numpy:   [-8.5 -9.5]\n",
      "pytorch: tensor([-8.5000, -9.5000])\n"
     ]
    }
   ],
   "source": [
    "# most operations are similar\n",
    "print(\"numpy:  \", (A @ b - A.T).sum(-1))\n",
    "print(\"pytorch:\", (C @ d - C.T).sum(-1)) # etc"
   ]
  },
  {
   "cell_type": "code",
   "execution_count": 16,
   "metadata": {},
   "outputs": [
    {
     "name": "stdout",
     "output_type": "stream",
     "text": [
      "tensor([1.6487, 0.3679])\n",
      "tensor([1.6487, 0.3679])\n"
     ]
    }
   ],
   "source": [
    "# pytorch generally supports an alternate syntax:\n",
    "print(torch.exp(d))\n",
    "print(d.exp())"
   ]
  },
  {
   "cell_type": "markdown",
   "metadata": {},
   "source": [
    "Mixing and matching pytorch tensors and numpy arrays sometimes works fine, but sometimes fails. Try to avoid it. You can cast a pytorch tensor to a numpy array using `.numpy()`."
   ]
  },
  {
   "cell_type": "code",
   "execution_count": 17,
   "metadata": {},
   "outputs": [
    {
     "name": "stdout",
     "output_type": "stream",
     "text": [
      "tensor([[2., 4.],\n",
      "        [0., 6.],\n",
      "        [8., 2.]], dtype=torch.float64)\n"
     ]
    }
   ],
   "source": [
    "print(C + A) # returns a \"float64\" torch tensor"
   ]
  },
  {
   "cell_type": "code",
   "execution_count": 18,
   "metadata": {},
   "outputs": [
    {
     "name": "stdout",
     "output_type": "stream",
     "text": [
      "tensor([[2., 4.],\n",
      "        [0., 6.],\n",
      "        [8., 2.]])\n"
     ]
    }
   ],
   "source": [
    "print(C + torch.Tensor(A)) # returns a \"float32\" torch tensor"
   ]
  },
  {
   "cell_type": "code",
   "execution_count": 19,
   "metadata": {},
   "outputs": [
    {
     "ename": "TypeError",
     "evalue": "unsupported operand type(s) for +: 'numpy.ndarray' and 'Tensor'",
     "output_type": "error",
     "traceback": [
      "\u001b[0;31m---------------------------------------------------------------------------\u001b[0m",
      "\u001b[0;31mTypeError\u001b[0m                                 Traceback (most recent call last)",
      "\u001b[0;32m<ipython-input-19-2b4587134e87>\u001b[0m in \u001b[0;36m<module>\u001b[0;34m\u001b[0m\n\u001b[0;32m----> 1\u001b[0;31m \u001b[0mprint\u001b[0m\u001b[0;34m(\u001b[0m\u001b[0mA\u001b[0m \u001b[0;34m+\u001b[0m \u001b[0mC\u001b[0m\u001b[0;34m)\u001b[0m \u001b[0;31m# throws an exception\u001b[0m\u001b[0;34m\u001b[0m\u001b[0;34m\u001b[0m\u001b[0m\n\u001b[0m",
      "\u001b[0;31mTypeError\u001b[0m: unsupported operand type(s) for +: 'numpy.ndarray' and 'Tensor'"
     ]
    }
   ],
   "source": [
    "print(A + C) # throws an exception"
   ]
  },
  {
   "cell_type": "code",
   "execution_count": 20,
   "metadata": {},
   "outputs": [
    {
     "name": "stdout",
     "output_type": "stream",
     "text": [
      "[[2. 4.]\n",
      " [0. 6.]\n",
      " [8. 2.]]\n"
     ]
    }
   ],
   "source": [
    "print(A + C.numpy()) # returns a numpy array"
   ]
  },
  {
   "cell_type": "markdown",
   "metadata": {},
   "source": [
    "## Distributions and plotting\n",
    "\n",
    "Pytorch includes a very useful distributions library, in `torch.distributions`. It includes most common probability distributions we might be interested in as primitives. We've imported it here as `dist`.\n",
    "\n",
    "The most immediately useful methods that distributions have are `.sample` and `.log_prob`. We'll also discuss `.rsample` later.\n",
    "\n",
    "We'll also show how to use **matplotlib** [https://matplotlib.org] to plot densities, histograms, and samples. Matplotlib prefers numpy arrays as inputs, rather than torch tensors, but the basic plotting scripts will work either way."
   ]
  },
  {
   "cell_type": "code",
   "execution_count": 21,
   "metadata": {},
   "outputs": [
    {
     "name": "stdout",
     "output_type": "stream",
     "text": [
      "torch.Size([100, 2])\n"
     ]
    }
   ],
   "source": [
    "standard_normal = dist.Normal(1, 3)\n",
    "rv = standard_normal.sample((100, 2))\n",
    "print(rv.shape)"
   ]
  },
  {
   "cell_type": "code",
   "execution_count": 22,
   "metadata": {},
   "outputs": [
    {
     "data": {
      "text/plain": [
       "(tensor(0.9270), 2.6264946460723877)"
      ]
     },
     "execution_count": 22,
     "metadata": {},
     "output_type": "execute_result"
    }
   ],
   "source": [
    "# should be close to (1, 3).\n",
    "# Also, note that `.item()` returns a python scalar!\n",
    "rv.mean(), rv.std().item() "
   ]
  },
  {
   "cell_type": "markdown",
   "metadata": {},
   "source": [
    "Using matplotlib to plot the probability density"
   ]
  },
  {
   "cell_type": "code",
   "execution_count": 23,
   "metadata": {},
   "outputs": [
    {
     "data": {
      "image/png": "[encoded data removed]",
      "text/plain": [
       "<Figure size 432x288 with 1 Axes>"
      ]
     },
     "metadata": {
      "needs_background": "light"
     },
     "output_type": "display_data"
    }
   ],
   "source": [
    "domain = torch.linspace(-10, 20, 1000)\n",
    "\n",
    "plt.plot(domain, standard_normal.log_prob(domain).exp());\n",
    "plt.xlabel(\"value\")\n",
    "plt.ylabel(\"p(value)\");"
   ]
  },
  {
   "cell_type": "markdown",
   "metadata": {},
   "source": [
    "Plotting a histogram"
   ]
  },
  {
   "cell_type": "code",
   "execution_count": 24,
   "metadata": {},
   "outputs": [
    {
     "data": {
      "image/png": "[encoded data removed]",
      "text/plain": [
       "<Figure size 432x288 with 1 Axes>"
      ]
     },
     "metadata": {
      "needs_background": "light"
     },
     "output_type": "display_data"
    }
   ],
   "source": [
    "plt.hist(standard_normal.sample((1000,)).numpy(), bins=20, density=True, label=\"Histogram\");\n",
    "plt.plot(domain, standard_normal.log_prob(domain).exp(), 'k--', label=\"Actual density\");\n",
    "plt.legend();"
   ]
  },
  {
   "cell_type": "markdown",
   "metadata": {},
   "source": [
    "We'll demo the use of the distributions library more in the next notebook."
   ]
  },
  {
   "cell_type": "code",
   "execution_count": null,
   "metadata": {},
   "outputs": [],
   "source": []
  }
 ],
 "metadata": {
  "kernelspec": {
   "display_name": "Python 3",
   "language": "python",
   "name": "python3"
  },
  "language_info": {
   "codemirror_mode": {
    "name": "ipython",
    "version": 3
   },
   "file_extension": ".py",
   "mimetype": "text/x-python",
   "name": "python",
   "nbconvert_exporter": "python",
   "pygments_lexer": "ipython3",
   "version": "3.12.7"
  }
 },
 "nbformat": 4,
 "nbformat_minor": 4
}
