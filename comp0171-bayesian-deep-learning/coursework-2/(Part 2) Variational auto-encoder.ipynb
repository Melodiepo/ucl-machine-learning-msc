{
 "cells": [
  {
   "cell_type": "markdown",
   "id": "d2b53903",
   "metadata": {},
   "source": [
    "Before you turn this problem in, make sure everything runs as expected. First, **restart the kernel** (in the menubar, select Kernel$\\rightarrow$Restart) and then **run all cells** (in the menubar, select Cell$\\rightarrow$Run All).\n",
    "\n",
    "Make sure you fill in any place that says `YOUR CODE HERE` or \"YOUR ANSWER HERE\"."
   ]
  },
  {
   "cell_type": "markdown",
   "id": "76f30476",
   "metadata": {},
   "source": [
    "---"
   ]
  },
  {
   "cell_type": "code",
   "execution_count": 1,
   "id": "5c56b639",
   "metadata": {
    "deletable": false,
    "editable": false,
    "nbgrader": {
     "cell_type": "code",
     "checksum": "ff01e0c5f082de3fbc99eabd80a886f7",
     "grade": false,
     "grade_id": "cell-b05b8a76a1dcf57b",
     "locked": true,
     "schema_version": 3,
     "solution": false,
     "task": false
    }
   },
   "outputs": [],
   "source": [
    "import numpy as np\n",
    "import matplotlib.pyplot as plt\n",
    "import torch\n",
    "import torch.distributions as dist\n",
    "import torch.nn as nn\n",
    "\n",
    "from torchvision.datasets import MNIST\n",
    "from torchvision import transforms\n",
    "from torchvision.utils import make_grid\n",
    "\n",
    "import itertools\n",
    "\n",
    "%matplotlib inline"
   ]
  },
  {
   "cell_type": "markdown",
   "id": "05666921",
   "metadata": {},
   "source": []
  },
  {
   "cell_type": "markdown",
   "id": "7acf80f5",
   "metadata": {},
   "source": [
    "# Fitting a variational auto-encoder\n",
    "\n",
    "In part two of this coursework, you will fit a variational autoencoder to the MNIST dataset.\n",
    "\n",
    "We'll download the data and plot a few images."
   ]
  },
  {
   "cell_type": "code",
   "execution_count": 2,
   "id": "3a255ae8",
   "metadata": {
    "deletable": false,
    "editable": false,
    "nbgrader": {
     "cell_type": "code",
     "checksum": "e0a394cbb4e520fb642179c72edec0d3",
     "grade": false,
     "grade_id": "cell-599f19b69ac4861f",
     "locked": true,
     "schema_version": 3,
     "solution": false,
     "task": false
    }
   },
   "outputs": [
    {
     "name": "stdout",
     "output_type": "stream",
     "text": [
      "Downloading http://yann.lecun.com/exdb/mnist/train-images-idx3-ubyte.gz\n",
      "Failed to download (trying next):\n",
      "HTTP Error 403: Forbidden\n",
      "\n",
      "Downloading https://ossci-datasets.s3.amazonaws.com/mnist/train-images-idx3-ubyte.gz\n",
      "Downloading https://ossci-datasets.s3.amazonaws.com/mnist/train-images-idx3-ubyte.gz to data/MNIST\\raw\\train-images-idx3-ubyte.gz\n"
     ]
    },
    {
     "name": "stderr",
     "output_type": "stream",
     "text": [
      "100%|██████████| 9.91M/9.91M [00:34<00:00, 291kB/s]\n"
     ]
    },
    {
     "name": "stdout",
     "output_type": "stream",
     "text": [
      "Extracting data/MNIST\\raw\\train-images-idx3-ubyte.gz to data/MNIST\\raw\n",
      "\n",
      "Downloading http://yann.lecun.com/exdb/mnist/train-labels-idx1-ubyte.gz\n",
      "Failed to download (trying next):\n",
      "HTTP Error 403: Forbidden\n",
      "\n",
      "Downloading https://ossci-datasets.s3.amazonaws.com/mnist/train-labels-idx1-ubyte.gz\n",
      "Downloading https://ossci-datasets.s3.amazonaws.com/mnist/train-labels-idx1-ubyte.gz to data/MNIST\\raw\\train-labels-idx1-ubyte.gz\n"
     ]
    },
    {
     "name": "stderr",
     "output_type": "stream",
     "text": [
      "100%|██████████| 28.9k/28.9k [00:00<00:00, 288kB/s]\n"
     ]
    },
    {
     "name": "stdout",
     "output_type": "stream",
     "text": [
      "Extracting data/MNIST\\raw\\train-labels-idx1-ubyte.gz to data/MNIST\\raw\n",
      "\n",
      "Downloading http://yann.lecun.com/exdb/mnist/t10k-images-idx3-ubyte.gz\n",
      "Failed to download (trying next):\n",
      "HTTP Error 403: Forbidden\n",
      "\n",
      "Downloading https://ossci-datasets.s3.amazonaws.com/mnist/t10k-images-idx3-ubyte.gz\n",
      "Downloading https://ossci-datasets.s3.amazonaws.com/mnist/t10k-images-idx3-ubyte.gz to data/MNIST\\raw\\t10k-images-idx3-ubyte.gz\n"
     ]
    },
    {
     "name": "stderr",
     "output_type": "stream",
     "text": [
      "100%|██████████| 1.65M/1.65M [00:02<00:00, 710kB/s]\n"
     ]
    },
    {
     "name": "stdout",
     "output_type": "stream",
     "text": [
      "Extracting data/MNIST\\raw\\t10k-images-idx3-ubyte.gz to data/MNIST\\raw\n",
      "\n",
      "Downloading http://yann.lecun.com/exdb/mnist/t10k-labels-idx1-ubyte.gz\n",
      "Failed to download (trying next):\n",
      "HTTP Error 403: Forbidden\n",
      "\n",
      "Downloading https://ossci-datasets.s3.amazonaws.com/mnist/t10k-labels-idx1-ubyte.gz\n",
      "Downloading https://ossci-datasets.s3.amazonaws.com/mnist/t10k-labels-idx1-ubyte.gz to data/MNIST\\raw\\t10k-labels-idx1-ubyte.gz\n"
     ]
    },
    {
     "name": "stderr",
     "output_type": "stream",
     "text": [
      "100%|██████████| 4.54k/4.54k [00:00<?, ?B/s]"
     ]
    },
    {
     "name": "stdout",
     "output_type": "stream",
     "text": [
      "Extracting data/MNIST\\raw\\t10k-labels-idx1-ubyte.gz to data/MNIST\\raw\n",
      "\n"
     ]
    },
    {
     "name": "stderr",
     "output_type": "stream",
     "text": [
      "\n"
     ]
    }
   ],
   "source": [
    "# Download the dataset and apply necessary transformations\n",
    "\n",
    "mnist_transforms = transforms.Compose([transforms.ToTensor(), transforms.Lambda(lambda x: x.round())])\n",
    "mnist_dataset = MNIST(root='data/', download=True, train=True, transform=mnist_transforms)\n",
    "train_loader = torch.utils.data.DataLoader(mnist_dataset, batch_size=100, shuffle=True)"
   ]
  },
  {
   "cell_type": "markdown",
   "id": "8b3346c7",
   "metadata": {},
   "source": [
    "## Data format\n",
    "\n",
    "Each MNIST image $x_i$ is a **binary image** with shape `(1, 28, 28)`, i.e.\n",
    "\n",
    "$$x_i \\in \\{0, 1\\}^{1\\times28\\times28}$$\n",
    "\n",
    "The first dimension is the number of \"channels\". It is `1` because these are black-and-white images. (For color images, there are three channels.)\n",
    "\n",
    "The convention in pytorch is for images to be `[channels][rows][columns]`. This is different than numpy, which you might be familiar with, which instead has `[rows][columns][channels]`. We will have to call `torch.permute` to re-arrange the axes, sometimes."
   ]
  },
  {
   "cell_type": "code",
   "execution_count": 4,
   "id": "373ff093",
   "metadata": {},
   "outputs": [],
   "source": [
    "plt.figure(figsize=(12,5))\n",
    "X_random_batch, y_random_batch = next(iter(train_loader))\n",
    "plt.imshow(make_grid(X_random_batch, nrow=20).permute(1,2,0));"
   ]
  },
  {
   "cell_type": "markdown",
   "id": "d06aa290",
   "metadata": {},
   "source": [
    "# TASK 1 (6 points + 2 bonus): Define encoder and decoder networks\n",
    "\n",
    "We have data $x_i$ and will learn a latent representation $z_i \\in \\mathbb{R}^{D}$.\n",
    "\n",
    "To do this we define two different networks, each as an `nn.Module` instance.\n",
    "\n",
    "\n",
    "* The **Encoder** defines an inference network. It takes a batch of data instances as inputs, and returns a probability distribution $q(z_i | x_i)$ for each $x_i$ in the batch.\n",
    "* The **Decoder** defines the likelihood in a generative model. It takes a latent value as input, and returns a probability distribution $p(x_i | z_i)$.\n",
    "\n",
    "## You can use any network architecture you think is appropriate.\n",
    "\n",
    "Part of your job here is to decide.\n",
    "\n",
    "* You can get up to 6 points (3 points each) for having an implementation of any non-linear model that runs properly and can be used to fit some sort of VAE. If it doesn't quite work (or if you just implement a linear model, or a poor choice of architecture which leads to bad results) then you will get partial credit.\n",
    "\n",
    "* You can get 2 additional points if you do something \"interesting\", by which I specifically mean \"more performant\". In particular we are looking for architectures which\n",
    "    - (a) perform better than a feed-forward network, while \n",
    "    - (b) having fewer parameters.\n",
    "\n",
    "In particular: for full *bonus* credit, for a model with `D_latent = 10` you should have fewer than 10,000 parameters each in the encoder and decoder, while still having realistic reconstructions. \n"
   ]
  },
  {
   "cell_type": "code",
   "execution_count": 5,
   "id": "1e7f98a0",
   "metadata": {
    "deletable": false,
    "nbgrader": {
     "cell_type": "code",
     "checksum": "b213a3f766e9acd6cb49891f5f9d5285",
     "grade": false,
     "grade_id": "vae-enc",
     "locked": false,
     "schema_version": 3,
     "solution": true,
     "task": false
    }
   },
   "outputs": [],
   "source": [
    "class Encoder(nn.Module): # nn.Module is the base class for all neural network modules in PyTorch\n",
    "    \n",
    "    def __init__(self, D_latent):\n",
    "        \"\"\" \n",
    "        Initialize the Encoder `nn.Module`.\n",
    "        \n",
    "        This will operate on inputs of shape (batch_size, 1, 28, 28).\n",
    "        \n",
    "        INPUTS:\n",
    "        D_latent: size of latent space (integer)\n",
    "\n",
    "        \"\"\"\n",
    "        super().__init__() # super() allows calling methods of the base class.\n",
    "        self.D_latent = D_latent \n",
    "        \n",
    "        # Define any networks (which extend 'nn.Module') here:\n",
    "        # Anything that has parameters should be defined here!\n",
    "        \n",
    "        # e.g., a linear layer could be defined as \n",
    "        # self.fc = nn.Linear(784, D_latent)\n",
    "        #\n",
    "        # Later on in the `.forward` method, you then can call this.\n",
    "        #\n",
    "        # Some ``useful'' layers include:\n",
    "        #\n",
    "        # nn.Linear, nn.ReLU, nn.Conv2d, nn.Sequential, nn.Softplus, ...\n",
    "\n",
    "        # YOUR CODE HERE\n",
    "        self.network = nn.Sequential( # (1, 28, 28) initially\n",
    "            nn.Conv2d(in_channels=1, out_channels=6, kernel_size=4, stride=2, padding=1), # reduce dim to (6,14,14)\n",
    "            nn.BatchNorm2d(6), # to avoid vanishing/exploding gradients\n",
    "            nn.ReLU(),\n",
    "            nn.Conv2d(in_channels=6, out_channels=12, kernel_size=4, stride=2, padding=1), # reduce dim to (12,7,7)\n",
    "            nn.BatchNorm2d(12),\n",
    "            nn.ReLU(),\n",
    "            nn.Conv2d(in_channels=12, out_channels=16, kernel_size=3, stride=2, padding=1), # reduce dim to (16, 4, 4)\n",
    "            nn.BatchNorm2d(16),\n",
    "            nn.Flatten() # Flatten the 2D feature maps to 1D tensor of shape as the linear layer requires 1D input\n",
    "        ) \n",
    "        # convolutional channels can't be too small, as it limits the model's capacity to extract rich features from input\n",
    "        \n",
    "        # After the convolutional layers, we have a 1D tensor of size 256 (16*4*4)\n",
    "        # Then, we use linear layers here to define the parameters (weights and biases) of miu and sigma\n",
    "        self.mu = nn.Linear(in_features=256, out_features=D_latent) \n",
    "        self.logvar = nn.Linear(in_features=256, out_features=D_latent) # Ensure variances are positive\n",
    "\n",
    "    def forward(self, X):\n",
    "        \"\"\" Return a distribution q(z | x). \n",
    "        \n",
    "        Remember you can access and variables or `nn.Module` instances defined in the constructor.\n",
    "        \n",
    "        INPUT:\n",
    "        X    : torch.FloatTensor containing zeros and ones; shape = (batch_size, 1, 28, 28)\n",
    "        \n",
    "        OUTPUT: a `torch.Distribution` instance, defined on values of shape = (batch_size, D_latent)\n",
    "        \"\"\"\n",
    "        \n",
    "        # YOUR CODE HERE\n",
    "        features = self.network(X) # Pass the input batch X through CNN layers, output is a 256-dim vector for the image's feature representation\n",
    "        mu = self.mu(features) # compute the mean vector of the latent \n",
    "        sigma = torch.exp(0.5 * self.logvar(features)) # compute the standard deviation vector of the latent\n",
    "        \n",
    "        # Ensure output shapes match\n",
    "        assert mu.shape == (X.shape[0], self.D_latent)\n",
    "        assert mu.shape == sigma.shape\n",
    "        \n",
    "        return dist.Normal(mu, sigma) # return a pytorch distribution for q(z|x)\n",
    "            \n",
    "        # The following template might be helpful:\n",
    "#         mu = ?\n",
    "#         sigma = ?\n",
    "#         assert mu.shape == (X.shape[0], self.D_latent)\n",
    "#         assert mu.shape == sigma.shape\n",
    "#         return dist.Normal(mu, sigma)"
   ]
  },
  {
   "cell_type": "code",
   "execution_count": 6,
   "id": "891b69a6",
   "metadata": {
    "deletable": false,
    "nbgrader": {
     "cell_type": "code",
     "checksum": "2a0c07280a0ec30a263f9b1fce31888f",
     "grade": false,
     "grade_id": "vae-dec",
     "locked": false,
     "schema_version": 3,
     "solution": true,
     "task": false
    }
   },
   "outputs": [],
   "source": [
    "class Decoder(nn.Module):\n",
    "    \n",
    "    def __init__(self, D_latent):\n",
    "        \"\"\" \n",
    "        Initialize the Decoder `nn.Module`.\n",
    "        \n",
    "        This will operate on inputs of shape (batch_size, D_latent).\n",
    "        \n",
    "        INPUTS:\n",
    "        D_latent: size of latent space (integer)\n",
    "\n",
    "        \"\"\"\n",
    "        super().__init__()\n",
    "        self.D_latent = D_latent\n",
    "        \n",
    "        # Define your networks here\n",
    "        \n",
    "        # YOUR CODE HERE\n",
    "        self.latent_to_features = nn.Sequential(\n",
    "            nn.Linear(in_features=D_latent, out_features=256),\n",
    "            nn.ReLU()\n",
    "        )\n",
    "        \n",
    "        self.feature_to_image = nn.Sequential(\n",
    "            nn.ConvTranspose2d(in_channels=16, out_channels=12, kernel_size=3, stride=2, padding=1, output_padding=0),\n",
    "            nn.ReLU(),\n",
    "            nn.ConvTranspose2d(in_channels=12, out_channels=6, kernel_size=3, stride=2, padding=1, output_padding=1),\n",
    "            nn.ReLU(),\n",
    "            nn.ConvTranspose2d(in_channels=6, out_channels=1, kernel_size=3, stride=2, padding=1, output_padding=1)\n",
    "        )\n",
    "        \n",
    "    def forward(self, Z):\n",
    "        \"\"\" Return a distribution p(x | z) \n",
    "                \n",
    "        INPUT:\n",
    "        X    : torch.FloatTensor, real-valued, shape = (batch_size, D_latent)\n",
    "        \n",
    "        OUTPUT: a `torch.Distribution` instance, defined on values of shape = (batch_size, 1, 28, 28)\n",
    "        \"\"\"\n",
    "\n",
    "        # Make sure that the returned value has the right shape! e.g.:\n",
    "        # return dist.Bernoulli(X_hat.reshape(-1, 1, 28, 28))\n",
    "        \n",
    "        # YOUR CODE HERE\n",
    "        features = self.latent_to_features(Z)\n",
    "        features = features.view(-1, 16, 4, 4) # reshape the 1D tensor to 2D tensor for the convolutional layers\n",
    "        X_hat = torch.sigmoid(self.feature_to_image(features)) # X_hat is between 0 and 1, representing the probabilities of the binary pixel being 1 or 0\n",
    "        \n",
    "        return dist.Bernoulli(X_hat) # X_hat is the reconstructed image (i.e. probabilities for binary pixel)\n"
   ]
  },
  {
   "cell_type": "code",
   "execution_count": 6,
   "id": "35904276",
   "metadata": {},
   "outputs": [
    {
     "name": "stdout",
     "output_type": "stream",
     "text": [
      "Number of parameters in Encoder: 8218\n",
      "Number of parameters in Decoder: 5265\n"
     ]
    },
    {
     "data": {
      "text/plain": [
       "' Calculation of Decoder parameters:\\n# 1. Latent-to-Features Linear Layer:\\n#    Input Features: 10, Output Features: 256\\n#    Weights: 10 * 256 = 2560\\n#    Biases: 256\\n#    Total: 2560 + 256 = 2816\\n#\\n# 2. First Transposed Conv2d Layer:\\n#    Input Channels: 16, Output Channels: 12, Kernel Size: 3x3\\n#    Weights: 16 * 12 * 3 * 3 = 1728\\n#    Biases: 12\\n#    Total: 1728 + 12 = 1740\\n#\\n# 3. Second Transposed Conv2d Layer:\\n#    Input Channels: 12, Output Channels: 6, Kernel Size: 3x3\\n#    Weights: 12 * 6 * 3 * 3 = 648\\n#    Biases: 6\\n#    Total: 648 + 6 = 654\\n#\\n# 4. Third Transposed Conv2d Layer:\\n#    Input Channels: 6, Output Channels: 1, Kernel Size: 3x3\\n#    Weights: 6 * 1 * 3 * 3 = 54\\n#    Biases: 1\\n#    Total: 54 + 1 = 55\\n#\\n# Total Decoder Parameters:\\n# 2816 + 1740 + 654 + 55 = 5265\\n'"
      ]
     },
     "execution_count": 6,
     "metadata": {},
     "output_type": "execute_result"
    }
   ],
   "source": [
    "# Test: Check the number of parameters used when D_latent = 10\n",
    "# D_latent = 10\n",
    "# encoder = Encoder(D_latent=D_latent)\n",
    "# decoder = Decoder(D_latent=D_latent)\n",
    "#def count_parameters(model):\n",
    "    #return sum(p.numel() for p in model.parameters() if p.requires_grad)\n",
    "\n",
    "# Calculate parameters for encoder and decoder\n",
    "#encoder_params = count_parameters(encoder)\n",
    "#decoder_params = count_parameters(decoder)\n",
    "\n",
    "#print(f\"Number of parameters in Encoder: {encoder_params}\") # parameters depend on output channels, kernel size and batch norm. \n",
    "#print(f\"Number of parameters in Decoder: {decoder_params}\")"
   ]
  },
  {
   "cell_type": "markdown",
   "id": "12e12ea7",
   "metadata": {
    "deletable": false,
    "editable": false,
    "nbgrader": {
     "cell_type": "markdown",
     "checksum": "b1e38ce0004ad59d5e433f572a9f4e00",
     "grade": false,
     "grade_id": "cell-2e50a8eca059aacd",
     "locked": true,
     "schema_version": 3,
     "solution": false,
     "task": false
    }
   },
   "source": [
    "# TASK 2 (5 points): Define the objective function\n",
    "\n",
    "You now need to define the ELBO, which we will maximize when estimating parameters in the encoder and decoder.\n",
    "\n",
    "## Please use a standard normal prior $N(0, I)$ for the latent space.\n",
    "\n",
    "I.e., let $$z \\sim \\mathcal{N}(0, I_D)$$ where $D$ is the dimensionality of the latent space.\n",
    "\n",
    "The `ELBO_VAE` function should return a **single-sample** Monte Carlo estimate of\n",
    "\n",
    "$$ELBO(x_i) = \\mathbb{E}_{q(z_i | x_i)}\\left[ \\log \\left [ \\frac{p(z_i)p(x_i | z_i)}{q(z_i | x_i)} \\right ] \\right ]$$\n",
    "\n",
    "where $q(z_i | x_i)$ and $p(x_i | z_i)$ are returned by the `Encoder` and `Decoder` classes you defined above.\n",
    "\n",
    "Note that I have written this as the **per-datapoint** ELBO. \n",
    "\n",
    "For ease of inspecting your code, please have your `ELBO_VAE` function below return a Torch vector, i.e. a tensor of shape `(batch_size,)`, containing the per-datapoint ELBO values.\n"
   ]
  },
  {
   "cell_type": "code",
   "execution_count": 7,
   "id": "922a50d5",
   "metadata": {
    "deletable": false,
    "nbgrader": {
     "cell_type": "code",
     "checksum": "559e87fac1ce9221b3c718acdcdabe55",
     "grade": false,
     "grade_id": "vae-elbo",
     "locked": false,
     "schema_version": 3,
     "solution": true,
     "task": false
    }
   },
   "outputs": [],
   "source": [
    "def ELBO_VAE(enc, dec, X):\n",
    "    \"\"\"\n",
    "    \n",
    "    INPUT:\n",
    "    enc : Instance of `Encoder` class, which returns a distribution \n",
    "          over Z when called on a batch of inputs X\n",
    "    dec : Instance of `Decoder` class, which returns a distribution \n",
    "          over X when called on a batch of inputs Z\n",
    "    X   : A batch of datapoints, torch.FloatTensor of shape = (batch_size, 1, 28, 28)\n",
    "    \n",
    "    \n",
    "    OUTPUT: a torch.FloatTensor of shape = (batch_size, ) containing the estimate \n",
    "            of the per-datapoint ELBO for every data point in the batch.\n",
    "    \n",
    "    \"\"\"\n",
    "\n",
    "    # YOUR CODE HERE\n",
    "\n",
    "    # Obtain the latent distribution q(z | x)\n",
    "    q_z_x = enc(X) # encoder returns a normal distribution\n",
    "    z = q_z_x.rsample() # reparameterization trick to sample z\n",
    "    \n",
    "    # loglikelihood of reconstructed data p(x | z)\n",
    "    p_x_z = dec(z) # decoder returns a bernoulli distribution\n",
    "    log_p_x_z = p_x_z.log_prob(X).sum(dim=(1, 2, 3))\n",
    "    \n",
    "    # KL divergence between q(z | x) and p(z)\n",
    "    log_q_z_x = q_z_x.log_prob(z).sum(dim=1) # sum over latent dim\n",
    "    log_p_z = dist.Normal(0, 1).log_prob(z).sum(dim=1)\n",
    "    kl_div = log_q_z_x - log_p_z\n",
    "    \n",
    "    elbo = log_p_x_z - kl_div # per-data ELBO\n",
    "    \n",
    "    return elbo\n"
   ]
  },
  {
   "cell_type": "markdown",
   "id": "897cbcef",
   "metadata": {},
   "source": [
    "# Train the VAE and look at the results\n",
    "\n",
    "The following code to train and run the VAE has already been written for you. \n",
    "\n",
    "You can use it to evaluate whether or not your model is working as you might expect, and for experimenting with its behavior as you change different parameters.\n",
    "\n",
    "You should't have to change the two following cells. Feel free to modify them (e.g. for adding debugging information), but be aware that I will test your implementations with substantially similar code. So, your code should be runnable by calling these cells as-is."
   ]
  },
  {
   "cell_type": "code",
   "execution_count": 22,
   "id": "e6e0541a",
   "metadata": {},
   "outputs": [],
   "source": [
    "# Try modifying this and seeing how it affects performance!\n",
    "D_latent = 10\n",
    "\n",
    "enc = Encoder(D_latent)\n",
    "dec = Decoder(D_latent)\n",
    "\n",
    "opt_vae = torch.optim.Adam(itertools.chain(enc.parameters(), dec.parameters()))"
   ]
  },
  {
   "cell_type": "code",
   "execution_count": 23,
   "id": "59c4ce9c",
   "metadata": {},
   "outputs": [],
   "source": [
    "def run_training(N_epochs, enc, dec):\n",
    "    \"\"\" Outer loop for training the VAE \n",
    "    \n",
    "        Calls your `ELBO_VAE` function!\n",
    "    \"\"\"\n",
    "    for epoch in range(N_epochs):\n",
    "        train_loss = 0.0\n",
    "        for (X, _) in train_loader:\n",
    "            opt_vae.zero_grad()\n",
    "            \n",
    "            # Call you ELBO implementation\n",
    "            elbos = ELBO_VAE(enc, dec, X)\n",
    "            \n",
    "            # Please don't break the following assertion (check your return shape!)\n",
    "            batch_size = X.shape[0]\n",
    "            assert elbos.shape == (batch_size,)\n",
    "            \n",
    "            # The loss is the sum of the negative per-datapoint ELBO\n",
    "            loss = -elbos.sum()\n",
    "            loss.backward()\n",
    "            opt_vae.step()\n",
    "            train_loss += loss.item() * X.shape[0] / len(mnist_dataset)\n",
    "        print(\"Epoch %d, train loss = %0.4f\" % (epoch, train_loss));"
   ]
  },
  {
   "cell_type": "code",
   "execution_count": 10,
   "id": "5b06b2b1",
   "metadata": {
    "deletable": false,
    "editable": false,
    "nbgrader": {
     "cell_type": "code",
     "checksum": "399166e636a188719f6f690a15f48df0",
     "grade": true,
     "grade_id": "dummy_test",
     "locked": true,
     "points": 0,
     "schema_version": 3,
     "solution": false,
     "task": false
    }
   },
   "outputs": [],
   "source": [
    "# ignore this cell (placeholder)\n"
   ]
  },
  {
   "cell_type": "code",
   "execution_count": 24,
   "id": "a6144ec5",
   "metadata": {},
   "outputs": [
    {
     "name": "stdout",
     "output_type": "stream",
     "text": [
      "Epoch 0, train loss = 21387.9444\n",
      "Epoch 1, train loss = 12806.1319\n",
      "Epoch 2, train loss = 11960.9245\n",
      "Epoch 3, train loss = 11567.9765\n",
      "Epoch 4, train loss = 11318.8139\n",
      "Epoch 5, train loss = 11151.7779\n",
      "Epoch 6, train loss = 11005.0983\n",
      "Epoch 7, train loss = 10897.7631\n",
      "Epoch 8, train loss = 10802.1810\n",
      "Epoch 9, train loss = 10719.4640\n",
      "Epoch 10, train loss = 10647.3826\n",
      "Epoch 11, train loss = 10580.7603\n",
      "Epoch 12, train loss = 10512.4301\n",
      "Epoch 13, train loss = 10471.1546\n",
      "Epoch 14, train loss = 10420.2165\n",
      "Epoch 15, train loss = 10385.0842\n",
      "Epoch 16, train loss = 10342.7922\n",
      "Epoch 17, train loss = 10308.1374\n",
      "Epoch 18, train loss = 10271.3614\n",
      "Epoch 19, train loss = 10244.0712\n",
      "Epoch 20, train loss = 10216.8727\n",
      "Epoch 21, train loss = 10200.1181\n",
      "Epoch 22, train loss = 10172.6464\n",
      "Epoch 23, train loss = 10152.0767\n",
      "Epoch 24, train loss = 10128.8965\n",
      "Epoch 25, train loss = 10118.5618\n",
      "Epoch 26, train loss = 10103.0860\n",
      "Epoch 27, train loss = 10085.4783\n",
      "Epoch 28, train loss = 10069.2043\n",
      "Epoch 29, train loss = 10056.7945\n",
      "Epoch 30, train loss = 10042.3317\n",
      "Epoch 31, train loss = 10027.8303\n",
      "Epoch 32, train loss = 10020.2084\n",
      "Epoch 33, train loss = 10005.8652\n",
      "Epoch 34, train loss = 9992.7481\n",
      "Epoch 35, train loss = 9975.6466\n",
      "Epoch 36, train loss = 9973.5963\n",
      "Epoch 37, train loss = 9960.3902\n",
      "Epoch 38, train loss = 9958.5430\n",
      "Epoch 39, train loss = 9943.1076\n"
     ]
    }
   ],
   "source": [
    "N_epochs = 40 # Note that you may want to run more epochs!\n",
    "run_training(N_epochs, enc, dec) # around 10000 training loss (sum) after 40 epochs"
   ]
  },
  {
   "cell_type": "markdown",
   "id": "46fe0e15",
   "metadata": {},
   "source": [
    "## Do reconstructions look like the input?"
   ]
  },
  {
   "cell_type": "code",
   "execution_count": 25,
   "id": "c9fc8a51",
   "metadata": {},
   "outputs": [
    {
     "name": "stdout",
     "output_type": "stream",
     "text": [
      "Reconstruction accuracy: 0.94\n"
     ]
    }
   ],
   "source": [
    "plt.figure(figsize=(12, 4))\n",
    "plt.imshow(make_grid(X_random_batch, nrow=20).permute(1,2,0))\n",
    "plt.title(\"Input images\")\n",
    "plt.figure(figsize=(12, 4))\n",
    "plt.title(\"Reconstructions\")\n",
    "with torch.no_grad():\n",
    "    plt.imshow(make_grid(dec(enc(X_random_batch).sample()).mean.round(), nrow=20).permute(1,2,0))\n",
    "\n",
    "print(\"Reconstruction accuracy: %0.2f\" % (X_random_batch == dec(enc(X_random_batch).sample()).sample()).float().mean().item())"
   ]
  },
  {
   "cell_type": "markdown",
   "id": "7d907acc",
   "metadata": {},
   "source": [
    "## Do randomly generated samples look coherent?"
   ]
  },
  {
   "cell_type": "code",
   "execution_count": 19,
   "id": "9d6d78f0",
   "metadata": {},
   "outputs": [],
   "source": [
    "plt.figure(figsize=(12,5))\n",
    "with torch.no_grad():\n",
    "    plt.imshow(make_grid(dec(dist.Normal(0, 1).sample((140, D_latent))).mean.round(), nrow=20).permute(1,2,0), vmin=0, vmax=1)"
   ]
  },
  {
   "cell_type": "markdown",
   "id": "bbe274ff",
   "metadata": {},
   "source": [
    "## What does the latent space look like?\n",
    "\n",
    "Note that this will only give sensible plots for very low-dimensional latent spaces. It works best if the latent space is actually 2d. Otherwise, it will plot a 2d cross-section that may or may not be informative."
   ]
  },
  {
   "cell_type": "code",
   "execution_count": 21,
   "id": "eb5c9e53",
   "metadata": {},
   "outputs": [
    {
     "data": {
      "image/png": "[encoded data removed]",
      "text/plain": [
       "<Figure size 640x480 with 1 Axes>"
      ]
     },
     "metadata": {},
     "output_type": "display_data"
    },
    {
     "data": {
      "text/plain": [
       "<Figure size 1000x1000 with 0 Axes>"
      ]
     },
     "metadata": {},
     "output_type": "display_data"
    }
   ],
   "source": [
    "def plot_2d_latent(encoder, decoder):\n",
    "    \"\"\" If this is a 2d latent space, it plots the latent space\n",
    "        If the latent space is larger than 2d, then it plots a 2d cross-section \"\"\"\n",
    "    W = torch.linalg.svd(encoder(X_random_batch).mean).Vh[:2]\n",
    "    points = dist.Normal(0, 1).icdf(torch.linspace(0.01, 0.99, 15))\n",
    "    XX, YY = torch.meshgrid(points, points)\n",
    "    XXYY = torch.stack((XX, YY)).reshape(2, -1).T\n",
    "    with torch.no_grad():\n",
    "        out = dec(XXYY @ W).mean\n",
    "    plt.imshow(make_grid(out, nrow=len(points)).permute(1,2,0))\n",
    "\n",
    "plt.figure(figsize=(10, 10))\n",
    "plt.show()\n",
    "out = plot_2d_latent(enc, dec)"
   ]
  },
  {
   "cell_type": "code",
   "execution_count": 15,
   "id": "fc55f8c5",
   "metadata": {},
   "outputs": [],
   "source": [
    "# feel free to try out other things here -- for example, interpolation in the latent space between two digits"
   ]
  },
  {
   "cell_type": "code",
   "execution_count": null,
   "id": "bd3d7a9e",
   "metadata": {},
   "outputs": [],
   "source": []
  },
  {
   "cell_type": "code",
   "execution_count": null,
   "id": "4f48a41e",
   "metadata": {},
   "outputs": [],
   "source": []
  },
  {
   "cell_type": "code",
   "execution_count": 16,
   "id": "4932e13b",
   "metadata": {
    "deletable": false,
    "editable": false,
    "nbgrader": {
     "cell_type": "code",
     "checksum": "ef21ee811266680dfc19586d96b4947b",
     "grade": true,
     "grade_id": "enc-test-1",
     "locked": true,
     "points": 2,
     "schema_version": 3,
     "solution": false,
     "task": false
    }
   },
   "outputs": [],
   "source": [
    "# grading\n"
   ]
  },
  {
   "cell_type": "code",
   "execution_count": 17,
   "id": "1aa1a8e7",
   "metadata": {
    "deletable": false,
    "editable": false,
    "nbgrader": {
     "cell_type": "code",
     "checksum": "c75d8f8710e862c4c061925157135f2d",
     "grade": true,
     "grade_id": "enc-test-2",
     "locked": true,
     "points": 1,
     "schema_version": 3,
     "solution": false,
     "task": false
    }
   },
   "outputs": [],
   "source": [
    "# grading\n"
   ]
  },
  {
   "cell_type": "code",
   "execution_count": 18,
   "id": "bd8266a5",
   "metadata": {
    "deletable": false,
    "editable": false,
    "nbgrader": {
     "cell_type": "code",
     "checksum": "5ec61b41181a8689e2d7769f305245e4",
     "grade": true,
     "grade_id": "dec-test-1",
     "locked": true,
     "points": 2,
     "schema_version": 3,
     "solution": false,
     "task": false
    }
   },
   "outputs": [],
   "source": [
    "# grading\n"
   ]
  },
  {
   "cell_type": "code",
   "execution_count": 19,
   "id": "b8188163",
   "metadata": {
    "deletable": false,
    "editable": false,
    "nbgrader": {
     "cell_type": "code",
     "checksum": "338df16d4afc0892119138f1f4d438ba",
     "grade": true,
     "grade_id": "dec-test-2",
     "locked": true,
     "points": 1,
     "schema_version": 3,
     "solution": false,
     "task": false
    }
   },
   "outputs": [],
   "source": [
    "# grading\n"
   ]
  },
  {
   "cell_type": "code",
   "execution_count": 20,
   "id": "29e317d5",
   "metadata": {
    "deletable": false,
    "editable": false,
    "nbgrader": {
     "cell_type": "code",
     "checksum": "657f682300caea60a5a0c5ccca34d7e7",
     "grade": true,
     "grade_id": "ec-test",
     "locked": true,
     "points": 2,
     "schema_version": 3,
     "solution": false,
     "task": false
    }
   },
   "outputs": [],
   "source": [
    "# grading\n"
   ]
  },
  {
   "cell_type": "code",
   "execution_count": 21,
   "id": "8d5e8f3a",
   "metadata": {
    "deletable": false,
    "editable": false,
    "nbgrader": {
     "cell_type": "code",
     "checksum": "ecd77add46c07b1b83c34deff70ed7ab",
     "grade": true,
     "grade_id": "elbo-test-1",
     "locked": true,
     "points": 3,
     "schema_version": 3,
     "solution": false,
     "task": false
    }
   },
   "outputs": [],
   "source": [
    "# grading\n"
   ]
  },
  {
   "cell_type": "code",
   "execution_count": 22,
   "id": "c9f7da49",
   "metadata": {
    "deletable": false,
    "editable": false,
    "nbgrader": {
     "cell_type": "code",
     "checksum": "697c030af717c1aebbe60f7c56bbd838",
     "grade": true,
     "grade_id": "elbo-test-2",
     "locked": true,
     "points": 2,
     "schema_version": 3,
     "solution": false,
     "task": false
    }
   },
   "outputs": [],
   "source": [
    "# grading\n"
   ]
  },
  {
   "cell_type": "code",
   "execution_count": null,
   "id": "43553ad8",
   "metadata": {},
   "outputs": [],
   "source": []
  }
 ],
 "metadata": {
  "kernelspec": {
   "display_name": "Python 3 (ipykernel)",
   "language": "python",
   "name": "python3"
  },
  "language_info": {
   "codemirror_mode": {
    "name": "ipython",
    "version": 3
   },
   "file_extension": ".py",
   "mimetype": "text/x-python",
   "name": "python",
   "nbconvert_exporter": "python",
   "pygments_lexer": "ipython3",
   "version": "3.12.7"
  }
 },
 "nbformat": 4,
 "nbformat_minor": 5
}
