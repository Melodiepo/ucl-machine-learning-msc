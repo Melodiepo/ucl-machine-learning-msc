{
 "cells": [
  {
   "cell_type": "markdown",
   "metadata": {},
   "source": [
    "# Lab 1: Part C: Bayesian Approach\n",
    "In this final part of the lab we will explore Bayesian parameter estimation. The ML and MAP solutions only give a point estimate of the parameters; whereas, the Bayesian approach gives a full distribution over the parameter space. Additionally, by using a conjugate prior we are guaranteed a closed form expression for this posterior distribution over the parameters. We still bruteforce the computation using the prior and likelihood though for comparison."
   ]
  },
  {
   "cell_type": "code",
   "execution_count": 1,
   "metadata": {},
   "outputs": [],
   "source": [
    "%load_ext autoreload\n",
    "%autoreload 2\n",
    "\n",
    "# For matrices\n",
    "import numpy as np\n",
    "\n",
    "# For plotting\n",
    "from matplotlib import pyplot as plt\n",
    "%matplotlib inline\n",
    "plt.rcParams['figure.figsize'] = (12, 6)\n",
    "plt.rc('xtick', labelsize=15) \n",
    "plt.rc('ytick', labelsize=15) \n",
    "plt.rc('font', size=15)\n",
    "\n",
    "# Our custom modules\n",
    "from normal import *\n",
    "from log_normal import *\n",
    "from normal_inv_gamma import *\n",
    "from plot_normal import *"
   ]
  },
  {
   "cell_type": "code",
   "execution_count": 2,
   "metadata": {},
   "outputs": [],
   "source": [
    "# Generate some data points from a normal distribution\n",
    "mu = 1     # mean\n",
    "sigma = 2  # standard deviation = sqrt(variance)\n",
    "N = 5      # number of datapoints\n",
    "\n",
    "X = mu + sigma*np.random.randn(N,1)"
   ]
  },
  {
   "cell_type": "code",
   "execution_count": 3,
   "metadata": {},
   "outputs": [],
   "source": [
    "# hyperparameters for prior - normal inverse gamma\n",
    "alpha = 1\n",
    "beta = 1\n",
    "gamma = 1\n",
    "delta = 0"
   ]
  },
  {
   "cell_type": "markdown",
   "metadata": {},
   "source": [
    "## Parameters for posterior"
   ]
  },
  {
   "cell_type": "markdown",
   "metadata": {},
   "source": [
    "### TODO 1\n",
    "Define the parameters for the Bayesian posterior. Consult lecture notes."
   ]
  },
  {
   "cell_type": "code",
   "execution_count": 4,
   "metadata": {},
   "outputs": [],
   "source": [
    "gammaP = 0\n",
    "deltaP = 0\n",
    "alphaP = 0\n",
    "betaP = 0"
   ]
  },
  {
   "cell_type": "markdown",
   "metadata": {},
   "source": [
    "## ML + MAP parameter estimation of univariate normal\n",
    "\n",
    "While we calculate the conjugate prior we are also going to brute force the posterior for some nice plots."
   ]
  },
  {
   "cell_type": "markdown",
   "metadata": {},
   "source": [
    "### TODO 2\n",
    "Fill these equations from the previous section `prac1_b`."
   ]
  },
  {
   "cell_type": "code",
   "execution_count": 5,
   "metadata": {},
   "outputs": [],
   "source": [
    "muMAP = 0\n",
    "sigmaMAP = 0\n",
    "muML = 0\n",
    "sigmaML = 0"
   ]
  },
  {
   "cell_type": "code",
   "execution_count": 6,
   "metadata": {},
   "outputs": [
    {
     "name": "stdout",
     "output_type": "stream",
     "text": [
      "Estimated ML Mean: 0.00\n",
      "Estimated ML Standard Deviation: 0.00\n",
      "\n",
      "Estimated MAP Mean: 0.00\n",
      "Estimated MAP Standard Deviation: 0.00\n"
     ]
    },
    {
     "data": {
      "image/png": "[encoded data removed]",
      "text/plain": [
       "<Figure size 864x432 with 1 Axes>"
      ]
     },
     "metadata": {
      "needs_background": "light"
     },
     "output_type": "display_data"
    }
   ],
   "source": [
    "print(\"Estimated ML Mean: \" + \"{:.2f}\".format(muML))\n",
    "print(\"Estimated ML Standard Deviation: \" + \"{:.2f}\".format(sigmaML))\n",
    "print(\"\")\n",
    "print(\"Estimated MAP Mean: \" + \"{:.2f}\".format(muMAP))\n",
    "print(\"Estimated MAP Standard Deviation: \" + \"{:.2f}\".format(sigmaMAP))\n",
    "\n",
    "# Plotting univariate normal\n",
    "# Normalizing histograms - assuming bins are evenly sized\n",
    "[hist_count, bin_edges] = np.histogram(X, 20)\n",
    "bin_width = bin_edges[1] - bin_edges[0]\n",
    "hist_pos = (bin_edges[1:] + bin_edges[:-1]) / 2.\n",
    "\n",
    "# Plot figure\n",
    "plt.bar(bin_edges[:-1], hist_count/(np.sum(hist_count)*bin_width), color='gray', \n",
    "        edgecolor='k', width=bin_width, label='data')\n",
    "plot_normal(mu, sigma, 'b', 'Groundtruth')\n",
    "plot_normal(muML, sigmaML, 'r', 'ML estimate')\n",
    "plot_normal(muMAP, sigmaMAP, 'g', 'MAP estimate')\n",
    "plt.legend()\n",
    "plt.title('ML parameter fitted distribution')\n",
    "plt.show()"
   ]
  },
  {
   "cell_type": "markdown",
   "metadata": {},
   "source": [
    "## Likelihood function\n",
    "We will loop over some possible values of parameters that our distribution can have and compute the posterior using two ways. We'll calculate the prior and likelihood like we did in `prac1_b.ipynb` and then use a closed form expression that you can find in the lecture notes. "
   ]
  },
  {
   "cell_type": "code",
   "execution_count": 7,
   "metadata": {},
   "outputs": [],
   "source": [
    "sigma_range = np.linspace(0.02, 2., num=200)\n",
    "mu_range = np.linspace(-2., 2., num=400)\n",
    "\n",
    "conj_posterior = np.zeros((len(sigma_range), len(mu_range)))\n",
    "lfun = np.zeros((len(sigma_range), len(mu_range)))\n",
    "prior = np.zeros((len(sigma_range), len(mu_range)))\n",
    "\n",
    "for i, m in enumerate(mu_range):\n",
    "    for j, s in enumerate(sigma_range):\n",
    "        \n",
    "        # here we are just brute forcing for the posterior (as before)\n",
    "        lfun[j,i] = normal(X, m, s)\n",
    "        prior[j,i] = normal_inv_gamma(alpha, beta, delta, gamma, m, s)\n",
    "        \n",
    "        # TODO 3 - Compute the posterior given the new closed form expression, consult lecture notes, \n",
    "        # this is our closed form solution\n",
    "        \n",
    "        conj_posterior[j,i] = 0"
   ]
  },
  {
   "cell_type": "markdown",
   "metadata": {},
   "source": [
    "### TODO 4\n",
    "Estimate the posterior (brute force way). Bayes Rule... "
   ]
  },
  {
   "cell_type": "code",
   "execution_count": 8,
   "metadata": {},
   "outputs": [],
   "source": [
    "posterior = np.zeros(prior.shape)"
   ]
  },
  {
   "cell_type": "markdown",
   "metadata": {},
   "source": [
    "### TODO 5\n",
    "Look at the plots and verify that the peak of this distribution again corresponds to the MAP solution. You'll see two plots, the closed form expression from the slides using `conj_posterior` and the posterior calculation we've done before. Note how with both the ML and MAP estimations, we only get one set of $\\mu$ and $\\sigma$, while the Bayes estimate gives us a family of possible solutions and the probability of them being accurate given the data."
   ]
  },
  {
   "cell_type": "code",
   "execution_count": 9,
   "metadata": {},
   "outputs": [
    {
     "data": {
      "image/png": "[encoded data removed]",
      "text/plain": [
       "<Figure size 864x432 with 2 Axes>"
      ]
     },
     "metadata": {
      "needs_background": "light"
     },
     "output_type": "display_data"
    }
   ],
   "source": [
    "# Plot posterior\n",
    "plt.subplot(1,2,1)\n",
    "plt.imshow(conj_posterior, cmap=\"hot\", origin=\"lower\", \n",
    "           extent=[mu_range[0], mu_range[-1], sigma_range[0], sigma_range[-1]])\n",
    "plt.xlabel(\"$\\mu$\")\n",
    "plt.ylabel(\"$\\sigma$\")\n",
    "plt.title(\"Closed form estimation of posterior\")\n",
    "\n",
    "## Plot points\n",
    "plt.scatter(muML, sigmaML, color='r', marker='x', s=100, label='ML estimate')\n",
    "plt.scatter(muMAP, sigmaMAP, color='g', marker='x', s=100, label='MAP estimate')\n",
    "plt.legend()\n",
    "\n",
    "\n",
    "# Plot posterior\n",
    "plt.subplot(1,2,2)\n",
    "plt.imshow(posterior, cmap=\"hot\", origin=\"lower\", \n",
    "           extent=[mu_range[0], mu_range[-1], sigma_range[0], sigma_range[-1]])\n",
    "plt.xlabel(\"$\\mu$\")\n",
    "plt.ylabel(\"$\\sigma$\")\n",
    "plt.title(\"Posterior = likelihood*prior\")\n",
    "\n",
    "## Plot points\n",
    "plt.scatter(muML, sigmaML, color='r', marker='x', s=100, label='ML estimate')\n",
    "plt.scatter(muMAP, sigmaMAP, color='g', marker='x', s=100, label='MAP estimate')\n",
    "plt.legend()\n",
    "\n",
    "plt.tight_layout()"
   ]
  },
  {
   "cell_type": "markdown",
   "metadata": {},
   "source": [
    "### BONUS TODO 6\n",
    "Write code to estimate the probability that a new data point belongs to the same model. Compare the ML, MAP and fully Bayesian methods to do this. What are the advantages of using the Bayesian approach?"
   ]
  },
  {
   "cell_type": "code",
   "execution_count": null,
   "metadata": {
    "collapsed": true
   },
   "outputs": [],
   "source": []
  }
 ],
 "metadata": {
  "interpreter": {
   "hash": "946f492e41fc7b2c9c68adfa88f2affd1b0e5f35692d7f01d0fd927bae4c61c9"
  },
  "kernelspec": {
   "display_name": "Python 3.7.4 64-bit (conda)",
   "name": "python3"
  },
  "language_info": {
   "codemirror_mode": {
    "name": "ipython",
    "version": 3
   },
   "file_extension": ".py",
   "mimetype": "text/x-python",
   "name": "python",
   "nbconvert_exporter": "python",
   "pygments_lexer": "ipython3",
   "version": "3.7.4"
  }
 },
 "nbformat": 4,
 "nbformat_minor": 2
}
