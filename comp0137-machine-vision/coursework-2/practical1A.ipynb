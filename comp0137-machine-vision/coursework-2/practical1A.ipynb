{
 "cells": [
  {
   "cell_type": "markdown",
   "metadata": {},
   "source": [
    "Edited by Mohamed Sayed on 27/11/2019. All errors are now my own.\n",
    "# Practical 7 - Part 1A\n",
    "\n",
    "The aim of part 1A is to calculate the homography that best maps two sets of points to one another.  We will (eventually) use this for creating panoramas, and for calculating the 3D pose of planes.  You should use this\n",
    "template for your code and fill in the missing sections marked \"TO DO\"\n"
   ]
  },
  {
   "cell_type": "markdown",
   "metadata": {},
   "source": [
    "## Import libraries "
   ]
  },
  {
   "cell_type": "code",
   "execution_count": 50,
   "metadata": {},
   "outputs": [],
   "source": [
    "%matplotlib inline\n",
    "import os \n",
    "import numpy as np\n",
    "import matplotlib.pyplot as plt\n",
    "import scipy.io as sio"
   ]
  },
  {
   "cell_type": "markdown",
   "metadata": {},
   "source": [
    "## Test case formulation\n",
    "\n",
    "To start with, let's set up some start points `pts1Cart` and a homography, `H`, that we can use to generate target points `pts2Cart`. We'll also add some noise to `pts2Cart` to simulate a real world environment. The challenge is to find the same homography, or as close as noise allows, given `pts1Cart` and `pts2Cart`.\n",
    "\n",
    "__NOTE:__ It may be helpful to set `noiseLevel` to 0 to start with so that you can check if your solution is spot on while debugging. Make sure you set it back to some value, here we use 4, when you're confident your solution works."
   ]
  },
  {
   "cell_type": "code",
   "execution_count": 51,
   "metadata": {},
   "outputs": [],
   "source": [
    "# Define a set of two-dimensional Cartesian points\n",
    "pts1Cart = np.array([[240.5000, 16.8351, 33.5890, 164.2696, 149.1911],\n",
    "                    [248.8770, 193.5890, 251.3901, 168.4581, 228.7723]]) # 5 2-D Cartesian points in the form [x,y]\n",
    "\n",
    "# Convert points into homogeneous representation\n",
    "pts1Hom = np.concatenate((pts1Cart, np.ones((1,pts1Cart.shape[1]))), axis=0) # From [x,y] to [x,y,1]\n",
    "\n",
    "# Define a homography\n",
    "H = np.array([[0.6, 0.7, -100.],\n",
    "              [1.0, 0.6, 50.],\n",
    "              [0.001, 0.002, 1.0]]) # p2 = H*p1\n",
    "\n",
    "# Apply a homography to the points\n",
    "pts2Hom = np.matmul(H,pts1Hom) # output a 3x5 matrix of transformed points in homogeneous coordinates\n",
    "\n",
    "# Convert back to Cartesian coordinates\n",
    "pts2Cart = pts2Hom[0:2,:] / np.tile([pts2Hom[2,:]],(2,1)) \n",
    "\n",
    "# Add a small amount of noise. Set this to zero to begin with to see if your homography solution is spot on.\n",
    "noiseLevel = 20\n",
    "pts2Cart = pts2Cart + np.random.normal(0, noiseLevel, pts2Cart.shape)\n",
    "\n",
    "# Start with a set of known 2D points (pts1Cart)\n",
    "# Transform them using a known homography matrix (H)\n",
    "# Add Gaussian noise to the transformed points (pts2Cart) "
   ]
  },
  {
   "cell_type": "markdown",
   "metadata": {},
   "source": [
    "## Plotting\n",
    "\n",
    "Let's plot the the first original set of points, `pts1Cart`, in blue and the second set of points, `pts2Cart`, in red. "
   ]
  },
  {
   "cell_type": "code",
   "execution_count": 52,
   "metadata": {},
   "outputs": [
    {
     "data": {
      "image/png": "[encoded data removed]",
      "text/plain": [
       "<Figure size 640x480 with 1 Axes>"
      ]
     },
     "metadata": {},
     "output_type": "display_data"
    }
   ],
   "source": [
    "# Plot a green line between pairs of start points (blue) and transformed points (red).|\n",
    "nPoint = pts1Cart.shape[1]\n",
    "for cPoint in range(0, nPoint):\n",
    "    plt.plot([pts1Cart[0,cPoint], pts2Cart[0,cPoint]], [pts1Cart[1,cPoint], pts2Cart[1,cPoint]],'g-')\n",
    "    plt.plot(pts1Cart[0,cPoint],pts1Cart[1,cPoint],'b.', pts2Cart[0,cPoint],pts2Cart[1,cPoint],'r.') \n",
    "\n",
    "plt.show()"
   ]
  },
  {
   "cell_type": "markdown",
   "metadata": {},
   "source": [
    "**Figure Comment**:  \n",
    "- Green lines connect each original points (blue) to its transformed counterpart (red), showing the displacement caused by the homography.\n",
    "- One pros is that the visualization effectively illustrates how the homography matrix transforms the points, and the noise impact is visible."
   ]
  },
  {
   "cell_type": "markdown",
   "metadata": {},
   "source": [
    "## Homography estimation time!\n",
    "\n",
    "We've formulated our test example; now our goal is to estimate the homography that maps the first set of points to the second set of points.\n",
    "\n",
    "### ****TO DO****: Fill in the details of these routines (solveAXEqualsZero and calcBestHomography). "
   ]
  },
  {
   "cell_type": "code",
   "execution_count": 53,
   "metadata": {},
   "outputs": [],
   "source": [
    "def solveAXEqualsZero(A):\n",
    "    # TO DO: Write this routine - it should solve Ah = 0. You can do this using SVD. Consult your notes! \n",
    "    # Hint: SVD will be involved. \n",
    "    \n",
    "    \"\"\"\n",
    "    Solves the equation A * h = 0 using Singular Value Decomposition (SVD).\n",
    "    \n",
    "    Input:\n",
    "        A (numpy.ndarray): The input matrix A of size (m, n).\n",
    "    \n",
    "    Returns:\n",
    "        h (numpy.ndarray): The solution vector h (the last column of V from SVD).\n",
    "    \"\"\"\n",
    "    # Perform SVD on A\n",
    "    U, S, Vt = np.linalg.svd(A)\n",
    "    \n",
    "    # The solution to A * h = 0 is the singular vector corresponding to the smallest singular value\n",
    "    h = Vt[-1, :] # The last row of Vt (V transposed) corresponds to the smallest singular value\n",
    "    \n",
    "    return h\n",
    "\n",
    "# A is a matrix of points in one image (either 2D or 3D, as a list of homogeneous coordinates)\n",
    "# h is the 1 x 9 vectorized form of the homography matrix\n",
    "# H is the 3 x 3 homography matrix"
   ]
  },
  {
   "cell_type": "code",
   "execution_count": 54,
   "metadata": {},
   "outputs": [],
   "source": [
    "def calcBestHomography(pts1Cart, pts2Cart):\n",
    "    \n",
    "    # This function should apply the direct linear transform (DLT) algorithm to calculate the best \n",
    "    # homography that maps the cartesian points in pts1Cart to their corresonding matching cartesian poitns \n",
    "    # in pts2Cart.\n",
    "    \n",
    "    # This function calls solveAXEqualsZero. Make sure you are wary of how to reshape h into a 3 by 3 matrix. \n",
    "    \"\"\"\n",
    "    Calculates the best homography matrix H that maps the Cartesian points \n",
    "    in pts1Cart to their corresponding points in pts2Cart using the DLT algorithm.\n",
    "    \n",
    "    Parameters:\n",
    "        pts1Cart (numpy.ndarray): Source Cartesian points of size (2, n_points).\n",
    "        pts2Cart (numpy.ndarray): Destination Cartesian points of size (2, n_points).\n",
    "    \n",
    "    Returns:\n",
    "        H (numpy.ndarray): The 3x3 homography matrix.\n",
    "    \"\"\"\n",
    "    n_points = pts1Cart.shape[1]\n",
    "    \n",
    "    # TODO: replace this:\n",
    "    \n",
    "    # TODO: \n",
    "    # First convert points into homogeneous representation\n",
    "    # Hint: we've done this before  in the skeleton code we provide.\n",
    "    pts1Hom = np.concatenate((pts1Cart, np.ones((1, n_points))), axis=0) # add a row of ones\n",
    "    pts2Hom = np.concatenate((pts2Cart, np.ones((1, n_points))), axis=0) \n",
    "    \n",
    "    # TODO: \n",
    "    # Then construct the matrix A, size (n_points * 2, 9)\n",
    "    # Consult the notes!\n",
    "    # Initialize the A matrix\n",
    "    A = []\n",
    "    for i in range(n_points):\n",
    "        x, y, w = pts1Hom[:, i] # source points in homogeneous coordinates\n",
    "        x_prime, y_prime, w_prime = pts2Hom[:, i] # destination points in homogeneous coordinates\n",
    "        \n",
    "        # Construct two rows for the corresponding points (x,y) -> (x',y')\n",
    "        A.append([0, 0, 0, x, y, w, -y_prime*x, -y_prime*y, -y_prime])\n",
    "        A.append([x, y, w, 0, 0, 0, -x_prime*x, -x_prime*y, -x_prime])\n",
    "        \n",
    "        \n",
    "    A = np.array(A)\n",
    "    # TODO: \n",
    "    # Solve Ah = 0 using solveAXEqualsZero and get h.\n",
    "    h = solveAXEqualsZero(A)\n",
    "    \n",
    "    # TODO: \n",
    "    # Reshape h into the matrix H, values of h go first into rows of H\n",
    "    H = np.reshape(h, (3, 3))\n",
    "\n",
    "    return H"
   ]
  },
  {
   "cell_type": "markdown",
   "metadata": {},
   "source": [
    "## Test time!\n",
    "\n",
    "Time to put it all together. \n",
    "\n",
    "Now we need a way of measuring how well our mapping does. To do this we will apply our estimated mapping, `HEst`, to `pts1Cart` and obtain estimated points `pts2EstCart`. We will compare `pts2EstCart` and `pts2Cart` using a sum of squared difference to see how well our solution at least approximates the transformed noisy points `pts2Cart`.\n",
    "\n",
    "Red points on the plot are the noisy points we observe, `pts2Cart`, and the magenta points are the transformed points, `pts2EstCart`, that we get when we apply our estimated homography on `pts1Cart`. The black lines represent the error between both points; if you've set `noiseLevel` to 0, then `sqDiff` should be 0 and the points should overlap perfectly."
   ]
  },
  {
   "cell_type": "code",
   "execution_count": 55,
   "metadata": {},
   "outputs": [
    {
     "name": "stdout",
     "output_type": "stream",
     "text": [
      "Sqaured difference between pts2Cart and pts2EstCart is: 314.04\n"
     ]
    },
    {
     "data": {
      "image/png": "[encoded data removed]",
      "text/plain": [
       "<Figure size 640x480 with 1 Axes>"
      ]
     },
     "metadata": {},
     "output_type": "display_data"
    }
   ],
   "source": [
    "# Replace this with a call to the function calcBestHomography. You'll need to figure out which way around the \n",
    "# points go in the function, i.e. which direction this homography transforms points from and to. The ordering \n",
    "# is dead simple for now but acts as a simple exercise for what comes in later parts of this practical.\n",
    "# TODO: \n",
    "HEst = calcBestHomography(pts1Cart, pts2Cart) # Calculate homography using our last function \n",
    "\n",
    "# Apply estimated homography to points\n",
    "pts2EstHom = np.matmul(HEst,pts1Hom)\n",
    "\n",
    "# Convert back to Cartesian coordinates\n",
    "pts2EstCart = pts2EstHom[0:2,:] / np.tile([pts2EstHom[2,:]],(2,1))\n",
    "\n",
    "# Calculate the mean squared distance from actual points\n",
    "sqDiff = np.mean(sum((pts2Cart - pts2EstCart)**2))\n",
    "\n",
    "print(\"Sqaured difference between pts2Cart and pts2EstCart is: %.2f\" % sqDiff)\n",
    "\n",
    "# Draw figure with points before and after applying the estimated homography\n",
    "nPoint = pts1Cart.shape[1]\n",
    "\n",
    "# Plot a black line between pairs of actual points (red) and estimated points (magenta)\n",
    "for cPoint in range(0, nPoint):\n",
    "    plt.plot([pts2Cart[0,cPoint], pts2EstCart[0,cPoint]], [pts2Cart[1,cPoint], pts2EstCart[1,cPoint]],'k-')\n",
    "    plt.plot(pts2Cart[0,cPoint],pts2Cart[1,cPoint],'r.',pts2EstCart[0,cPoint],pts2EstCart[1,cPoint],'m.') \n",
    "\n",
    "plt.show()"
   ]
  },
  {
   "cell_type": "markdown",
   "metadata": {},
   "source": [
    "**Figure Comment**:  \n",
    "- The plot shows red (actual) and magenta (estimated) points connected by short black lines, indicating relatively small but noticeable errors between the actual and estimated positions (315.04 squared difference). \n",
    "- The short length of the lines suggests the homography estimation performs well, but slight discrepancies still remain. \n",
    "- A key advantage of this figure is the clear visualization of error, while a limitation is that small errors could accumulate if more points or higher noise levels are introduced. (currently noise = 20)\n",
    "\n"
   ]
  },
  {
   "cell_type": "markdown",
   "metadata": {},
   "source": [
    "## Other things **** TO DO ****\n",
    "\n",
    "1: Convince yourself that the homography is ambiguous up to scale (by\n",
    "multiplying it by a constant factor and showing it does the same thing).\n",
    "Can you see why this is the case mathematically?\n",
    "\n",
    "2: Show empirically that your homography routine can EXACTLY map any four points to any\n",
    "other four points."
   ]
  },
  {
   "cell_type": "markdown",
   "metadata": {},
   "source": [
    "*1. Scale Ambiguity*\n",
    "- We scale the homography matrix `HEst` by `k`.\n",
    "- When applying `k` `H` to the points, the resulting Cartesian coordinates remain unchanged.\n",
    "- The output difference is shown to be very close to zero, confirming the scale ambiguity."
   ]
  },
  {
   "cell_type": "code",
   "execution_count": 56,
   "metadata": {},
   "outputs": [
    {
     "name": "stdout",
     "output_type": "stream",
     "text": [
      "Difference between pts2EstCart and pts2EstCartScaled:\n",
      "[[0. 0. 0. 0. 0.]\n",
      " [0. 0. 0. 0. 0.]]\n"
     ]
    }
   ],
   "source": [
    "# Scale the homography matrix by a constant factor\n",
    "k = 2\n",
    "HEstScaled = HEst * k\n",
    "\n",
    "# Apply scaled estimated homography to original points\n",
    "pts2EstHomScaled = np.matmul(HEstScaled,pts1Hom)\n",
    "\n",
    "# Convert back to Cartesian coordinates\n",
    "pts2EstCartScaled = pts2EstHomScaled[0:2,:] / np.tile([pts2EstHomScaled[2,:]],(2,1))\n",
    "\n",
    "# Verify if equivalent with the original homography\n",
    "print(\"Difference between pts2EstCart and pts2EstCartScaled:\")\n",
    "print(np.abs(pts2EstCart - pts2EstCartScaled))\n",
    "\n"
   ]
  },
  {
   "cell_type": "markdown",
   "metadata": {},
   "source": [
    "*2. Exact Mapping of Four Points*"
   ]
  },
  {
   "cell_type": "code",
   "execution_count": 57,
   "metadata": {},
   "outputs": [
    {
     "name": "stdout",
     "output_type": "stream",
     "text": [
      "Original destination points (pts2Cart):\n",
      "[[ 50 150  50 150]\n",
      " [ 50  50 150 150]]\n",
      "Estimated destination points (pts2EstCart):\n",
      "[[ 50. 150.  50. 150.]\n",
      " [ 50.  50. 150. 150.]]\n",
      "Difference between pts2Cart and pts2EstCart:\n",
      "[[3.05533376e-13 6.53699317e-13 3.05533376e-13 7.38964445e-13]\n",
      " [7.95807864e-13 9.94759830e-14 1.42108547e-13 1.13686838e-13]]\n"
     ]
    }
   ],
   "source": [
    "# Define any 4 source points (pts1Cart) and 4 destination points (pts2Cart)\n",
    "pts1Cart = np.array(\n",
    "    [[0, 1, 0, 1],\n",
    "    [0, 0, 1, 1]])  # Square corners\n",
    "\n",
    "pts2Cart = np.array([[50, 150, 50, 150],\n",
    "                    [50, 50, 150, 150]])  # A bit bigger square\n",
    "\n",
    "# Convert to homogeneous coordinates\n",
    "pts1Hom = np.concatenate((pts1Cart, np.ones((1, pts1Cart.shape[1]))), axis=0)\n",
    "pts2Hom = np.concatenate((pts2Cart, np.ones((1, pts2Cart.shape[1]))), axis=0)\n",
    "\n",
    "# Calculate the homography\n",
    "HEst = calcBestHomography(pts1Cart, pts2Cart)\n",
    "\n",
    "# Apply the estimated homography to the original points\n",
    "pts2EstHom = np.matmul(HEst, pts1Hom)\n",
    "\n",
    "# Convert back to Cartesian coordinates\n",
    "pts2EstCart = pts2EstHom[0:2, :] / np.tile([pts2EstHom[2, :]], (2, 1))\n",
    "\n",
    "# Print the estimated homography\n",
    "print(\"Original destination points (pts2Cart):\")\n",
    "print(pts2Cart)\n",
    "print(\"Estimated destination points (pts2EstCart):\")\n",
    "print(pts2EstCart)\n",
    "\n",
    "# Verify the exact mapping\n",
    "print(\"Difference between pts2Cart and pts2EstCart:\")\n",
    "print(np.abs(pts2Cart - pts2EstCart))"
   ]
  },
  {
   "cell_type": "markdown",
   "metadata": {},
   "source": [
    "- The code demonstrates that the homography matrix `H` can exactly map four source points to their corresponding destination points. The source points (`pts1Cart`) form a square, and the destination points (`pts2Cart`) represent a scaled and shifted version of the square. \n",
    "- The calculated homography matrix `HEst` successfully transforms the source points to their exact destination counterparts. The numerical difference between the actual destination points and the estimated points is near zero, confirming the correctness of the homography estimation."
   ]
  }
 ],
 "metadata": {
  "kernelspec": {
   "display_name": "MV00",
   "language": "python",
   "name": "python3"
  },
  "language_info": {
   "codemirror_mode": {
    "name": "ipython",
    "version": 3
   },
   "file_extension": ".py",
   "mimetype": "text/x-python",
   "name": "python",
   "nbconvert_exporter": "python",
   "pygments_lexer": "ipython3",
   "version": "3.12.7"
  }
 },
 "nbformat": 4,
 "nbformat_minor": 1
}
